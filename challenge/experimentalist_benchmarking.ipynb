{
  "cells": [
    {
      "cell_type": "markdown",
      "metadata": {
        "id": "wmZ1RNydtCA1"
      },
      "source": [
        "# Introduction\n",
        "\n",
        "In this benchmarking challenge, you will be tasked to create an [AutoRA experimentalist](https://autoresearch.github.io/autora/experimentalist/) that efficiently samples experiments in order to advance model discovery.\n",
        "\n",
        "You can use this notebook to benchmark your experimentalist. Here, we will simulate a discovery experiment in which three different theorists are at work after each data collection cycle. You get to try out your experimentalist for two different ground truth models.\n",
        "\n",
        "## Workflow\n",
        "\n",
        "Your goal is to optimize the data collection process in the following workflow:\n",
        "\n",
        "1. Sample 10 initial data points\n",
        "2. Fit all theorists to those data points.\n",
        "\n",
        "For 20 data points:\n",
        "3. Pick a single novel data point using your experimentalist method. Your method may or may not take into account any of the theorists' models.\n",
        "4. Add the data point to the experiment data.\n",
        "5. Fit all theorists to the experiment data\n",
        "6. Repeat steps 3-6 until 20 data points were collected\n",
        "\n",
        "This workflow can be repeated two ground-truth models.\n",
        "\n",
        "\n",
        "\n",
        "\n",
        "\n",
        "\n"
      ]
    },
    {
      "cell_type": "markdown",
      "metadata": {
        "id": "Cvka_h_k3KhR"
      },
      "source": [
        "## Benchmarking Challenge Rules\n",
        "\n",
        "- All contributing teams must publish a pip package of their experimentalist (we recommend using a pre-release) or have a working git repository that can be installed via ``!pip install git+https://github.com/musslick/autora-experimentalist-example``\n",
        "- The package name must be ``autora-experimentalist-yourexperimentalist``\n",
        "- The **experimentalist must have a sample function (see [this guide](https://autoresearch.github.io/autora/contribute/modules/experimentalist/))**, and it must be **compatible with the state logic** in this notebook.\n",
        "\n",
        "- Teams will be ranked based on the final fit to a ground-truth model. Observations will be sampled across the entire domain of the ground-truth model. The rank will be accumulated across all benchmarking challenges. The team with the best accumulated rank will win a prize at the end of the workshop.\n",
        "- The teams must provide a **brief presentation** (less than 5 minutes) of their experimentalist just before the final evaluation. You may use [this template for your slides](https://docs.google.com/presentation/d/1qCKqH9uXkQmGqDmROh1Jn4UcauALkMRhqlbAHubns2Q/edit?usp=sharing).\n",
        "\n",
        "*Hint: You may take some inspiration (or come up with a combination of) the [existing experimentalists](https://autoresearch.github.io/autora/experimentalist/).*"
      ]
    },
    {
      "cell_type": "markdown",
      "metadata": {
        "id": "h--sPj7T3Nqc"
      },
      "source": [
        "## Grading\n",
        "\n",
        "- Due date: **August 30**\n",
        "- Submission: Through ``Stud.IP -> Tasks -> Experiment Sampling Challenge``\n",
        "\n",
        "The grading is independent of the outcome of the benchmarking challenge.\n",
        "\n",
        "The following points will be provided:\n",
        "- A demonstration of the theorist in the ``doc/Basic Usage.ipynb``:\n",
        "  -  2 points: Demonstrating how to use the experimentalist for sampling\n",
        "  -  8 points: Demonstrating how the expeirmentalist compares to random sampling. This should be done by simulating closed-loop discovery process with a theorist of your choice (e.g., autora-theorist-bms) on at least two ground-truth models (*Hint: You could use the benchmarking part of the notebook below as a starting point*).\n",
        "- The documentation of the experimentalist in ``doc/index.md`` must speak to the following information:\n",
        "  - 2 points: the inputs: Which inputs is your experiment sampling method considering and why?\n",
        "  - 2 points: sampling method: which sampling method are you using and why?\n",
        "- 2 points: The code contains at least two useful unit tests for the experimentalist method (either doc tests or separate tests)\n",
        "- 1 point: the contributors used issues to track bugs and work on features.\n",
        "- 1 point: the contributors used (helpful) code reviews for their PRs.\n",
        "- 1 point: Unit tests are automatically executed when a pull request is created.\n",
        "- 1 point: The documentation is hosted automatically.\n",
        "\n",
        "Finally, teams must outline the contributions of each team member in their submission on ``Stud.IP -> Tasks -> Experiment Sampling Challenge``.\n",
        "\n",
        "In total, you can obtain 20 points."
      ]
    },
    {
      "cell_type": "markdown",
      "metadata": {
        "id": "J4ICn4w03PdN"
      },
      "source": [
        "## Additional Resources\n",
        "\n",
        "- You can learn more about how to write AutoRA experimentalists in the [Contributor Guide](https://autoresearch.github.io/autora/contribute/modules/experimentalist/).\n",
        "\n",
        "- You can learn more about how to use AutoRA in the [User Tutorial](https://autoresearch.github.io/autora/tutorials/).\n",
        "\n",
        "- If you want to learn more about AutoRA states, you can check out [this tutorial on using AutoRA states](https://colab.research.google.com/drive/1yK1OBRpPZM1NgTMV9arHlE5j8xXjsGqq?usp=sharing)."
      ]
    },
    {
      "cell_type": "markdown",
      "metadata": {
        "id": "zowXxLUR3s8I"
      },
      "source": [
        "# Code for Benchmarking your Experimentalist"
      ]
    },
    {
      "cell_type": "markdown",
      "metadata": {
        "id": "an-QPQhcljHa"
      },
      "source": [
        "## Installation\n",
        "\n",
        "*Hint: You may want to add ``autora`` as a development dependency in your ``pyproject.tml``.*"
      ]
    },
    {
      "cell_type": "code",
      "execution_count": 1,
      "metadata": {
        "id": "8nzJmQwQlkh_"
      },
      "outputs": [],
      "source": [
        "%%capture\n",
        "!pip install autora\n",
        "!pip install autora[all-theorists]\n",
        "!pip install autora[all-experimentalists]\n",
        "!pip install git+https://github.com/musslick/autora-experimentalist-challenge"
      ]
    },
    {
      "cell_type": "markdown",
      "metadata": {
        "id": "dLi8_Zt-l_oz"
      },
      "source": [
        "## Imports"
      ]
    },
    {
      "cell_type": "code",
      "execution_count": 2,
      "metadata": {
        "id": "Ty6AuO0iloHs"
      },
      "outputs": [],
      "source": [
        "# autora state\n",
        "from autora.state import State, StandardState, on_state, estimator_on_state, Delta, VariableCollection\n",
        "\n",
        "# experiment_runner\n",
        "from autora.experiment_runner.synthetic.psychology.luce_choice_ratio import luce_choice_ratio\n",
        "from autora.experiment_runner.synthetic.psychology.exp_learning import exp_learning\n",
        "from autora.experiment_runner.synthetic.economics.expected_value_theory import expected_value_theory\n",
        "\n",
        "# experimentalist\n",
        "from autora.experimentalist.grid import grid_pool\n",
        "from autora.experimentalist.random import random_pool, random_sample\n",
        "from autora.experimentalist.falsification import falsification_sample\n",
        "from autora.experimentalist.model_disagreement import model_disagreement_sample\n",
        "from autora.experimentalist.uncertainty import uncertainty_sample\n",
        "\n",
        "# theorist\n",
        "from autora.theorist.bms import BMSRegressor\n",
        "\n",
        "# sklearn\n",
        "from sklearn.base import BaseEstimator\n",
        "from sklearn.model_selection import train_test_split\n",
        "from sklearn import linear_model\n",
        "\n",
        "# general\n",
        "import numpy as np\n",
        "import pandas as pd\n",
        "import matplotlib.pyplot as plt\n",
        "from dataclasses import dataclass, field\n",
        "from typing import Optional, List\n"
      ]
    },
    {
      "cell_type": "markdown",
      "metadata": {
        "id": "VexBfX_UDjeZ"
      },
      "source": [
        "## AutoRA Components & State Wrappers\n",
        "\n",
        "First, we will need some theorists. Here, we will use three theorists simultaneously:\n",
        "- the Bayesian Machine Scientist\n",
        "- a polynomial theorist (from the Equation Discovery Challenge)\n",
        "- a linear regression theorist."
      ]
    },
    {
      "cell_type": "markdown",
      "metadata": {
        "id": "xKnfmcqMDmU5"
      },
      "source": [
        "### Polynomial Theorist\n",
        "\n",
        "Below, we will use a polynomial theorist for our discovery simulation. We saw that it did quite well in the equation discovery challenge, so why not give it a try."
      ]
    },
    {
      "cell_type": "code",
      "execution_count": 3,
      "metadata": {
        "id": "L3el1qBjD2K4"
      },
      "outputs": [],
      "source": [
        "from sklearn.preprocessing import PolynomialFeatures\n",
        "from sklearn.linear_model import LinearRegression\n",
        "\n",
        "class PolynomialRegressor:\n",
        "    \"\"\"\n",
        "    This theorist fits a polynomial function to the data.\n",
        "    \"\"\"\n",
        "\n",
        "    def __init__(self, degree: int = 3):\n",
        "      self.poly = PolynomialFeatures(degree=degree, include_bias=False)\n",
        "      self.model = LinearRegression()\n",
        "\n",
        "    def fit(self, x, y):\n",
        "      features = self.poly.fit_transform(x, y)\n",
        "      self.model.fit(features, y)\n",
        "      return self\n",
        "\n",
        "    def predict(self, x):\n",
        "      features = self.poly.fit_transform(x)\n",
        "      return self.model.predict(features)\n",
        "\n",
        "    def print_eqn(self):\n",
        "        # Extract the coefficients and intercept\n",
        "        coeffs = self.model.coef_\n",
        "        intercept = self.model.intercept_\n",
        "\n",
        "        # Handle multi-output case by iterating over each output's coefficients and intercept\n",
        "        if coeffs.ndim > 1:\n",
        "            for idx in range(coeffs.shape[0]):\n",
        "                equation = f\"y{idx+1} = {intercept[idx]:.3f}\"\n",
        "                feature_names = self.poly.get_feature_names_out()\n",
        "                for coef, feature in zip(coeffs[idx], feature_names):\n",
        "                    equation += f\" + ({coef:.3f}) * {feature}\"\n",
        "                print(equation)\n",
        "        else:\n",
        "            equation = f\"y = {intercept:.3f}\"\n",
        "            feature_names = self.poly.get_feature_names_out()\n",
        "            for coef, feature in zip(coeffs, feature_names):\n",
        "                equation += f\" + ({coef:.3f}) * {feature}\"\n",
        "            print(equation)\n",
        "\n"
      ]
    },
    {
      "cell_type": "markdown",
      "metadata": {
        "id": "s6lhZO-SI8LF"
      },
      "source": [
        "## AutoRA State\n",
        "\n",
        "Next, we define our AutoRA state which acts as modifiable \"bucket\" for all the data we are going to collect during the discovery cycle. Here, we will implement a more complicated AutoRA experiment in which we have simutlaneously fit 3 models (from 3 different theorists) and we want to keep track of all of them."
      ]
    },
    {
      "cell_type": "code",
      "execution_count": 4,
      "metadata": {
        "id": "rUlJzPVbJRg_"
      },
      "outputs": [],
      "source": [
        "# SET UP STATE\n",
        "# Here, we use a non-standard State to be able to use a multiple models\n",
        "@dataclass(frozen=True)\n",
        "class CustomState(State):\n",
        "    variables: Optional[VariableCollection] = field(\n",
        "        default=None, metadata={\"delta\": \"replace\"}\n",
        "    )\n",
        "    conditions: Optional[pd.DataFrame] = field(\n",
        "        default=None, metadata={\"delta\": \"replace\", \"converter\": pd.DataFrame}\n",
        "    )\n",
        "    experiment_data: Optional[pd.DataFrame] = field(\n",
        "        default=None, metadata={\"delta\": \"extend\", \"converter\": pd.DataFrame}\n",
        "    )\n",
        "    models_bms: List[BaseEstimator] = field(\n",
        "        default_factory=list,\n",
        "        metadata={\"delta\": \"extend\"},\n",
        "    )\n",
        "    models_lr: List[BaseEstimator] = field(\n",
        "        default_factory=list,\n",
        "        metadata={\"delta\": \"extend\"},\n",
        "    )\n",
        "    models_polyr: List[BaseEstimator] = field(\n",
        "        default_factory=list,\n",
        "        metadata={\"delta\": \"extend\"},\n",
        "    )"
      ]
    },
    {
      "cell_type": "markdown",
      "metadata": {
        "id": "Hl65zUC-I2vX"
      },
      "source": [
        "## AutoRA State Wrappers\n",
        "\n",
        "Next, we need to define a bunch of wrappers. These wrappers will make it easy to operate on the state. They specify which things are being pulled from the state and which things are being stored."
      ]
    },
    {
      "cell_type": "markdown",
      "metadata": {
        "id": "_ahabyf9J5RF"
      },
      "source": [
        "### Theorist Wrapper"
      ]
    },
    {
      "cell_type": "code",
      "execution_count": 5,
      "metadata": {
        "id": "07NSganHJ7Pf"
      },
      "outputs": [],
      "source": [
        "# state wrapper for all theorists\n",
        "@on_state()\n",
        "def theorists_on_state(experiment_data, variables, bms_epochs):\n",
        "\n",
        "  # extract conditions X and observations y from experiment data\n",
        "  ivs = [iv.name for iv in variables.independent_variables]\n",
        "  dvs = [dv.name for dv in variables.dependent_variables]\n",
        "  X = experiment_data[ivs]\n",
        "  y = experiment_data[dvs]\n",
        "\n",
        "\n",
        "  print(\"Experiment data\")\n",
        "  print(experiment_data)\n",
        "  # initialize and fit theorists\n",
        "  theorist_bms = BMSRegressor(epochs=bms_epochs)\n",
        "  theorist_polyr = PolynomialRegressor()\n",
        "  theorist_lr = linear_model.LinearRegression()\n",
        "\n",
        "  return Delta(models_bms = [theorist_bms.fit(X, y)],\n",
        "               models_lr=[theorist_lr.fit(X, y)],\n",
        "               models_polyr=[theorist_polyr.fit(X, y)])"
      ]
    },
    {
      "cell_type": "markdown",
      "metadata": {
        "id": "7n4buGk3LEmB"
      },
      "source": [
        "### Experimentalist Wrappers"
      ]
    },
    {
      "cell_type": "code",
      "execution_count": 20,
      "metadata": {
        "id": "_uw7z74IJtGx"
      },
      "outputs": [],
      "source": [
        "# state wrapper for grid pooler experimentalist (generates a grid of experiment conditions)\n",
        "@on_state()\n",
        "def grid_pool_on_state(variables):\n",
        "  return Delta(conditions=grid_pool(variables))\n",
        "\n",
        "# state wrapper for random pooler experimentalist (generates a pool of experiment conditions)\n",
        "@on_state()\n",
        "def random_pool_on_state(variables, num_samples, random_state=None):\n",
        "  return Delta(conditions=random_pool(variables, num_samples, random_state))\n",
        "\n",
        "# state wrapper for random experimentalist (samples experiment conditions from a set of conditions)\n",
        "@on_state()\n",
        "def random_sample_on_state(conditions, all_conditions, num_samples, random_state=None):\n",
        "  return Delta(conditions=random_sample(all_conditions, num_samples, random_state))\n",
        "\n",
        "# **** STATE WRAPPER FOR YOUR EXPERIMENTALIST ***\n",
        "@on_state()\n",
        "def custom_sample_on_state(variables,\n",
        "                           experiment_data,\n",
        "                           models_bms,\n",
        "                           models_lr,\n",
        "                           models_polyr,\n",
        "                           all_conditions,\n",
        "                           num_samples=1,\n",
        "                           random_state=None):\n",
        "  \n",
        "  ivs = [iv.name for iv in variables.independent_variables]\n",
        "  dvs = [dv.name for dv in variables.dependent_variables]\n",
        "  X = experiment_data[ivs]\n",
        "  y = experiment_data[dvs]\n",
        "\n",
        "  # this is just an example where we integrate the model diagreement sampler\n",
        "  # into the wrapper\n",
        "  conditions = model_disagreement_sample(\n",
        "          all_conditions,\n",
        "          models = [models_bms[-1], models_lr[-1]],\n",
        "          num_samples = 10\n",
        "      )\n",
        "  \n",
        "  conditions = conditions.sample(n=1)\n",
        "  return Delta(conditions=conditions)\n"
      ]
    },
    {
      "cell_type": "markdown",
      "metadata": {
        "id": "9DyqbEH2LB-i"
      },
      "source": [
        "### Experiment Runner Wrapper"
      ]
    },
    {
      "cell_type": "code",
      "execution_count": 21,
      "metadata": {
        "id": "fyUlh7vBJQwk"
      },
      "outputs": [],
      "source": [
        "# state wrapper for synthetic experiment runner\n",
        "@on_state()\n",
        "def run_experiment_on_state(conditions, experiment_runner):\n",
        "  data = experiment_runner.run(conditions=conditions, added_noise=0.0)\n",
        "  return Delta(experiment_data=data)"
      ]
    },
    {
      "cell_type": "code",
      "execution_count": 22,
      "metadata": {},
      "outputs": [],
      "source": [
        "import numpy as np\n",
        "import matplotlib.pyplot as plt\n",
        "from sklearn.datasets import make_blobs\n",
        "from scipy.ndimage import gaussian_filter\n",
        "\n",
        "def quantum_clustering(X, sigma=1.0):\n",
        "    \"\"\"\n",
        "    Perform quantum clustering on the given dataset.\n",
        "\n",
        "    Parameters:\n",
        "    X (numpy.ndarray): The input data array with shape (n_samples, n_features).\n",
        "    sigma (float): The sigma parameter for the Gaussian kernel.\n",
        "\n",
        "    Returns:\n",
        "    numpy.ndarray: The cluster centers.\n",
        "    numpy.ndarray: The cluster labels for each data point.\n",
        "    \"\"\"\n",
        "\n",
        "    def potential_function(X, sigma):\n",
        "        N = X.shape[0]\n",
        "        potential = np.zeros(N)\n",
        "        for i in range(N):\n",
        "            diff = X - X[i]\n",
        "            dist_sq = np.sum(diff ** 2, axis=1)\n",
        "            potential[i] = np.sum(np.exp(-dist_sq / (2 * sigma ** 2)))\n",
        "        return potential\n",
        "\n",
        "    def assign_clusters(X, minima_indices):\n",
        "        clusters = np.zeros(X.shape[0], dtype=int)\n",
        "        for i, x in enumerate(X):\n",
        "            distances = np.linalg.norm(x - X[minima_indices], axis=1)\n",
        "            clusters[i] = minima_indices[np.argmin(distances)]\n",
        "        return clusters\n",
        "\n",
        "    # Step 3: Calculate the potential landscape\n",
        "    potentials = potential_function(X, sigma)\n",
        "\n",
        "    # Step 4: Identify clusters by finding local minima\n",
        "    smoothed_potentials = gaussian_filter(potentials, sigma=1)\n",
        "    minima_indices = np.argwhere(np.r_[True, smoothed_potentials[1:] < smoothed_potentials[:-1]] &\n",
        "                                 np.r_[smoothed_potentials[:-1] < smoothed_potentials[1:], True]).flatten()\n",
        "\n",
        "    # Assign points to the nearest local minima\n",
        "    clusters = assign_clusters(X, minima_indices)\n",
        "\n",
        "    # Return cluster centers and labels\n",
        "    cluster_centers = X[minima_indices]\n",
        "    print(clusters)\n",
        "    print(cluster_centers)\n",
        "    return cluster_centers, clusters\n",
        "\n"
      ]
    },
    {
      "cell_type": "markdown",
      "metadata": {
        "id": "pwlTublQiWMp"
      },
      "source": [
        "## Simulation Functions\n",
        "\n",
        "First, we will need a function that we can use to evaluate the goodness of our theorists. We will use the one below (no need to parse it)."
      ]
    },
    {
      "cell_type": "code",
      "execution_count": 23,
      "metadata": {
        "id": "uHuIbsSbN0Ng"
      },
      "outputs": [],
      "source": [
        "# the following function is used to compute the model performance\n",
        "# on the validation set in terms of mean squared error\n",
        "def get_validation_MSE(validation_experiment_data, working_state):\n",
        "    ivs = [iv.name for iv in validation_experiment_data.variables.independent_variables]\n",
        "    dvs = [dv.name for dv in validation_experiment_data.variables.dependent_variables]\n",
        "    X = validation_experiment_data.experiment_data[ivs]\n",
        "    y = validation_experiment_data.experiment_data[dvs]\n",
        "\n",
        "    y_pred_bms = working_state.models_bms[-1].predict(X)\n",
        "    y_pred_lr = working_state.models_lr[-1].predict(X)\n",
        "    y_pred_polyr = working_state.models_polyr[-1].predict(X)\n",
        "\n",
        "    MSE_bms = ((y - y_pred_bms)**2).mean()[0]\n",
        "    MSE_lr = ((y - y_pred_lr)**2).mean()[0]\n",
        "    MSE_polyr = ((y - y_pred_polyr)**2).mean()[0]\n",
        "\n",
        "    min_MSE = min(MSE_bms, MSE_lr, MSE_polyr)\n",
        "\n",
        "    return min_MSE"
      ]
    },
    {
      "cell_type": "code",
      "execution_count": 141,
      "metadata": {},
      "outputs": [
        {
          "name": "stdout",
          "output_type": "stream",
          "text": [
            "Collecting git+https://github.com/musslick/autora-experimentalist-challenge\n",
            "  Cloning https://github.com/musslick/autora-experimentalist-challenge to /tmp/pip-req-build-1om9r302\n",
            "  Running command git clone --filter=blob:none --quiet https://github.com/musslick/autora-experimentalist-challenge /tmp/pip-req-build-1om9r302\n",
            "  Resolved https://github.com/musslick/autora-experimentalist-challenge to commit bc558b320e05a434fe34faa5d91325b6bd7b00e1\n",
            "  Installing build dependencies ... \u001b[?25ldone\n",
            "\u001b[?25h  Getting requirements to build wheel ... \u001b[?25ldone\n",
            "\u001b[?25h  Preparing metadata (pyproject.toml) ... \u001b[?25ldone\n",
            "\u001b[?25hRequirement already satisfied: autora in /usr/local/python/3.10.13/lib/python3.10/site-packages (from autora_experimentalist_example==0.1.dev8+gbc558b3) (4.1.0)\n",
            "Requirement already satisfied: scikit-learn in /home/codespace/.local/lib/python3.10/site-packages (from autora_experimentalist_example==0.1.dev8+gbc558b3) (1.5.1)\n",
            "Requirement already satisfied: autora-theorist-bms in /usr/local/python/3.10.13/lib/python3.10/site-packages (from autora_experimentalist_example==0.1.dev8+gbc558b3) (1.0.6)\n",
            "Requirement already satisfied: matplotlib in /home/codespace/.local/lib/python3.10/site-packages (from autora_experimentalist_example==0.1.dev8+gbc558b3) (3.9.1)\n",
            "Collecting dataclasses (from autora_experimentalist_example==0.1.dev8+gbc558b3)\n",
            "  Downloading dataclasses-0.6-py3-none-any.whl.metadata (3.0 kB)\n",
            "Requirement already satisfied: typing in /usr/local/python/3.10.13/lib/python3.10/site-packages (from autora_experimentalist_example==0.1.dev8+gbc558b3) (3.7.4.3)\n",
            "Requirement already satisfied: autora-core in /usr/local/python/3.10.13/lib/python3.10/site-packages (from autora->autora_experimentalist_example==0.1.dev8+gbc558b3) (5.0.2)\n",
            "Requirement already satisfied: autora-synthetic in /usr/local/python/3.10.13/lib/python3.10/site-packages (from autora->autora_experimentalist_example==0.1.dev8+gbc558b3) (2.1.0)\n",
            "Requirement already satisfied: tqdm in /usr/local/python/3.10.13/lib/python3.10/site-packages (from autora-theorist-bms->autora_experimentalist_example==0.1.dev8+gbc558b3) (4.66.4)\n",
            "Requirement already satisfied: sympy in /home/codespace/.local/lib/python3.10/site-packages (from autora-theorist-bms->autora_experimentalist_example==0.1.dev8+gbc558b3) (1.13.0)\n",
            "Requirement already satisfied: contourpy>=1.0.1 in /home/codespace/.local/lib/python3.10/site-packages (from matplotlib->autora_experimentalist_example==0.1.dev8+gbc558b3) (1.2.1)\n",
            "Requirement already satisfied: cycler>=0.10 in /home/codespace/.local/lib/python3.10/site-packages (from matplotlib->autora_experimentalist_example==0.1.dev8+gbc558b3) (0.12.1)\n",
            "Requirement already satisfied: fonttools>=4.22.0 in /home/codespace/.local/lib/python3.10/site-packages (from matplotlib->autora_experimentalist_example==0.1.dev8+gbc558b3) (4.53.1)\n",
            "Requirement already satisfied: kiwisolver>=1.3.1 in /home/codespace/.local/lib/python3.10/site-packages (from matplotlib->autora_experimentalist_example==0.1.dev8+gbc558b3) (1.4.5)\n",
            "Requirement already satisfied: numpy>=1.23 in /usr/local/python/3.10.13/lib/python3.10/site-packages (from matplotlib->autora_experimentalist_example==0.1.dev8+gbc558b3) (1.26.4)\n",
            "Requirement already satisfied: packaging>=20.0 in /home/codespace/.local/lib/python3.10/site-packages (from matplotlib->autora_experimentalist_example==0.1.dev8+gbc558b3) (24.1)\n",
            "Requirement already satisfied: pillow>=8 in /home/codespace/.local/lib/python3.10/site-packages (from matplotlib->autora_experimentalist_example==0.1.dev8+gbc558b3) (10.4.0)\n",
            "Requirement already satisfied: pyparsing>=2.3.1 in /home/codespace/.local/lib/python3.10/site-packages (from matplotlib->autora_experimentalist_example==0.1.dev8+gbc558b3) (3.1.2)\n",
            "Requirement already satisfied: python-dateutil>=2.7 in /home/codespace/.local/lib/python3.10/site-packages (from matplotlib->autora_experimentalist_example==0.1.dev8+gbc558b3) (2.9.0.post0)\n",
            "Requirement already satisfied: scipy>=1.6.0 in /home/codespace/.local/lib/python3.10/site-packages (from scikit-learn->autora_experimentalist_example==0.1.dev8+gbc558b3) (1.14.0)\n",
            "Requirement already satisfied: joblib>=1.2.0 in /home/codespace/.local/lib/python3.10/site-packages (from scikit-learn->autora_experimentalist_example==0.1.dev8+gbc558b3) (1.4.2)\n",
            "Requirement already satisfied: threadpoolctl>=3.1.0 in /home/codespace/.local/lib/python3.10/site-packages (from scikit-learn->autora_experimentalist_example==0.1.dev8+gbc558b3) (3.5.0)\n",
            "Requirement already satisfied: six>=1.5 in /home/codespace/.local/lib/python3.10/site-packages (from python-dateutil>=2.7->matplotlib->autora_experimentalist_example==0.1.dev8+gbc558b3) (1.16.0)\n",
            "Requirement already satisfied: pandas in /home/codespace/.local/lib/python3.10/site-packages (from autora-core->autora->autora_experimentalist_example==0.1.dev8+gbc558b3) (2.2.2)\n",
            "Requirement already satisfied: typer[all] in /usr/local/python/3.10.13/lib/python3.10/site-packages (from autora-core->autora->autora_experimentalist_example==0.1.dev8+gbc558b3) (0.12.3)\n",
            "Requirement already satisfied: autora-experimentalist-bandit-random in /usr/local/python/3.10.13/lib/python3.10/site-packages (from autora->autora_experimentalist_example==0.1.dev8+gbc558b3) (0.0.1b2)\n",
            "Requirement already satisfied: autora-experimentalist-falsification in /usr/local/python/3.10.13/lib/python3.10/site-packages (from autora->autora_experimentalist_example==0.1.dev8+gbc558b3) (2.1.0)\n",
            "Requirement already satisfied: autora-experimentalist-inequality in /usr/local/python/3.10.13/lib/python3.10/site-packages (from autora->autora_experimentalist_example==0.1.dev8+gbc558b3) (2.1.0)\n",
            "Requirement already satisfied: autora-experimentalist-leverage in /usr/local/python/3.10.13/lib/python3.10/site-packages (from autora->autora_experimentalist_example==0.1.dev8+gbc558b3) (1.10)\n",
            "Requirement already satisfied: mixture-experimentalist==1.0.0a7 in /usr/local/python/3.10.13/lib/python3.10/site-packages (from autora->autora_experimentalist_example==0.1.dev8+gbc558b3) (1.0.0a7)\n",
            "Requirement already satisfied: autora-experimentalist-model-disagreement in /usr/local/python/3.10.13/lib/python3.10/site-packages (from autora->autora_experimentalist_example==0.1.dev8+gbc558b3) (2.1.0)\n",
            "Requirement already satisfied: autora-experimentalist-nearest-value in /usr/local/python/3.10.13/lib/python3.10/site-packages (from autora->autora_experimentalist_example==0.1.dev8+gbc558b3) (2.1.0)\n",
            "Requirement already satisfied: autora-experimentalist-novelty in /usr/local/python/3.10.13/lib/python3.10/site-packages (from autora->autora_experimentalist_example==0.1.dev8+gbc558b3) (2.1.0)\n",
            "Requirement already satisfied: autora-experimentalist-prediction-filter in /usr/local/python/3.10.13/lib/python3.10/site-packages (from autora->autora_experimentalist_example==0.1.dev8+gbc558b3) (1.0.0)\n",
            "Requirement already satisfied: autora-experimentalist-uncertainty in /usr/local/python/3.10.13/lib/python3.10/site-packages (from autora->autora_experimentalist_example==0.1.dev8+gbc558b3) (2.1.0)\n",
            "Requirement already satisfied: mpmath<1.4,>=1.1.0 in /home/codespace/.local/lib/python3.10/site-packages (from sympy->autora-theorist-bms->autora_experimentalist_example==0.1.dev8+gbc558b3) (1.3.0)\n",
            "Requirement already satisfied: torch in /home/codespace/.local/lib/python3.10/site-packages (from autora-experimentalist-falsification->autora->autora_experimentalist_example==0.1.dev8+gbc558b3) (2.3.1+cpu)\n",
            "Requirement already satisfied: pytz>=2020.1 in /home/codespace/.local/lib/python3.10/site-packages (from pandas->autora-core->autora->autora_experimentalist_example==0.1.dev8+gbc558b3) (2024.1)\n",
            "Requirement already satisfied: tzdata>=2022.7 in /home/codespace/.local/lib/python3.10/site-packages (from pandas->autora-core->autora->autora_experimentalist_example==0.1.dev8+gbc558b3) (2024.1)\n",
            "\u001b[33mWARNING: typer 0.12.3 does not provide the extra 'all'\u001b[0m\u001b[33m\n",
            "\u001b[0mRequirement already satisfied: click>=8.0.0 in /usr/local/python/3.10.13/lib/python3.10/site-packages (from typer[all]->autora-core->autora->autora_experimentalist_example==0.1.dev8+gbc558b3) (8.1.7)\n",
            "Requirement already satisfied: typing-extensions>=3.7.4.3 in /home/codespace/.local/lib/python3.10/site-packages (from typer[all]->autora-core->autora->autora_experimentalist_example==0.1.dev8+gbc558b3) (4.12.2)\n",
            "Requirement already satisfied: shellingham>=1.3.0 in /usr/local/python/3.10.13/lib/python3.10/site-packages (from typer[all]->autora-core->autora->autora_experimentalist_example==0.1.dev8+gbc558b3) (1.5.4)\n",
            "Requirement already satisfied: rich>=10.11.0 in /usr/local/python/3.10.13/lib/python3.10/site-packages (from typer[all]->autora-core->autora->autora_experimentalist_example==0.1.dev8+gbc558b3) (13.7.1)\n",
            "Requirement already satisfied: markdown-it-py>=2.2.0 in /usr/local/python/3.10.13/lib/python3.10/site-packages (from rich>=10.11.0->typer[all]->autora-core->autora->autora_experimentalist_example==0.1.dev8+gbc558b3) (3.0.0)\n",
            "Requirement already satisfied: pygments<3.0.0,>=2.13.0 in /home/codespace/.local/lib/python3.10/site-packages (from rich>=10.11.0->typer[all]->autora-core->autora->autora_experimentalist_example==0.1.dev8+gbc558b3) (2.18.0)\n",
            "Requirement already satisfied: filelock in /home/codespace/.local/lib/python3.10/site-packages (from torch->autora-experimentalist-falsification->autora->autora_experimentalist_example==0.1.dev8+gbc558b3) (3.15.4)\n",
            "Requirement already satisfied: networkx in /home/codespace/.local/lib/python3.10/site-packages (from torch->autora-experimentalist-falsification->autora->autora_experimentalist_example==0.1.dev8+gbc558b3) (3.3)\n",
            "Requirement already satisfied: jinja2 in /home/codespace/.local/lib/python3.10/site-packages (from torch->autora-experimentalist-falsification->autora->autora_experimentalist_example==0.1.dev8+gbc558b3) (3.1.4)\n",
            "Requirement already satisfied: fsspec in /home/codespace/.local/lib/python3.10/site-packages (from torch->autora-experimentalist-falsification->autora->autora_experimentalist_example==0.1.dev8+gbc558b3) (2024.6.1)\n",
            "Requirement already satisfied: mdurl~=0.1 in /usr/local/python/3.10.13/lib/python3.10/site-packages (from markdown-it-py>=2.2.0->rich>=10.11.0->typer[all]->autora-core->autora->autora_experimentalist_example==0.1.dev8+gbc558b3) (0.1.2)\n",
            "Requirement already satisfied: MarkupSafe>=2.0 in /home/codespace/.local/lib/python3.10/site-packages (from jinja2->torch->autora-experimentalist-falsification->autora->autora_experimentalist_example==0.1.dev8+gbc558b3) (2.1.5)\n",
            "Downloading dataclasses-0.6-py3-none-any.whl (14 kB)\n",
            "Building wheels for collected packages: autora_experimentalist_example\n",
            "  Building wheel for autora_experimentalist_example (pyproject.toml) ... \u001b[?25ldone\n",
            "\u001b[?25h  Created wheel for autora_experimentalist_example: filename=autora_experimentalist_example-0.1.dev8+gbc558b3-py3-none-any.whl size=6583 sha256=359a55cc5bb8c8003c9957b1466ff2fd5d0348c83e2df08c161f2e82715d3cc3\n",
            "  Stored in directory: /tmp/pip-ephem-wheel-cache-69p2kvdb/wheels/31/0b/03/368119378127f9e50202aaca2afcc3c6ce7fdbfe42ef178c0e\n",
            "Successfully built autora_experimentalist_example\n",
            "Installing collected packages: dataclasses, autora_experimentalist_example\n",
            "Successfully installed autora_experimentalist_example-0.1.dev8+gbc558b3 dataclasses-0.6\n",
            "\n",
            "\u001b[1m[\u001b[0m\u001b[34;49mnotice\u001b[0m\u001b[1;39;49m]\u001b[0m\u001b[39;49m A new release of pip is available: \u001b[0m\u001b[31;49m24.1.2\u001b[0m\u001b[39;49m -> \u001b[0m\u001b[32;49m24.2\u001b[0m\n",
            "\u001b[1m[\u001b[0m\u001b[34;49mnotice\u001b[0m\u001b[1;39;49m]\u001b[0m\u001b[39;49m To update, run: \u001b[0m\u001b[32;49mpython3 -m pip install --upgrade pip\u001b[0m\n"
          ]
        }
      ],
      "source": []
    },
    {
      "cell_type": "markdown",
      "metadata": {
        "id": "k8mSIAfmN9Rr"
      },
      "source": [
        "We will use the following function for benchmarking our model for any given experiment runner. Have a closer look at the script below.\n",
        "\n",
        "It uses four different AutoRA states:\n",
        "- ``validation_conditions`` and ``validation_experiment_data``: These states contains our validation sets, sampled across the entire domain of the ground truth. It is used for tracking the validation MSE of all theorists.\n",
        "\n",
        "- ``initial_state``: This state is used to initialize the discovery process. Both the random experimentalist (operating on the ``benchmark_state``) and your custom experimentalist (operating on the ``working_state`` will use the same initial state.)\n",
        "\n",
        "- ``benchmark_state``: This state is used for a discovery process with random sampling.\n",
        "\n",
        "- ``working_state``: This state is used for a discovery process with your custom experimentalist."
      ]
    },
    {
      "cell_type": "code",
      "execution_count": 24,
      "metadata": {
        "id": "-2n53aEYLhEF"
      },
      "outputs": [],
      "source": [
        "\n",
        "\n",
        "def run_simulation(num_cycles, num_conditions_per_cycle, num_initial_conditions, bms_epochs, experiment_runner, sim=0):\n",
        "\n",
        "  # VALIDATION STATE\n",
        "  # at every step of our discovery process, we will evaluate the performance\n",
        "  # of the theorist against the ground truth. Here, we will define the ground\n",
        "  # truth as a grid of data points sampled across the domain of the experimental\n",
        "  # design space. We will store this validation set in a separate validation states\n",
        "\n",
        "  # create AutoRA state for validation purposes\n",
        "  validation_conditions = CustomState(variables=experiment_runner.variables)\n",
        "  validation_experiment_data = CustomState(variables=experiment_runner.variables)\n",
        "\n",
        "  # our validation set will be consist of a grid of experiment conditons\n",
        "  # across the entire experimental design domain\n",
        "  validation_conditions = grid_pool_on_state(validation_conditions)\n",
        "  validation_experiment_data = grid_pool_on_state(validation_experiment_data)\n",
        "  validation_experiment_data = run_experiment_on_state(validation_experiment_data, experiment_runner=experiment_runner)\n",
        "\n",
        "\n",
        "  benchmark_MSE_log = list()\n",
        "  working_MSE_log = list()\n",
        "\n",
        "  # INITIAL STATE\n",
        "  # We begin our discovery experiment with randomly sampled data set for 10\n",
        "  # conditions. We will use the same state for each experimentalist method.\n",
        "\n",
        "  # create initial AutoRA state which we will use for our discovery expeirments\n",
        "  initial_state = CustomState(variables=experiment_runner.variables)\n",
        "\n",
        "  # we will initiate our discovery process with 10 randomly sampled experiment conditions\n",
        "  initial_state = random_pool_on_state(initial_state,\n",
        "                                      num_samples=num_initial_conditions,\n",
        "                                      random_state = sim)\n",
        "\n",
        "  # we obtain the corresponding experiment data\n",
        "  initial_state = run_experiment_on_state(initial_state, experiment_runner=experiment_runner)\n",
        "\n",
        "  # initialize benchmark state for random experimentalist\n",
        "  benchmark_state = CustomState(**initial_state.__dict__)\n",
        "\n",
        "  # initialize working state for your custom experimentalist\n",
        "  working_state = CustomState(**initial_state.__dict__)\n",
        "\n",
        "  # for each discovery cycle\n",
        "  for cycle in range(num_cycles):\n",
        "\n",
        "    print(\"SIMULATION \" + str(sim)  + \" / DISCOVERY CYCLE \" + str(cycle))\n",
        "\n",
        "    # first, we fit a model to the data\n",
        "    print(\"Fitting models on benchmark state...\")\n",
        "    benchmark_state = theorists_on_state(benchmark_state, bms_epochs=bms_epochs)\n",
        "    print(\"Fitting models on working state...\")\n",
        "    working_state = theorists_on_state(working_state, bms_epochs=bms_epochs)\n",
        "\n",
        "    # now we can determine how well the models do on the validation set\n",
        "    benchmark_MSE = get_validation_MSE(validation_experiment_data, benchmark_state)\n",
        "    benchmark_MSE_log.append(benchmark_MSE)\n",
        "\n",
        "    working_MSE = get_validation_MSE(validation_experiment_data, working_state)\n",
        "    working_MSE_log.append(working_MSE)\n",
        "\n",
        "    # then we determine the next experiment condition\n",
        "    print(\"Sampling new experiment conditions...\")\n",
        "    benchmark_state = random_sample_on_state(benchmark_state,\n",
        "                                              all_conditions=validation_conditions.conditions,\n",
        "                                              num_samples=num_conditions_per_cycle)\n",
        "    if cycle<= int(0.3*num_cycles):\n",
        "      working_state = random_sample_on_state(working_state,\n",
        "                                            all_conditions=validation_conditions.conditions,\n",
        "                                          num_samples=num_conditions_per_cycle)\n",
        "    else:\n",
        "      working_state = custom_sample_on_state(working_state,\n",
        "                                            all_conditions=validation_conditions.conditions,\n",
        "                                          num_samples=num_conditions_per_cycle, experiment_data=working_state.experiment_data, variables=working_state.variables)\n",
        "\n",
        "    print(\"Obtaining observations...\")\n",
        "    # we obtain the corresponding experiment data\n",
        "    benchmark_state = run_experiment_on_state(benchmark_state, experiment_runner=experiment_runner)\n",
        "    working_state = run_experiment_on_state(working_state, experiment_runner=experiment_runner)\n",
        "\n",
        "  return benchmark_MSE_log, working_MSE_log, benchmark_state, working_state"
      ]
    },
    {
      "cell_type": "markdown",
      "metadata": {
        "id": "3B5mO66GMb3T"
      },
      "source": [
        "## Benchmarking Script"
      ]
    },
    {
      "cell_type": "markdown",
      "metadata": {
        "id": "mqu8m-hjfXVK"
      },
      "source": [
        "Let's first set some meta-parameters."
      ]
    },
    {
      "cell_type": "code",
      "execution_count": 25,
      "metadata": {
        "id": "40rWpRCKfcGL"
      },
      "outputs": [],
      "source": [
        "# meta parameters\n",
        "\n",
        "# DO NOT CHANGE THESE PARAMETERS\n",
        "num_cycles = 20\n",
        "num_conditions_per_cycle = 1\n",
        "num_initial_conditions = 1\n",
        "\n",
        "# YOU MAY CHANGE THESE PARAMETERS\n",
        "num_discovery_simulations = 10\n",
        "bms_epochs = 1 # Note, to speed things up, you can set bms_epochs = 10 or even bms_epochs = 1 (this will lead to poor performance of the BMS regressor but the other two theorists will still fit)"
      ]
    },
    {
      "cell_type": "markdown",
      "metadata": {
        "id": "s5s2_nSTMnHv"
      },
      "source": [
        "### Single Run\n",
        "\n",
        "We recommend that you probe your experimentalist function for a single run. Once you are confident that your experimentalist works, we recommend running repeating the simulation experiment for at least iterations (``num_discovery_simulations``).\n",
        "\n",
        "How do your results look like for other ground truths, such as\n",
        "- ``luce_choice_ratio()`` or\n",
        "- ``expected_value_theory()`` ?"
      ]
    },
    {
      "cell_type": "code",
      "execution_count": 26,
      "metadata": {
        "colab": {
          "base_uri": "https://localhost:8080/"
        },
        "id": "sqsuMqTd1OaY",
        "outputId": "17d47202-bd1f-4f53-c2d4-0684f718e99d"
      },
      "outputs": [
        {
          "name": "stderr",
          "output_type": "stream",
          "text": [
            "INFO:autora.theorist.bms.regressor:BMS fitting started\n"
          ]
        },
        {
          "name": "stdout",
          "output_type": "stream",
          "text": [
            "SIMULATION 0 / DISCOVERY CYCLE 0\n",
            "Fitting models on benchmark state...\n",
            "Experiment data\n",
            "   P_asymptotic  trial  performance\n",
            "0      0.429293   64.0      0.91633\n"
          ]
        },
        {
          "name": "stderr",
          "output_type": "stream",
          "text": [
            "100%|██████████| 1/1 [00:00<00:00, 11.47it/s]\n",
            "INFO:autora.theorist.bms.regressor:BMS fitting finished\n"
          ]
        },
        {
          "name": "stdout",
          "output_type": "stream",
          "text": [
            "Fitting models on working state...\n",
            "Experiment data\n",
            "   P_asymptotic  trial  performance\n",
            "0      0.429293   64.0      0.91633\n"
          ]
        },
        {
          "name": "stderr",
          "output_type": "stream",
          "text": [
            "INFO:autora.theorist.bms.regressor:BMS fitting started\n",
            "  0%|          | 0/1 [00:00<?, ?it/s]"
          ]
        },
        {
          "name": "stderr",
          "output_type": "stream",
          "text": [
            "100%|██████████| 1/1 [00:00<00:00,  3.06it/s]\n",
            "INFO:autora.theorist.bms.regressor:BMS fitting finished\n",
            "INFO:autora.theorist.bms.regressor:BMS fitting started\n"
          ]
        },
        {
          "name": "stdout",
          "output_type": "stream",
          "text": [
            "Sampling new experiment conditions...\n",
            "Obtaining observations...\n",
            "SIMULATION 0 / DISCOVERY CYCLE 1\n",
            "Fitting models on benchmark state...\n",
            "Experiment data\n",
            "   P_asymptotic  trial  performance\n",
            "0      0.429293   64.0     0.916330\n",
            "1      0.212121   21.0     0.580382\n"
          ]
        },
        {
          "name": "stderr",
          "output_type": "stream",
          "text": [
            "100%|██████████| 1/1 [00:00<00:00, 12.07it/s]\n",
            "INFO:autora.theorist.bms.regressor:BMS fitting finished\n",
            "INFO:autora.theorist.bms.regressor:BMS fitting started\n"
          ]
        },
        {
          "name": "stdout",
          "output_type": "stream",
          "text": [
            "Fitting models on working state...\n",
            "Experiment data\n",
            "   P_asymptotic  trial  performance\n",
            "0      0.429293   64.0     0.916330\n",
            "1      0.070707   90.0     0.937546\n"
          ]
        },
        {
          "name": "stderr",
          "output_type": "stream",
          "text": [
            "100%|██████████| 1/1 [00:00<00:00, 11.30it/s]\n",
            "INFO:autora.theorist.bms.regressor:BMS fitting finished\n"
          ]
        },
        {
          "name": "stdout",
          "output_type": "stream",
          "text": [
            "Sampling new experiment conditions...\n"
          ]
        },
        {
          "name": "stderr",
          "output_type": "stream",
          "text": [
            "INFO:autora.theorist.bms.regressor:BMS fitting started\n"
          ]
        },
        {
          "name": "stdout",
          "output_type": "stream",
          "text": [
            "Obtaining observations...\n",
            "SIMULATION 0 / DISCOVERY CYCLE 2\n",
            "Fitting models on benchmark state...\n",
            "Experiment data\n",
            "   P_asymptotic  trial  performance\n",
            "0      0.429293   64.0     0.916330\n",
            "1      0.212121   21.0     0.580382\n",
            "2      0.439394   33.0     0.791692\n"
          ]
        },
        {
          "name": "stderr",
          "output_type": "stream",
          "text": [
            "100%|██████████| 1/1 [00:00<00:00,  8.35it/s]\n",
            "INFO:autora.theorist.bms.regressor:BMS fitting finished\n",
            "INFO:autora.theorist.bms.regressor:BMS fitting started\n"
          ]
        },
        {
          "name": "stdout",
          "output_type": "stream",
          "text": [
            "Fitting models on working state...\n",
            "Experiment data\n",
            "   P_asymptotic  trial  performance\n",
            "0      0.429293   64.0     0.916330\n",
            "1      0.070707   90.0     0.937546\n",
            "2      0.343434   75.0     0.930798\n"
          ]
        },
        {
          "name": "stderr",
          "output_type": "stream",
          "text": [
            "100%|██████████| 1/1 [00:00<00:00, 11.97it/s]\n",
            "INFO:autora.theorist.bms.regressor:BMS fitting finished\n",
            "INFO:autora.theorist.bms.regressor:BMS fitting started\n"
          ]
        },
        {
          "name": "stdout",
          "output_type": "stream",
          "text": [
            "Sampling new experiment conditions...\n",
            "Obtaining observations...\n",
            "SIMULATION 0 / DISCOVERY CYCLE 3\n",
            "Fitting models on benchmark state...\n",
            "Experiment data\n",
            "   P_asymptotic  trial  performance\n",
            "0      0.429293   64.0     0.916330\n",
            "1      0.212121   21.0     0.580382\n",
            "2      0.439394   33.0     0.791692\n",
            "3      0.202020   71.0     0.905170\n"
          ]
        },
        {
          "name": "stderr",
          "output_type": "stream",
          "text": [
            "100%|██████████| 1/1 [00:00<00:00, 11.96it/s]\n",
            "INFO:autora.theorist.bms.regressor:BMS fitting finished\n",
            "INFO:autora.theorist.bms.regressor:BMS fitting started\n"
          ]
        },
        {
          "name": "stdout",
          "output_type": "stream",
          "text": [
            "Fitting models on working state...\n",
            "Experiment data\n",
            "   P_asymptotic  trial  performance\n",
            "0      0.429293   64.0     0.916330\n",
            "1      0.070707   90.0     0.937546\n",
            "2      0.343434   75.0     0.930798\n",
            "3      0.237374   87.0     0.943921\n"
          ]
        },
        {
          "name": "stderr",
          "output_type": "stream",
          "text": [
            "100%|██████████| 1/1 [00:00<00:00,  8.58it/s]\n",
            "INFO:autora.theorist.bms.regressor:BMS fitting finished\n",
            "INFO:autora.theorist.bms.regressor:BMS fitting started\n"
          ]
        },
        {
          "name": "stdout",
          "output_type": "stream",
          "text": [
            "Sampling new experiment conditions...\n",
            "Obtaining observations...\n",
            "SIMULATION 0 / DISCOVERY CYCLE 4\n",
            "Fitting models on benchmark state...\n",
            "Experiment data\n",
            "   P_asymptotic  trial  performance\n",
            "0      0.429293   64.0     0.916330\n",
            "1      0.212121   21.0     0.580382\n",
            "2      0.439394   33.0     0.791692\n",
            "3      0.202020   71.0     0.905170\n",
            "4      0.469697   97.0     0.971111\n"
          ]
        },
        {
          "name": "stderr",
          "output_type": "stream",
          "text": [
            "100%|██████████| 1/1 [00:00<00:00,  5.61it/s]\n",
            "INFO:autora.theorist.bms.regressor:BMS fitting finished\n",
            "INFO:autora.theorist.bms.regressor:BMS fitting started\n"
          ]
        },
        {
          "name": "stdout",
          "output_type": "stream",
          "text": [
            "Fitting models on working state...\n",
            "Experiment data\n",
            "   P_asymptotic  trial  performance\n",
            "0      0.429293   64.0     0.916330\n",
            "1      0.070707   90.0     0.937546\n",
            "2      0.343434   75.0     0.930798\n",
            "3      0.237374   87.0     0.943921\n",
            "4      0.242424   14.0     0.502237\n"
          ]
        },
        {
          "name": "stderr",
          "output_type": "stream",
          "text": [
            "100%|██████████| 1/1 [00:00<00:00,  9.78it/s]\n",
            "INFO:autora.theorist.bms.regressor:BMS fitting finished\n",
            "INFO:autora.theorist.bms.regressor:BMS fitting started\n"
          ]
        },
        {
          "name": "stdout",
          "output_type": "stream",
          "text": [
            "Sampling new experiment conditions...\n",
            "Obtaining observations...\n",
            "SIMULATION 0 / DISCOVERY CYCLE 5\n",
            "Fitting models on benchmark state...\n",
            "Experiment data\n",
            "   P_asymptotic  trial  performance\n",
            "0      0.429293   64.0     0.916330\n",
            "1      0.212121   21.0     0.580382\n",
            "2      0.439394   33.0     0.791692\n",
            "3      0.202020   71.0     0.905170\n",
            "4      0.469697   97.0     0.971111\n",
            "5      0.494949   94.0     0.969896\n"
          ]
        },
        {
          "name": "stderr",
          "output_type": "stream",
          "text": [
            "100%|██████████| 1/1 [00:00<00:00, 10.26it/s]\n",
            "INFO:autora.theorist.bms.regressor:BMS fitting finished\n",
            "INFO:autora.theorist.bms.regressor:BMS fitting started\n"
          ]
        },
        {
          "name": "stdout",
          "output_type": "stream",
          "text": [
            "Fitting models on working state...\n",
            "Experiment data\n",
            "   P_asymptotic  trial  performance\n",
            "0      0.429293   64.0     0.916330\n",
            "1      0.070707   90.0     0.937546\n",
            "2      0.343434   75.0     0.930798\n",
            "3      0.237374   87.0     0.943921\n",
            "4      0.242424   14.0     0.502237\n",
            "5      0.323232   31.0     0.732979\n"
          ]
        },
        {
          "name": "stderr",
          "output_type": "stream",
          "text": [
            "100%|██████████| 1/1 [00:00<00:00, 14.66it/s]\n",
            "INFO:autora.theorist.bms.regressor:BMS fitting finished\n"
          ]
        },
        {
          "name": "stdout",
          "output_type": "stream",
          "text": [
            "Sampling new experiment conditions...\n",
            "Obtaining observations...\n",
            "SIMULATION 0 / DISCOVERY CYCLE 6\n",
            "Fitting models on benchmark state...\n",
            "Experiment data\n",
            "   P_asymptotic  trial  performance\n",
            "0      0.429293   64.0     0.916330\n",
            "1      0.212121   21.0     0.580382\n",
            "2      0.439394   33.0     0.791692\n",
            "3      0.202020   71.0     0.905170\n",
            "4      0.469697   97.0     0.971111\n",
            "5      0.494949   94.0     0.969896\n",
            "6      0.202020   68.0     0.896240\n"
          ]
        },
        {
          "name": "stderr",
          "output_type": "stream",
          "text": [
            "INFO:autora.theorist.bms.regressor:BMS fitting started\n",
            "100%|██████████| 1/1 [00:00<00:00, 10.80it/s]\n",
            "INFO:autora.theorist.bms.regressor:BMS fitting finished\n",
            "INFO:autora.theorist.bms.regressor:BMS fitting started\n"
          ]
        },
        {
          "name": "stdout",
          "output_type": "stream",
          "text": [
            "Fitting models on working state...\n",
            "Experiment data\n",
            "   P_asymptotic  trial  performance\n",
            "0      0.429293   64.0     0.916330\n",
            "1      0.070707   90.0     0.937546\n",
            "2      0.343434   75.0     0.930798\n",
            "3      0.237374   87.0     0.943921\n",
            "4      0.242424   14.0     0.502237\n",
            "5      0.323232   31.0     0.732979\n",
            "6      0.222222   22.0     0.598005\n"
          ]
        },
        {
          "name": "stderr",
          "output_type": "stream",
          "text": [
            "100%|██████████| 1/1 [00:00<00:00, 12.27it/s]\n",
            "INFO:autora.theorist.bms.regressor:BMS fitting finished\n"
          ]
        },
        {
          "name": "stdout",
          "output_type": "stream",
          "text": [
            "Sampling new experiment conditions...\n",
            "Obtaining observations...\n",
            "SIMULATION 0 / DISCOVERY CYCLE 7\n",
            "Fitting models on benchmark state...\n",
            "Experiment data\n",
            "   P_asymptotic  trial  performance\n",
            "0      0.429293   64.0     0.916330\n",
            "1      0.212121   21.0     0.580382\n",
            "2      0.439394   33.0     0.791692\n",
            "3      0.202020   71.0     0.905170\n",
            "4      0.469697   97.0     0.971111\n",
            "5      0.494949   94.0     0.969896\n",
            "6      0.202020   68.0     0.896240\n",
            "7      0.101010    9.0     0.313730\n"
          ]
        },
        {
          "name": "stderr",
          "output_type": "stream",
          "text": [
            "INFO:autora.theorist.bms.regressor:BMS fitting started\n",
            "100%|██████████| 1/1 [00:00<00:00,  9.41it/s]\n",
            "INFO:autora.theorist.bms.regressor:BMS fitting finished\n",
            "INFO:autora.theorist.bms.regressor:BMS fitting started\n"
          ]
        },
        {
          "name": "stdout",
          "output_type": "stream",
          "text": [
            "Fitting models on working state...\n",
            "Experiment data\n",
            "   P_asymptotic  trial  performance\n",
            "0      0.429293   64.0     0.916330\n",
            "1      0.070707   90.0     0.937546\n",
            "2      0.343434   75.0     0.930798\n",
            "3      0.237374   87.0     0.943921\n",
            "4      0.242424   14.0     0.502237\n",
            "5      0.323232   31.0     0.732979\n",
            "6      0.222222   22.0     0.598005\n",
            "7      0.343434   49.0     0.849039\n"
          ]
        },
        {
          "name": "stderr",
          "output_type": "stream",
          "text": [
            "100%|██████████| 1/1 [00:00<00:00, 10.74it/s]\n",
            "INFO:autora.theorist.bms.regressor:BMS fitting finished\n",
            "INFO:autora.theorist.bms.regressor:BMS fitting started\n"
          ]
        },
        {
          "name": "stdout",
          "output_type": "stream",
          "text": [
            "Sampling new experiment conditions...\n",
            "Obtaining observations...\n",
            "SIMULATION 0 / DISCOVERY CYCLE 8\n",
            "Fitting models on benchmark state...\n",
            "Experiment data\n",
            "   P_asymptotic  trial  performance\n",
            "0      0.429293   64.0     0.916330\n",
            "1      0.212121   21.0     0.580382\n",
            "2      0.439394   33.0     0.791692\n",
            "3      0.202020   71.0     0.905170\n",
            "4      0.469697   97.0     0.971111\n",
            "5      0.494949   94.0     0.969896\n",
            "6      0.202020   68.0     0.896240\n",
            "7      0.101010    9.0     0.313730\n",
            "8      0.186869   88.0     0.941974\n"
          ]
        },
        {
          "name": "stderr",
          "output_type": "stream",
          "text": [
            "100%|██████████| 1/1 [00:00<00:00,  9.22it/s]\n",
            "INFO:autora.theorist.bms.regressor:BMS fitting finished\n",
            "INFO:autora.theorist.bms.regressor:BMS fitting started\n"
          ]
        },
        {
          "name": "stdout",
          "output_type": "stream",
          "text": [
            "Fitting models on working state...\n",
            "Experiment data\n",
            "   P_asymptotic  trial  performance\n",
            "0      0.429293   64.0     0.916330\n",
            "1      0.070707   90.0     0.937546\n",
            "2      0.343434   75.0     0.930798\n",
            "3      0.237374   87.0     0.943921\n",
            "4      0.242424   14.0     0.502237\n",
            "5      0.323232   31.0     0.732979\n",
            "6      0.222222   22.0     0.598005\n",
            "7      0.343434   49.0     0.849039\n",
            "8      0.020202    1.0     0.049159\n"
          ]
        },
        {
          "name": "stderr",
          "output_type": "stream",
          "text": [
            "100%|██████████| 1/1 [00:00<00:00,  4.63it/s]\n",
            "INFO:autora.theorist.bms.regressor:BMS fitting finished\n",
            "INFO:autora.theorist.bms.regressor:BMS fitting started\n"
          ]
        },
        {
          "name": "stdout",
          "output_type": "stream",
          "text": [
            "Sampling new experiment conditions...\n",
            "Obtaining observations...\n",
            "SIMULATION 0 / DISCOVERY CYCLE 9\n",
            "Fitting models on benchmark state...\n",
            "Experiment data\n",
            "   P_asymptotic  trial  performance\n",
            "0      0.429293   64.0     0.916330\n",
            "1      0.212121   21.0     0.580382\n",
            "2      0.439394   33.0     0.791692\n",
            "3      0.202020   71.0     0.905170\n",
            "4      0.469697   97.0     0.971111\n",
            "5      0.494949   94.0     0.969896\n",
            "6      0.202020   68.0     0.896240\n",
            "7      0.101010    9.0     0.313730\n",
            "8      0.186869   88.0     0.941974\n",
            "9      0.363636    5.0     0.452277\n"
          ]
        },
        {
          "name": "stderr",
          "output_type": "stream",
          "text": [
            "100%|██████████| 1/1 [00:00<00:00, 11.04it/s]\n",
            "INFO:autora.theorist.bms.regressor:BMS fitting finished\n",
            "INFO:autora.theorist.bms.regressor:BMS fitting started\n"
          ]
        },
        {
          "name": "stdout",
          "output_type": "stream",
          "text": [
            "Fitting models on working state...\n",
            "Experiment data\n",
            "   P_asymptotic  trial  performance\n",
            "0      0.429293   64.0     0.916330\n",
            "1      0.070707   90.0     0.937546\n",
            "2      0.343434   75.0     0.930798\n",
            "3      0.237374   87.0     0.943921\n",
            "4      0.242424   14.0     0.502237\n",
            "5      0.323232   31.0     0.732979\n",
            "6      0.222222   22.0     0.598005\n",
            "7      0.343434   49.0     0.849039\n",
            "8      0.020202    1.0     0.049159\n",
            "9      0.500000  100.0     0.975106\n"
          ]
        },
        {
          "name": "stderr",
          "output_type": "stream",
          "text": [
            "100%|██████████| 1/1 [00:00<00:00,  9.38it/s]\n",
            "INFO:autora.theorist.bms.regressor:BMS fitting finished\n",
            "INFO:autora.theorist.bms.regressor:BMS fitting started\n"
          ]
        },
        {
          "name": "stdout",
          "output_type": "stream",
          "text": [
            "Sampling new experiment conditions...\n",
            "Obtaining observations...\n",
            "SIMULATION 0 / DISCOVERY CYCLE 10\n",
            "Fitting models on benchmark state...\n",
            "Experiment data\n",
            "    P_asymptotic  trial  performance\n",
            "0       0.429293   64.0     0.916330\n",
            "1       0.212121   21.0     0.580382\n",
            "2       0.439394   33.0     0.791692\n",
            "3       0.202020   71.0     0.905170\n",
            "4       0.469697   97.0     0.971111\n",
            "5       0.494949   94.0     0.969896\n",
            "6       0.202020   68.0     0.896240\n",
            "7       0.101010    9.0     0.313730\n",
            "8       0.186869   88.0     0.941974\n",
            "9       0.363636    5.0     0.452277\n",
            "10      0.454545   90.0     0.963342\n"
          ]
        },
        {
          "name": "stderr",
          "output_type": "stream",
          "text": [
            "100%|██████████| 1/1 [00:00<00:00,  4.75it/s]\n",
            "INFO:autora.theorist.bms.regressor:BMS fitting finished\n",
            "INFO:autora.theorist.bms.regressor:BMS fitting started\n"
          ]
        },
        {
          "name": "stdout",
          "output_type": "stream",
          "text": [
            "Fitting models on working state...\n",
            "Experiment data\n",
            "    P_asymptotic  trial  performance\n",
            "0       0.429293   64.0     0.916330\n",
            "1       0.070707   90.0     0.937546\n",
            "2       0.343434   75.0     0.930798\n",
            "3       0.237374   87.0     0.943921\n",
            "4       0.242424   14.0     0.502237\n",
            "5       0.323232   31.0     0.732979\n",
            "6       0.222222   22.0     0.598005\n",
            "7       0.343434   49.0     0.849039\n",
            "8       0.020202    1.0     0.049159\n",
            "9       0.500000  100.0     0.975106\n",
            "10      0.005051  100.0     0.950464\n"
          ]
        },
        {
          "name": "stderr",
          "output_type": "stream",
          "text": [
            "100%|██████████| 1/1 [00:00<00:00, 11.80it/s]\n",
            "INFO:autora.theorist.bms.regressor:BMS fitting finished\n",
            "INFO:autora.theorist.bms.regressor:BMS fitting started\n"
          ]
        },
        {
          "name": "stdout",
          "output_type": "stream",
          "text": [
            "Sampling new experiment conditions...\n",
            "Obtaining observations...\n",
            "SIMULATION 0 / DISCOVERY CYCLE 11\n",
            "Fitting models on benchmark state...\n",
            "Experiment data\n",
            "    P_asymptotic  trial  performance\n",
            "0       0.429293   64.0     0.916330\n",
            "1       0.212121   21.0     0.580382\n",
            "2       0.439394   33.0     0.791692\n",
            "3       0.202020   71.0     0.905170\n",
            "4       0.469697   97.0     0.971111\n",
            "5       0.494949   94.0     0.969896\n",
            "6       0.202020   68.0     0.896240\n",
            "7       0.101010    9.0     0.313730\n",
            "8       0.186869   88.0     0.941974\n",
            "9       0.363636    5.0     0.452277\n",
            "10      0.454545   90.0     0.963342\n",
            "11      0.318182   79.0     0.936263\n"
          ]
        },
        {
          "name": "stderr",
          "output_type": "stream",
          "text": [
            "100%|██████████| 1/1 [00:00<00:00, 11.51it/s]\n",
            "INFO:autora.theorist.bms.regressor:BMS fitting finished\n",
            "INFO:autora.theorist.bms.regressor:BMS fitting started\n"
          ]
        },
        {
          "name": "stdout",
          "output_type": "stream",
          "text": [
            "Fitting models on working state...\n",
            "Experiment data\n",
            "    P_asymptotic  trial  performance\n",
            "0       0.429293   64.0     0.916330\n",
            "1       0.070707   90.0     0.937546\n",
            "2       0.343434   75.0     0.930798\n",
            "3       0.237374   87.0     0.943921\n",
            "4       0.242424   14.0     0.502237\n",
            "5       0.323232   31.0     0.732979\n",
            "6       0.222222   22.0     0.598005\n",
            "7       0.343434   49.0     0.849039\n",
            "8       0.020202    1.0     0.049159\n",
            "9       0.500000  100.0     0.975106\n",
            "10      0.005051  100.0     0.950464\n",
            "11      0.025253    1.0     0.054061\n"
          ]
        },
        {
          "name": "stderr",
          "output_type": "stream",
          "text": [
            "100%|██████████| 1/1 [00:00<00:00,  9.88it/s]\n",
            "INFO:autora.theorist.bms.regressor:BMS fitting finished\n",
            "INFO:autora.theorist.bms.regressor:BMS fitting started\n"
          ]
        },
        {
          "name": "stdout",
          "output_type": "stream",
          "text": [
            "Sampling new experiment conditions...\n",
            "Obtaining observations...\n",
            "SIMULATION 0 / DISCOVERY CYCLE 12\n",
            "Fitting models on benchmark state...\n",
            "Experiment data\n",
            "    P_asymptotic  trial  performance\n",
            "0       0.429293   64.0     0.916330\n",
            "1       0.212121   21.0     0.580382\n",
            "2       0.439394   33.0     0.791692\n",
            "3       0.202020   71.0     0.905170\n",
            "4       0.469697   97.0     0.971111\n",
            "5       0.494949   94.0     0.969896\n",
            "6       0.202020   68.0     0.896240\n",
            "7       0.101010    9.0     0.313730\n",
            "8       0.186869   88.0     0.941974\n",
            "9       0.363636    5.0     0.452277\n",
            "10      0.454545   90.0     0.963342\n",
            "11      0.318182   79.0     0.936263\n",
            "12      0.287879   45.0     0.815390\n"
          ]
        },
        {
          "name": "stderr",
          "output_type": "stream",
          "text": [
            "100%|██████████| 1/1 [00:00<00:00,  8.51it/s]\n",
            "INFO:autora.theorist.bms.regressor:BMS fitting finished\n",
            "INFO:autora.theorist.bms.regressor:BMS fitting started\n"
          ]
        },
        {
          "name": "stdout",
          "output_type": "stream",
          "text": [
            "Fitting models on working state...\n",
            "Experiment data\n",
            "    P_asymptotic  trial  performance\n",
            "0       0.429293   64.0     0.916330\n",
            "1       0.070707   90.0     0.937546\n",
            "2       0.343434   75.0     0.930798\n",
            "3       0.237374   87.0     0.943921\n",
            "4       0.242424   14.0     0.502237\n",
            "5       0.323232   31.0     0.732979\n",
            "6       0.222222   22.0     0.598005\n",
            "7       0.343434   49.0     0.849039\n",
            "8       0.020202    1.0     0.049159\n",
            "9       0.500000  100.0     0.975106\n",
            "10      0.005051  100.0     0.950464\n",
            "11      0.025253    1.0     0.054061\n",
            "12      0.015152  100.0     0.950967\n"
          ]
        },
        {
          "name": "stderr",
          "output_type": "stream",
          "text": [
            "100%|██████████| 1/1 [00:00<00:00, 13.29it/s]\n",
            "INFO:autora.theorist.bms.regressor:BMS fitting finished\n"
          ]
        },
        {
          "name": "stdout",
          "output_type": "stream",
          "text": [
            "Sampling new experiment conditions...\n"
          ]
        },
        {
          "name": "stderr",
          "output_type": "stream",
          "text": [
            "INFO:autora.theorist.bms.regressor:BMS fitting started\n"
          ]
        },
        {
          "name": "stdout",
          "output_type": "stream",
          "text": [
            "Obtaining observations...\n",
            "SIMULATION 0 / DISCOVERY CYCLE 13\n",
            "Fitting models on benchmark state...\n",
            "Experiment data\n",
            "    P_asymptotic  trial  performance\n",
            "0       0.429293   64.0     0.916330\n",
            "1       0.212121   21.0     0.580382\n",
            "2       0.439394   33.0     0.791692\n",
            "3       0.202020   71.0     0.905170\n",
            "4       0.469697   97.0     0.971111\n",
            "5       0.494949   94.0     0.969896\n",
            "6       0.202020   68.0     0.896240\n",
            "7       0.101010    9.0     0.313730\n",
            "8       0.186869   88.0     0.941974\n",
            "9       0.363636    5.0     0.452277\n",
            "10      0.454545   90.0     0.963342\n",
            "11      0.318182   79.0     0.936263\n",
            "12      0.287879   45.0     0.815390\n",
            "13      0.303030   47.0     0.829840\n"
          ]
        },
        {
          "name": "stderr",
          "output_type": "stream",
          "text": [
            "100%|██████████| 1/1 [00:00<00:00, 10.59it/s]\n",
            "INFO:autora.theorist.bms.regressor:BMS fitting finished\n",
            "INFO:autora.theorist.bms.regressor:BMS fitting started\n"
          ]
        },
        {
          "name": "stdout",
          "output_type": "stream",
          "text": [
            "Fitting models on working state...\n",
            "Experiment data\n",
            "    P_asymptotic  trial  performance\n",
            "0       0.429293   64.0     0.916330\n",
            "1       0.070707   90.0     0.937546\n",
            "2       0.343434   75.0     0.930798\n",
            "3       0.237374   87.0     0.943921\n",
            "4       0.242424   14.0     0.502237\n",
            "5       0.323232   31.0     0.732979\n",
            "6       0.222222   22.0     0.598005\n",
            "7       0.343434   49.0     0.849039\n",
            "8       0.020202    1.0     0.049159\n",
            "9       0.500000  100.0     0.975106\n",
            "10      0.005051  100.0     0.950464\n",
            "11      0.025253    1.0     0.054061\n",
            "12      0.015152  100.0     0.950967\n",
            "13      0.005051    2.0     0.062992\n"
          ]
        },
        {
          "name": "stderr",
          "output_type": "stream",
          "text": [
            "100%|██████████| 1/1 [00:00<00:00, 12.39it/s]\n",
            "INFO:autora.theorist.bms.regressor:BMS fitting finished\n"
          ]
        },
        {
          "name": "stdout",
          "output_type": "stream",
          "text": [
            "Sampling new experiment conditions...\n",
            "Obtaining observations...\n"
          ]
        },
        {
          "name": "stderr",
          "output_type": "stream",
          "text": [
            "INFO:autora.theorist.bms.regressor:BMS fitting started\n"
          ]
        },
        {
          "name": "stdout",
          "output_type": "stream",
          "text": [
            "SIMULATION 0 / DISCOVERY CYCLE 14\n",
            "Fitting models on benchmark state...\n",
            "Experiment data\n",
            "    P_asymptotic  trial  performance\n",
            "0       0.429293   64.0     0.916330\n",
            "1       0.212121   21.0     0.580382\n",
            "2       0.439394   33.0     0.791692\n",
            "3       0.202020   71.0     0.905170\n",
            "4       0.469697   97.0     0.971111\n",
            "5       0.494949   94.0     0.969896\n",
            "6       0.202020   68.0     0.896240\n",
            "7       0.101010    9.0     0.313730\n",
            "8       0.186869   88.0     0.941974\n",
            "9       0.363636    5.0     0.452277\n",
            "10      0.454545   90.0     0.963342\n",
            "11      0.318182   79.0     0.936263\n",
            "12      0.287879   45.0     0.815390\n",
            "13      0.303030   47.0     0.829840\n",
            "14      0.429293   60.0     0.905663\n"
          ]
        },
        {
          "name": "stderr",
          "output_type": "stream",
          "text": [
            "100%|██████████| 1/1 [00:00<00:00,  8.90it/s]\n",
            "INFO:autora.theorist.bms.regressor:BMS fitting finished\n",
            "INFO:autora.theorist.bms.regressor:BMS fitting started\n"
          ]
        },
        {
          "name": "stdout",
          "output_type": "stream",
          "text": [
            "Fitting models on working state...\n",
            "Experiment data\n",
            "    P_asymptotic  trial  performance\n",
            "0       0.429293   64.0     0.916330\n",
            "1       0.070707   90.0     0.937546\n",
            "2       0.343434   75.0     0.930798\n",
            "3       0.237374   87.0     0.943921\n",
            "4       0.242424   14.0     0.502237\n",
            "5       0.323232   31.0     0.732979\n",
            "6       0.222222   22.0     0.598005\n",
            "7       0.343434   49.0     0.849039\n",
            "8       0.020202    1.0     0.049159\n",
            "9       0.500000  100.0     0.975106\n",
            "10      0.005051  100.0     0.950464\n",
            "11      0.025253    1.0     0.054061\n",
            "12      0.015152  100.0     0.950967\n",
            "13      0.005051    2.0     0.062992\n",
            "14      0.474747  100.0     0.973849\n"
          ]
        },
        {
          "name": "stderr",
          "output_type": "stream",
          "text": [
            "100%|██████████| 1/1 [00:00<00:00, 10.89it/s]\n",
            "INFO:autora.theorist.bms.regressor:BMS fitting finished\n",
            "INFO:autora.theorist.bms.regressor:BMS fitting started\n"
          ]
        },
        {
          "name": "stdout",
          "output_type": "stream",
          "text": [
            "Sampling new experiment conditions...\n",
            "Obtaining observations...\n",
            "SIMULATION 0 / DISCOVERY CYCLE 15\n",
            "Fitting models on benchmark state...\n",
            "Experiment data\n",
            "    P_asymptotic  trial  performance\n",
            "0       0.429293   64.0     0.916330\n",
            "1       0.212121   21.0     0.580382\n",
            "2       0.439394   33.0     0.791692\n",
            "3       0.202020   71.0     0.905170\n",
            "4       0.469697   97.0     0.971111\n",
            "5       0.494949   94.0     0.969896\n",
            "6       0.202020   68.0     0.896240\n",
            "7       0.101010    9.0     0.313730\n",
            "8       0.186869   88.0     0.941974\n",
            "9       0.363636    5.0     0.452277\n",
            "10      0.454545   90.0     0.963342\n",
            "11      0.318182   79.0     0.936263\n",
            "12      0.287879   45.0     0.815390\n",
            "13      0.303030   47.0     0.829840\n",
            "14      0.429293   60.0     0.905663\n",
            "15      0.242424    1.0     0.264814\n"
          ]
        },
        {
          "name": "stderr",
          "output_type": "stream",
          "text": [
            "100%|██████████| 1/1 [00:00<00:00, 10.52it/s]\n",
            "INFO:autora.theorist.bms.regressor:BMS fitting finished\n",
            "INFO:autora.theorist.bms.regressor:BMS fitting started\n"
          ]
        },
        {
          "name": "stdout",
          "output_type": "stream",
          "text": [
            "Fitting models on working state...\n",
            "Experiment data\n",
            "    P_asymptotic  trial  performance\n",
            "0       0.429293   64.0     0.916330\n",
            "1       0.070707   90.0     0.937546\n",
            "2       0.343434   75.0     0.930798\n",
            "3       0.237374   87.0     0.943921\n",
            "4       0.242424   14.0     0.502237\n",
            "5       0.323232   31.0     0.732979\n",
            "6       0.222222   22.0     0.598005\n",
            "7       0.343434   49.0     0.849039\n",
            "8       0.020202    1.0     0.049159\n",
            "9       0.500000  100.0     0.975106\n",
            "10      0.005051  100.0     0.950464\n",
            "11      0.025253    1.0     0.054061\n",
            "12      0.015152  100.0     0.950967\n",
            "13      0.005051    2.0     0.062992\n",
            "14      0.474747  100.0     0.973849\n",
            "15      0.000000    1.0     0.029554\n"
          ]
        },
        {
          "name": "stderr",
          "output_type": "stream",
          "text": [
            "100%|██████████| 1/1 [00:00<00:00, 14.97it/s]\n",
            "INFO:autora.theorist.bms.regressor:BMS fitting finished\n",
            "INFO:autora.theorist.bms.regressor:BMS fitting started\n"
          ]
        },
        {
          "name": "stdout",
          "output_type": "stream",
          "text": [
            "Sampling new experiment conditions...\n",
            "Obtaining observations...\n",
            "SIMULATION 0 / DISCOVERY CYCLE 16\n",
            "Fitting models on benchmark state...\n",
            "Experiment data\n",
            "    P_asymptotic  trial  performance\n",
            "0       0.429293   64.0     0.916330\n",
            "1       0.212121   21.0     0.580382\n",
            "2       0.439394   33.0     0.791692\n",
            "3       0.202020   71.0     0.905170\n",
            "4       0.469697   97.0     0.971111\n",
            "5       0.494949   94.0     0.969896\n",
            "6       0.202020   68.0     0.896240\n",
            "7       0.101010    9.0     0.313730\n",
            "8       0.186869   88.0     0.941974\n",
            "9       0.363636    5.0     0.452277\n",
            "10      0.454545   90.0     0.963342\n",
            "11      0.318182   79.0     0.936263\n",
            "12      0.287879   45.0     0.815390\n",
            "13      0.303030   47.0     0.829840\n",
            "14      0.429293   60.0     0.905663\n",
            "15      0.242424    1.0     0.264814\n",
            "16      0.292929    8.0     0.443798\n"
          ]
        },
        {
          "name": "stderr",
          "output_type": "stream",
          "text": [
            "100%|██████████| 1/1 [00:00<00:00, 12.63it/s]\n",
            "INFO:autora.theorist.bms.regressor:BMS fitting finished\n",
            "INFO:autora.theorist.bms.regressor:BMS fitting started\n"
          ]
        },
        {
          "name": "stdout",
          "output_type": "stream",
          "text": [
            "Fitting models on working state...\n",
            "Experiment data\n",
            "    P_asymptotic  trial  performance\n",
            "0       0.429293   64.0     0.916330\n",
            "1       0.070707   90.0     0.937546\n",
            "2       0.343434   75.0     0.930798\n",
            "3       0.237374   87.0     0.943921\n",
            "4       0.242424   14.0     0.502237\n",
            "5       0.323232   31.0     0.732979\n",
            "6       0.222222   22.0     0.598005\n",
            "7       0.343434   49.0     0.849039\n",
            "8       0.020202    1.0     0.049159\n",
            "9       0.500000  100.0     0.975106\n",
            "10      0.005051  100.0     0.950464\n",
            "11      0.025253    1.0     0.054061\n",
            "12      0.015152  100.0     0.950967\n",
            "13      0.005051    2.0     0.062992\n",
            "14      0.474747  100.0     0.973849\n",
            "15      0.000000    1.0     0.029554\n",
            "16      0.500000  100.0     0.975106\n"
          ]
        },
        {
          "name": "stderr",
          "output_type": "stream",
          "text": [
            "100%|██████████| 1/1 [00:00<00:00,  6.56it/s]\n",
            "INFO:autora.theorist.bms.regressor:BMS fitting finished\n",
            "INFO:autora.theorist.bms.regressor:BMS fitting started\n"
          ]
        },
        {
          "name": "stdout",
          "output_type": "stream",
          "text": [
            "Sampling new experiment conditions...\n",
            "Obtaining observations...\n",
            "SIMULATION 0 / DISCOVERY CYCLE 17\n",
            "Fitting models on benchmark state...\n",
            "Experiment data\n",
            "    P_asymptotic  trial  performance\n",
            "0       0.429293   64.0     0.916330\n",
            "1       0.212121   21.0     0.580382\n",
            "2       0.439394   33.0     0.791692\n",
            "3       0.202020   71.0     0.905170\n",
            "4       0.469697   97.0     0.971111\n",
            "5       0.494949   94.0     0.969896\n",
            "6       0.202020   68.0     0.896240\n",
            "7       0.101010    9.0     0.313730\n",
            "8       0.186869   88.0     0.941974\n",
            "9       0.363636    5.0     0.452277\n",
            "10      0.454545   90.0     0.963342\n",
            "11      0.318182   79.0     0.936263\n",
            "12      0.287879   45.0     0.815390\n",
            "13      0.303030   47.0     0.829840\n",
            "14      0.429293   60.0     0.905663\n",
            "15      0.242424    1.0     0.264814\n",
            "16      0.292929    8.0     0.443798\n",
            "17      0.237374   99.0     0.960875\n"
          ]
        },
        {
          "name": "stderr",
          "output_type": "stream",
          "text": [
            "100%|██████████| 1/1 [00:00<00:00, 12.27it/s]\n",
            "INFO:autora.theorist.bms.regressor:BMS fitting finished\n",
            "INFO:autora.theorist.bms.regressor:BMS fitting started\n"
          ]
        },
        {
          "name": "stdout",
          "output_type": "stream",
          "text": [
            "Fitting models on working state...\n",
            "Experiment data\n",
            "    P_asymptotic  trial  performance\n",
            "0       0.429293   64.0     0.916330\n",
            "1       0.070707   90.0     0.937546\n",
            "2       0.343434   75.0     0.930798\n",
            "3       0.237374   87.0     0.943921\n",
            "4       0.242424   14.0     0.502237\n",
            "5       0.323232   31.0     0.732979\n",
            "6       0.222222   22.0     0.598005\n",
            "7       0.343434   49.0     0.849039\n",
            "8       0.020202    1.0     0.049159\n",
            "9       0.500000  100.0     0.975106\n",
            "10      0.005051  100.0     0.950464\n",
            "11      0.025253    1.0     0.054061\n",
            "12      0.015152  100.0     0.950967\n",
            "13      0.005051    2.0     0.062992\n",
            "14      0.474747  100.0     0.973849\n",
            "15      0.000000    1.0     0.029554\n",
            "16      0.500000  100.0     0.975106\n",
            "17      0.020202    1.0     0.049159\n"
          ]
        },
        {
          "name": "stderr",
          "output_type": "stream",
          "text": [
            "100%|██████████| 1/1 [00:00<00:00, 12.09it/s]\n",
            "INFO:autora.theorist.bms.regressor:BMS fitting finished\n",
            "INFO:autora.theorist.bms.regressor:BMS fitting started\n"
          ]
        },
        {
          "name": "stdout",
          "output_type": "stream",
          "text": [
            "Sampling new experiment conditions...\n",
            "Obtaining observations...\n",
            "SIMULATION 0 / DISCOVERY CYCLE 18\n",
            "Fitting models on benchmark state...\n",
            "Experiment data\n",
            "    P_asymptotic  trial  performance\n",
            "0       0.429293   64.0     0.916330\n",
            "1       0.212121   21.0     0.580382\n",
            "2       0.439394   33.0     0.791692\n",
            "3       0.202020   71.0     0.905170\n",
            "4       0.469697   97.0     0.971111\n",
            "5       0.494949   94.0     0.969896\n",
            "6       0.202020   68.0     0.896240\n",
            "7       0.101010    9.0     0.313730\n",
            "8       0.186869   88.0     0.941974\n",
            "9       0.363636    5.0     0.452277\n",
            "10      0.454545   90.0     0.963342\n",
            "11      0.318182   79.0     0.936263\n",
            "12      0.287879   45.0     0.815390\n",
            "13      0.303030   47.0     0.829840\n",
            "14      0.429293   60.0     0.905663\n",
            "15      0.242424    1.0     0.264814\n",
            "16      0.292929    8.0     0.443798\n",
            "17      0.237374   99.0     0.960875\n",
            "18      0.287879   16.0     0.559351\n"
          ]
        },
        {
          "name": "stderr",
          "output_type": "stream",
          "text": [
            "100%|██████████| 1/1 [00:00<00:00,  9.35it/s]\n",
            "INFO:autora.theorist.bms.regressor:BMS fitting finished\n",
            "INFO:autora.theorist.bms.regressor:BMS fitting started\n"
          ]
        },
        {
          "name": "stdout",
          "output_type": "stream",
          "text": [
            "Fitting models on working state...\n",
            "Experiment data\n",
            "    P_asymptotic  trial  performance\n",
            "0       0.429293   64.0     0.916330\n",
            "1       0.070707   90.0     0.937546\n",
            "2       0.343434   75.0     0.930798\n",
            "3       0.237374   87.0     0.943921\n",
            "4       0.242424   14.0     0.502237\n",
            "5       0.323232   31.0     0.732979\n",
            "6       0.222222   22.0     0.598005\n",
            "7       0.343434   49.0     0.849039\n",
            "8       0.020202    1.0     0.049159\n",
            "9       0.500000  100.0     0.975106\n",
            "10      0.005051  100.0     0.950464\n",
            "11      0.025253    1.0     0.054061\n",
            "12      0.015152  100.0     0.950967\n",
            "13      0.005051    2.0     0.062992\n",
            "14      0.474747  100.0     0.973849\n",
            "15      0.000000    1.0     0.029554\n",
            "16      0.500000  100.0     0.975106\n",
            "17      0.020202    1.0     0.049159\n",
            "18      0.500000   99.0     0.974348\n"
          ]
        },
        {
          "name": "stderr",
          "output_type": "stream",
          "text": [
            "100%|██████████| 1/1 [00:00<00:00,  8.35it/s]\n",
            "INFO:autora.theorist.bms.regressor:BMS fitting finished\n",
            "INFO:autora.theorist.bms.regressor:BMS fitting started\n"
          ]
        },
        {
          "name": "stdout",
          "output_type": "stream",
          "text": [
            "Sampling new experiment conditions...\n",
            "Obtaining observations...\n",
            "SIMULATION 0 / DISCOVERY CYCLE 19\n",
            "Fitting models on benchmark state...\n",
            "Experiment data\n",
            "    P_asymptotic  trial  performance\n",
            "0       0.429293   64.0     0.916330\n",
            "1       0.212121   21.0     0.580382\n",
            "2       0.439394   33.0     0.791692\n",
            "3       0.202020   71.0     0.905170\n",
            "4       0.469697   97.0     0.971111\n",
            "5       0.494949   94.0     0.969896\n",
            "6       0.202020   68.0     0.896240\n",
            "7       0.101010    9.0     0.313730\n",
            "8       0.186869   88.0     0.941974\n",
            "9       0.363636    5.0     0.452277\n",
            "10      0.454545   90.0     0.963342\n",
            "11      0.318182   79.0     0.936263\n",
            "12      0.287879   45.0     0.815390\n",
            "13      0.303030   47.0     0.829840\n",
            "14      0.429293   60.0     0.905663\n",
            "15      0.242424    1.0     0.264814\n",
            "16      0.292929    8.0     0.443798\n",
            "17      0.237374   99.0     0.960875\n",
            "18      0.287879   16.0     0.559351\n",
            "19      0.404040   54.0     0.882060\n"
          ]
        },
        {
          "name": "stderr",
          "output_type": "stream",
          "text": [
            "100%|██████████| 1/1 [00:00<00:00, 14.69it/s]\n",
            "INFO:autora.theorist.bms.regressor:BMS fitting finished\n",
            "INFO:autora.theorist.bms.regressor:BMS fitting started\n"
          ]
        },
        {
          "name": "stdout",
          "output_type": "stream",
          "text": [
            "Fitting models on working state...\n",
            "Experiment data\n",
            "    P_asymptotic  trial  performance\n",
            "0       0.429293   64.0     0.916330\n",
            "1       0.070707   90.0     0.937546\n",
            "2       0.343434   75.0     0.930798\n",
            "3       0.237374   87.0     0.943921\n",
            "4       0.242424   14.0     0.502237\n",
            "5       0.323232   31.0     0.732979\n",
            "6       0.222222   22.0     0.598005\n",
            "7       0.343434   49.0     0.849039\n",
            "8       0.020202    1.0     0.049159\n",
            "9       0.500000  100.0     0.975106\n",
            "10      0.005051  100.0     0.950464\n",
            "11      0.025253    1.0     0.054061\n",
            "12      0.015152  100.0     0.950967\n",
            "13      0.005051    2.0     0.062992\n",
            "14      0.474747  100.0     0.973849\n",
            "15      0.000000    1.0     0.029554\n",
            "16      0.500000  100.0     0.975106\n",
            "17      0.020202    1.0     0.049159\n",
            "18      0.500000   99.0     0.974348\n",
            "19      0.010101    2.0     0.067748\n"
          ]
        },
        {
          "name": "stderr",
          "output_type": "stream",
          "text": [
            "100%|██████████| 1/1 [00:00<00:00,  9.59it/s]\n",
            "INFO:autora.theorist.bms.regressor:BMS fitting finished\n"
          ]
        },
        {
          "name": "stdout",
          "output_type": "stream",
          "text": [
            "Sampling new experiment conditions...\n",
            "Obtaining observations...\n"
          ]
        }
      ],
      "source": [
        "# setting experiment runner and theorist\n",
        "experiment_runner = exp_learning()\n",
        "\n",
        "# run simulation\n",
        "benchmark_MSE_log, working_MSE_log, benchmark_state, working_state = run_simulation(num_cycles, num_conditions_per_cycle, num_initial_conditions, bms_epochs, experiment_runner)\n",
        "\n",
        "\n",
        "\n",
        "\n",
        "\n"
      ]
    },
    {
      "cell_type": "markdown",
      "metadata": {
        "id": "DxXTCLDzfjLr"
      },
      "source": [
        "We can now plot the results for a single discovery run."
      ]
    },
    {
      "cell_type": "code",
      "execution_count": null,
      "metadata": {
        "colab": {
          "base_uri": "https://localhost:8080/",
          "height": 1000
        },
        "id": "0HfiASzDfiRA",
        "outputId": "5f99db4b-fb0c-4641-bf80-6c4403c83aa0"
      },
      "outputs": [
        {
          "name": "stdout",
          "output_type": "stream",
          "text": [
            "    P_asymptotic  trial  performance\n",
            "0       0.429293   64.0     0.916330\n",
            "1       0.161616   48.0     0.801364\n",
            "2       0.166667   99.0     0.957247\n",
            "3       0.500000   92.0     0.968354\n",
            "4       0.035354   93.0     0.940750\n",
            "5       0.303030   95.0     0.959684\n",
            "6       0.323232   59.0     0.884724\n",
            "7       0.181818   43.0     0.774778\n",
            "8       0.257576    1.0     0.279518\n",
            "9       0.222222   82.0     0.933551\n",
            "10      0.060606   34.0     0.661259\n",
            "11      0.358586   30.0     0.739220\n",
            "12      0.070707   30.0     0.622178\n",
            "13      0.277778    7.0     0.414578\n",
            "14      0.429293   41.0     0.833187\n",
            "15      0.212121   22.0     0.592784\n",
            "16      0.010101   14.0     0.349590\n",
            "17      0.373737   63.0     0.905389\n",
            "18      0.222222   21.0     0.585762\n",
            "19      0.207071   91.0     0.948286\n",
            "20      0.095960   40.0     0.727708\n",
            "    P_asymptotic  trial  performance\n",
            "0       0.429293   64.0     0.916330\n",
            "1       0.131313   53.0     0.822852\n",
            "2       0.439394   42.0     0.840982\n",
            "3       0.353535   75.0     0.931863\n",
            "4       0.373737   55.0     0.879726\n",
            "5       0.500000   80.0     0.954641\n",
            "6       0.000000   38.0     0.680181\n",
            "7       0.156566   77.0     0.916280\n",
            "8       0.176768   74.0     0.910589\n",
            "9       0.045455   49.0     0.780526\n",
            "10      0.020202    1.0     0.049159\n",
            "11      0.000000    1.0     0.029554\n",
            "12      0.010101   99.0     0.949215\n",
            "13      0.010101    1.0     0.039357\n",
            "14      0.494949   99.0     0.974089\n",
            "15      0.025253    1.0     0.054061\n",
            "16      0.494949  100.0     0.974855\n",
            "17      0.030303    1.0     0.058962\n",
            "18      0.474747    1.0     0.490271\n",
            "19      0.020202  100.0     0.951219\n",
            "20      0.500000    2.0     0.529118\n"
          ]
        },
        {
          "data": {
            "image/png": "[encoded data removed]",
            "text/plain": [
              "<Figure size 640x480 with 1 Axes>"
            ]
          },
          "metadata": {},
          "output_type": "display_data"
        }
      ],
      "source": [
        "# lets plot the benchmark_MSE_log and the workign_MSE_log\n",
        "plt.plot(benchmark_MSE_log, label='benchmark_MSE_log')\n",
        "plt.plot(working_MSE_log, label='working_MSE_log')\n",
        "plt.xlabel('Sampled Data Points')\n",
        "plt.ylabel('MSE on Validation Set')\n",
        "plt.title('Single Discovery Simulation')\n",
        "plt.legend()\n",
        "\n",
        "# we can also investigate the final state more closely\n",
        "# for example, these are all the experimental data collected\n",
        "# under random sampling:\n",
        "print(benchmark_state.experiment_data)\n",
        "# and for your custom experimentalist\n",
        "print(working_state.experiment_data)"
      ]
    },
    {
      "cell_type": "markdown",
      "metadata": {
        "id": "H8Z7iU9pgBWu"
      },
      "source": [
        "### Averaging Across Multiple Runs\n",
        "\n",
        "To become more confident in your experimentalist, you may want to repeat the discovery process N times..."
      ]
    },
    {
      "cell_type": "code",
      "execution_count": 27,
      "metadata": {
        "colab": {
          "base_uri": "https://localhost:8080/"
        },
        "id": "OwL3zbg7hQNs",
        "outputId": "a318d3c8-0dbc-4a81-b3c6-a4e7c3d8e6c6"
      },
      "outputs": [
        {
          "name": "stderr",
          "output_type": "stream",
          "text": [
            "INFO:autora.theorist.bms.regressor:BMS fitting started\n"
          ]
        },
        {
          "name": "stdout",
          "output_type": "stream",
          "text": [
            "SIMULATION 0 / DISCOVERY CYCLE 0\n",
            "Fitting models on benchmark state...\n",
            "Experiment data\n",
            "   P_asymptotic  trial  performance\n",
            "0      0.429293   64.0      0.91633\n"
          ]
        },
        {
          "name": "stderr",
          "output_type": "stream",
          "text": [
            "100%|██████████| 1/1 [00:00<00:00, 10.69it/s]\n",
            "INFO:autora.theorist.bms.regressor:BMS fitting finished\n"
          ]
        },
        {
          "name": "stdout",
          "output_type": "stream",
          "text": [
            "Fitting models on working state...\n",
            "Experiment data\n",
            "   P_asymptotic  trial  performance\n",
            "0      0.429293   64.0      0.91633\n"
          ]
        },
        {
          "name": "stderr",
          "output_type": "stream",
          "text": [
            "INFO:autora.theorist.bms.regressor:BMS fitting started\n",
            "100%|██████████| 1/1 [00:00<00:00, 16.28it/s]\n",
            "INFO:autora.theorist.bms.regressor:BMS fitting finished\n"
          ]
        },
        {
          "name": "stdout",
          "output_type": "stream",
          "text": [
            "Sampling new experiment conditions...\n",
            "Obtaining observations...\n",
            "SIMULATION 0 / DISCOVERY CYCLE 1\n",
            "Fitting models on benchmark state...\n",
            "Experiment data\n",
            "   P_asymptotic  trial  performance\n",
            "0      0.429293   64.0     0.916330\n",
            "1      0.318182   46.0     0.828469\n"
          ]
        },
        {
          "name": "stderr",
          "output_type": "stream",
          "text": [
            "INFO:autora.theorist.bms.regressor:BMS fitting started\n",
            "100%|██████████| 1/1 [00:00<00:00, 13.14it/s]\n",
            "INFO:autora.theorist.bms.regressor:BMS fitting finished\n",
            "INFO:autora.theorist.bms.regressor:BMS fitting started\n"
          ]
        },
        {
          "name": "stdout",
          "output_type": "stream",
          "text": [
            "Fitting models on working state...\n",
            "Experiment data\n",
            "   P_asymptotic  trial  performance\n",
            "0      0.429293   64.0     0.916330\n",
            "1      0.343434   16.0     0.593728\n"
          ]
        },
        {
          "name": "stderr",
          "output_type": "stream",
          "text": [
            "100%|██████████| 1/1 [00:00<00:00, 11.36it/s]\n",
            "INFO:autora.theorist.bms.regressor:BMS fitting finished\n"
          ]
        },
        {
          "name": "stdout",
          "output_type": "stream",
          "text": [
            "Sampling new experiment conditions...\n",
            "Obtaining observations...\n"
          ]
        },
        {
          "name": "stderr",
          "output_type": "stream",
          "text": [
            "INFO:autora.theorist.bms.regressor:BMS fitting started\n"
          ]
        },
        {
          "name": "stdout",
          "output_type": "stream",
          "text": [
            "SIMULATION 0 / DISCOVERY CYCLE 2\n",
            "Fitting models on benchmark state...\n",
            "Experiment data\n",
            "   P_asymptotic  trial  performance\n",
            "0      0.429293   64.0     0.916330\n",
            "1      0.318182   46.0     0.828469\n",
            "2      0.085859   61.0     0.853359\n"
          ]
        },
        {
          "name": "stderr",
          "output_type": "stream",
          "text": [
            "100%|██████████| 1/1 [00:00<00:00, 12.64it/s]\n",
            "INFO:autora.theorist.bms.regressor:BMS fitting finished\n",
            "INFO:autora.theorist.bms.regressor:BMS fitting started\n"
          ]
        },
        {
          "name": "stdout",
          "output_type": "stream",
          "text": [
            "Fitting models on working state...\n",
            "Experiment data\n",
            "   P_asymptotic  trial  performance\n",
            "0      0.429293   64.0     0.916330\n",
            "1      0.343434   16.0     0.593728\n",
            "2      0.141414   25.0     0.594433\n"
          ]
        },
        {
          "name": "stderr",
          "output_type": "stream",
          "text": [
            "100%|██████████| 1/1 [00:00<00:00, 11.17it/s]\n",
            "INFO:autora.theorist.bms.regressor:BMS fitting finished\n",
            "INFO:autora.theorist.bms.regressor:BMS fitting started\n"
          ]
        },
        {
          "name": "stdout",
          "output_type": "stream",
          "text": [
            "Sampling new experiment conditions...\n",
            "Obtaining observations...\n",
            "SIMULATION 0 / DISCOVERY CYCLE 3\n",
            "Fitting models on benchmark state...\n",
            "Experiment data\n",
            "   P_asymptotic  trial  performance\n",
            "0      0.429293   64.0     0.916330\n",
            "1      0.318182   46.0     0.828469\n",
            "2      0.085859   61.0     0.853359\n",
            "3      0.257576   10.0     0.449999\n"
          ]
        },
        {
          "name": "stderr",
          "output_type": "stream",
          "text": [
            "100%|██████████| 1/1 [00:00<00:00, 12.58it/s]\n",
            "INFO:autora.theorist.bms.regressor:BMS fitting finished\n",
            "INFO:autora.theorist.bms.regressor:BMS fitting started\n"
          ]
        },
        {
          "name": "stdout",
          "output_type": "stream",
          "text": [
            "Fitting models on working state...\n",
            "Experiment data\n",
            "   P_asymptotic  trial  performance\n",
            "0      0.429293   64.0     0.916330\n",
            "1      0.343434   16.0     0.593728\n",
            "2      0.141414   25.0     0.594433\n",
            "3      0.378788   48.0     0.852818\n"
          ]
        },
        {
          "name": "stderr",
          "output_type": "stream",
          "text": [
            "100%|██████████| 1/1 [00:00<00:00, 12.91it/s]\n",
            "INFO:autora.theorist.bms.regressor:BMS fitting finished\n",
            "INFO:autora.theorist.bms.regressor:BMS fitting started\n"
          ]
        },
        {
          "name": "stdout",
          "output_type": "stream",
          "text": [
            "Sampling new experiment conditions...\n",
            "Obtaining observations...\n",
            "SIMULATION 0 / DISCOVERY CYCLE 4\n",
            "Fitting models on benchmark state...\n",
            "Experiment data\n",
            "   P_asymptotic  trial  performance\n",
            "0      0.429293   64.0     0.916330\n",
            "1      0.318182   46.0     0.828469\n",
            "2      0.085859   61.0     0.853359\n",
            "3      0.257576   10.0     0.449999\n",
            "4      0.444444   16.0     0.656231\n"
          ]
        },
        {
          "name": "stderr",
          "output_type": "stream",
          "text": [
            "100%|██████████| 1/1 [00:00<00:00, 12.14it/s]\n",
            "INFO:autora.theorist.bms.regressor:BMS fitting finished\n",
            "INFO:autora.theorist.bms.regressor:BMS fitting started\n"
          ]
        },
        {
          "name": "stdout",
          "output_type": "stream",
          "text": [
            "Fitting models on working state...\n",
            "Experiment data\n",
            "   P_asymptotic  trial  performance\n",
            "0      0.429293   64.0     0.916330\n",
            "1      0.343434   16.0     0.593728\n",
            "2      0.141414   25.0     0.594433\n",
            "3      0.378788   48.0     0.852818\n",
            "4      0.257576   67.0     0.900524\n"
          ]
        },
        {
          "name": "stderr",
          "output_type": "stream",
          "text": [
            "100%|██████████| 1/1 [00:00<00:00, 11.31it/s]\n",
            "INFO:autora.theorist.bms.regressor:BMS fitting finished\n",
            "INFO:autora.theorist.bms.regressor:BMS fitting started\n"
          ]
        },
        {
          "name": "stdout",
          "output_type": "stream",
          "text": [
            "Sampling new experiment conditions...\n",
            "Obtaining observations...\n",
            "SIMULATION 0 / DISCOVERY CYCLE 5\n",
            "Fitting models on benchmark state...\n",
            "Experiment data\n",
            "   P_asymptotic  trial  performance\n",
            "0      0.429293   64.0     0.916330\n",
            "1      0.318182   46.0     0.828469\n",
            "2      0.085859   61.0     0.853359\n",
            "3      0.257576   10.0     0.449999\n",
            "4      0.444444   16.0     0.656231\n",
            "5      0.151515   72.0     0.902148\n"
          ]
        },
        {
          "name": "stderr",
          "output_type": "stream",
          "text": [
            "100%|██████████| 1/1 [00:00<00:00,  8.98it/s]\n",
            "INFO:autora.theorist.bms.regressor:BMS fitting finished\n",
            "INFO:autora.theorist.bms.regressor:BMS fitting started\n"
          ]
        },
        {
          "name": "stdout",
          "output_type": "stream",
          "text": [
            "Fitting models on working state...\n",
            "Experiment data\n",
            "   P_asymptotic  trial  performance\n",
            "0      0.429293   64.0     0.916330\n",
            "1      0.343434   16.0     0.593728\n",
            "2      0.141414   25.0     0.594433\n",
            "3      0.378788   48.0     0.852818\n",
            "4      0.257576   67.0     0.900524\n",
            "5      0.409091   29.0     0.752438\n"
          ]
        },
        {
          "name": "stderr",
          "output_type": "stream",
          "text": [
            "100%|██████████| 1/1 [00:00<00:00,  9.14it/s]\n",
            "INFO:autora.theorist.bms.regressor:BMS fitting finished\n",
            "INFO:autora.theorist.bms.regressor:BMS fitting started\n"
          ]
        },
        {
          "name": "stdout",
          "output_type": "stream",
          "text": [
            "Sampling new experiment conditions...\n",
            "Obtaining observations...\n",
            "SIMULATION 0 / DISCOVERY CYCLE 6\n",
            "Fitting models on benchmark state...\n",
            "Experiment data\n",
            "   P_asymptotic  trial  performance\n",
            "0      0.429293   64.0     0.916330\n",
            "1      0.318182   46.0     0.828469\n",
            "2      0.085859   61.0     0.853359\n",
            "3      0.257576   10.0     0.449999\n",
            "4      0.444444   16.0     0.656231\n",
            "5      0.151515   72.0     0.902148\n",
            "6      0.090909    7.0     0.263105\n"
          ]
        },
        {
          "name": "stderr",
          "output_type": "stream",
          "text": [
            "100%|██████████| 1/1 [00:00<00:00,  8.77it/s]\n",
            "INFO:autora.theorist.bms.regressor:BMS fitting finished\n",
            "INFO:autora.theorist.bms.regressor:BMS fitting started\n"
          ]
        },
        {
          "name": "stdout",
          "output_type": "stream",
          "text": [
            "Fitting models on working state...\n",
            "Experiment data\n",
            "   P_asymptotic  trial  performance\n",
            "0      0.429293   64.0     0.916330\n",
            "1      0.343434   16.0     0.593728\n",
            "2      0.141414   25.0     0.594433\n",
            "3      0.378788   48.0     0.852818\n",
            "4      0.257576   67.0     0.900524\n",
            "5      0.409091   29.0     0.752438\n",
            "6      0.363636    1.0     0.382444\n"
          ]
        },
        {
          "name": "stderr",
          "output_type": "stream",
          "text": [
            "100%|██████████| 1/1 [00:00<00:00, 11.63it/s]\n",
            "INFO:autora.theorist.bms.regressor:BMS fitting finished\n"
          ]
        },
        {
          "name": "stdout",
          "output_type": "stream",
          "text": [
            "Sampling new experiment conditions...\n",
            "Obtaining observations...\n",
            "SIMULATION 0 / DISCOVERY CYCLE 7\n",
            "Fitting models on benchmark state...\n",
            "Experiment data\n",
            "   P_asymptotic  trial  performance\n",
            "0      0.429293   64.0     0.916330\n",
            "1      0.318182   46.0     0.828469\n",
            "2      0.085859   61.0     0.853359\n",
            "3      0.257576   10.0     0.449999\n",
            "4      0.444444   16.0     0.656231\n",
            "5      0.151515   72.0     0.902148\n",
            "6      0.090909    7.0     0.263105\n",
            "7      0.045455   65.0     0.864193\n"
          ]
        },
        {
          "name": "stderr",
          "output_type": "stream",
          "text": [
            "INFO:autora.theorist.bms.regressor:BMS fitting started\n",
            "100%|██████████| 1/1 [00:00<00:00,  6.59it/s]\n",
            "INFO:autora.theorist.bms.regressor:BMS fitting finished\n",
            "INFO:autora.theorist.bms.regressor:BMS fitting started\n"
          ]
        },
        {
          "name": "stdout",
          "output_type": "stream",
          "text": [
            "Fitting models on working state...\n",
            "Experiment data\n",
            "   P_asymptotic  trial  performance\n",
            "0      0.429293   64.0     0.916330\n",
            "1      0.343434   16.0     0.593728\n",
            "2      0.141414   25.0     0.594433\n",
            "3      0.378788   48.0     0.852818\n",
            "4      0.257576   67.0     0.900524\n",
            "5      0.409091   29.0     0.752438\n",
            "6      0.363636    1.0     0.382444\n",
            "7      0.479798   80.0     0.952808\n"
          ]
        },
        {
          "name": "stderr",
          "output_type": "stream",
          "text": [
            "100%|██████████| 1/1 [00:00<00:00, 12.52it/s]\n",
            "INFO:autora.theorist.bms.regressor:BMS fitting finished\n",
            "INFO:autora.theorist.bms.regressor:BMS fitting started\n"
          ]
        },
        {
          "name": "stdout",
          "output_type": "stream",
          "text": [
            "Sampling new experiment conditions...\n",
            "Obtaining observations...\n",
            "SIMULATION 0 / DISCOVERY CYCLE 8\n",
            "Fitting models on benchmark state...\n",
            "Experiment data\n",
            "   P_asymptotic  trial  performance\n",
            "0      0.429293   64.0     0.916330\n",
            "1      0.318182   46.0     0.828469\n",
            "2      0.085859   61.0     0.853359\n",
            "3      0.257576   10.0     0.449999\n",
            "4      0.444444   16.0     0.656231\n",
            "5      0.151515   72.0     0.902148\n",
            "6      0.090909    7.0     0.263105\n",
            "7      0.045455   65.0     0.864193\n",
            "8      0.287879   49.0     0.836265\n"
          ]
        },
        {
          "name": "stderr",
          "output_type": "stream",
          "text": [
            "100%|██████████| 1/1 [00:00<00:00,  9.01it/s]\n",
            "INFO:autora.theorist.bms.regressor:BMS fitting finished\n",
            "INFO:autora.theorist.bms.regressor:BMS fitting started\n"
          ]
        },
        {
          "name": "stdout",
          "output_type": "stream",
          "text": [
            "Fitting models on working state...\n",
            "Experiment data\n",
            "   P_asymptotic  trial  performance\n",
            "0      0.429293   64.0     0.916330\n",
            "1      0.343434   16.0     0.593728\n",
            "2      0.141414   25.0     0.594433\n",
            "3      0.378788   48.0     0.852818\n",
            "4      0.257576   67.0     0.900524\n",
            "5      0.409091   29.0     0.752438\n",
            "6      0.363636    1.0     0.382444\n",
            "7      0.479798   80.0     0.952808\n",
            "8      0.464646  100.0     0.973346\n"
          ]
        },
        {
          "name": "stderr",
          "output_type": "stream",
          "text": [
            "100%|██████████| 1/1 [00:00<00:00,  6.11it/s]\n",
            "INFO:autora.theorist.bms.regressor:BMS fitting finished\n",
            "INFO:autora.theorist.bms.regressor:BMS fitting started\n"
          ]
        },
        {
          "name": "stdout",
          "output_type": "stream",
          "text": [
            "Sampling new experiment conditions...\n",
            "Obtaining observations...\n",
            "SIMULATION 0 / DISCOVERY CYCLE 9\n",
            "Fitting models on benchmark state...\n",
            "Experiment data\n",
            "   P_asymptotic  trial  performance\n",
            "0      0.429293   64.0     0.916330\n",
            "1      0.318182   46.0     0.828469\n",
            "2      0.085859   61.0     0.853359\n",
            "3      0.257576   10.0     0.449999\n",
            "4      0.444444   16.0     0.656231\n",
            "5      0.151515   72.0     0.902148\n",
            "6      0.090909    7.0     0.263105\n",
            "7      0.045455   65.0     0.864193\n",
            "8      0.287879   49.0     0.836265\n",
            "9      0.449495   18.0     0.679194\n"
          ]
        },
        {
          "name": "stderr",
          "output_type": "stream",
          "text": [
            "100%|██████████| 1/1 [00:00<00:00, 13.21it/s]\n",
            "INFO:autora.theorist.bms.regressor:BMS fitting finished\n",
            "INFO:autora.theorist.bms.regressor:BMS fitting started\n"
          ]
        },
        {
          "name": "stdout",
          "output_type": "stream",
          "text": [
            "Fitting models on working state...\n",
            "Experiment data\n",
            "   P_asymptotic  trial  performance\n",
            "0      0.429293   64.0     0.916330\n",
            "1      0.343434   16.0     0.593728\n",
            "2      0.141414   25.0     0.594433\n",
            "3      0.378788   48.0     0.852818\n",
            "4      0.257576   67.0     0.900524\n",
            "5      0.409091   29.0     0.752438\n",
            "6      0.363636    1.0     0.382444\n",
            "7      0.479798   80.0     0.952808\n",
            "8      0.464646  100.0     0.973346\n",
            "9      0.500000   95.0     0.971078\n"
          ]
        },
        {
          "name": "stderr",
          "output_type": "stream",
          "text": [
            "100%|██████████| 1/1 [00:00<00:00, 10.95it/s]\n",
            "INFO:autora.theorist.bms.regressor:BMS fitting finished\n",
            "INFO:autora.theorist.bms.regressor:BMS fitting started\n"
          ]
        },
        {
          "name": "stdout",
          "output_type": "stream",
          "text": [
            "Sampling new experiment conditions...\n",
            "Obtaining observations...\n",
            "SIMULATION 0 / DISCOVERY CYCLE 10\n",
            "Fitting models on benchmark state...\n",
            "Experiment data\n",
            "    P_asymptotic  trial  performance\n",
            "0       0.429293   64.0     0.916330\n",
            "1       0.318182   46.0     0.828469\n",
            "2       0.085859   61.0     0.853359\n",
            "3       0.257576   10.0     0.449999\n",
            "4       0.444444   16.0     0.656231\n",
            "5       0.151515   72.0     0.902148\n",
            "6       0.090909    7.0     0.263105\n",
            "7       0.045455   65.0     0.864193\n",
            "8       0.287879   49.0     0.836265\n",
            "9       0.449495   18.0     0.679194\n",
            "10      0.292929   52.0     0.851419\n"
          ]
        },
        {
          "name": "stderr",
          "output_type": "stream",
          "text": [
            "100%|██████████| 1/1 [00:00<00:00, 13.75it/s]\n",
            "INFO:autora.theorist.bms.regressor:BMS fitting finished\n",
            "INFO:autora.theorist.bms.regressor:BMS fitting started\n"
          ]
        },
        {
          "name": "stdout",
          "output_type": "stream",
          "text": [
            "Fitting models on working state...\n",
            "Experiment data\n",
            "    P_asymptotic  trial  performance\n",
            "0       0.429293   64.0     0.916330\n",
            "1       0.343434   16.0     0.593728\n",
            "2       0.141414   25.0     0.594433\n",
            "3       0.378788   48.0     0.852818\n",
            "4       0.257576   67.0     0.900524\n",
            "5       0.409091   29.0     0.752438\n",
            "6       0.363636    1.0     0.382444\n",
            "7       0.479798   80.0     0.952808\n",
            "8       0.464646  100.0     0.973346\n",
            "9       0.500000   95.0     0.971078\n",
            "10      0.030303    1.0     0.058962\n"
          ]
        },
        {
          "name": "stderr",
          "output_type": "stream",
          "text": [
            "100%|██████████| 1/1 [00:00<00:00,  9.50it/s]\n",
            "INFO:autora.theorist.bms.regressor:BMS fitting finished\n",
            "INFO:autora.theorist.bms.regressor:BMS fitting started\n"
          ]
        },
        {
          "name": "stdout",
          "output_type": "stream",
          "text": [
            "Sampling new experiment conditions...\n",
            "Obtaining observations...\n",
            "SIMULATION 0 / DISCOVERY CYCLE 11\n",
            "Fitting models on benchmark state...\n",
            "Experiment data\n",
            "    P_asymptotic  trial  performance\n",
            "0       0.429293   64.0     0.916330\n",
            "1       0.318182   46.0     0.828469\n",
            "2       0.085859   61.0     0.853359\n",
            "3       0.257576   10.0     0.449999\n",
            "4       0.444444   16.0     0.656231\n",
            "5       0.151515   72.0     0.902148\n",
            "6       0.090909    7.0     0.263105\n",
            "7       0.045455   65.0     0.864193\n",
            "8       0.287879   49.0     0.836265\n",
            "9       0.449495   18.0     0.679194\n",
            "10      0.292929   52.0     0.851419\n",
            "11      0.328283   12.0     0.531359\n"
          ]
        },
        {
          "name": "stderr",
          "output_type": "stream",
          "text": [
            "100%|██████████| 1/1 [00:00<00:00,  9.69it/s]\n",
            "INFO:autora.theorist.bms.regressor:BMS fitting finished\n",
            "INFO:autora.theorist.bms.regressor:BMS fitting started\n"
          ]
        },
        {
          "name": "stdout",
          "output_type": "stream",
          "text": [
            "Fitting models on working state...\n",
            "Experiment data\n",
            "    P_asymptotic  trial  performance\n",
            "0       0.429293   64.0     0.916330\n",
            "1       0.343434   16.0     0.593728\n",
            "2       0.141414   25.0     0.594433\n",
            "3       0.378788   48.0     0.852818\n",
            "4       0.257576   67.0     0.900524\n",
            "5       0.409091   29.0     0.752438\n",
            "6       0.363636    1.0     0.382444\n",
            "7       0.479798   80.0     0.952808\n",
            "8       0.464646  100.0     0.973346\n",
            "9       0.500000   95.0     0.971078\n",
            "10      0.030303    1.0     0.058962\n",
            "11      0.010101  100.0     0.950716\n"
          ]
        },
        {
          "name": "stderr",
          "output_type": "stream",
          "text": [
            "100%|██████████| 1/1 [00:00<00:00,  9.38it/s]\n",
            "INFO:autora.theorist.bms.regressor:BMS fitting finished\n",
            "INFO:autora.theorist.bms.regressor:BMS fitting started\n"
          ]
        },
        {
          "name": "stdout",
          "output_type": "stream",
          "text": [
            "Sampling new experiment conditions...\n",
            "Obtaining observations...\n",
            "SIMULATION 0 / DISCOVERY CYCLE 12\n",
            "Fitting models on benchmark state...\n",
            "Experiment data\n",
            "    P_asymptotic  trial  performance\n",
            "0       0.429293   64.0     0.916330\n",
            "1       0.318182   46.0     0.828469\n",
            "2       0.085859   61.0     0.853359\n",
            "3       0.257576   10.0     0.449999\n",
            "4       0.444444   16.0     0.656231\n",
            "5       0.151515   72.0     0.902148\n",
            "6       0.090909    7.0     0.263105\n",
            "7       0.045455   65.0     0.864193\n",
            "8       0.287879   49.0     0.836265\n",
            "9       0.449495   18.0     0.679194\n",
            "10      0.292929   52.0     0.851419\n",
            "11      0.328283   12.0     0.531359\n",
            "12      0.333333   31.0     0.736964\n"
          ]
        },
        {
          "name": "stderr",
          "output_type": "stream",
          "text": [
            "100%|██████████| 1/1 [00:00<00:00, 10.34it/s]\n",
            "INFO:autora.theorist.bms.regressor:BMS fitting finished\n",
            "INFO:autora.theorist.bms.regressor:BMS fitting started\n"
          ]
        },
        {
          "name": "stdout",
          "output_type": "stream",
          "text": [
            "Fitting models on working state...\n",
            "Experiment data\n",
            "    P_asymptotic  trial  performance\n",
            "0       0.429293   64.0     0.916330\n",
            "1       0.343434   16.0     0.593728\n",
            "2       0.141414   25.0     0.594433\n",
            "3       0.378788   48.0     0.852818\n",
            "4       0.257576   67.0     0.900524\n",
            "5       0.409091   29.0     0.752438\n",
            "6       0.363636    1.0     0.382444\n",
            "7       0.479798   80.0     0.952808\n",
            "8       0.464646  100.0     0.973346\n",
            "9       0.500000   95.0     0.971078\n",
            "10      0.030303    1.0     0.058962\n",
            "11      0.010101  100.0     0.950716\n",
            "12      0.005051   99.0     0.948956\n"
          ]
        },
        {
          "name": "stderr",
          "output_type": "stream",
          "text": [
            "100%|██████████| 1/1 [00:00<00:00, 10.63it/s]\n",
            "INFO:autora.theorist.bms.regressor:BMS fitting finished\n",
            "INFO:autora.theorist.bms.regressor:BMS fitting started\n"
          ]
        },
        {
          "name": "stdout",
          "output_type": "stream",
          "text": [
            "Sampling new experiment conditions...\n",
            "Obtaining observations...\n",
            "SIMULATION 0 / DISCOVERY CYCLE 13\n",
            "Fitting models on benchmark state...\n",
            "Experiment data\n",
            "    P_asymptotic  trial  performance\n",
            "0       0.429293   64.0     0.916330\n",
            "1       0.318182   46.0     0.828469\n",
            "2       0.085859   61.0     0.853359\n",
            "3       0.257576   10.0     0.449999\n",
            "4       0.444444   16.0     0.656231\n",
            "5       0.151515   72.0     0.902148\n",
            "6       0.090909    7.0     0.263105\n",
            "7       0.045455   65.0     0.864193\n",
            "8       0.287879   49.0     0.836265\n",
            "9       0.449495   18.0     0.679194\n",
            "10      0.292929   52.0     0.851419\n",
            "11      0.328283   12.0     0.531359\n",
            "12      0.333333   31.0     0.736964\n",
            "13      0.479798   82.0     0.955557\n"
          ]
        },
        {
          "name": "stderr",
          "output_type": "stream",
          "text": [
            "100%|██████████| 1/1 [00:00<00:00, 11.67it/s]\n",
            "INFO:autora.theorist.bms.regressor:BMS fitting finished\n",
            "INFO:autora.theorist.bms.regressor:BMS fitting started\n"
          ]
        },
        {
          "name": "stdout",
          "output_type": "stream",
          "text": [
            "Fitting models on working state...\n",
            "Experiment data\n",
            "    P_asymptotic  trial  performance\n",
            "0       0.429293   64.0     0.916330\n",
            "1       0.343434   16.0     0.593728\n",
            "2       0.141414   25.0     0.594433\n",
            "3       0.378788   48.0     0.852818\n",
            "4       0.257576   67.0     0.900524\n",
            "5       0.409091   29.0     0.752438\n",
            "6       0.363636    1.0     0.382444\n",
            "7       0.479798   80.0     0.952808\n",
            "8       0.464646  100.0     0.973346\n",
            "9       0.500000   95.0     0.971078\n",
            "10      0.030303    1.0     0.058962\n",
            "11      0.010101  100.0     0.950716\n",
            "12      0.005051   99.0     0.948956\n",
            "13      0.005051    1.0     0.034456\n"
          ]
        },
        {
          "name": "stderr",
          "output_type": "stream",
          "text": [
            "100%|██████████| 1/1 [00:00<00:00,  8.20it/s]\n",
            "INFO:autora.theorist.bms.regressor:BMS fitting finished\n",
            "INFO:autora.theorist.bms.regressor:BMS fitting started\n"
          ]
        },
        {
          "name": "stdout",
          "output_type": "stream",
          "text": [
            "Sampling new experiment conditions...\n",
            "Obtaining observations...\n",
            "SIMULATION 0 / DISCOVERY CYCLE 14\n",
            "Fitting models on benchmark state...\n",
            "Experiment data\n",
            "    P_asymptotic  trial  performance\n",
            "0       0.429293   64.0     0.916330\n",
            "1       0.318182   46.0     0.828469\n",
            "2       0.085859   61.0     0.853359\n",
            "3       0.257576   10.0     0.449999\n",
            "4       0.444444   16.0     0.656231\n",
            "5       0.151515   72.0     0.902148\n",
            "6       0.090909    7.0     0.263105\n",
            "7       0.045455   65.0     0.864193\n",
            "8       0.287879   49.0     0.836265\n",
            "9       0.449495   18.0     0.679194\n",
            "10      0.292929   52.0     0.851419\n",
            "11      0.328283   12.0     0.531359\n",
            "12      0.333333   31.0     0.736964\n",
            "13      0.479798   82.0     0.955557\n",
            "14      0.424242    7.0     0.533300\n"
          ]
        },
        {
          "name": "stderr",
          "output_type": "stream",
          "text": [
            "100%|██████████| 1/1 [00:00<00:00, 10.79it/s]\n",
            "INFO:autora.theorist.bms.regressor:BMS fitting finished\n",
            "INFO:autora.theorist.bms.regressor:BMS fitting started\n"
          ]
        },
        {
          "name": "stdout",
          "output_type": "stream",
          "text": [
            "Fitting models on working state...\n",
            "Experiment data\n",
            "    P_asymptotic  trial  performance\n",
            "0       0.429293   64.0     0.916330\n",
            "1       0.343434   16.0     0.593728\n",
            "2       0.141414   25.0     0.594433\n",
            "3       0.378788   48.0     0.852818\n",
            "4       0.257576   67.0     0.900524\n",
            "5       0.409091   29.0     0.752438\n",
            "6       0.363636    1.0     0.382444\n",
            "7       0.479798   80.0     0.952808\n",
            "8       0.464646  100.0     0.973346\n",
            "9       0.500000   95.0     0.971078\n",
            "10      0.030303    1.0     0.058962\n",
            "11      0.010101  100.0     0.950716\n",
            "12      0.005051   99.0     0.948956\n",
            "13      0.005051    1.0     0.034456\n",
            "14      0.010101    2.0     0.067748\n"
          ]
        },
        {
          "name": "stderr",
          "output_type": "stream",
          "text": [
            "100%|██████████| 1/1 [00:00<00:00,  9.25it/s]\n",
            "INFO:autora.theorist.bms.regressor:BMS fitting finished\n",
            "INFO:autora.theorist.bms.regressor:BMS fitting started\n"
          ]
        },
        {
          "name": "stdout",
          "output_type": "stream",
          "text": [
            "Sampling new experiment conditions...\n",
            "Obtaining observations...\n",
            "SIMULATION 0 / DISCOVERY CYCLE 15\n",
            "Fitting models on benchmark state...\n",
            "Experiment data\n",
            "    P_asymptotic  trial  performance\n",
            "0       0.429293   64.0     0.916330\n",
            "1       0.318182   46.0     0.828469\n",
            "2       0.085859   61.0     0.853359\n",
            "3       0.257576   10.0     0.449999\n",
            "4       0.444444   16.0     0.656231\n",
            "5       0.151515   72.0     0.902148\n",
            "6       0.090909    7.0     0.263105\n",
            "7       0.045455   65.0     0.864193\n",
            "8       0.287879   49.0     0.836265\n",
            "9       0.449495   18.0     0.679194\n",
            "10      0.292929   52.0     0.851419\n",
            "11      0.328283   12.0     0.531359\n",
            "12      0.333333   31.0     0.736964\n",
            "13      0.479798   82.0     0.955557\n",
            "14      0.424242    7.0     0.533300\n",
            "15      0.116162   24.0     0.569790\n"
          ]
        },
        {
          "name": "stderr",
          "output_type": "stream",
          "text": [
            "100%|██████████| 1/1 [00:00<00:00,  9.19it/s]\n",
            "INFO:autora.theorist.bms.regressor:BMS fitting finished\n",
            "INFO:autora.theorist.bms.regressor:BMS fitting started\n"
          ]
        },
        {
          "name": "stdout",
          "output_type": "stream",
          "text": [
            "Fitting models on working state...\n",
            "Experiment data\n",
            "    P_asymptotic  trial  performance\n",
            "0       0.429293   64.0     0.916330\n",
            "1       0.343434   16.0     0.593728\n",
            "2       0.141414   25.0     0.594433\n",
            "3       0.378788   48.0     0.852818\n",
            "4       0.257576   67.0     0.900524\n",
            "5       0.409091   29.0     0.752438\n",
            "6       0.363636    1.0     0.382444\n",
            "7       0.479798   80.0     0.952808\n",
            "8       0.464646  100.0     0.973346\n",
            "9       0.500000   95.0     0.971078\n",
            "10      0.030303    1.0     0.058962\n",
            "11      0.010101  100.0     0.950716\n",
            "12      0.005051   99.0     0.948956\n",
            "13      0.005051    1.0     0.034456\n",
            "14      0.010101    2.0     0.067748\n",
            "15      0.000000   98.0     0.947134\n"
          ]
        },
        {
          "name": "stderr",
          "output_type": "stream",
          "text": [
            "100%|██████████| 1/1 [00:00<00:00,  2.94it/s]\n",
            "INFO:autora.theorist.bms.regressor:BMS fitting finished\n",
            "INFO:autora.theorist.bms.regressor:BMS fitting started\n"
          ]
        },
        {
          "name": "stdout",
          "output_type": "stream",
          "text": [
            "Sampling new experiment conditions...\n",
            "Obtaining observations...\n",
            "SIMULATION 0 / DISCOVERY CYCLE 16\n",
            "Fitting models on benchmark state...\n",
            "Experiment data\n",
            "    P_asymptotic  trial  performance\n",
            "0       0.429293   64.0     0.916330\n",
            "1       0.318182   46.0     0.828469\n",
            "2       0.085859   61.0     0.853359\n",
            "3       0.257576   10.0     0.449999\n",
            "4       0.444444   16.0     0.656231\n",
            "5       0.151515   72.0     0.902148\n",
            "6       0.090909    7.0     0.263105\n",
            "7       0.045455   65.0     0.864193\n",
            "8       0.287879   49.0     0.836265\n",
            "9       0.449495   18.0     0.679194\n",
            "10      0.292929   52.0     0.851419\n",
            "11      0.328283   12.0     0.531359\n",
            "12      0.333333   31.0     0.736964\n",
            "13      0.479798   82.0     0.955557\n",
            "14      0.424242    7.0     0.533300\n",
            "15      0.116162   24.0     0.569790\n",
            "16      0.196970   64.0     0.882270\n"
          ]
        },
        {
          "name": "stderr",
          "output_type": "stream",
          "text": [
            "100%|██████████| 1/1 [00:00<00:00, 13.50it/s]\n",
            "INFO:autora.theorist.bms.regressor:BMS fitting finished\n",
            "INFO:autora.theorist.bms.regressor:BMS fitting started\n"
          ]
        },
        {
          "name": "stdout",
          "output_type": "stream",
          "text": [
            "Fitting models on working state...\n",
            "Experiment data\n",
            "    P_asymptotic  trial  performance\n",
            "0       0.429293   64.0     0.916330\n",
            "1       0.343434   16.0     0.593728\n",
            "2       0.141414   25.0     0.594433\n",
            "3       0.378788   48.0     0.852818\n",
            "4       0.257576   67.0     0.900524\n",
            "5       0.409091   29.0     0.752438\n",
            "6       0.363636    1.0     0.382444\n",
            "7       0.479798   80.0     0.952808\n",
            "8       0.464646  100.0     0.973346\n",
            "9       0.500000   95.0     0.971078\n",
            "10      0.030303    1.0     0.058962\n",
            "11      0.010101  100.0     0.950716\n",
            "12      0.005051   99.0     0.948956\n",
            "13      0.005051    1.0     0.034456\n",
            "14      0.010101    2.0     0.067748\n",
            "15      0.000000   98.0     0.947134\n",
            "16      0.489899  100.0     0.974604\n"
          ]
        },
        {
          "name": "stderr",
          "output_type": "stream",
          "text": [
            "100%|██████████| 1/1 [00:00<00:00, 10.54it/s]\n",
            "INFO:autora.theorist.bms.regressor:BMS fitting finished\n",
            "INFO:autora.theorist.bms.regressor:BMS fitting started\n"
          ]
        },
        {
          "name": "stdout",
          "output_type": "stream",
          "text": [
            "Sampling new experiment conditions...\n",
            "Obtaining observations...\n",
            "SIMULATION 0 / DISCOVERY CYCLE 17\n",
            "Fitting models on benchmark state...\n",
            "Experiment data\n",
            "    P_asymptotic  trial  performance\n",
            "0       0.429293   64.0     0.916330\n",
            "1       0.318182   46.0     0.828469\n",
            "2       0.085859   61.0     0.853359\n",
            "3       0.257576   10.0     0.449999\n",
            "4       0.444444   16.0     0.656231\n",
            "5       0.151515   72.0     0.902148\n",
            "6       0.090909    7.0     0.263105\n",
            "7       0.045455   65.0     0.864193\n",
            "8       0.287879   49.0     0.836265\n",
            "9       0.449495   18.0     0.679194\n",
            "10      0.292929   52.0     0.851419\n",
            "11      0.328283   12.0     0.531359\n",
            "12      0.333333   31.0     0.736964\n",
            "13      0.479798   82.0     0.955557\n",
            "14      0.424242    7.0     0.533300\n",
            "15      0.116162   24.0     0.569790\n",
            "16      0.196970   64.0     0.882270\n",
            "17      0.454545    5.0     0.530523\n"
          ]
        },
        {
          "name": "stderr",
          "output_type": "stream",
          "text": [
            "100%|██████████| 1/1 [00:00<00:00, 10.53it/s]\n",
            "INFO:autora.theorist.bms.regressor:BMS fitting finished\n",
            "INFO:autora.theorist.bms.regressor:BMS fitting started\n"
          ]
        },
        {
          "name": "stdout",
          "output_type": "stream",
          "text": [
            "Fitting models on working state...\n",
            "Experiment data\n",
            "    P_asymptotic  trial  performance\n",
            "0       0.429293   64.0     0.916330\n",
            "1       0.343434   16.0     0.593728\n",
            "2       0.141414   25.0     0.594433\n",
            "3       0.378788   48.0     0.852818\n",
            "4       0.257576   67.0     0.900524\n",
            "5       0.409091   29.0     0.752438\n",
            "6       0.363636    1.0     0.382444\n",
            "7       0.479798   80.0     0.952808\n",
            "8       0.464646  100.0     0.973346\n",
            "9       0.500000   95.0     0.971078\n",
            "10      0.030303    1.0     0.058962\n",
            "11      0.010101  100.0     0.950716\n",
            "12      0.005051   99.0     0.948956\n",
            "13      0.005051    1.0     0.034456\n",
            "14      0.010101    2.0     0.067748\n",
            "15      0.000000   98.0     0.947134\n",
            "16      0.489899  100.0     0.974604\n",
            "17      0.010101    2.0     0.067748\n"
          ]
        },
        {
          "name": "stderr",
          "output_type": "stream",
          "text": [
            "100%|██████████| 1/1 [00:00<00:00, 10.96it/s]\n",
            "INFO:autora.theorist.bms.regressor:BMS fitting finished\n",
            "INFO:autora.theorist.bms.regressor:BMS fitting started\n"
          ]
        },
        {
          "name": "stdout",
          "output_type": "stream",
          "text": [
            "Sampling new experiment conditions...\n",
            "Obtaining observations...\n",
            "SIMULATION 0 / DISCOVERY CYCLE 18\n",
            "Fitting models on benchmark state...\n",
            "Experiment data\n",
            "    P_asymptotic  trial  performance\n",
            "0       0.429293   64.0     0.916330\n",
            "1       0.318182   46.0     0.828469\n",
            "2       0.085859   61.0     0.853359\n",
            "3       0.257576   10.0     0.449999\n",
            "4       0.444444   16.0     0.656231\n",
            "5       0.151515   72.0     0.902148\n",
            "6       0.090909    7.0     0.263105\n",
            "7       0.045455   65.0     0.864193\n",
            "8       0.287879   49.0     0.836265\n",
            "9       0.449495   18.0     0.679194\n",
            "10      0.292929   52.0     0.851419\n",
            "11      0.328283   12.0     0.531359\n",
            "12      0.333333   31.0     0.736964\n",
            "13      0.479798   82.0     0.955557\n",
            "14      0.424242    7.0     0.533300\n",
            "15      0.116162   24.0     0.569790\n",
            "16      0.196970   64.0     0.882270\n",
            "17      0.454545    5.0     0.530523\n",
            "18      0.141414   48.0     0.796577\n"
          ]
        },
        {
          "name": "stderr",
          "output_type": "stream",
          "text": [
            "100%|██████████| 1/1 [00:00<00:00, 11.97it/s]\n",
            "INFO:autora.theorist.bms.regressor:BMS fitting finished\n",
            "INFO:autora.theorist.bms.regressor:BMS fitting started\n"
          ]
        },
        {
          "name": "stdout",
          "output_type": "stream",
          "text": [
            "Fitting models on working state...\n",
            "Experiment data\n",
            "    P_asymptotic  trial  performance\n",
            "0       0.429293   64.0     0.916330\n",
            "1       0.343434   16.0     0.593728\n",
            "2       0.141414   25.0     0.594433\n",
            "3       0.378788   48.0     0.852818\n",
            "4       0.257576   67.0     0.900524\n",
            "5       0.409091   29.0     0.752438\n",
            "6       0.363636    1.0     0.382444\n",
            "7       0.479798   80.0     0.952808\n",
            "8       0.464646  100.0     0.973346\n",
            "9       0.500000   95.0     0.971078\n",
            "10      0.030303    1.0     0.058962\n",
            "11      0.010101  100.0     0.950716\n",
            "12      0.005051   99.0     0.948956\n",
            "13      0.005051    1.0     0.034456\n",
            "14      0.010101    2.0     0.067748\n",
            "15      0.000000   98.0     0.947134\n",
            "16      0.489899  100.0     0.974604\n",
            "17      0.010101    2.0     0.067748\n",
            "18      0.000000   99.0     0.948697\n"
          ]
        },
        {
          "name": "stderr",
          "output_type": "stream",
          "text": [
            "100%|██████████| 1/1 [00:00<00:00, 11.63it/s]\n",
            "INFO:autora.theorist.bms.regressor:BMS fitting finished\n",
            "INFO:autora.theorist.bms.regressor:BMS fitting started\n"
          ]
        },
        {
          "name": "stdout",
          "output_type": "stream",
          "text": [
            "Sampling new experiment conditions...\n",
            "Obtaining observations...\n",
            "SIMULATION 0 / DISCOVERY CYCLE 19\n",
            "Fitting models on benchmark state...\n",
            "Experiment data\n",
            "    P_asymptotic  trial  performance\n",
            "0       0.429293   64.0     0.916330\n",
            "1       0.318182   46.0     0.828469\n",
            "2       0.085859   61.0     0.853359\n",
            "3       0.257576   10.0     0.449999\n",
            "4       0.444444   16.0     0.656231\n",
            "5       0.151515   72.0     0.902148\n",
            "6       0.090909    7.0     0.263105\n",
            "7       0.045455   65.0     0.864193\n",
            "8       0.287879   49.0     0.836265\n",
            "9       0.449495   18.0     0.679194\n",
            "10      0.292929   52.0     0.851419\n",
            "11      0.328283   12.0     0.531359\n",
            "12      0.333333   31.0     0.736964\n",
            "13      0.479798   82.0     0.955557\n",
            "14      0.424242    7.0     0.533300\n",
            "15      0.116162   24.0     0.569790\n",
            "16      0.196970   64.0     0.882270\n",
            "17      0.454545    5.0     0.530523\n",
            "18      0.141414   48.0     0.796577\n",
            "19      0.005051   67.0     0.866688\n"
          ]
        },
        {
          "name": "stderr",
          "output_type": "stream",
          "text": [
            "100%|██████████| 1/1 [00:00<00:00,  9.02it/s]\n",
            "INFO:autora.theorist.bms.regressor:BMS fitting finished\n",
            "INFO:autora.theorist.bms.regressor:BMS fitting started\n"
          ]
        },
        {
          "name": "stdout",
          "output_type": "stream",
          "text": [
            "Fitting models on working state...\n",
            "Experiment data\n",
            "    P_asymptotic  trial  performance\n",
            "0       0.429293   64.0     0.916330\n",
            "1       0.343434   16.0     0.593728\n",
            "2       0.141414   25.0     0.594433\n",
            "3       0.378788   48.0     0.852818\n",
            "4       0.257576   67.0     0.900524\n",
            "5       0.409091   29.0     0.752438\n",
            "6       0.363636    1.0     0.382444\n",
            "7       0.479798   80.0     0.952808\n",
            "8       0.464646  100.0     0.973346\n",
            "9       0.500000   95.0     0.971078\n",
            "10      0.030303    1.0     0.058962\n",
            "11      0.010101  100.0     0.950716\n",
            "12      0.005051   99.0     0.948956\n",
            "13      0.005051    1.0     0.034456\n",
            "14      0.010101    2.0     0.067748\n",
            "15      0.000000   98.0     0.947134\n",
            "16      0.489899  100.0     0.974604\n",
            "17      0.010101    2.0     0.067748\n",
            "18      0.000000   99.0     0.948697\n",
            "19      0.005051   99.0     0.948956\n"
          ]
        },
        {
          "name": "stderr",
          "output_type": "stream",
          "text": [
            "100%|██████████| 1/1 [00:00<00:00, 10.94it/s]\n",
            "INFO:autora.theorist.bms.regressor:BMS fitting finished\n",
            "INFO:autora.theorist.bms.regressor:BMS fitting started\n"
          ]
        },
        {
          "name": "stdout",
          "output_type": "stream",
          "text": [
            "Sampling new experiment conditions...\n",
            "Obtaining observations...\n",
            "SIMULATION 1 / DISCOVERY CYCLE 0\n",
            "Fitting models on benchmark state...\n",
            "Experiment data\n",
            "   P_asymptotic  trial  performance\n",
            "0      0.237374   52.0     0.839745\n"
          ]
        },
        {
          "name": "stderr",
          "output_type": "stream",
          "text": [
            "100%|██████████| 1/1 [00:00<00:00, 11.81it/s]\n",
            "INFO:autora.theorist.bms.regressor:BMS fitting finished\n",
            "INFO:autora.theorist.bms.regressor:BMS fitting started\n"
          ]
        },
        {
          "name": "stdout",
          "output_type": "stream",
          "text": [
            "Fitting models on working state...\n",
            "Experiment data\n",
            "   P_asymptotic  trial  performance\n",
            "0      0.237374   52.0     0.839745\n"
          ]
        },
        {
          "name": "stderr",
          "output_type": "stream",
          "text": [
            "100%|██████████| 1/1 [00:00<00:00,  7.69it/s]\n",
            "INFO:autora.theorist.bms.regressor:BMS fitting finished\n",
            "INFO:autora.theorist.bms.regressor:BMS fitting started\n"
          ]
        },
        {
          "name": "stdout",
          "output_type": "stream",
          "text": [
            "Sampling new experiment conditions...\n",
            "Obtaining observations...\n",
            "SIMULATION 1 / DISCOVERY CYCLE 1\n",
            "Fitting models on benchmark state...\n",
            "Experiment data\n",
            "   P_asymptotic  trial  performance\n",
            "0      0.237374   52.0     0.839745\n",
            "1      0.222222   18.0     0.546751\n"
          ]
        },
        {
          "name": "stderr",
          "output_type": "stream",
          "text": [
            "100%|██████████| 1/1 [00:00<00:00, 10.25it/s]\n",
            "INFO:autora.theorist.bms.regressor:BMS fitting finished\n",
            "INFO:autora.theorist.bms.regressor:BMS fitting started\n"
          ]
        },
        {
          "name": "stdout",
          "output_type": "stream",
          "text": [
            "Fitting models on working state...\n",
            "Experiment data\n",
            "   P_asymptotic  trial  performance\n",
            "0      0.237374   52.0     0.839745\n",
            "1      0.494949   88.0     0.963959\n"
          ]
        },
        {
          "name": "stderr",
          "output_type": "stream",
          "text": [
            "100%|██████████| 1/1 [00:00<00:00,  9.59it/s]\n",
            "INFO:autora.theorist.bms.regressor:BMS fitting finished\n",
            "INFO:autora.theorist.bms.regressor:BMS fitting started\n"
          ]
        },
        {
          "name": "stdout",
          "output_type": "stream",
          "text": [
            "Sampling new experiment conditions...\n",
            "Obtaining observations...\n",
            "SIMULATION 1 / DISCOVERY CYCLE 2\n",
            "Fitting models on benchmark state...\n",
            "Experiment data\n",
            "   P_asymptotic  trial  performance\n",
            "0      0.237374   52.0     0.839745\n",
            "1      0.222222   18.0     0.546751\n",
            "2      0.121212   58.0     0.845755\n"
          ]
        },
        {
          "name": "stderr",
          "output_type": "stream",
          "text": [
            "100%|██████████| 1/1 [00:00<00:00,  9.80it/s]\n",
            "INFO:autora.theorist.bms.regressor:BMS fitting finished\n",
            "INFO:autora.theorist.bms.regressor:BMS fitting started\n"
          ]
        },
        {
          "name": "stdout",
          "output_type": "stream",
          "text": [
            "Fitting models on working state...\n",
            "Experiment data\n",
            "   P_asymptotic  trial  performance\n",
            "0      0.237374   52.0     0.839745\n",
            "1      0.494949   88.0     0.963959\n",
            "2      0.328283   62.0     0.895432\n"
          ]
        },
        {
          "name": "stderr",
          "output_type": "stream",
          "text": [
            "100%|██████████| 1/1 [00:00<00:00, 14.27it/s]\n",
            "INFO:autora.theorist.bms.regressor:BMS fitting finished\n"
          ]
        },
        {
          "name": "stdout",
          "output_type": "stream",
          "text": [
            "Sampling new experiment conditions...\n",
            "Obtaining observations...\n",
            "SIMULATION 1 / DISCOVERY CYCLE 3\n",
            "Fitting models on benchmark state...\n",
            "Experiment data\n",
            "   P_asymptotic  trial  performance\n",
            "0      0.237374   52.0     0.839745\n",
            "1      0.222222   18.0     0.546751\n",
            "2      0.121212   58.0     0.845755\n",
            "3      0.111111   97.0     0.951577\n"
          ]
        },
        {
          "name": "stderr",
          "output_type": "stream",
          "text": [
            "INFO:autora.theorist.bms.regressor:BMS fitting started\n",
            "100%|██████████| 1/1 [00:00<00:00, 10.12it/s]\n",
            "INFO:autora.theorist.bms.regressor:BMS fitting finished\n",
            "INFO:autora.theorist.bms.regressor:BMS fitting started\n"
          ]
        },
        {
          "name": "stdout",
          "output_type": "stream",
          "text": [
            "Fitting models on working state...\n",
            "Experiment data\n",
            "   P_asymptotic  trial  performance\n",
            "0      0.237374   52.0     0.839745\n",
            "1      0.494949   88.0     0.963959\n",
            "2      0.328283   62.0     0.895432\n",
            "3      0.348485   76.0     0.933360\n"
          ]
        },
        {
          "name": "stderr",
          "output_type": "stream",
          "text": [
            "100%|██████████| 1/1 [00:00<00:00, 12.37it/s]\n",
            "INFO:autora.theorist.bms.regressor:BMS fitting finished\n"
          ]
        },
        {
          "name": "stdout",
          "output_type": "stream",
          "text": [
            "Sampling new experiment conditions...\n",
            "Obtaining observations...\n",
            "SIMULATION 1 / DISCOVERY CYCLE 4\n",
            "Fitting models on benchmark state...\n",
            "Experiment data\n",
            "   P_asymptotic  trial  performance\n",
            "0      0.237374   52.0     0.839745\n",
            "1      0.222222   18.0     0.546751\n",
            "2      0.121212   58.0     0.845755\n",
            "3      0.111111   97.0     0.951577\n",
            "4      0.449495   67.0     0.926239\n"
          ]
        },
        {
          "name": "stderr",
          "output_type": "stream",
          "text": [
            "INFO:autora.theorist.bms.regressor:BMS fitting started\n",
            "100%|██████████| 1/1 [00:00<00:00,  7.43it/s]\n",
            "INFO:autora.theorist.bms.regressor:BMS fitting finished\n",
            "INFO:autora.theorist.bms.regressor:BMS fitting started\n"
          ]
        },
        {
          "name": "stdout",
          "output_type": "stream",
          "text": [
            "Fitting models on working state...\n",
            "Experiment data\n",
            "   P_asymptotic  trial  performance\n",
            "0      0.237374   52.0     0.839745\n",
            "1      0.494949   88.0     0.963959\n",
            "2      0.328283   62.0     0.895432\n",
            "3      0.348485   76.0     0.933360\n",
            "4      0.338384   90.0     0.955536\n"
          ]
        },
        {
          "name": "stderr",
          "output_type": "stream",
          "text": [
            "100%|██████████| 1/1 [00:00<00:00, 12.07it/s]\n",
            "INFO:autora.theorist.bms.regressor:BMS fitting finished\n",
            "INFO:autora.theorist.bms.regressor:BMS fitting started\n"
          ]
        },
        {
          "name": "stdout",
          "output_type": "stream",
          "text": [
            "Sampling new experiment conditions...\n",
            "Obtaining observations...\n",
            "SIMULATION 1 / DISCOVERY CYCLE 5\n",
            "Fitting models on benchmark state...\n",
            "Experiment data\n",
            "   P_asymptotic  trial  performance\n",
            "0      0.237374   52.0     0.839745\n",
            "1      0.222222   18.0     0.546751\n",
            "2      0.121212   58.0     0.845755\n",
            "3      0.111111   97.0     0.951577\n",
            "4      0.449495   67.0     0.926239\n",
            "5      0.277778   27.0     0.678714\n"
          ]
        },
        {
          "name": "stderr",
          "output_type": "stream",
          "text": [
            "100%|██████████| 1/1 [00:00<00:00, 12.38it/s]\n",
            "INFO:autora.theorist.bms.regressor:BMS fitting finished\n",
            "INFO:autora.theorist.bms.regressor:BMS fitting started\n"
          ]
        },
        {
          "name": "stdout",
          "output_type": "stream",
          "text": [
            "Fitting models on working state...\n",
            "Experiment data\n",
            "   P_asymptotic  trial  performance\n",
            "0      0.237374   52.0     0.839745\n",
            "1      0.494949   88.0     0.963959\n",
            "2      0.328283   62.0     0.895432\n",
            "3      0.348485   76.0     0.933360\n",
            "4      0.338384   90.0     0.955536\n",
            "5      0.247475   33.0     0.720379\n"
          ]
        },
        {
          "name": "stderr",
          "output_type": "stream",
          "text": [
            "100%|██████████| 1/1 [00:00<00:00,  8.55it/s]\n",
            "INFO:autora.theorist.bms.regressor:BMS fitting finished\n"
          ]
        },
        {
          "name": "stdout",
          "output_type": "stream",
          "text": [
            "Sampling new experiment conditions...\n",
            "Obtaining observations...\n",
            "SIMULATION 1 / DISCOVERY CYCLE 6\n",
            "Fitting models on benchmark state...\n",
            "Experiment data\n",
            "   P_asymptotic  trial  performance\n",
            "0      0.237374   52.0     0.839745\n",
            "1      0.222222   18.0     0.546751\n",
            "2      0.121212   58.0     0.845755\n",
            "3      0.111111   97.0     0.951577\n",
            "4      0.449495   67.0     0.926239\n",
            "5      0.277778   27.0     0.678714\n",
            "6      0.186869   45.0     0.789204\n"
          ]
        },
        {
          "name": "stderr",
          "output_type": "stream",
          "text": [
            "INFO:autora.theorist.bms.regressor:BMS fitting started\n",
            "100%|██████████| 1/1 [00:00<00:00, 10.73it/s]\n",
            "INFO:autora.theorist.bms.regressor:BMS fitting finished\n",
            "INFO:autora.theorist.bms.regressor:BMS fitting started\n"
          ]
        },
        {
          "name": "stdout",
          "output_type": "stream",
          "text": [
            "Fitting models on working state...\n",
            "Experiment data\n",
            "   P_asymptotic  trial  performance\n",
            "0      0.237374   52.0     0.839745\n",
            "1      0.494949   88.0     0.963959\n",
            "2      0.328283   62.0     0.895432\n",
            "3      0.348485   76.0     0.933360\n",
            "4      0.338384   90.0     0.955536\n",
            "5      0.247475   33.0     0.720379\n",
            "6      0.409091   11.0     0.575181\n"
          ]
        },
        {
          "name": "stderr",
          "output_type": "stream",
          "text": [
            "100%|██████████| 1/1 [00:00<00:00, 11.08it/s]\n",
            "INFO:autora.theorist.bms.regressor:BMS fitting finished\n",
            "INFO:autora.theorist.bms.regressor:BMS fitting started\n"
          ]
        },
        {
          "name": "stdout",
          "output_type": "stream",
          "text": [
            "Sampling new experiment conditions...\n",
            "Obtaining observations...\n",
            "SIMULATION 1 / DISCOVERY CYCLE 7\n",
            "Fitting models on benchmark state...\n",
            "Experiment data\n",
            "   P_asymptotic  trial  performance\n",
            "0      0.237374   52.0     0.839745\n",
            "1      0.222222   18.0     0.546751\n",
            "2      0.121212   58.0     0.845755\n",
            "3      0.111111   97.0     0.951577\n",
            "4      0.449495   67.0     0.926239\n",
            "5      0.277778   27.0     0.678714\n",
            "6      0.186869   45.0     0.789204\n",
            "7      0.469697   42.0     0.849577\n"
          ]
        },
        {
          "name": "stderr",
          "output_type": "stream",
          "text": [
            "100%|██████████| 1/1 [00:00<00:00, 11.01it/s]\n",
            "INFO:autora.theorist.bms.regressor:BMS fitting finished\n",
            "INFO:autora.theorist.bms.regressor:BMS fitting started\n"
          ]
        },
        {
          "name": "stdout",
          "output_type": "stream",
          "text": [
            "Fitting models on working state...\n",
            "Experiment data\n",
            "   P_asymptotic  trial  performance\n",
            "0      0.237374   52.0     0.839745\n",
            "1      0.494949   88.0     0.963959\n",
            "2      0.328283   62.0     0.895432\n",
            "3      0.348485   76.0     0.933360\n",
            "4      0.338384   90.0     0.955536\n",
            "5      0.247475   33.0     0.720379\n",
            "6      0.409091   11.0     0.575181\n",
            "7      0.358586   19.0     0.637264\n"
          ]
        },
        {
          "name": "stderr",
          "output_type": "stream",
          "text": [
            "100%|██████████| 1/1 [00:00<00:00, 14.45it/s]\n",
            "INFO:autora.theorist.bms.regressor:BMS fitting finished\n"
          ]
        },
        {
          "name": "stdout",
          "output_type": "stream",
          "text": [
            "Sampling new experiment conditions...\n",
            "Obtaining observations...\n",
            "SIMULATION 1 / DISCOVERY CYCLE 8\n",
            "Fitting models on benchmark state...\n",
            "Experiment data\n",
            "   P_asymptotic  trial  performance\n",
            "0      0.237374   52.0     0.839745\n",
            "1      0.222222   18.0     0.546751\n",
            "2      0.121212   58.0     0.845755\n",
            "3      0.111111   97.0     0.951577\n",
            "4      0.449495   67.0     0.926239\n",
            "5      0.277778   27.0     0.678714\n",
            "6      0.186869   45.0     0.789204\n",
            "7      0.469697   42.0     0.849577\n",
            "8      0.348485   65.0     0.907306\n"
          ]
        },
        {
          "name": "stderr",
          "output_type": "stream",
          "text": [
            "INFO:autora.theorist.bms.regressor:BMS fitting started\n",
            "100%|██████████| 1/1 [00:00<00:00,  9.10it/s]\n",
            "INFO:autora.theorist.bms.regressor:BMS fitting finished\n",
            "INFO:autora.theorist.bms.regressor:BMS fitting started\n"
          ]
        },
        {
          "name": "stdout",
          "output_type": "stream",
          "text": [
            "Fitting models on working state...\n",
            "Experiment data\n",
            "   P_asymptotic  trial  performance\n",
            "0      0.237374   52.0     0.839745\n",
            "1      0.494949   88.0     0.963959\n",
            "2      0.328283   62.0     0.895432\n",
            "3      0.348485   76.0     0.933360\n",
            "4      0.338384   90.0     0.955536\n",
            "5      0.247475   33.0     0.720379\n",
            "6      0.409091   11.0     0.575181\n",
            "7      0.358586   19.0     0.637264\n",
            "8      0.000000   99.0     0.948697\n"
          ]
        },
        {
          "name": "stderr",
          "output_type": "stream",
          "text": [
            "100%|██████████| 1/1 [00:00<00:00, 12.00it/s]\n",
            "INFO:autora.theorist.bms.regressor:BMS fitting finished\n",
            "INFO:autora.theorist.bms.regressor:BMS fitting started\n"
          ]
        },
        {
          "name": "stdout",
          "output_type": "stream",
          "text": [
            "Sampling new experiment conditions...\n",
            "Obtaining observations...\n",
            "SIMULATION 1 / DISCOVERY CYCLE 9\n",
            "Fitting models on benchmark state...\n",
            "Experiment data\n",
            "   P_asymptotic  trial  performance\n",
            "0      0.237374   52.0     0.839745\n",
            "1      0.222222   18.0     0.546751\n",
            "2      0.121212   58.0     0.845755\n",
            "3      0.111111   97.0     0.951577\n",
            "4      0.449495   67.0     0.926239\n",
            "5      0.277778   27.0     0.678714\n",
            "6      0.186869   45.0     0.789204\n",
            "7      0.469697   42.0     0.849577\n",
            "8      0.348485   65.0     0.907306\n",
            "9      0.212121   87.0     0.942064\n"
          ]
        },
        {
          "name": "stderr",
          "output_type": "stream",
          "text": [
            "100%|██████████| 1/1 [00:00<00:00, 12.40it/s]\n",
            "INFO:autora.theorist.bms.regressor:BMS fitting finished\n",
            "INFO:autora.theorist.bms.regressor:BMS fitting started\n"
          ]
        },
        {
          "name": "stdout",
          "output_type": "stream",
          "text": [
            "Fitting models on working state...\n",
            "Experiment data\n",
            "   P_asymptotic  trial  performance\n",
            "0      0.237374   52.0     0.839745\n",
            "1      0.494949   88.0     0.963959\n",
            "2      0.328283   62.0     0.895432\n",
            "3      0.348485   76.0     0.933360\n",
            "4      0.338384   90.0     0.955536\n",
            "5      0.247475   33.0     0.720379\n",
            "6      0.409091   11.0     0.575181\n",
            "7      0.358586   19.0     0.637264\n",
            "8      0.000000   99.0     0.948697\n",
            "9      0.035354    1.0     0.063863\n"
          ]
        },
        {
          "name": "stderr",
          "output_type": "stream",
          "text": [
            "100%|██████████| 1/1 [00:00<00:00, 11.39it/s]\n",
            "INFO:autora.theorist.bms.regressor:BMS fitting finished\n",
            "INFO:autora.theorist.bms.regressor:BMS fitting started\n"
          ]
        },
        {
          "name": "stdout",
          "output_type": "stream",
          "text": [
            "Sampling new experiment conditions...\n",
            "Obtaining observations...\n",
            "SIMULATION 1 / DISCOVERY CYCLE 10\n",
            "Fitting models on benchmark state...\n",
            "Experiment data\n",
            "    P_asymptotic  trial  performance\n",
            "0       0.237374   52.0     0.839745\n",
            "1       0.222222   18.0     0.546751\n",
            "2       0.121212   58.0     0.845755\n",
            "3       0.111111   97.0     0.951577\n",
            "4       0.449495   67.0     0.926239\n",
            "5       0.277778   27.0     0.678714\n",
            "6       0.186869   45.0     0.789204\n",
            "7       0.469697   42.0     0.849577\n",
            "8       0.348485   65.0     0.907306\n",
            "9       0.212121   87.0     0.942064\n",
            "10      0.257576   55.0     0.857417\n"
          ]
        },
        {
          "name": "stderr",
          "output_type": "stream",
          "text": [
            "100%|██████████| 1/1 [00:00<00:00, 11.46it/s]\n",
            "INFO:autora.theorist.bms.regressor:BMS fitting finished\n",
            "INFO:autora.theorist.bms.regressor:BMS fitting started\n"
          ]
        },
        {
          "name": "stdout",
          "output_type": "stream",
          "text": [
            "Fitting models on working state...\n",
            "Experiment data\n",
            "    P_asymptotic  trial  performance\n",
            "0       0.237374   52.0     0.839745\n",
            "1       0.494949   88.0     0.963959\n",
            "2       0.328283   62.0     0.895432\n",
            "3       0.348485   76.0     0.933360\n",
            "4       0.338384   90.0     0.955536\n",
            "5       0.247475   33.0     0.720379\n",
            "6       0.409091   11.0     0.575181\n",
            "7       0.358586   19.0     0.637264\n",
            "8       0.000000   99.0     0.948697\n",
            "9       0.035354    1.0     0.063863\n",
            "10      0.010101   99.0     0.949215\n"
          ]
        },
        {
          "name": "stderr",
          "output_type": "stream",
          "text": [
            "100%|██████████| 1/1 [00:00<00:00, 11.58it/s]\n",
            "INFO:autora.theorist.bms.regressor:BMS fitting finished\n"
          ]
        },
        {
          "name": "stdout",
          "output_type": "stream",
          "text": [
            "Sampling new experiment conditions...\n"
          ]
        },
        {
          "name": "stderr",
          "output_type": "stream",
          "text": [
            "INFO:autora.theorist.bms.regressor:BMS fitting started\n"
          ]
        },
        {
          "name": "stdout",
          "output_type": "stream",
          "text": [
            "Obtaining observations...\n",
            "SIMULATION 1 / DISCOVERY CYCLE 11\n",
            "Fitting models on benchmark state...\n",
            "Experiment data\n",
            "    P_asymptotic  trial  performance\n",
            "0       0.237374   52.0     0.839745\n",
            "1       0.222222   18.0     0.546751\n",
            "2       0.121212   58.0     0.845755\n",
            "3       0.111111   97.0     0.951577\n",
            "4       0.449495   67.0     0.926239\n",
            "5       0.277778   27.0     0.678714\n",
            "6       0.186869   45.0     0.789204\n",
            "7       0.469697   42.0     0.849577\n",
            "8       0.348485   65.0     0.907306\n",
            "9       0.212121   87.0     0.942064\n",
            "10      0.257576   55.0     0.857417\n",
            "11      0.318182   48.0     0.838458\n"
          ]
        },
        {
          "name": "stderr",
          "output_type": "stream",
          "text": [
            "100%|██████████| 1/1 [00:00<00:00,  9.61it/s]\n",
            "INFO:autora.theorist.bms.regressor:BMS fitting finished\n",
            "INFO:autora.theorist.bms.regressor:BMS fitting started\n"
          ]
        },
        {
          "name": "stdout",
          "output_type": "stream",
          "text": [
            "Fitting models on working state...\n",
            "Experiment data\n",
            "    P_asymptotic  trial  performance\n",
            "0       0.237374   52.0     0.839745\n",
            "1       0.494949   88.0     0.963959\n",
            "2       0.328283   62.0     0.895432\n",
            "3       0.348485   76.0     0.933360\n",
            "4       0.338384   90.0     0.955536\n",
            "5       0.247475   33.0     0.720379\n",
            "6       0.409091   11.0     0.575181\n",
            "7       0.358586   19.0     0.637264\n",
            "8       0.000000   99.0     0.948697\n",
            "9       0.035354    1.0     0.063863\n",
            "10      0.010101   99.0     0.949215\n",
            "11      0.000000    1.0     0.029554\n"
          ]
        },
        {
          "name": "stderr",
          "output_type": "stream",
          "text": [
            "100%|██████████| 1/1 [00:00<00:00,  8.36it/s]\n",
            "INFO:autora.theorist.bms.regressor:BMS fitting finished\n",
            "INFO:autora.theorist.bms.regressor:BMS fitting started\n"
          ]
        },
        {
          "name": "stdout",
          "output_type": "stream",
          "text": [
            "Sampling new experiment conditions...\n",
            "Obtaining observations...\n",
            "SIMULATION 1 / DISCOVERY CYCLE 12\n",
            "Fitting models on benchmark state...\n",
            "Experiment data\n",
            "    P_asymptotic  trial  performance\n",
            "0       0.237374   52.0     0.839745\n",
            "1       0.222222   18.0     0.546751\n",
            "2       0.121212   58.0     0.845755\n",
            "3       0.111111   97.0     0.951577\n",
            "4       0.449495   67.0     0.926239\n",
            "5       0.277778   27.0     0.678714\n",
            "6       0.186869   45.0     0.789204\n",
            "7       0.469697   42.0     0.849577\n",
            "8       0.348485   65.0     0.907306\n",
            "9       0.212121   87.0     0.942064\n",
            "10      0.257576   55.0     0.857417\n",
            "11      0.318182   48.0     0.838458\n",
            "12      0.070707   41.0     0.728375\n"
          ]
        },
        {
          "name": "stderr",
          "output_type": "stream",
          "text": [
            "100%|██████████| 1/1 [00:00<00:00,  9.67it/s]\n",
            "INFO:autora.theorist.bms.regressor:BMS fitting finished\n",
            "INFO:autora.theorist.bms.regressor:BMS fitting started\n"
          ]
        },
        {
          "name": "stdout",
          "output_type": "stream",
          "text": [
            "Fitting models on working state...\n",
            "Experiment data\n",
            "    P_asymptotic  trial  performance\n",
            "0       0.237374   52.0     0.839745\n",
            "1       0.494949   88.0     0.963959\n",
            "2       0.328283   62.0     0.895432\n",
            "3       0.348485   76.0     0.933360\n",
            "4       0.338384   90.0     0.955536\n",
            "5       0.247475   33.0     0.720379\n",
            "6       0.409091   11.0     0.575181\n",
            "7       0.358586   19.0     0.637264\n",
            "8       0.000000   99.0     0.948697\n",
            "9       0.035354    1.0     0.063863\n",
            "10      0.010101   99.0     0.949215\n",
            "11      0.000000    1.0     0.029554\n",
            "12      0.010101    1.0     0.039357\n"
          ]
        },
        {
          "name": "stderr",
          "output_type": "stream",
          "text": [
            "100%|██████████| 1/1 [00:00<00:00, 13.14it/s]\n",
            "INFO:autora.theorist.bms.regressor:BMS fitting finished\n"
          ]
        },
        {
          "name": "stdout",
          "output_type": "stream",
          "text": [
            "Sampling new experiment conditions...\n",
            "Obtaining observations...\n",
            "SIMULATION 1 / DISCOVERY CYCLE 13\n",
            "Fitting models on benchmark state...\n",
            "Experiment data\n",
            "    P_asymptotic  trial  performance\n",
            "0       0.237374   52.0     0.839745\n",
            "1       0.222222   18.0     0.546751\n",
            "2       0.121212   58.0     0.845755\n",
            "3       0.111111   97.0     0.951577\n",
            "4       0.449495   67.0     0.926239\n",
            "5       0.277778   27.0     0.678714\n",
            "6       0.186869   45.0     0.789204\n",
            "7       0.469697   42.0     0.849577\n",
            "8       0.348485   65.0     0.907306\n",
            "9       0.212121   87.0     0.942064\n",
            "10      0.257576   55.0     0.857417\n",
            "11      0.318182   48.0     0.838458\n",
            "12      0.070707   41.0     0.728375\n",
            "13      0.484848   32.0     0.802752\n"
          ]
        },
        {
          "name": "stderr",
          "output_type": "stream",
          "text": [
            "INFO:autora.theorist.bms.regressor:BMS fitting started\n",
            "100%|██████████| 1/1 [00:00<00:00, 11.61it/s]\n",
            "INFO:autora.theorist.bms.regressor:BMS fitting finished\n",
            "INFO:autora.theorist.bms.regressor:BMS fitting started\n"
          ]
        },
        {
          "name": "stdout",
          "output_type": "stream",
          "text": [
            "Fitting models on working state...\n",
            "Experiment data\n",
            "    P_asymptotic  trial  performance\n",
            "0       0.237374   52.0     0.839745\n",
            "1       0.494949   88.0     0.963959\n",
            "2       0.328283   62.0     0.895432\n",
            "3       0.348485   76.0     0.933360\n",
            "4       0.338384   90.0     0.955536\n",
            "5       0.247475   33.0     0.720379\n",
            "6       0.409091   11.0     0.575181\n",
            "7       0.358586   19.0     0.637264\n",
            "8       0.000000   99.0     0.948697\n",
            "9       0.035354    1.0     0.063863\n",
            "10      0.010101   99.0     0.949215\n",
            "11      0.000000    1.0     0.029554\n",
            "12      0.010101    1.0     0.039357\n",
            "13      0.005051  100.0     0.950464\n"
          ]
        },
        {
          "name": "stderr",
          "output_type": "stream",
          "text": [
            "100%|██████████| 1/1 [00:00<00:00,  8.91it/s]\n",
            "INFO:autora.theorist.bms.regressor:BMS fitting finished\n",
            "INFO:autora.theorist.bms.regressor:BMS fitting started\n"
          ]
        },
        {
          "name": "stdout",
          "output_type": "stream",
          "text": [
            "Sampling new experiment conditions...\n",
            "Obtaining observations...\n",
            "SIMULATION 1 / DISCOVERY CYCLE 14\n",
            "Fitting models on benchmark state...\n",
            "Experiment data\n",
            "    P_asymptotic  trial  performance\n",
            "0       0.237374   52.0     0.839745\n",
            "1       0.222222   18.0     0.546751\n",
            "2       0.121212   58.0     0.845755\n",
            "3       0.111111   97.0     0.951577\n",
            "4       0.449495   67.0     0.926239\n",
            "5       0.277778   27.0     0.678714\n",
            "6       0.186869   45.0     0.789204\n",
            "7       0.469697   42.0     0.849577\n",
            "8       0.348485   65.0     0.907306\n",
            "9       0.212121   87.0     0.942064\n",
            "10      0.257576   55.0     0.857417\n",
            "11      0.318182   48.0     0.838458\n",
            "12      0.070707   41.0     0.728375\n",
            "13      0.484848   32.0     0.802752\n",
            "14      0.010101   85.0     0.922707\n"
          ]
        },
        {
          "name": "stderr",
          "output_type": "stream",
          "text": [
            "100%|██████████| 1/1 [00:00<00:00,  9.43it/s]\n",
            "INFO:autora.theorist.bms.regressor:BMS fitting finished\n",
            "INFO:autora.theorist.bms.regressor:BMS fitting started\n"
          ]
        },
        {
          "name": "stdout",
          "output_type": "stream",
          "text": [
            "Fitting models on working state...\n",
            "Experiment data\n",
            "    P_asymptotic  trial  performance\n",
            "0       0.237374   52.0     0.839745\n",
            "1       0.494949   88.0     0.963959\n",
            "2       0.328283   62.0     0.895432\n",
            "3       0.348485   76.0     0.933360\n",
            "4       0.338384   90.0     0.955536\n",
            "5       0.247475   33.0     0.720379\n",
            "6       0.409091   11.0     0.575181\n",
            "7       0.358586   19.0     0.637264\n",
            "8       0.000000   99.0     0.948697\n",
            "9       0.035354    1.0     0.063863\n",
            "10      0.010101   99.0     0.949215\n",
            "11      0.000000    1.0     0.029554\n",
            "12      0.010101    1.0     0.039357\n",
            "13      0.005051  100.0     0.950464\n",
            "14      0.000000   99.0     0.948697\n"
          ]
        },
        {
          "name": "stderr",
          "output_type": "stream",
          "text": [
            "100%|██████████| 1/1 [00:00<00:00,  2.83it/s]\n",
            "INFO:autora.theorist.bms.regressor:BMS fitting finished\n",
            "INFO:autora.theorist.bms.regressor:BMS fitting started\n"
          ]
        },
        {
          "name": "stdout",
          "output_type": "stream",
          "text": [
            "Sampling new experiment conditions...\n",
            "Obtaining observations...\n",
            "SIMULATION 1 / DISCOVERY CYCLE 15\n",
            "Fitting models on benchmark state...\n",
            "Experiment data\n",
            "    P_asymptotic  trial  performance\n",
            "0       0.237374   52.0     0.839745\n",
            "1       0.222222   18.0     0.546751\n",
            "2       0.121212   58.0     0.845755\n",
            "3       0.111111   97.0     0.951577\n",
            "4       0.449495   67.0     0.926239\n",
            "5       0.277778   27.0     0.678714\n",
            "6       0.186869   45.0     0.789204\n",
            "7       0.469697   42.0     0.849577\n",
            "8       0.348485   65.0     0.907306\n",
            "9       0.212121   87.0     0.942064\n",
            "10      0.257576   55.0     0.857417\n",
            "11      0.318182   48.0     0.838458\n",
            "12      0.070707   41.0     0.728375\n",
            "13      0.484848   32.0     0.802752\n",
            "14      0.010101   85.0     0.922707\n",
            "15      0.434343    6.0     0.527524\n"
          ]
        },
        {
          "name": "stderr",
          "output_type": "stream",
          "text": [
            "100%|██████████| 1/1 [00:00<00:00,  8.89it/s]\n",
            "INFO:autora.theorist.bms.regressor:BMS fitting finished\n",
            "INFO:autora.theorist.bms.regressor:BMS fitting started\n"
          ]
        },
        {
          "name": "stdout",
          "output_type": "stream",
          "text": [
            "Fitting models on working state...\n",
            "Experiment data\n",
            "    P_asymptotic  trial  performance\n",
            "0       0.237374   52.0     0.839745\n",
            "1       0.494949   88.0     0.963959\n",
            "2       0.328283   62.0     0.895432\n",
            "3       0.348485   76.0     0.933360\n",
            "4       0.338384   90.0     0.955536\n",
            "5       0.247475   33.0     0.720379\n",
            "6       0.409091   11.0     0.575181\n",
            "7       0.358586   19.0     0.637264\n",
            "8       0.000000   99.0     0.948697\n",
            "9       0.035354    1.0     0.063863\n",
            "10      0.010101   99.0     0.949215\n",
            "11      0.000000    1.0     0.029554\n",
            "12      0.010101    1.0     0.039357\n",
            "13      0.005051  100.0     0.950464\n",
            "14      0.000000   99.0     0.948697\n",
            "15      0.494949   99.0     0.974089\n"
          ]
        },
        {
          "name": "stderr",
          "output_type": "stream",
          "text": [
            "100%|██████████| 1/1 [00:00<00:00, 12.18it/s]\n",
            "INFO:autora.theorist.bms.regressor:BMS fitting finished\n",
            "INFO:autora.theorist.bms.regressor:BMS fitting started\n"
          ]
        },
        {
          "name": "stdout",
          "output_type": "stream",
          "text": [
            "Sampling new experiment conditions...\n",
            "Obtaining observations...\n",
            "SIMULATION 1 / DISCOVERY CYCLE 16\n",
            "Fitting models on benchmark state...\n",
            "Experiment data\n",
            "    P_asymptotic  trial  performance\n",
            "0       0.237374   52.0     0.839745\n",
            "1       0.222222   18.0     0.546751\n",
            "2       0.121212   58.0     0.845755\n",
            "3       0.111111   97.0     0.951577\n",
            "4       0.449495   67.0     0.926239\n",
            "5       0.277778   27.0     0.678714\n",
            "6       0.186869   45.0     0.789204\n",
            "7       0.469697   42.0     0.849577\n",
            "8       0.348485   65.0     0.907306\n",
            "9       0.212121   87.0     0.942064\n",
            "10      0.257576   55.0     0.857417\n",
            "11      0.318182   48.0     0.838458\n",
            "12      0.070707   41.0     0.728375\n",
            "13      0.484848   32.0     0.802752\n",
            "14      0.010101   85.0     0.922707\n",
            "15      0.434343    6.0     0.527524\n",
            "16      0.383838    7.0     0.500549\n"
          ]
        },
        {
          "name": "stderr",
          "output_type": "stream",
          "text": [
            "100%|██████████| 1/1 [00:00<00:00, 12.82it/s]\n",
            "INFO:autora.theorist.bms.regressor:BMS fitting finished\n",
            "INFO:autora.theorist.bms.regressor:BMS fitting started\n"
          ]
        },
        {
          "name": "stdout",
          "output_type": "stream",
          "text": [
            "Fitting models on working state...\n",
            "Experiment data\n",
            "    P_asymptotic  trial  performance\n",
            "0       0.237374   52.0     0.839745\n",
            "1       0.494949   88.0     0.963959\n",
            "2       0.328283   62.0     0.895432\n",
            "3       0.348485   76.0     0.933360\n",
            "4       0.338384   90.0     0.955536\n",
            "5       0.247475   33.0     0.720379\n",
            "6       0.409091   11.0     0.575181\n",
            "7       0.358586   19.0     0.637264\n",
            "8       0.000000   99.0     0.948697\n",
            "9       0.035354    1.0     0.063863\n",
            "10      0.010101   99.0     0.949215\n",
            "11      0.000000    1.0     0.029554\n",
            "12      0.010101    1.0     0.039357\n",
            "13      0.005051  100.0     0.950464\n",
            "14      0.000000   99.0     0.948697\n",
            "15      0.494949   99.0     0.974089\n",
            "16      0.015152  100.0     0.950967\n"
          ]
        },
        {
          "name": "stderr",
          "output_type": "stream",
          "text": [
            "100%|██████████| 1/1 [00:00<00:00, 10.99it/s]\n",
            "INFO:autora.theorist.bms.regressor:BMS fitting finished\n",
            "INFO:autora.theorist.bms.regressor:BMS fitting started\n"
          ]
        },
        {
          "name": "stdout",
          "output_type": "stream",
          "text": [
            "Sampling new experiment conditions...\n",
            "Obtaining observations...\n",
            "SIMULATION 1 / DISCOVERY CYCLE 17\n",
            "Fitting models on benchmark state...\n",
            "Experiment data\n",
            "    P_asymptotic  trial  performance\n",
            "0       0.237374   52.0     0.839745\n",
            "1       0.222222   18.0     0.546751\n",
            "2       0.121212   58.0     0.845755\n",
            "3       0.111111   97.0     0.951577\n",
            "4       0.449495   67.0     0.926239\n",
            "5       0.277778   27.0     0.678714\n",
            "6       0.186869   45.0     0.789204\n",
            "7       0.469697   42.0     0.849577\n",
            "8       0.348485   65.0     0.907306\n",
            "9       0.212121   87.0     0.942064\n",
            "10      0.257576   55.0     0.857417\n",
            "11      0.318182   48.0     0.838458\n",
            "12      0.070707   41.0     0.728375\n",
            "13      0.484848   32.0     0.802752\n",
            "14      0.010101   85.0     0.922707\n",
            "15      0.434343    6.0     0.527524\n",
            "16      0.383838    7.0     0.500549\n",
            "17      0.343434   29.0     0.724931\n"
          ]
        },
        {
          "name": "stderr",
          "output_type": "stream",
          "text": [
            "100%|██████████| 1/1 [00:00<00:00, 14.36it/s]\n",
            "INFO:autora.theorist.bms.regressor:BMS fitting finished\n",
            "INFO:autora.theorist.bms.regressor:BMS fitting started\n"
          ]
        },
        {
          "name": "stdout",
          "output_type": "stream",
          "text": [
            "Fitting models on working state...\n",
            "Experiment data\n",
            "    P_asymptotic  trial  performance\n",
            "0       0.237374   52.0     0.839745\n",
            "1       0.494949   88.0     0.963959\n",
            "2       0.328283   62.0     0.895432\n",
            "3       0.348485   76.0     0.933360\n",
            "4       0.338384   90.0     0.955536\n",
            "5       0.247475   33.0     0.720379\n",
            "6       0.409091   11.0     0.575181\n",
            "7       0.358586   19.0     0.637264\n",
            "8       0.000000   99.0     0.948697\n",
            "9       0.035354    1.0     0.063863\n",
            "10      0.010101   99.0     0.949215\n",
            "11      0.000000    1.0     0.029554\n",
            "12      0.010101    1.0     0.039357\n",
            "13      0.005051  100.0     0.950464\n",
            "14      0.000000   99.0     0.948697\n",
            "15      0.494949   99.0     0.974089\n",
            "16      0.015152  100.0     0.950967\n",
            "17      0.025253  100.0     0.951470\n"
          ]
        },
        {
          "name": "stderr",
          "output_type": "stream",
          "text": [
            "100%|██████████| 1/1 [00:00<00:00,  7.40it/s]\n",
            "INFO:autora.theorist.bms.regressor:BMS fitting finished\n",
            "INFO:autora.theorist.bms.regressor:BMS fitting started\n"
          ]
        },
        {
          "name": "stdout",
          "output_type": "stream",
          "text": [
            "Sampling new experiment conditions...\n",
            "Obtaining observations...\n",
            "SIMULATION 1 / DISCOVERY CYCLE 18\n",
            "Fitting models on benchmark state...\n",
            "Experiment data\n",
            "    P_asymptotic  trial  performance\n",
            "0       0.237374   52.0     0.839745\n",
            "1       0.222222   18.0     0.546751\n",
            "2       0.121212   58.0     0.845755\n",
            "3       0.111111   97.0     0.951577\n",
            "4       0.449495   67.0     0.926239\n",
            "5       0.277778   27.0     0.678714\n",
            "6       0.186869   45.0     0.789204\n",
            "7       0.469697   42.0     0.849577\n",
            "8       0.348485   65.0     0.907306\n",
            "9       0.212121   87.0     0.942064\n",
            "10      0.257576   55.0     0.857417\n",
            "11      0.318182   48.0     0.838458\n",
            "12      0.070707   41.0     0.728375\n",
            "13      0.484848   32.0     0.802752\n",
            "14      0.010101   85.0     0.922707\n",
            "15      0.434343    6.0     0.527524\n",
            "16      0.383838    7.0     0.500549\n",
            "17      0.343434   29.0     0.724931\n",
            "18      0.222222   15.0     0.504067\n"
          ]
        },
        {
          "name": "stderr",
          "output_type": "stream",
          "text": [
            "100%|██████████| 1/1 [00:00<00:00, 10.47it/s]\n",
            "INFO:autora.theorist.bms.regressor:BMS fitting finished\n",
            "INFO:autora.theorist.bms.regressor:BMS fitting started\n"
          ]
        },
        {
          "name": "stdout",
          "output_type": "stream",
          "text": [
            "Fitting models on working state...\n",
            "Experiment data\n",
            "    P_asymptotic  trial  performance\n",
            "0       0.237374   52.0     0.839745\n",
            "1       0.494949   88.0     0.963959\n",
            "2       0.328283   62.0     0.895432\n",
            "3       0.348485   76.0     0.933360\n",
            "4       0.338384   90.0     0.955536\n",
            "5       0.247475   33.0     0.720379\n",
            "6       0.409091   11.0     0.575181\n",
            "7       0.358586   19.0     0.637264\n",
            "8       0.000000   99.0     0.948697\n",
            "9       0.035354    1.0     0.063863\n",
            "10      0.010101   99.0     0.949215\n",
            "11      0.000000    1.0     0.029554\n",
            "12      0.010101    1.0     0.039357\n",
            "13      0.005051  100.0     0.950464\n",
            "14      0.000000   99.0     0.948697\n",
            "15      0.494949   99.0     0.974089\n",
            "16      0.015152  100.0     0.950967\n",
            "17      0.025253  100.0     0.951470\n",
            "18      0.000000    1.0     0.029554\n"
          ]
        },
        {
          "name": "stderr",
          "output_type": "stream",
          "text": [
            "100%|██████████| 1/1 [00:00<00:00, 10.01it/s]\n",
            "INFO:autora.theorist.bms.regressor:BMS fitting finished\n",
            "INFO:autora.theorist.bms.regressor:BMS fitting started\n"
          ]
        },
        {
          "name": "stdout",
          "output_type": "stream",
          "text": [
            "Sampling new experiment conditions...\n",
            "Obtaining observations...\n",
            "SIMULATION 1 / DISCOVERY CYCLE 19\n",
            "Fitting models on benchmark state...\n",
            "Experiment data\n",
            "    P_asymptotic  trial  performance\n",
            "0       0.237374   52.0     0.839745\n",
            "1       0.222222   18.0     0.546751\n",
            "2       0.121212   58.0     0.845755\n",
            "3       0.111111   97.0     0.951577\n",
            "4       0.449495   67.0     0.926239\n",
            "5       0.277778   27.0     0.678714\n",
            "6       0.186869   45.0     0.789204\n",
            "7       0.469697   42.0     0.849577\n",
            "8       0.348485   65.0     0.907306\n",
            "9       0.212121   87.0     0.942064\n",
            "10      0.257576   55.0     0.857417\n",
            "11      0.318182   48.0     0.838458\n",
            "12      0.070707   41.0     0.728375\n",
            "13      0.484848   32.0     0.802752\n",
            "14      0.010101   85.0     0.922707\n",
            "15      0.434343    6.0     0.527524\n",
            "16      0.383838    7.0     0.500549\n",
            "17      0.343434   29.0     0.724931\n",
            "18      0.222222   15.0     0.504067\n",
            "19      0.202020    3.0     0.270701\n"
          ]
        },
        {
          "name": "stderr",
          "output_type": "stream",
          "text": [
            "100%|██████████| 1/1 [00:00<00:00, 10.44it/s]\n",
            "INFO:autora.theorist.bms.regressor:BMS fitting finished\n",
            "INFO:autora.theorist.bms.regressor:BMS fitting started\n"
          ]
        },
        {
          "name": "stdout",
          "output_type": "stream",
          "text": [
            "Fitting models on working state...\n",
            "Experiment data\n",
            "    P_asymptotic  trial  performance\n",
            "0       0.237374   52.0     0.839745\n",
            "1       0.494949   88.0     0.963959\n",
            "2       0.328283   62.0     0.895432\n",
            "3       0.348485   76.0     0.933360\n",
            "4       0.338384   90.0     0.955536\n",
            "5       0.247475   33.0     0.720379\n",
            "6       0.409091   11.0     0.575181\n",
            "7       0.358586   19.0     0.637264\n",
            "8       0.000000   99.0     0.948697\n",
            "9       0.035354    1.0     0.063863\n",
            "10      0.010101   99.0     0.949215\n",
            "11      0.000000    1.0     0.029554\n",
            "12      0.010101    1.0     0.039357\n",
            "13      0.005051  100.0     0.950464\n",
            "14      0.000000   99.0     0.948697\n",
            "15      0.494949   99.0     0.974089\n",
            "16      0.015152  100.0     0.950967\n",
            "17      0.025253  100.0     0.951470\n",
            "18      0.000000    1.0     0.029554\n",
            "19      0.020202    1.0     0.049159\n"
          ]
        },
        {
          "name": "stderr",
          "output_type": "stream",
          "text": [
            "100%|██████████| 1/1 [00:00<00:00, 10.70it/s]\n",
            "INFO:autora.theorist.bms.regressor:BMS fitting finished\n",
            "INFO:autora.theorist.bms.regressor:BMS fitting started\n"
          ]
        },
        {
          "name": "stdout",
          "output_type": "stream",
          "text": [
            "Sampling new experiment conditions...\n",
            "Obtaining observations...\n",
            "SIMULATION 2 / DISCOVERY CYCLE 0\n",
            "Fitting models on benchmark state...\n",
            "Experiment data\n",
            "   P_asymptotic  trial  performance\n",
            "0      0.419192   27.0     0.741623\n"
          ]
        },
        {
          "name": "stderr",
          "output_type": "stream",
          "text": [
            "100%|██████████| 1/1 [00:00<00:00,  9.54it/s]\n",
            "INFO:autora.theorist.bms.regressor:BMS fitting finished\n",
            "INFO:autora.theorist.bms.regressor:BMS fitting started\n"
          ]
        },
        {
          "name": "stdout",
          "output_type": "stream",
          "text": [
            "Fitting models on working state...\n",
            "Experiment data\n",
            "   P_asymptotic  trial  performance\n",
            "0      0.419192   27.0     0.741623\n"
          ]
        },
        {
          "name": "stderr",
          "output_type": "stream",
          "text": [
            "100%|██████████| 1/1 [00:00<00:00, 16.57it/s]\n",
            "INFO:autora.theorist.bms.regressor:BMS fitting finished\n",
            "INFO:autora.theorist.bms.regressor:BMS fitting started\n"
          ]
        },
        {
          "name": "stdout",
          "output_type": "stream",
          "text": [
            "Sampling new experiment conditions...\n",
            "Obtaining observations...\n",
            "SIMULATION 2 / DISCOVERY CYCLE 1\n",
            "Fitting models on benchmark state...\n",
            "Experiment data\n",
            "   P_asymptotic  trial  performance\n",
            "0      0.419192   27.0     0.741623\n",
            "1      0.095960   35.0     0.683642\n"
          ]
        },
        {
          "name": "stderr",
          "output_type": "stream",
          "text": [
            "100%|██████████| 1/1 [00:00<00:00, 12.19it/s]\n",
            "INFO:autora.theorist.bms.regressor:BMS fitting finished\n",
            "INFO:autora.theorist.bms.regressor:BMS fitting started\n"
          ]
        },
        {
          "name": "stdout",
          "output_type": "stream",
          "text": [
            "Fitting models on working state...\n",
            "Experiment data\n",
            "   P_asymptotic  trial  performance\n",
            "0      0.419192   27.0     0.741623\n",
            "1      0.151515    7.0     0.312232\n"
          ]
        },
        {
          "name": "stderr",
          "output_type": "stream",
          "text": [
            "100%|██████████| 1/1 [00:00<00:00, 11.46it/s]\n",
            "INFO:autora.theorist.bms.regressor:BMS fitting finished\n",
            "INFO:autora.theorist.bms.regressor:BMS fitting started\n"
          ]
        },
        {
          "name": "stdout",
          "output_type": "stream",
          "text": [
            "Sampling new experiment conditions...\n",
            "Obtaining observations...\n",
            "SIMULATION 2 / DISCOVERY CYCLE 2\n",
            "Fitting models on benchmark state...\n",
            "Experiment data\n",
            "   P_asymptotic  trial  performance\n",
            "0      0.419192   27.0     0.741623\n",
            "1      0.095960   35.0     0.683642\n",
            "2      0.237374   78.0     0.926538\n"
          ]
        },
        {
          "name": "stderr",
          "output_type": "stream",
          "text": [
            "100%|██████████| 1/1 [00:00<00:00, 10.83it/s]\n",
            "INFO:autora.theorist.bms.regressor:BMS fitting finished\n",
            "INFO:autora.theorist.bms.regressor:BMS fitting started\n"
          ]
        },
        {
          "name": "stdout",
          "output_type": "stream",
          "text": [
            "Fitting models on working state...\n",
            "Experiment data\n",
            "   P_asymptotic  trial  performance\n",
            "0      0.419192   27.0     0.741623\n",
            "1      0.151515    7.0     0.312232\n",
            "2      0.161616   95.0     0.951504\n"
          ]
        },
        {
          "name": "stderr",
          "output_type": "stream",
          "text": [
            "100%|██████████| 1/1 [00:00<00:00, 10.69it/s]\n",
            "INFO:autora.theorist.bms.regressor:BMS fitting finished\n",
            "INFO:autora.theorist.bms.regressor:BMS fitting started\n"
          ]
        },
        {
          "name": "stdout",
          "output_type": "stream",
          "text": [
            "Sampling new experiment conditions...\n",
            "Obtaining observations...\n",
            "SIMULATION 2 / DISCOVERY CYCLE 3\n",
            "Fitting models on benchmark state...\n",
            "Experiment data\n",
            "   P_asymptotic  trial  performance\n",
            "0      0.419192   27.0     0.741623\n",
            "1      0.095960   35.0     0.683642\n",
            "2      0.237374   78.0     0.926538\n",
            "3      0.232323   97.0     0.958180\n"
          ]
        },
        {
          "name": "stderr",
          "output_type": "stream",
          "text": [
            "100%|██████████| 1/1 [00:00<00:00,  8.20it/s]\n",
            "INFO:autora.theorist.bms.regressor:BMS fitting finished\n",
            "INFO:autora.theorist.bms.regressor:BMS fitting started\n"
          ]
        },
        {
          "name": "stdout",
          "output_type": "stream",
          "text": [
            "Fitting models on working state...\n",
            "Experiment data\n",
            "   P_asymptotic  trial  performance\n",
            "0      0.419192   27.0     0.741623\n",
            "1      0.151515    7.0     0.312232\n",
            "2      0.161616   95.0     0.951504\n",
            "3      0.328283   29.0     0.718583\n"
          ]
        },
        {
          "name": "stderr",
          "output_type": "stream",
          "text": [
            "100%|██████████| 1/1 [00:00<00:00,  7.95it/s]\n",
            "INFO:autora.theorist.bms.regressor:BMS fitting finished\n",
            "INFO:autora.theorist.bms.regressor:BMS fitting started\n"
          ]
        },
        {
          "name": "stdout",
          "output_type": "stream",
          "text": [
            "Sampling new experiment conditions...\n",
            "Obtaining observations...\n",
            "SIMULATION 2 / DISCOVERY CYCLE 4\n",
            "Fitting models on benchmark state...\n",
            "Experiment data\n",
            "   P_asymptotic  trial  performance\n",
            "0      0.419192   27.0     0.741623\n",
            "1      0.095960   35.0     0.683642\n",
            "2      0.237374   78.0     0.926538\n",
            "3      0.232323   97.0     0.958180\n",
            "4      0.262626   69.0     0.906954\n"
          ]
        },
        {
          "name": "stderr",
          "output_type": "stream",
          "text": [
            "100%|██████████| 1/1 [00:00<00:00, 11.40it/s]\n",
            "INFO:autora.theorist.bms.regressor:BMS fitting finished\n",
            "INFO:autora.theorist.bms.regressor:BMS fitting started\n"
          ]
        },
        {
          "name": "stdout",
          "output_type": "stream",
          "text": [
            "Fitting models on working state...\n",
            "Experiment data\n",
            "   P_asymptotic  trial  performance\n",
            "0      0.419192   27.0     0.741623\n",
            "1      0.151515    7.0     0.312232\n",
            "2      0.161616   95.0     0.951504\n",
            "3      0.328283   29.0     0.718583\n",
            "4      0.414141   11.0     0.578812\n"
          ]
        },
        {
          "name": "stderr",
          "output_type": "stream",
          "text": [
            "100%|██████████| 1/1 [00:00<00:00, 15.10it/s]\n",
            "INFO:autora.theorist.bms.regressor:BMS fitting finished\n"
          ]
        },
        {
          "name": "stdout",
          "output_type": "stream",
          "text": [
            "Sampling new experiment conditions...\n",
            "Obtaining observations...\n",
            "SIMULATION 2 / DISCOVERY CYCLE 5\n",
            "Fitting models on benchmark state...\n",
            "Experiment data\n",
            "   P_asymptotic  trial  performance\n",
            "0      0.419192   27.0     0.741623\n",
            "1      0.095960   35.0     0.683642\n",
            "2      0.237374   78.0     0.926538\n",
            "3      0.232323   97.0     0.958180\n",
            "4      0.262626   69.0     0.906954\n",
            "5      0.500000   54.0     0.901051\n"
          ]
        },
        {
          "name": "stderr",
          "output_type": "stream",
          "text": [
            "INFO:autora.theorist.bms.regressor:BMS fitting started\n",
            "100%|██████████| 1/1 [00:00<00:00, 10.12it/s]\n",
            "INFO:autora.theorist.bms.regressor:BMS fitting finished\n",
            "INFO:autora.theorist.bms.regressor:BMS fitting started\n"
          ]
        },
        {
          "name": "stdout",
          "output_type": "stream",
          "text": [
            "Fitting models on working state...\n",
            "Experiment data\n",
            "   P_asymptotic  trial  performance\n",
            "0      0.419192   27.0     0.741623\n",
            "1      0.151515    7.0     0.312232\n",
            "2      0.161616   95.0     0.951504\n",
            "3      0.328283   29.0     0.718583\n",
            "4      0.414141   11.0     0.578812\n",
            "5      0.186869   42.0     0.769352\n"
          ]
        },
        {
          "name": "stderr",
          "output_type": "stream",
          "text": [
            "100%|██████████| 1/1 [00:00<00:00, 12.02it/s]\n",
            "INFO:autora.theorist.bms.regressor:BMS fitting finished\n",
            "INFO:autora.theorist.bms.regressor:BMS fitting started\n"
          ]
        },
        {
          "name": "stdout",
          "output_type": "stream",
          "text": [
            "Sampling new experiment conditions...\n",
            "Obtaining observations...\n",
            "SIMULATION 2 / DISCOVERY CYCLE 6\n",
            "Fitting models on benchmark state...\n",
            "Experiment data\n",
            "   P_asymptotic  trial  performance\n",
            "0      0.419192   27.0     0.741623\n",
            "1      0.095960   35.0     0.683642\n",
            "2      0.237374   78.0     0.926538\n",
            "3      0.232323   97.0     0.958180\n",
            "4      0.262626   69.0     0.906954\n",
            "5      0.500000   54.0     0.901051\n",
            "6      0.404040   80.0     0.945936\n"
          ]
        },
        {
          "name": "stderr",
          "output_type": "stream",
          "text": [
            "100%|██████████| 1/1 [00:00<00:00,  9.81it/s]\n",
            "INFO:autora.theorist.bms.regressor:BMS fitting finished\n",
            "INFO:autora.theorist.bms.regressor:BMS fitting started\n"
          ]
        },
        {
          "name": "stdout",
          "output_type": "stream",
          "text": [
            "Fitting models on working state...\n",
            "Experiment data\n",
            "   P_asymptotic  trial  performance\n",
            "0      0.419192   27.0     0.741623\n",
            "1      0.151515    7.0     0.312232\n",
            "2      0.161616   95.0     0.951504\n",
            "3      0.328283   29.0     0.718583\n",
            "4      0.414141   11.0     0.578812\n",
            "5      0.186869   42.0     0.769352\n",
            "6      0.227273   85.0     0.939664\n"
          ]
        },
        {
          "name": "stderr",
          "output_type": "stream",
          "text": [
            "100%|██████████| 1/1 [00:00<00:00, 16.52it/s]\n",
            "INFO:autora.theorist.bms.regressor:BMS fitting finished\n"
          ]
        },
        {
          "name": "stdout",
          "output_type": "stream",
          "text": [
            "Sampling new experiment conditions...\n",
            "Obtaining observations...\n",
            "SIMULATION 2 / DISCOVERY CYCLE 7\n",
            "Fitting models on benchmark state...\n",
            "Experiment data\n",
            "   P_asymptotic  trial  performance\n",
            "0      0.419192   27.0     0.741623\n",
            "1      0.095960   35.0     0.683642\n",
            "2      0.237374   78.0     0.926538\n",
            "3      0.232323   97.0     0.958180\n",
            "4      0.262626   69.0     0.906954\n",
            "5      0.500000   54.0     0.901051\n",
            "6      0.404040   80.0     0.945936\n",
            "7      0.116162   65.0     0.874253\n"
          ]
        },
        {
          "name": "stderr",
          "output_type": "stream",
          "text": [
            "INFO:autora.theorist.bms.regressor:BMS fitting started\n",
            "100%|██████████| 1/1 [00:00<00:00, 12.62it/s]\n",
            "INFO:autora.theorist.bms.regressor:BMS fitting finished\n",
            "INFO:autora.theorist.bms.regressor:BMS fitting started\n"
          ]
        },
        {
          "name": "stdout",
          "output_type": "stream",
          "text": [
            "Fitting models on working state...\n",
            "Experiment data\n",
            "   P_asymptotic  trial  performance\n",
            "0      0.419192   27.0     0.741623\n",
            "1      0.151515    7.0     0.312232\n",
            "2      0.161616   95.0     0.951504\n",
            "3      0.328283   29.0     0.718583\n",
            "4      0.414141   11.0     0.578812\n",
            "5      0.186869   42.0     0.769352\n",
            "6      0.227273   85.0     0.939664\n",
            "7      0.030303   58.0     0.829798\n"
          ]
        },
        {
          "name": "stderr",
          "output_type": "stream",
          "text": [
            "100%|██████████| 1/1 [00:00<00:00, 11.20it/s]\n",
            "INFO:autora.theorist.bms.regressor:BMS fitting finished\n"
          ]
        },
        {
          "name": "stdout",
          "output_type": "stream",
          "text": [
            "Sampling new experiment conditions..."
          ]
        },
        {
          "name": "stderr",
          "output_type": "stream",
          "text": [
            "INFO:autora.theorist.bms.regressor:BMS fitting started\n"
          ]
        },
        {
          "name": "stdout",
          "output_type": "stream",
          "text": [
            "\n",
            "Obtaining observations...\n",
            "SIMULATION 2 / DISCOVERY CYCLE 8\n",
            "Fitting models on benchmark state...\n",
            "Experiment data\n",
            "   P_asymptotic  trial  performance\n",
            "0      0.419192   27.0     0.741623\n",
            "1      0.095960   35.0     0.683642\n",
            "2      0.237374   78.0     0.926538\n",
            "3      0.232323   97.0     0.958180\n",
            "4      0.262626   69.0     0.906954\n",
            "5      0.500000   54.0     0.901051\n",
            "6      0.404040   80.0     0.945936\n",
            "7      0.116162   65.0     0.874253\n",
            "8      0.085859   54.0     0.819093\n"
          ]
        },
        {
          "name": "stderr",
          "output_type": "stream",
          "text": [
            "100%|██████████| 1/1 [00:00<00:00,  7.96it/s]\n",
            "INFO:autora.theorist.bms.regressor:BMS fitting finished\n",
            "INFO:autora.theorist.bms.regressor:BMS fitting started\n"
          ]
        },
        {
          "name": "stdout",
          "output_type": "stream",
          "text": [
            "Fitting models on working state...\n",
            "Experiment data\n",
            "   P_asymptotic  trial  performance\n",
            "0      0.419192   27.0     0.741623\n",
            "1      0.151515    7.0     0.312232\n",
            "2      0.161616   95.0     0.951504\n",
            "3      0.328283   29.0     0.718583\n",
            "4      0.414141   11.0     0.578812\n",
            "5      0.186869   42.0     0.769352\n",
            "6      0.227273   85.0     0.939664\n",
            "7      0.030303   58.0     0.829798\n",
            "8      0.010101  100.0     0.950716\n"
          ]
        },
        {
          "name": "stderr",
          "output_type": "stream",
          "text": [
            "100%|██████████| 1/1 [00:00<00:00, 12.08it/s]\n",
            "INFO:autora.theorist.bms.regressor:BMS fitting finished\n",
            "INFO:autora.theorist.bms.regressor:BMS fitting started\n"
          ]
        },
        {
          "name": "stdout",
          "output_type": "stream",
          "text": [
            "Sampling new experiment conditions...\n",
            "Obtaining observations...\n",
            "SIMULATION 2 / DISCOVERY CYCLE 9\n",
            "Fitting models on benchmark state...\n",
            "Experiment data\n",
            "   P_asymptotic  trial  performance\n",
            "0      0.419192   27.0     0.741623\n",
            "1      0.095960   35.0     0.683642\n",
            "2      0.237374   78.0     0.926538\n",
            "3      0.232323   97.0     0.958180\n",
            "4      0.262626   69.0     0.906954\n",
            "5      0.500000   54.0     0.901051\n",
            "6      0.404040   80.0     0.945936\n",
            "7      0.116162   65.0     0.874253\n",
            "8      0.085859   54.0     0.819093\n",
            "9      0.247475   77.0     0.925303\n"
          ]
        },
        {
          "name": "stderr",
          "output_type": "stream",
          "text": [
            "100%|██████████| 1/1 [00:00<00:00, 12.42it/s]\n",
            "INFO:autora.theorist.bms.regressor:BMS fitting finished\n",
            "INFO:autora.theorist.bms.regressor:BMS fitting started\n"
          ]
        },
        {
          "name": "stdout",
          "output_type": "stream",
          "text": [
            "Fitting models on working state...\n",
            "Experiment data\n",
            "   P_asymptotic  trial  performance\n",
            "0      0.419192   27.0     0.741623\n",
            "1      0.151515    7.0     0.312232\n",
            "2      0.161616   95.0     0.951504\n",
            "3      0.328283   29.0     0.718583\n",
            "4      0.414141   11.0     0.578812\n",
            "5      0.186869   42.0     0.769352\n",
            "6      0.227273   85.0     0.939664\n",
            "7      0.030303   58.0     0.829798\n",
            "8      0.010101  100.0     0.950716\n",
            "9      0.010101  100.0     0.950716\n"
          ]
        },
        {
          "name": "stderr",
          "output_type": "stream",
          "text": [
            "100%|██████████| 1/1 [00:00<00:00,  7.54it/s]\n",
            "INFO:autora.theorist.bms.regressor:BMS fitting finished\n",
            "INFO:autora.theorist.bms.regressor:BMS fitting started\n"
          ]
        },
        {
          "name": "stdout",
          "output_type": "stream",
          "text": [
            "Sampling new experiment conditions...\n",
            "Obtaining observations...\n",
            "SIMULATION 2 / DISCOVERY CYCLE 10\n",
            "Fitting models on benchmark state...\n",
            "Experiment data\n",
            "    P_asymptotic  trial  performance\n",
            "0       0.419192   27.0     0.741623\n",
            "1       0.095960   35.0     0.683642\n",
            "2       0.237374   78.0     0.926538\n",
            "3       0.232323   97.0     0.958180\n",
            "4       0.262626   69.0     0.906954\n",
            "5       0.500000   54.0     0.901051\n",
            "6       0.404040   80.0     0.945936\n",
            "7       0.116162   65.0     0.874253\n",
            "8       0.085859   54.0     0.819093\n",
            "9       0.247475   77.0     0.925303\n",
            "10      0.348485   78.0     0.937241\n"
          ]
        },
        {
          "name": "stderr",
          "output_type": "stream",
          "text": [
            "100%|██████████| 1/1 [00:00<00:00, 10.38it/s]\n",
            "INFO:autora.theorist.bms.regressor:BMS fitting finished\n",
            "INFO:autora.theorist.bms.regressor:BMS fitting started\n"
          ]
        },
        {
          "name": "stdout",
          "output_type": "stream",
          "text": [
            "Fitting models on working state...\n",
            "Experiment data\n",
            "    P_asymptotic  trial  performance\n",
            "0       0.419192   27.0     0.741623\n",
            "1       0.151515    7.0     0.312232\n",
            "2       0.161616   95.0     0.951504\n",
            "3       0.328283   29.0     0.718583\n",
            "4       0.414141   11.0     0.578812\n",
            "5       0.186869   42.0     0.769352\n",
            "6       0.227273   85.0     0.939664\n",
            "7       0.030303   58.0     0.829798\n",
            "8       0.010101  100.0     0.950716\n",
            "9       0.010101  100.0     0.950716\n",
            "10      0.020202    1.0     0.049159\n"
          ]
        },
        {
          "name": "stderr",
          "output_type": "stream",
          "text": [
            "100%|██████████| 1/1 [00:00<00:00,  9.56it/s]\n",
            "INFO:autora.theorist.bms.regressor:BMS fitting finished\n",
            "INFO:autora.theorist.bms.regressor:BMS fitting started\n"
          ]
        },
        {
          "name": "stdout",
          "output_type": "stream",
          "text": [
            "Sampling new experiment conditions...\n",
            "Obtaining observations...\n",
            "SIMULATION 2 / DISCOVERY CYCLE 11\n",
            "Fitting models on benchmark state...\n",
            "Experiment data\n",
            "    P_asymptotic  trial  performance\n",
            "0       0.419192   27.0     0.741623\n",
            "1       0.095960   35.0     0.683642\n",
            "2       0.237374   78.0     0.926538\n",
            "3       0.232323   97.0     0.958180\n",
            "4       0.262626   69.0     0.906954\n",
            "5       0.500000   54.0     0.901051\n",
            "6       0.404040   80.0     0.945936\n",
            "7       0.116162   65.0     0.874253\n",
            "8       0.085859   54.0     0.819093\n",
            "9       0.247475   77.0     0.925303\n",
            "10      0.348485   78.0     0.937241\n",
            "11      0.040404   12.0     0.330513\n"
          ]
        },
        {
          "name": "stderr",
          "output_type": "stream",
          "text": [
            "100%|██████████| 1/1 [00:00<00:00, 10.25it/s]\n",
            "INFO:autora.theorist.bms.regressor:BMS fitting finished\n",
            "INFO:autora.theorist.bms.regressor:BMS fitting started\n"
          ]
        },
        {
          "name": "stdout",
          "output_type": "stream",
          "text": [
            "Fitting models on working state...\n",
            "Experiment data\n",
            "    P_asymptotic  trial  performance\n",
            "0       0.419192   27.0     0.741623\n",
            "1       0.151515    7.0     0.312232\n",
            "2       0.161616   95.0     0.951504\n",
            "3       0.328283   29.0     0.718583\n",
            "4       0.414141   11.0     0.578812\n",
            "5       0.186869   42.0     0.769352\n",
            "6       0.227273   85.0     0.939664\n",
            "7       0.030303   58.0     0.829798\n",
            "8       0.010101  100.0     0.950716\n",
            "9       0.010101  100.0     0.950716\n",
            "10      0.020202    1.0     0.049159\n",
            "11      0.005051  100.0     0.950464\n"
          ]
        },
        {
          "name": "stderr",
          "output_type": "stream",
          "text": [
            "100%|██████████| 1/1 [00:00<00:00, 11.64it/s]\n",
            "INFO:autora.theorist.bms.regressor:BMS fitting finished\n",
            "INFO:autora.theorist.bms.regressor:BMS fitting started\n"
          ]
        },
        {
          "name": "stdout",
          "output_type": "stream",
          "text": [
            "Sampling new experiment conditions...\n",
            "Obtaining observations...\n",
            "SIMULATION 2 / DISCOVERY CYCLE 12\n",
            "Fitting models on benchmark state...\n",
            "Experiment data\n",
            "    P_asymptotic  trial  performance\n",
            "0       0.419192   27.0     0.741623\n",
            "1       0.095960   35.0     0.683642\n",
            "2       0.237374   78.0     0.926538\n",
            "3       0.232323   97.0     0.958180\n",
            "4       0.262626   69.0     0.906954\n",
            "5       0.500000   54.0     0.901051\n",
            "6       0.404040   80.0     0.945936\n",
            "7       0.116162   65.0     0.874253\n",
            "8       0.085859   54.0     0.819093\n",
            "9       0.247475   77.0     0.925303\n",
            "10      0.348485   78.0     0.937241\n",
            "11      0.040404   12.0     0.330513\n",
            "12      0.398990   99.0     0.969166\n"
          ]
        },
        {
          "name": "stderr",
          "output_type": "stream",
          "text": [
            "100%|██████████| 1/1 [00:00<00:00,  9.82it/s]\n",
            "INFO:autora.theorist.bms.regressor:BMS fitting finished\n",
            "INFO:autora.theorist.bms.regressor:BMS fitting started\n"
          ]
        },
        {
          "name": "stdout",
          "output_type": "stream",
          "text": [
            "Fitting models on working state...\n",
            "Experiment data\n",
            "    P_asymptotic  trial  performance\n",
            "0       0.419192   27.0     0.741623\n",
            "1       0.151515    7.0     0.312232\n",
            "2       0.161616   95.0     0.951504\n",
            "3       0.328283   29.0     0.718583\n",
            "4       0.414141   11.0     0.578812\n",
            "5       0.186869   42.0     0.769352\n",
            "6       0.227273   85.0     0.939664\n",
            "7       0.030303   58.0     0.829798\n",
            "8       0.010101  100.0     0.950716\n",
            "9       0.010101  100.0     0.950716\n",
            "10      0.020202    1.0     0.049159\n",
            "11      0.005051  100.0     0.950464\n",
            "12      0.494949  100.0     0.974855\n"
          ]
        },
        {
          "name": "stderr",
          "output_type": "stream",
          "text": [
            "100%|██████████| 1/1 [00:00<00:00, 11.88it/s]\n",
            "INFO:autora.theorist.bms.regressor:BMS fitting finished\n",
            "INFO:autora.theorist.bms.regressor:BMS fitting started\n"
          ]
        },
        {
          "name": "stdout",
          "output_type": "stream",
          "text": [
            "Sampling new experiment conditions...\n",
            "Obtaining observations...\n",
            "SIMULATION 2 / DISCOVERY CYCLE 13\n",
            "Fitting models on benchmark state...\n",
            "Experiment data\n",
            "    P_asymptotic  trial  performance\n",
            "0       0.419192   27.0     0.741623\n",
            "1       0.095960   35.0     0.683642\n",
            "2       0.237374   78.0     0.926538\n",
            "3       0.232323   97.0     0.958180\n",
            "4       0.262626   69.0     0.906954\n",
            "5       0.500000   54.0     0.901051\n",
            "6       0.404040   80.0     0.945936\n",
            "7       0.116162   65.0     0.874253\n",
            "8       0.085859   54.0     0.819093\n",
            "9       0.247475   77.0     0.925303\n",
            "10      0.348485   78.0     0.937241\n",
            "11      0.040404   12.0     0.330513\n",
            "12      0.398990   99.0     0.969166\n",
            "13      0.500000   88.0     0.964319\n"
          ]
        },
        {
          "name": "stderr",
          "output_type": "stream",
          "text": [
            "100%|██████████| 1/1 [00:00<00:00, 11.01it/s]\n",
            "INFO:autora.theorist.bms.regressor:BMS fitting finished\n",
            "INFO:autora.theorist.bms.regressor:BMS fitting started\n"
          ]
        },
        {
          "name": "stdout",
          "output_type": "stream",
          "text": [
            "Fitting models on working state...\n",
            "Experiment data\n",
            "    P_asymptotic  trial  performance\n",
            "0       0.419192   27.0     0.741623\n",
            "1       0.151515    7.0     0.312232\n",
            "2       0.161616   95.0     0.951504\n",
            "3       0.328283   29.0     0.718583\n",
            "4       0.414141   11.0     0.578812\n",
            "5       0.186869   42.0     0.769352\n",
            "6       0.227273   85.0     0.939664\n",
            "7       0.030303   58.0     0.829798\n",
            "8       0.010101  100.0     0.950716\n",
            "9       0.010101  100.0     0.950716\n",
            "10      0.020202    1.0     0.049159\n",
            "11      0.005051  100.0     0.950464\n",
            "12      0.494949  100.0     0.974855\n",
            "13      0.479798  100.0     0.974101\n"
          ]
        },
        {
          "name": "stderr",
          "output_type": "stream",
          "text": [
            "100%|██████████| 1/1 [00:00<00:00, 11.92it/s]\n",
            "INFO:autora.theorist.bms.regressor:BMS fitting finished\n"
          ]
        },
        {
          "name": "stdout",
          "output_type": "stream",
          "text": [
            "Sampling new experiment conditions...\n",
            "Obtaining observations...\n",
            "SIMULATION 2 / DISCOVERY CYCLE 14\n",
            "Fitting models on benchmark state...\n",
            "Experiment data\n",
            "    P_asymptotic  trial  performance\n",
            "0       0.419192   27.0     0.741623\n",
            "1       0.095960   35.0     0.683642\n",
            "2       0.237374   78.0     0.926538\n",
            "3       0.232323   97.0     0.958180\n",
            "4       0.262626   69.0     0.906954\n",
            "5       0.500000   54.0     0.901051\n",
            "6       0.404040   80.0     0.945936\n",
            "7       0.116162   65.0     0.874253\n",
            "8       0.085859   54.0     0.819093\n",
            "9       0.247475   77.0     0.925303\n",
            "10      0.348485   78.0     0.937241\n",
            "11      0.040404   12.0     0.330513\n",
            "12      0.398990   99.0     0.969166\n",
            "13      0.500000   88.0     0.964319\n",
            "14      0.429293    9.0     0.564334\n"
          ]
        },
        {
          "name": "stderr",
          "output_type": "stream",
          "text": [
            "INFO:autora.theorist.bms.regressor:BMS fitting started\n",
            "100%|██████████| 1/1 [00:00<00:00,  8.85it/s]\n",
            "INFO:autora.theorist.bms.regressor:BMS fitting finished\n",
            "INFO:autora.theorist.bms.regressor:BMS fitting started\n"
          ]
        },
        {
          "name": "stdout",
          "output_type": "stream",
          "text": [
            "Fitting models on working state...\n",
            "Experiment data\n",
            "    P_asymptotic  trial  performance\n",
            "0       0.419192   27.0     0.741623\n",
            "1       0.151515    7.0     0.312232\n",
            "2       0.161616   95.0     0.951504\n",
            "3       0.328283   29.0     0.718583\n",
            "4       0.414141   11.0     0.578812\n",
            "5       0.186869   42.0     0.769352\n",
            "6       0.227273   85.0     0.939664\n",
            "7       0.030303   58.0     0.829798\n",
            "8       0.010101  100.0     0.950716\n",
            "9       0.010101  100.0     0.950716\n",
            "10      0.020202    1.0     0.049159\n",
            "11      0.005051  100.0     0.950464\n",
            "12      0.494949  100.0     0.974855\n",
            "13      0.479798  100.0     0.974101\n",
            "14      0.005051    2.0     0.062992\n"
          ]
        },
        {
          "name": "stderr",
          "output_type": "stream",
          "text": [
            "100%|██████████| 1/1 [00:00<00:00, 13.39it/s]\n",
            "INFO:autora.theorist.bms.regressor:BMS fitting finished\n",
            "INFO:autora.theorist.bms.regressor:BMS fitting started\n"
          ]
        },
        {
          "name": "stdout",
          "output_type": "stream",
          "text": [
            "Sampling new experiment conditions...\n",
            "Obtaining observations...\n",
            "SIMULATION 2 / DISCOVERY CYCLE 15\n",
            "Fitting models on benchmark state...\n",
            "Experiment data\n",
            "    P_asymptotic  trial  performance\n",
            "0       0.419192   27.0     0.741623\n",
            "1       0.095960   35.0     0.683642\n",
            "2       0.237374   78.0     0.926538\n",
            "3       0.232323   97.0     0.958180\n",
            "4       0.262626   69.0     0.906954\n",
            "5       0.500000   54.0     0.901051\n",
            "6       0.404040   80.0     0.945936\n",
            "7       0.116162   65.0     0.874253\n",
            "8       0.085859   54.0     0.819093\n",
            "9       0.247475   77.0     0.925303\n",
            "10      0.348485   78.0     0.937241\n",
            "11      0.040404   12.0     0.330513\n",
            "12      0.398990   99.0     0.969166\n",
            "13      0.500000   88.0     0.964319\n",
            "14      0.429293    9.0     0.564334\n",
            "15      0.338384   93.0     0.959363\n"
          ]
        },
        {
          "name": "stderr",
          "output_type": "stream",
          "text": [
            "100%|██████████| 1/1 [00:00<00:00, 11.91it/s]\n",
            "INFO:autora.theorist.bms.regressor:BMS fitting finished\n",
            "INFO:autora.theorist.bms.regressor:BMS fitting started\n"
          ]
        },
        {
          "name": "stdout",
          "output_type": "stream",
          "text": [
            "Fitting models on working state...\n",
            "Experiment data\n",
            "    P_asymptotic  trial  performance\n",
            "0       0.419192   27.0     0.741623\n",
            "1       0.151515    7.0     0.312232\n",
            "2       0.161616   95.0     0.951504\n",
            "3       0.328283   29.0     0.718583\n",
            "4       0.414141   11.0     0.578812\n",
            "5       0.186869   42.0     0.769352\n",
            "6       0.227273   85.0     0.939664\n",
            "7       0.030303   58.0     0.829798\n",
            "8       0.010101  100.0     0.950716\n",
            "9       0.010101  100.0     0.950716\n",
            "10      0.020202    1.0     0.049159\n",
            "11      0.005051  100.0     0.950464\n",
            "12      0.494949  100.0     0.974855\n",
            "13      0.479798  100.0     0.974101\n",
            "14      0.005051    2.0     0.062992\n",
            "15      0.000000    2.0     0.058235\n"
          ]
        },
        {
          "name": "stderr",
          "output_type": "stream",
          "text": [
            "100%|██████████| 1/1 [00:00<00:00, 11.78it/s]\n",
            "INFO:autora.theorist.bms.regressor:BMS fitting finished\n",
            "INFO:autora.theorist.bms.regressor:BMS fitting started\n"
          ]
        },
        {
          "name": "stdout",
          "output_type": "stream",
          "text": [
            "Sampling new experiment conditions...\n",
            "Obtaining observations...\n",
            "SIMULATION 2 / DISCOVERY CYCLE 16\n",
            "Fitting models on benchmark state...\n",
            "Experiment data\n",
            "    P_asymptotic  trial  performance\n",
            "0       0.419192   27.0     0.741623\n",
            "1       0.095960   35.0     0.683642\n",
            "2       0.237374   78.0     0.926538\n",
            "3       0.232323   97.0     0.958180\n",
            "4       0.262626   69.0     0.906954\n",
            "5       0.500000   54.0     0.901051\n",
            "6       0.404040   80.0     0.945936\n",
            "7       0.116162   65.0     0.874253\n",
            "8       0.085859   54.0     0.819093\n",
            "9       0.247475   77.0     0.925303\n",
            "10      0.348485   78.0     0.937241\n",
            "11      0.040404   12.0     0.330513\n",
            "12      0.398990   99.0     0.969166\n",
            "13      0.500000   88.0     0.964319\n",
            "14      0.429293    9.0     0.564334\n",
            "15      0.338384   93.0     0.959363\n",
            "16      0.136364   88.0     0.938370\n"
          ]
        },
        {
          "name": "stderr",
          "output_type": "stream",
          "text": [
            "100%|██████████| 1/1 [00:00<00:00, 10.35it/s]\n",
            "INFO:autora.theorist.bms.regressor:BMS fitting finished\n",
            "INFO:autora.theorist.bms.regressor:BMS fitting started\n"
          ]
        },
        {
          "name": "stdout",
          "output_type": "stream",
          "text": [
            "Fitting models on working state...\n",
            "Experiment data\n",
            "    P_asymptotic  trial  performance\n",
            "0       0.419192   27.0     0.741623\n",
            "1       0.151515    7.0     0.312232\n",
            "2       0.161616   95.0     0.951504\n",
            "3       0.328283   29.0     0.718583\n",
            "4       0.414141   11.0     0.578812\n",
            "5       0.186869   42.0     0.769352\n",
            "6       0.227273   85.0     0.939664\n",
            "7       0.030303   58.0     0.829798\n",
            "8       0.010101  100.0     0.950716\n",
            "9       0.010101  100.0     0.950716\n",
            "10      0.020202    1.0     0.049159\n",
            "11      0.005051  100.0     0.950464\n",
            "12      0.494949  100.0     0.974855\n",
            "13      0.479798  100.0     0.974101\n",
            "14      0.005051    2.0     0.062992\n",
            "15      0.000000    2.0     0.058235\n",
            "16      0.489899   99.0     0.973830\n"
          ]
        },
        {
          "name": "stderr",
          "output_type": "stream",
          "text": [
            "100%|██████████| 1/1 [00:00<00:00,  9.38it/s]\n",
            "INFO:autora.theorist.bms.regressor:BMS fitting finished\n",
            "INFO:autora.theorist.bms.regressor:BMS fitting started\n"
          ]
        },
        {
          "name": "stdout",
          "output_type": "stream",
          "text": [
            "Sampling new experiment conditions...\n",
            "Obtaining observations...\n",
            "SIMULATION 2 / DISCOVERY CYCLE 17\n",
            "Fitting models on benchmark state...\n",
            "Experiment data\n",
            "    P_asymptotic  trial  performance\n",
            "0       0.419192   27.0     0.741623\n",
            "1       0.095960   35.0     0.683642\n",
            "2       0.237374   78.0     0.926538\n",
            "3       0.232323   97.0     0.958180\n",
            "4       0.262626   69.0     0.906954\n",
            "5       0.500000   54.0     0.901051\n",
            "6       0.404040   80.0     0.945936\n",
            "7       0.116162   65.0     0.874253\n",
            "8       0.085859   54.0     0.819093\n",
            "9       0.247475   77.0     0.925303\n",
            "10      0.348485   78.0     0.937241\n",
            "11      0.040404   12.0     0.330513\n",
            "12      0.398990   99.0     0.969166\n",
            "13      0.500000   88.0     0.964319\n",
            "14      0.429293    9.0     0.564334\n",
            "15      0.338384   93.0     0.959363\n",
            "16      0.136364   88.0     0.938370\n",
            "17      0.262626    3.0     0.326091\n"
          ]
        },
        {
          "name": "stderr",
          "output_type": "stream",
          "text": [
            "100%|██████████| 1/1 [00:00<00:00, 10.42it/s]\n",
            "INFO:autora.theorist.bms.regressor:BMS fitting finished\n",
            "INFO:autora.theorist.bms.regressor:BMS fitting started\n"
          ]
        },
        {
          "name": "stdout",
          "output_type": "stream",
          "text": [
            "Fitting models on working state...\n",
            "Experiment data\n",
            "    P_asymptotic  trial  performance\n",
            "0       0.419192   27.0     0.741623\n",
            "1       0.151515    7.0     0.312232\n",
            "2       0.161616   95.0     0.951504\n",
            "3       0.328283   29.0     0.718583\n",
            "4       0.414141   11.0     0.578812\n",
            "5       0.186869   42.0     0.769352\n",
            "6       0.227273   85.0     0.939664\n",
            "7       0.030303   58.0     0.829798\n",
            "8       0.010101  100.0     0.950716\n",
            "9       0.010101  100.0     0.950716\n",
            "10      0.020202    1.0     0.049159\n",
            "11      0.005051  100.0     0.950464\n",
            "12      0.494949  100.0     0.974855\n",
            "13      0.479798  100.0     0.974101\n",
            "14      0.005051    2.0     0.062992\n",
            "15      0.000000    2.0     0.058235\n",
            "16      0.489899   99.0     0.973830\n",
            "17      0.005051    1.0     0.034456\n"
          ]
        },
        {
          "name": "stderr",
          "output_type": "stream",
          "text": [
            "100%|██████████| 1/1 [00:00<00:00, 11.16it/s]\n",
            "INFO:autora.theorist.bms.regressor:BMS fitting finished\n"
          ]
        },
        {
          "name": "stdout",
          "output_type": "stream",
          "text": [
            "Sampling new experiment conditions..."
          ]
        },
        {
          "name": "stderr",
          "output_type": "stream",
          "text": [
            "INFO:autora.theorist.bms.regressor:BMS fitting started\n"
          ]
        },
        {
          "name": "stdout",
          "output_type": "stream",
          "text": [
            "\n",
            "Obtaining observations...\n",
            "SIMULATION 2 / DISCOVERY CYCLE 18\n",
            "Fitting models on benchmark state...\n",
            "Experiment data\n",
            "    P_asymptotic  trial  performance\n",
            "0       0.419192   27.0     0.741623\n",
            "1       0.095960   35.0     0.683642\n",
            "2       0.237374   78.0     0.926538\n",
            "3       0.232323   97.0     0.958180\n",
            "4       0.262626   69.0     0.906954\n",
            "5       0.500000   54.0     0.901051\n",
            "6       0.404040   80.0     0.945936\n",
            "7       0.116162   65.0     0.874253\n",
            "8       0.085859   54.0     0.819093\n",
            "9       0.247475   77.0     0.925303\n",
            "10      0.348485   78.0     0.937241\n",
            "11      0.040404   12.0     0.330513\n",
            "12      0.398990   99.0     0.969166\n",
            "13      0.500000   88.0     0.964319\n",
            "14      0.429293    9.0     0.564334\n",
            "15      0.338384   93.0     0.959363\n",
            "16      0.136364   88.0     0.938370\n",
            "17      0.262626    3.0     0.326091\n",
            "18      0.247475   98.0     0.960217\n"
          ]
        },
        {
          "name": "stderr",
          "output_type": "stream",
          "text": [
            "100%|██████████| 1/1 [00:00<00:00, 10.41it/s]\n",
            "INFO:autora.theorist.bms.regressor:BMS fitting finished\n",
            "INFO:autora.theorist.bms.regressor:BMS fitting started\n"
          ]
        },
        {
          "name": "stdout",
          "output_type": "stream",
          "text": [
            "Fitting models on working state...\n",
            "Experiment data\n",
            "    P_asymptotic  trial  performance\n",
            "0       0.419192   27.0     0.741623\n",
            "1       0.151515    7.0     0.312232\n",
            "2       0.161616   95.0     0.951504\n",
            "3       0.328283   29.0     0.718583\n",
            "4       0.414141   11.0     0.578812\n",
            "5       0.186869   42.0     0.769352\n",
            "6       0.227273   85.0     0.939664\n",
            "7       0.030303   58.0     0.829798\n",
            "8       0.010101  100.0     0.950716\n",
            "9       0.010101  100.0     0.950716\n",
            "10      0.020202    1.0     0.049159\n",
            "11      0.005051  100.0     0.950464\n",
            "12      0.494949  100.0     0.974855\n",
            "13      0.479798  100.0     0.974101\n",
            "14      0.005051    2.0     0.062992\n",
            "15      0.000000    2.0     0.058235\n",
            "16      0.489899   99.0     0.973830\n",
            "17      0.005051    1.0     0.034456\n",
            "18      0.010101   99.0     0.949215\n"
          ]
        },
        {
          "name": "stderr",
          "output_type": "stream",
          "text": [
            "100%|██████████| 1/1 [00:00<00:00,  8.54it/s]\n",
            "INFO:autora.theorist.bms.regressor:BMS fitting finished\n",
            "INFO:autora.theorist.bms.regressor:BMS fitting started\n"
          ]
        },
        {
          "name": "stdout",
          "output_type": "stream",
          "text": [
            "Sampling new experiment conditions...\n",
            "Obtaining observations...\n",
            "SIMULATION 2 / DISCOVERY CYCLE 19\n",
            "Fitting models on benchmark state...\n",
            "Experiment data\n",
            "    P_asymptotic  trial  performance\n",
            "0       0.419192   27.0     0.741623\n",
            "1       0.095960   35.0     0.683642\n",
            "2       0.237374   78.0     0.926538\n",
            "3       0.232323   97.0     0.958180\n",
            "4       0.262626   69.0     0.906954\n",
            "5       0.500000   54.0     0.901051\n",
            "6       0.404040   80.0     0.945936\n",
            "7       0.116162   65.0     0.874253\n",
            "8       0.085859   54.0     0.819093\n",
            "9       0.247475   77.0     0.925303\n",
            "10      0.348485   78.0     0.937241\n",
            "11      0.040404   12.0     0.330513\n",
            "12      0.398990   99.0     0.969166\n",
            "13      0.500000   88.0     0.964319\n",
            "14      0.429293    9.0     0.564334\n",
            "15      0.338384   93.0     0.959363\n",
            "16      0.136364   88.0     0.938370\n",
            "17      0.262626    3.0     0.326091\n",
            "18      0.247475   98.0     0.960217\n",
            "19      0.050505   77.0     0.905752\n"
          ]
        },
        {
          "name": "stderr",
          "output_type": "stream",
          "text": [
            "100%|██████████| 1/1 [00:00<00:00, 10.64it/s]\n",
            "INFO:autora.theorist.bms.regressor:BMS fitting finished\n",
            "INFO:autora.theorist.bms.regressor:BMS fitting started\n"
          ]
        },
        {
          "name": "stdout",
          "output_type": "stream",
          "text": [
            "Fitting models on working state...\n",
            "Experiment data\n",
            "    P_asymptotic  trial  performance\n",
            "0       0.419192   27.0     0.741623\n",
            "1       0.151515    7.0     0.312232\n",
            "2       0.161616   95.0     0.951504\n",
            "3       0.328283   29.0     0.718583\n",
            "4       0.414141   11.0     0.578812\n",
            "5       0.186869   42.0     0.769352\n",
            "6       0.227273   85.0     0.939664\n",
            "7       0.030303   58.0     0.829798\n",
            "8       0.010101  100.0     0.950716\n",
            "9       0.010101  100.0     0.950716\n",
            "10      0.020202    1.0     0.049159\n",
            "11      0.005051  100.0     0.950464\n",
            "12      0.494949  100.0     0.974855\n",
            "13      0.479798  100.0     0.974101\n",
            "14      0.005051    2.0     0.062992\n",
            "15      0.000000    2.0     0.058235\n",
            "16      0.489899   99.0     0.973830\n",
            "17      0.005051    1.0     0.034456\n",
            "18      0.010101   99.0     0.949215\n",
            "19      0.010101   99.0     0.949215\n"
          ]
        },
        {
          "name": "stderr",
          "output_type": "stream",
          "text": [
            "100%|██████████| 1/1 [00:00<00:00, 11.50it/s]\n",
            "INFO:autora.theorist.bms.regressor:BMS fitting finished\n",
            "INFO:autora.theorist.bms.regressor:BMS fitting started\n"
          ]
        },
        {
          "name": "stdout",
          "output_type": "stream",
          "text": [
            "Sampling new experiment conditions...\n",
            "Obtaining observations...\n",
            "SIMULATION 3 / DISCOVERY CYCLE 0\n",
            "Fitting models on benchmark state...\n",
            "Experiment data\n",
            "   P_asymptotic  trial  performance\n",
            "0      0.409091    9.0     0.548912\n"
          ]
        },
        {
          "name": "stderr",
          "output_type": "stream",
          "text": [
            "100%|██████████| 1/1 [00:00<00:00, 13.51it/s]\n",
            "INFO:autora.theorist.bms.regressor:BMS fitting finished\n",
            "INFO:autora.theorist.bms.regressor:BMS fitting started\n"
          ]
        },
        {
          "name": "stdout",
          "output_type": "stream",
          "text": [
            "Fitting models on working state...\n",
            "Experiment data\n",
            "   P_asymptotic  trial  performance\n",
            "0      0.409091    9.0     0.548912\n"
          ]
        },
        {
          "name": "stderr",
          "output_type": "stream",
          "text": [
            "100%|██████████| 1/1 [00:00<00:00, 10.69it/s]\n",
            "INFO:autora.theorist.bms.regressor:BMS fitting finished\n",
            "INFO:autora.theorist.bms.regressor:BMS fitting started\n"
          ]
        },
        {
          "name": "stdout",
          "output_type": "stream",
          "text": [
            "Sampling new experiment conditions...\n",
            "Obtaining observations...\n",
            "SIMULATION 3 / DISCOVERY CYCLE 1\n",
            "Fitting models on benchmark state...\n",
            "Experiment data\n",
            "   P_asymptotic  trial  performance\n",
            "0      0.409091    9.0     0.548912\n",
            "1      0.444444   45.0     0.855978\n"
          ]
        },
        {
          "name": "stderr",
          "output_type": "stream",
          "text": [
            "100%|██████████| 1/1 [00:00<00:00, 11.13it/s]\n",
            "INFO:autora.theorist.bms.regressor:BMS fitting finished\n",
            "INFO:autora.theorist.bms.regressor:BMS fitting started\n"
          ]
        },
        {
          "name": "stdout",
          "output_type": "stream",
          "text": [
            "Fitting models on working state...\n",
            "Experiment data\n",
            "   P_asymptotic  trial  performance\n",
            "0      0.409091    9.0     0.548912\n",
            "1      0.297980   26.0     0.678190\n"
          ]
        },
        {
          "name": "stderr",
          "output_type": "stream",
          "text": [
            "100%|██████████| 1/1 [00:00<00:00, 15.40it/s]\n",
            "INFO:autora.theorist.bms.regressor:BMS fitting finished\n",
            "INFO:autora.theorist.bms.regressor:BMS fitting started\n"
          ]
        },
        {
          "name": "stdout",
          "output_type": "stream",
          "text": [
            "Sampling new experiment conditions...\n",
            "Obtaining observations...\n",
            "SIMULATION 3 / DISCOVERY CYCLE 2\n",
            "Fitting models on benchmark state...\n",
            "Experiment data\n",
            "   P_asymptotic  trial  performance\n",
            "0      0.409091    9.0     0.548912\n",
            "1      0.444444   45.0     0.855978\n",
            "2      0.358586   12.0     0.552501\n"
          ]
        },
        {
          "name": "stderr",
          "output_type": "stream",
          "text": [
            "100%|██████████| 1/1 [00:00<00:00, 12.03it/s]\n",
            "INFO:autora.theorist.bms.regressor:BMS fitting finished\n",
            "INFO:autora.theorist.bms.regressor:BMS fitting started\n"
          ]
        },
        {
          "name": "stdout",
          "output_type": "stream",
          "text": [
            "Fitting models on working state...\n",
            "Experiment data\n",
            "   P_asymptotic  trial  performance\n",
            "0      0.409091    9.0     0.548912\n",
            "1      0.297980   26.0     0.678190\n",
            "2      0.424242   88.0     0.958913\n"
          ]
        },
        {
          "name": "stderr",
          "output_type": "stream",
          "text": [
            "100%|██████████| 1/1 [00:00<00:00, 14.32it/s]\n",
            "INFO:autora.theorist.bms.regressor:BMS fitting finished\n"
          ]
        },
        {
          "name": "stdout",
          "output_type": "stream",
          "text": [
            "Sampling new experiment conditions...\n",
            "Obtaining observations...\n",
            "SIMULATION 3 / DISCOVERY CYCLE 3\n",
            "Fitting models on benchmark state...\n",
            "Experiment data\n",
            "   P_asymptotic  trial  performance\n",
            "0      0.409091    9.0     0.548912\n",
            "1      0.444444   45.0     0.855978\n",
            "2      0.358586   12.0     0.552501\n",
            "3      0.070707   19.0     0.474461\n"
          ]
        },
        {
          "name": "stderr",
          "output_type": "stream",
          "text": [
            "INFO:autora.theorist.bms.regressor:BMS fitting started\n",
            "100%|██████████| 1/1 [00:00<00:00, 10.49it/s]\n",
            "INFO:autora.theorist.bms.regressor:BMS fitting finished\n",
            "INFO:autora.theorist.bms.regressor:BMS fitting started\n"
          ]
        },
        {
          "name": "stdout",
          "output_type": "stream",
          "text": [
            "Fitting models on working state...\n",
            "Experiment data\n",
            "   P_asymptotic  trial  performance\n",
            "0      0.409091    9.0     0.548912\n",
            "1      0.297980   26.0     0.678190\n",
            "2      0.424242   88.0     0.958913\n",
            "3      0.419192   70.0     0.928876\n"
          ]
        },
        {
          "name": "stderr",
          "output_type": "stream",
          "text": [
            "100%|██████████| 1/1 [00:00<00:00, 11.94it/s]\n",
            "INFO:autora.theorist.bms.regressor:BMS fitting finished\n",
            "INFO:autora.theorist.bms.regressor:BMS fitting started\n"
          ]
        },
        {
          "name": "stdout",
          "output_type": "stream",
          "text": [
            "Sampling new experiment conditions...\n",
            "Obtaining observations...\n",
            "SIMULATION 3 / DISCOVERY CYCLE 4\n",
            "Fitting models on benchmark state...\n",
            "Experiment data\n",
            "   P_asymptotic  trial  performance\n",
            "0      0.409091    9.0     0.548912\n",
            "1      0.444444   45.0     0.855978\n",
            "2      0.358586   12.0     0.552501\n",
            "3      0.070707   19.0     0.474461\n",
            "4      0.388889   54.0     0.879062\n"
          ]
        },
        {
          "name": "stderr",
          "output_type": "stream",
          "text": [
            "100%|██████████| 1/1 [00:00<00:00, 15.51it/s]\n",
            "INFO:autora.theorist.bms.regressor:BMS fitting finished\n"
          ]
        },
        {
          "name": "stdout",
          "output_type": "stream",
          "text": [
            "Fitting models on working state...\n",
            "Experiment data\n",
            "   P_asymptotic  trial  performance\n",
            "0      0.409091    9.0     0.548912\n",
            "1      0.297980   26.0     0.678190\n",
            "2      0.424242   88.0     0.958913\n",
            "3      0.419192   70.0     0.928876\n",
            "4      0.267677   73.0     0.918041\n"
          ]
        },
        {
          "name": "stderr",
          "output_type": "stream",
          "text": [
            "INFO:autora.theorist.bms.regressor:BMS fitting started\n",
            "100%|██████████| 1/1 [00:00<00:00, 12.45it/s]\n",
            "INFO:autora.theorist.bms.regressor:BMS fitting finished\n"
          ]
        },
        {
          "name": "stdout",
          "output_type": "stream",
          "text": [
            "Sampling new experiment conditions...\n",
            "Obtaining observations...\n",
            "SIMULATION 3 / DISCOVERY CYCLE 5\n",
            "Fitting models on benchmark state...\n",
            "Experiment data\n",
            "   P_asymptotic  trial  performance\n",
            "0      0.409091    9.0     0.548912\n",
            "1      0.444444   45.0     0.855978\n",
            "2      0.358586   12.0     0.552501\n",
            "3      0.070707   19.0     0.474461\n",
            "4      0.388889   54.0     0.879062\n",
            "5      0.090909   78.0     0.912429\n"
          ]
        },
        {
          "name": "stderr",
          "output_type": "stream",
          "text": [
            "INFO:autora.theorist.bms.regressor:BMS fitting started\n",
            "100%|██████████| 1/1 [00:00<00:00,  8.26it/s]\n",
            "INFO:autora.theorist.bms.regressor:BMS fitting finished\n",
            "INFO:autora.theorist.bms.regressor:BMS fitting started\n"
          ]
        },
        {
          "name": "stdout",
          "output_type": "stream",
          "text": [
            "Fitting models on working state...\n",
            "Experiment data\n",
            "   P_asymptotic  trial  performance\n",
            "0      0.409091    9.0     0.548912\n",
            "1      0.297980   26.0     0.678190\n",
            "2      0.424242   88.0     0.958913\n",
            "3      0.419192   70.0     0.928876\n",
            "4      0.267677   73.0     0.918041\n",
            "5      0.282828   51.0     0.844707\n"
          ]
        },
        {
          "name": "stderr",
          "output_type": "stream",
          "text": [
            "100%|██████████| 1/1 [00:00<00:00, 13.56it/s]\n",
            "INFO:autora.theorist.bms.regressor:BMS fitting finished\n",
            "INFO:autora.theorist.bms.regressor:BMS fitting started\n"
          ]
        },
        {
          "name": "stdout",
          "output_type": "stream",
          "text": [
            "Sampling new experiment conditions...\n",
            "Obtaining observations...\n",
            "SIMULATION 3 / DISCOVERY CYCLE 6\n",
            "Fitting models on benchmark state...\n",
            "Experiment data\n",
            "   P_asymptotic  trial  performance\n",
            "0      0.409091    9.0     0.548912\n",
            "1      0.444444   45.0     0.855978\n",
            "2      0.358586   12.0     0.552501\n",
            "3      0.070707   19.0     0.474461\n",
            "4      0.388889   54.0     0.879062\n",
            "5      0.090909   78.0     0.912429\n",
            "6      0.368687   32.0     0.758275\n"
          ]
        },
        {
          "name": "stderr",
          "output_type": "stream",
          "text": [
            "100%|██████████| 1/1 [00:00<00:00,  6.20it/s]\n",
            "INFO:autora.theorist.bms.regressor:BMS fitting finished\n",
            "INFO:autora.theorist.bms.regressor:BMS fitting started\n"
          ]
        },
        {
          "name": "stdout",
          "output_type": "stream",
          "text": [
            "Fitting models on working state...\n",
            "Experiment data\n",
            "   P_asymptotic  trial  performance\n",
            "0      0.409091    9.0     0.548912\n",
            "1      0.297980   26.0     0.678190\n",
            "2      0.424242   88.0     0.958913\n",
            "3      0.419192   70.0     0.928876\n",
            "4      0.267677   73.0     0.918041\n",
            "5      0.282828   51.0     0.844707\n",
            "6      0.161616   52.0     0.823825\n"
          ]
        },
        {
          "name": "stderr",
          "output_type": "stream",
          "text": [
            "100%|██████████| 1/1 [00:00<00:00,  8.34it/s]\n",
            "INFO:autora.theorist.bms.regressor:BMS fitting finished\n",
            "INFO:autora.theorist.bms.regressor:BMS fitting started\n"
          ]
        },
        {
          "name": "stdout",
          "output_type": "stream",
          "text": [
            "Sampling new experiment conditions...\n",
            "Obtaining observations...\n",
            "SIMULATION 3 / DISCOVERY CYCLE 7\n",
            "Fitting models on benchmark state...\n",
            "Experiment data\n",
            "   P_asymptotic  trial  performance\n",
            "0      0.409091    9.0     0.548912\n",
            "1      0.444444   45.0     0.855978\n",
            "2      0.358586   12.0     0.552501\n",
            "3      0.070707   19.0     0.474461\n",
            "4      0.388889   54.0     0.879062\n",
            "5      0.090909   78.0     0.912429\n",
            "6      0.368687   32.0     0.758275\n",
            "7      0.207071   22.0     0.590173\n"
          ]
        },
        {
          "name": "stderr",
          "output_type": "stream",
          "text": [
            "100%|██████████| 1/1 [00:00<00:00,  9.87it/s]\n",
            "INFO:autora.theorist.bms.regressor:BMS fitting finished\n",
            "INFO:autora.theorist.bms.regressor:BMS fitting started\n"
          ]
        },
        {
          "name": "stdout",
          "output_type": "stream",
          "text": [
            "Fitting models on working state...\n",
            "Experiment data\n",
            "   P_asymptotic  trial  performance\n",
            "0      0.409091    9.0     0.548912\n",
            "1      0.297980   26.0     0.678190\n",
            "2      0.424242   88.0     0.958913\n",
            "3      0.419192   70.0     0.928876\n",
            "4      0.267677   73.0     0.918041\n",
            "5      0.282828   51.0     0.844707\n",
            "6      0.161616   52.0     0.823825\n",
            "7      0.202020   75.0     0.915894\n"
          ]
        },
        {
          "name": "stderr",
          "output_type": "stream",
          "text": [
            "100%|██████████| 1/1 [00:00<00:00, 10.63it/s]\n",
            "INFO:autora.theorist.bms.regressor:BMS fitting finished\n",
            "INFO:autora.theorist.bms.regressor:BMS fitting started\n"
          ]
        },
        {
          "name": "stdout",
          "output_type": "stream",
          "text": [
            "Sampling new experiment conditions...\n",
            "Obtaining observations...\n",
            "SIMULATION 3 / DISCOVERY CYCLE 8\n",
            "Fitting models on benchmark state...\n",
            "Experiment data\n",
            "   P_asymptotic  trial  performance\n",
            "0      0.409091    9.0     0.548912\n",
            "1      0.444444   45.0     0.855978\n",
            "2      0.358586   12.0     0.552501\n",
            "3      0.070707   19.0     0.474461\n",
            "4      0.388889   54.0     0.879062\n",
            "5      0.090909   78.0     0.912429\n",
            "6      0.368687   32.0     0.758275\n",
            "7      0.207071   22.0     0.590173\n",
            "8      0.070707   35.0     0.674805\n"
          ]
        },
        {
          "name": "stderr",
          "output_type": "stream",
          "text": [
            "100%|██████████| 1/1 [00:00<00:00, 11.61it/s]\n",
            "INFO:autora.theorist.bms.regressor:BMS fitting finished\n",
            "INFO:autora.theorist.bms.regressor:BMS fitting started\n"
          ]
        },
        {
          "name": "stdout",
          "output_type": "stream",
          "text": [
            "Fitting models on working state...\n",
            "Experiment data\n",
            "   P_asymptotic  trial  performance\n",
            "0      0.409091    9.0     0.548912\n",
            "1      0.297980   26.0     0.678190\n",
            "2      0.424242   88.0     0.958913\n",
            "3      0.419192   70.0     0.928876\n",
            "4      0.267677   73.0     0.918041\n",
            "5      0.282828   51.0     0.844707\n",
            "6      0.161616   52.0     0.823825\n",
            "7      0.202020   75.0     0.915894\n",
            "8      0.500000    1.0     0.514777\n"
          ]
        },
        {
          "name": "stderr",
          "output_type": "stream",
          "text": [
            "100%|██████████| 1/1 [00:00<00:00,  9.66it/s]\n",
            "INFO:autora.theorist.bms.regressor:BMS fitting finished\n",
            "INFO:autora.theorist.bms.regressor:BMS fitting started\n"
          ]
        },
        {
          "name": "stdout",
          "output_type": "stream",
          "text": [
            "Sampling new experiment conditions...\n",
            "Obtaining observations...\n",
            "SIMULATION 3 / DISCOVERY CYCLE 9\n",
            "Fitting models on benchmark state...\n",
            "Experiment data\n",
            "   P_asymptotic  trial  performance\n",
            "0      0.409091    9.0     0.548912\n",
            "1      0.444444   45.0     0.855978\n",
            "2      0.358586   12.0     0.552501\n",
            "3      0.070707   19.0     0.474461\n",
            "4      0.388889   54.0     0.879062\n",
            "5      0.090909   78.0     0.912429\n",
            "6      0.368687   32.0     0.758275\n",
            "7      0.207071   22.0     0.590173\n",
            "8      0.070707   35.0     0.674805\n",
            "9      0.469697   59.0     0.909672\n"
          ]
        },
        {
          "name": "stderr",
          "output_type": "stream",
          "text": [
            "100%|██████████| 1/1 [00:00<00:00, 13.92it/s]\n",
            "INFO:autora.theorist.bms.regressor:BMS fitting finished\n",
            "INFO:autora.theorist.bms.regressor:BMS fitting started\n"
          ]
        },
        {
          "name": "stdout",
          "output_type": "stream",
          "text": [
            "Fitting models on working state...\n",
            "Experiment data\n",
            "   P_asymptotic  trial  performance\n",
            "0      0.409091    9.0     0.548912\n",
            "1      0.297980   26.0     0.678190\n",
            "2      0.424242   88.0     0.958913\n",
            "3      0.419192   70.0     0.928876\n",
            "4      0.267677   73.0     0.918041\n",
            "5      0.282828   51.0     0.844707\n",
            "6      0.161616   52.0     0.823825\n",
            "7      0.202020   75.0     0.915894\n",
            "8      0.500000    1.0     0.514777\n",
            "9      0.030303  100.0     0.951722\n"
          ]
        },
        {
          "name": "stderr",
          "output_type": "stream",
          "text": [
            "100%|██████████| 1/1 [00:00<00:00, 12.22it/s]\n",
            "INFO:autora.theorist.bms.regressor:BMS fitting finished\n"
          ]
        },
        {
          "name": "stdout",
          "output_type": "stream",
          "text": [
            "Sampling new experiment conditions...\n"
          ]
        },
        {
          "name": "stderr",
          "output_type": "stream",
          "text": [
            "INFO:autora.theorist.bms.regressor:BMS fitting started\n"
          ]
        },
        {
          "name": "stdout",
          "output_type": "stream",
          "text": [
            "Obtaining observations...\n",
            "SIMULATION 3 / DISCOVERY CYCLE 10\n",
            "Fitting models on benchmark state...\n",
            "Experiment data\n",
            "    P_asymptotic  trial  performance\n",
            "0       0.409091    9.0     0.548912\n",
            "1       0.444444   45.0     0.855978\n",
            "2       0.358586   12.0     0.552501\n",
            "3       0.070707   19.0     0.474461\n",
            "4       0.388889   54.0     0.879062\n",
            "5       0.090909   78.0     0.912429\n",
            "6       0.368687   32.0     0.758275\n",
            "7       0.207071   22.0     0.590173\n",
            "8       0.070707   35.0     0.674805\n",
            "9       0.469697   59.0     0.909672\n",
            "10      0.181818   90.0     0.945014\n"
          ]
        },
        {
          "name": "stderr",
          "output_type": "stream",
          "text": [
            "100%|██████████| 1/1 [00:00<00:00, 12.18it/s]\n",
            "INFO:autora.theorist.bms.regressor:BMS fitting finished\n",
            "INFO:autora.theorist.bms.regressor:BMS fitting started\n"
          ]
        },
        {
          "name": "stdout",
          "output_type": "stream",
          "text": [
            "Fitting models on working state...\n",
            "Experiment data\n",
            "    P_asymptotic  trial  performance\n",
            "0       0.409091    9.0     0.548912\n",
            "1       0.297980   26.0     0.678190\n",
            "2       0.424242   88.0     0.958913\n",
            "3       0.419192   70.0     0.928876\n",
            "4       0.267677   73.0     0.918041\n",
            "5       0.282828   51.0     0.844707\n",
            "6       0.161616   52.0     0.823825\n",
            "7       0.202020   75.0     0.915894\n",
            "8       0.500000    1.0     0.514777\n",
            "9       0.030303  100.0     0.951722\n",
            "10      0.030303  100.0     0.951722\n"
          ]
        },
        {
          "name": "stderr",
          "output_type": "stream",
          "text": [
            "100%|██████████| 1/1 [00:00<00:00, 12.18it/s]\n",
            "INFO:autora.theorist.bms.regressor:BMS fitting finished\n",
            "INFO:autora.theorist.bms.regressor:BMS fitting started\n"
          ]
        },
        {
          "name": "stdout",
          "output_type": "stream",
          "text": [
            "Sampling new experiment conditions...\n",
            "Obtaining observations...\n",
            "SIMULATION 3 / DISCOVERY CYCLE 11\n",
            "Fitting models on benchmark state...\n",
            "Experiment data\n",
            "    P_asymptotic  trial  performance\n",
            "0       0.409091    9.0     0.548912\n",
            "1       0.444444   45.0     0.855978\n",
            "2       0.358586   12.0     0.552501\n",
            "3       0.070707   19.0     0.474461\n",
            "4       0.388889   54.0     0.879062\n",
            "5       0.090909   78.0     0.912429\n",
            "6       0.368687   32.0     0.758275\n",
            "7       0.207071   22.0     0.590173\n",
            "8       0.070707   35.0     0.674805\n",
            "9       0.469697   59.0     0.909672\n",
            "10      0.181818   90.0     0.945014\n",
            "11      0.101010   15.0     0.426779\n"
          ]
        },
        {
          "name": "stderr",
          "output_type": "stream",
          "text": [
            "100%|██████████| 1/1 [00:00<00:00, 12.41it/s]\n",
            "INFO:autora.theorist.bms.regressor:BMS fitting finished\n",
            "INFO:autora.theorist.bms.regressor:BMS fitting started\n"
          ]
        },
        {
          "name": "stdout",
          "output_type": "stream",
          "text": [
            "Fitting models on working state...\n",
            "Experiment data\n",
            "    P_asymptotic  trial  performance\n",
            "0       0.409091    9.0     0.548912\n",
            "1       0.297980   26.0     0.678190\n",
            "2       0.424242   88.0     0.958913\n",
            "3       0.419192   70.0     0.928876\n",
            "4       0.267677   73.0     0.918041\n",
            "5       0.282828   51.0     0.844707\n",
            "6       0.161616   52.0     0.823825\n",
            "7       0.202020   75.0     0.915894\n",
            "8       0.500000    1.0     0.514777\n",
            "9       0.030303  100.0     0.951722\n",
            "10      0.030303  100.0     0.951722\n",
            "11      0.030303    1.0     0.058962\n"
          ]
        },
        {
          "name": "stderr",
          "output_type": "stream",
          "text": [
            "100%|██████████| 1/1 [00:00<00:00, 11.53it/s]\n",
            "INFO:autora.theorist.bms.regressor:BMS fitting finished\n",
            "INFO:autora.theorist.bms.regressor:BMS fitting started\n"
          ]
        },
        {
          "name": "stdout",
          "output_type": "stream",
          "text": [
            "Sampling new experiment conditions...\n",
            "Obtaining observations...\n",
            "SIMULATION 3 / DISCOVERY CYCLE 12\n",
            "Fitting models on benchmark state...\n",
            "Experiment data\n",
            "    P_asymptotic  trial  performance\n",
            "0       0.409091    9.0     0.548912\n",
            "1       0.444444   45.0     0.855978\n",
            "2       0.358586   12.0     0.552501\n",
            "3       0.070707   19.0     0.474461\n",
            "4       0.388889   54.0     0.879062\n",
            "5       0.090909   78.0     0.912429\n",
            "6       0.368687   32.0     0.758275\n",
            "7       0.207071   22.0     0.590173\n",
            "8       0.070707   35.0     0.674805\n",
            "9       0.469697   59.0     0.909672\n",
            "10      0.181818   90.0     0.945014\n",
            "11      0.101010   15.0     0.426779\n",
            "12      0.398990   38.0     0.807786\n"
          ]
        },
        {
          "name": "stderr",
          "output_type": "stream",
          "text": [
            "100%|██████████| 1/1 [00:00<00:00, 10.61it/s]\n",
            "INFO:autora.theorist.bms.regressor:BMS fitting finished\n"
          ]
        },
        {
          "name": "stdout",
          "output_type": "stream",
          "text": [
            "Fitting models on working state...\n",
            "Experiment data\n",
            "    P_asymptotic  trial  performance\n",
            "0       0.409091    9.0     0.548912\n",
            "1       0.297980   26.0     0.678190\n",
            "2       0.424242   88.0     0.958913\n",
            "3       0.419192   70.0     0.928876\n",
            "4       0.267677   73.0     0.918041\n",
            "5       0.282828   51.0     0.844707\n",
            "6       0.161616   52.0     0.823825\n",
            "7       0.202020   75.0     0.915894\n",
            "8       0.500000    1.0     0.514777\n",
            "9       0.030303  100.0     0.951722\n",
            "10      0.030303  100.0     0.951722\n",
            "11      0.030303    1.0     0.058962\n",
            "12      0.005051  100.0     0.950464\n"
          ]
        },
        {
          "name": "stderr",
          "output_type": "stream",
          "text": [
            "INFO:autora.theorist.bms.regressor:BMS fitting started\n",
            "100%|██████████| 1/1 [00:00<00:00,  8.77it/s]\n",
            "INFO:autora.theorist.bms.regressor:BMS fitting finished\n",
            "INFO:autora.theorist.bms.regressor:BMS fitting started\n"
          ]
        },
        {
          "name": "stdout",
          "output_type": "stream",
          "text": [
            "Sampling new experiment conditions...\n",
            "Obtaining observations...\n",
            "SIMULATION 3 / DISCOVERY CYCLE 13\n",
            "Fitting models on benchmark state...\n",
            "Experiment data\n",
            "    P_asymptotic  trial  performance\n",
            "0       0.409091    9.0     0.548912\n",
            "1       0.444444   45.0     0.855978\n",
            "2       0.358586   12.0     0.552501\n",
            "3       0.070707   19.0     0.474461\n",
            "4       0.388889   54.0     0.879062\n",
            "5       0.090909   78.0     0.912429\n",
            "6       0.368687   32.0     0.758275\n",
            "7       0.207071   22.0     0.590173\n",
            "8       0.070707   35.0     0.674805\n",
            "9       0.469697   59.0     0.909672\n",
            "10      0.181818   90.0     0.945014\n",
            "11      0.101010   15.0     0.426779\n",
            "12      0.398990   38.0     0.807786\n",
            "13      0.313131   66.0     0.905165\n"
          ]
        },
        {
          "name": "stderr",
          "output_type": "stream",
          "text": [
            "100%|██████████| 1/1 [00:00<00:00,  9.63it/s]\n",
            "INFO:autora.theorist.bms.regressor:BMS fitting finished\n",
            "INFO:autora.theorist.bms.regressor:BMS fitting started\n"
          ]
        },
        {
          "name": "stdout",
          "output_type": "stream",
          "text": [
            "Fitting models on working state...\n",
            "Experiment data\n",
            "    P_asymptotic  trial  performance\n",
            "0       0.409091    9.0     0.548912\n",
            "1       0.297980   26.0     0.678190\n",
            "2       0.424242   88.0     0.958913\n",
            "3       0.419192   70.0     0.928876\n",
            "4       0.267677   73.0     0.918041\n",
            "5       0.282828   51.0     0.844707\n",
            "6       0.161616   52.0     0.823825\n",
            "7       0.202020   75.0     0.915894\n",
            "8       0.500000    1.0     0.514777\n",
            "9       0.030303  100.0     0.951722\n",
            "10      0.030303  100.0     0.951722\n",
            "11      0.030303    1.0     0.058962\n",
            "12      0.005051  100.0     0.950464\n",
            "13      0.005051  100.0     0.950464\n"
          ]
        },
        {
          "name": "stderr",
          "output_type": "stream",
          "text": [
            "100%|██████████| 1/1 [00:00<00:00, 11.63it/s]\n",
            "INFO:autora.theorist.bms.regressor:BMS fitting finished\n",
            "INFO:autora.theorist.bms.regressor:BMS fitting started\n"
          ]
        },
        {
          "name": "stdout",
          "output_type": "stream",
          "text": [
            "Sampling new experiment conditions...\n",
            "Obtaining observations...\n",
            "SIMULATION 3 / DISCOVERY CYCLE 14\n",
            "Fitting models on benchmark state...\n",
            "Experiment data\n",
            "    P_asymptotic  trial  performance\n",
            "0       0.409091    9.0     0.548912\n",
            "1       0.444444   45.0     0.855978\n",
            "2       0.358586   12.0     0.552501\n",
            "3       0.070707   19.0     0.474461\n",
            "4       0.388889   54.0     0.879062\n",
            "5       0.090909   78.0     0.912429\n",
            "6       0.368687   32.0     0.758275\n",
            "7       0.207071   22.0     0.590173\n",
            "8       0.070707   35.0     0.674805\n",
            "9       0.469697   59.0     0.909672\n",
            "10      0.181818   90.0     0.945014\n",
            "11      0.101010   15.0     0.426779\n",
            "12      0.398990   38.0     0.807786\n",
            "13      0.313131   66.0     0.905165\n",
            "14      0.343434   91.0     0.957179\n"
          ]
        },
        {
          "name": "stderr",
          "output_type": "stream",
          "text": [
            "100%|██████████| 1/1 [00:00<00:00, 10.94it/s]\n",
            "INFO:autora.theorist.bms.regressor:BMS fitting finished\n",
            "INFO:autora.theorist.bms.regressor:BMS fitting started\n"
          ]
        },
        {
          "name": "stdout",
          "output_type": "stream",
          "text": [
            "Fitting models on working state...\n",
            "Experiment data\n",
            "    P_asymptotic  trial  performance\n",
            "0       0.409091    9.0     0.548912\n",
            "1       0.297980   26.0     0.678190\n",
            "2       0.424242   88.0     0.958913\n",
            "3       0.419192   70.0     0.928876\n",
            "4       0.267677   73.0     0.918041\n",
            "5       0.282828   51.0     0.844707\n",
            "6       0.161616   52.0     0.823825\n",
            "7       0.202020   75.0     0.915894\n",
            "8       0.500000    1.0     0.514777\n",
            "9       0.030303  100.0     0.951722\n",
            "10      0.030303  100.0     0.951722\n",
            "11      0.030303    1.0     0.058962\n",
            "12      0.005051  100.0     0.950464\n",
            "13      0.005051  100.0     0.950464\n",
            "14      0.010101   99.0     0.949215\n"
          ]
        },
        {
          "name": "stderr",
          "output_type": "stream",
          "text": [
            "100%|██████████| 1/1 [00:00<00:00,  9.35it/s]\n",
            "INFO:autora.theorist.bms.regressor:BMS fitting finished\n",
            "INFO:autora.theorist.bms.regressor:BMS fitting started\n"
          ]
        },
        {
          "name": "stdout",
          "output_type": "stream",
          "text": [
            "Sampling new experiment conditions...\n",
            "Obtaining observations...\n",
            "SIMULATION 3 / DISCOVERY CYCLE 15\n",
            "Fitting models on benchmark state...\n",
            "Experiment data\n",
            "    P_asymptotic  trial  performance\n",
            "0       0.409091    9.0     0.548912\n",
            "1       0.444444   45.0     0.855978\n",
            "2       0.358586   12.0     0.552501\n",
            "3       0.070707   19.0     0.474461\n",
            "4       0.388889   54.0     0.879062\n",
            "5       0.090909   78.0     0.912429\n",
            "6       0.368687   32.0     0.758275\n",
            "7       0.207071   22.0     0.590173\n",
            "8       0.070707   35.0     0.674805\n",
            "9       0.469697   59.0     0.909672\n",
            "10      0.181818   90.0     0.945014\n",
            "11      0.101010   15.0     0.426779\n",
            "12      0.398990   38.0     0.807786\n",
            "13      0.313131   66.0     0.905165\n",
            "14      0.343434   91.0     0.957179\n",
            "15      0.065657   33.0     0.652820\n"
          ]
        },
        {
          "name": "stderr",
          "output_type": "stream",
          "text": [
            "100%|██████████| 1/1 [00:00<00:00, 13.58it/s]\n",
            "INFO:autora.theorist.bms.regressor:BMS fitting finished\n",
            "INFO:autora.theorist.bms.regressor:BMS fitting started\n"
          ]
        },
        {
          "name": "stdout",
          "output_type": "stream",
          "text": [
            "Fitting models on working state...\n",
            "Experiment data\n",
            "    P_asymptotic  trial  performance\n",
            "0       0.409091    9.0     0.548912\n",
            "1       0.297980   26.0     0.678190\n",
            "2       0.424242   88.0     0.958913\n",
            "3       0.419192   70.0     0.928876\n",
            "4       0.267677   73.0     0.918041\n",
            "5       0.282828   51.0     0.844707\n",
            "6       0.161616   52.0     0.823825\n",
            "7       0.202020   75.0     0.915894\n",
            "8       0.500000    1.0     0.514777\n",
            "9       0.030303  100.0     0.951722\n",
            "10      0.030303  100.0     0.951722\n",
            "11      0.030303    1.0     0.058962\n",
            "12      0.005051  100.0     0.950464\n",
            "13      0.005051  100.0     0.950464\n",
            "14      0.010101   99.0     0.949215\n",
            "15      0.000000    6.0     0.164730\n"
          ]
        },
        {
          "name": "stderr",
          "output_type": "stream",
          "text": [
            "100%|██████████| 1/1 [00:00<00:00, 11.93it/s]\n",
            "INFO:autora.theorist.bms.regressor:BMS fitting finished\n",
            "INFO:autora.theorist.bms.regressor:BMS fitting started\n"
          ]
        },
        {
          "name": "stdout",
          "output_type": "stream",
          "text": [
            "Sampling new experiment conditions...\n",
            "Obtaining observations...\n",
            "SIMULATION 3 / DISCOVERY CYCLE 16\n",
            "Fitting models on benchmark state...\n",
            "Experiment data\n",
            "    P_asymptotic  trial  performance\n",
            "0       0.409091    9.0     0.548912\n",
            "1       0.444444   45.0     0.855978\n",
            "2       0.358586   12.0     0.552501\n",
            "3       0.070707   19.0     0.474461\n",
            "4       0.388889   54.0     0.879062\n",
            "5       0.090909   78.0     0.912429\n",
            "6       0.368687   32.0     0.758275\n",
            "7       0.207071   22.0     0.590173\n",
            "8       0.070707   35.0     0.674805\n",
            "9       0.469697   59.0     0.909672\n",
            "10      0.181818   90.0     0.945014\n",
            "11      0.101010   15.0     0.426779\n",
            "12      0.398990   38.0     0.807786\n",
            "13      0.313131   66.0     0.905165\n",
            "14      0.343434   91.0     0.957179\n",
            "15      0.065657   33.0     0.652820\n",
            "16      0.393939   22.0     0.686757\n"
          ]
        },
        {
          "name": "stderr",
          "output_type": "stream",
          "text": [
            "100%|██████████| 1/1 [00:00<00:00, 14.92it/s]\n",
            "INFO:autora.theorist.bms.regressor:BMS fitting finished\n",
            "INFO:autora.theorist.bms.regressor:BMS fitting started\n"
          ]
        },
        {
          "name": "stdout",
          "output_type": "stream",
          "text": [
            "Fitting models on working state...\n",
            "Experiment data\n",
            "    P_asymptotic  trial  performance\n",
            "0       0.409091    9.0     0.548912\n",
            "1       0.297980   26.0     0.678190\n",
            "2       0.424242   88.0     0.958913\n",
            "3       0.419192   70.0     0.928876\n",
            "4       0.267677   73.0     0.918041\n",
            "5       0.282828   51.0     0.844707\n",
            "6       0.161616   52.0     0.823825\n",
            "7       0.202020   75.0     0.915894\n",
            "8       0.500000    1.0     0.514777\n",
            "9       0.030303  100.0     0.951722\n",
            "10      0.030303  100.0     0.951722\n",
            "11      0.030303    1.0     0.058962\n",
            "12      0.005051  100.0     0.950464\n",
            "13      0.005051  100.0     0.950464\n",
            "14      0.010101   99.0     0.949215\n",
            "15      0.000000    6.0     0.164730\n",
            "16      0.030303  100.0     0.951722\n"
          ]
        },
        {
          "name": "stderr",
          "output_type": "stream",
          "text": [
            "100%|██████████| 1/1 [00:00<00:00,  9.51it/s]\n",
            "INFO:autora.theorist.bms.regressor:BMS fitting finished\n",
            "INFO:autora.theorist.bms.regressor:BMS fitting started\n"
          ]
        },
        {
          "name": "stdout",
          "output_type": "stream",
          "text": [
            "Sampling new experiment conditions...\n",
            "Obtaining observations...\n",
            "SIMULATION 3 / DISCOVERY CYCLE 17\n",
            "Fitting models on benchmark state...\n",
            "Experiment data\n",
            "    P_asymptotic  trial  performance\n",
            "0       0.409091    9.0     0.548912\n",
            "1       0.444444   45.0     0.855978\n",
            "2       0.358586   12.0     0.552501\n",
            "3       0.070707   19.0     0.474461\n",
            "4       0.388889   54.0     0.879062\n",
            "5       0.090909   78.0     0.912429\n",
            "6       0.368687   32.0     0.758275\n",
            "7       0.207071   22.0     0.590173\n",
            "8       0.070707   35.0     0.674805\n",
            "9       0.469697   59.0     0.909672\n",
            "10      0.181818   90.0     0.945014\n",
            "11      0.101010   15.0     0.426779\n",
            "12      0.398990   38.0     0.807786\n",
            "13      0.313131   66.0     0.905165\n",
            "14      0.343434   91.0     0.957179\n",
            "15      0.065657   33.0     0.652820\n",
            "16      0.393939   22.0     0.686757\n",
            "17      0.489899   12.0     0.644115\n"
          ]
        },
        {
          "name": "stderr",
          "output_type": "stream",
          "text": [
            "100%|██████████| 1/1 [00:00<00:00, 10.36it/s]\n",
            "INFO:autora.theorist.bms.regressor:BMS fitting finished\n",
            "INFO:autora.theorist.bms.regressor:BMS fitting started\n"
          ]
        },
        {
          "name": "stdout",
          "output_type": "stream",
          "text": [
            "Fitting models on working state...\n",
            "Experiment data\n",
            "    P_asymptotic  trial  performance\n",
            "0       0.409091    9.0     0.548912\n",
            "1       0.297980   26.0     0.678190\n",
            "2       0.424242   88.0     0.958913\n",
            "3       0.419192   70.0     0.928876\n",
            "4       0.267677   73.0     0.918041\n",
            "5       0.282828   51.0     0.844707\n",
            "6       0.161616   52.0     0.823825\n",
            "7       0.202020   75.0     0.915894\n",
            "8       0.500000    1.0     0.514777\n",
            "9       0.030303  100.0     0.951722\n",
            "10      0.030303  100.0     0.951722\n",
            "11      0.030303    1.0     0.058962\n",
            "12      0.005051  100.0     0.950464\n",
            "13      0.005051  100.0     0.950464\n",
            "14      0.010101   99.0     0.949215\n",
            "15      0.000000    6.0     0.164730\n",
            "16      0.030303  100.0     0.951722\n",
            "17      0.010101    2.0     0.067748\n"
          ]
        },
        {
          "name": "stderr",
          "output_type": "stream",
          "text": [
            "100%|██████████| 1/1 [00:00<00:00, 12.82it/s]\n",
            "INFO:autora.theorist.bms.regressor:BMS fitting finished\n"
          ]
        },
        {
          "name": "stdout",
          "output_type": "stream",
          "text": [
            "Sampling new experiment conditions...\n",
            "Obtaining observations...\n"
          ]
        },
        {
          "name": "stderr",
          "output_type": "stream",
          "text": [
            "INFO:autora.theorist.bms.regressor:BMS fitting started\n"
          ]
        },
        {
          "name": "stdout",
          "output_type": "stream",
          "text": [
            "SIMULATION 3 / DISCOVERY CYCLE 18\n",
            "Fitting models on benchmark state...\n",
            "Experiment data\n",
            "    P_asymptotic  trial  performance\n",
            "0       0.409091    9.0     0.548912\n",
            "1       0.444444   45.0     0.855978\n",
            "2       0.358586   12.0     0.552501\n",
            "3       0.070707   19.0     0.474461\n",
            "4       0.388889   54.0     0.879062\n",
            "5       0.090909   78.0     0.912429\n",
            "6       0.368687   32.0     0.758275\n",
            "7       0.207071   22.0     0.590173\n",
            "8       0.070707   35.0     0.674805\n",
            "9       0.469697   59.0     0.909672\n",
            "10      0.181818   90.0     0.945014\n",
            "11      0.101010   15.0     0.426779\n",
            "12      0.398990   38.0     0.807786\n",
            "13      0.313131   66.0     0.905165\n",
            "14      0.343434   91.0     0.957179\n",
            "15      0.065657   33.0     0.652820\n",
            "16      0.393939   22.0     0.686757\n",
            "17      0.489899   12.0     0.644115\n",
            "18      0.454545   14.0     0.641611\n"
          ]
        },
        {
          "name": "stderr",
          "output_type": "stream",
          "text": [
            "100%|██████████| 1/1 [00:00<00:00, 10.93it/s]\n",
            "INFO:autora.theorist.bms.regressor:BMS fitting finished\n"
          ]
        },
        {
          "name": "stdout",
          "output_type": "stream",
          "text": [
            "Fitting models on working state...\n",
            "Experiment data\n",
            "    P_asymptotic  trial  performance\n",
            "0       0.409091    9.0     0.548912\n",
            "1       0.297980   26.0     0.678190\n",
            "2       0.424242   88.0     0.958913\n",
            "3       0.419192   70.0     0.928876\n",
            "4       0.267677   73.0     0.918041\n",
            "5       0.282828   51.0     0.844707\n",
            "6       0.161616   52.0     0.823825\n",
            "7       0.202020   75.0     0.915894\n",
            "8       0.500000    1.0     0.514777\n",
            "9       0.030303  100.0     0.951722\n",
            "10      0.030303  100.0     0.951722\n",
            "11      0.030303    1.0     0.058962\n",
            "12      0.005051  100.0     0.950464\n",
            "13      0.005051  100.0     0.950464\n",
            "14      0.010101   99.0     0.949215\n",
            "15      0.000000    6.0     0.164730\n",
            "16      0.030303  100.0     0.951722\n",
            "17      0.010101    2.0     0.067748\n",
            "18      0.000000    1.0     0.029554\n"
          ]
        },
        {
          "name": "stderr",
          "output_type": "stream",
          "text": [
            "INFO:autora.theorist.bms.regressor:BMS fitting started\n",
            "100%|██████████| 1/1 [00:00<00:00,  8.16it/s]\n",
            "INFO:autora.theorist.bms.regressor:BMS fitting finished\n",
            "INFO:autora.theorist.bms.regressor:BMS fitting started\n"
          ]
        },
        {
          "name": "stdout",
          "output_type": "stream",
          "text": [
            "Sampling new experiment conditions...\n",
            "Obtaining observations...\n",
            "SIMULATION 3 / DISCOVERY CYCLE 19\n",
            "Fitting models on benchmark state...\n",
            "Experiment data\n",
            "    P_asymptotic  trial  performance\n",
            "0       0.409091    9.0     0.548912\n",
            "1       0.444444   45.0     0.855978\n",
            "2       0.358586   12.0     0.552501\n",
            "3       0.070707   19.0     0.474461\n",
            "4       0.388889   54.0     0.879062\n",
            "5       0.090909   78.0     0.912429\n",
            "6       0.368687   32.0     0.758275\n",
            "7       0.207071   22.0     0.590173\n",
            "8       0.070707   35.0     0.674805\n",
            "9       0.469697   59.0     0.909672\n",
            "10      0.181818   90.0     0.945014\n",
            "11      0.101010   15.0     0.426779\n",
            "12      0.398990   38.0     0.807786\n",
            "13      0.313131   66.0     0.905165\n",
            "14      0.343434   91.0     0.957179\n",
            "15      0.065657   33.0     0.652820\n",
            "16      0.393939   22.0     0.686757\n",
            "17      0.489899   12.0     0.644115\n",
            "18      0.454545   14.0     0.641611\n",
            "19      0.242424    4.0     0.328091\n"
          ]
        },
        {
          "name": "stderr",
          "output_type": "stream",
          "text": [
            "100%|██████████| 1/1 [00:00<00:00, 13.70it/s]\n",
            "INFO:autora.theorist.bms.regressor:BMS fitting finished\n",
            "INFO:autora.theorist.bms.regressor:BMS fitting started\n"
          ]
        },
        {
          "name": "stdout",
          "output_type": "stream",
          "text": [
            "Fitting models on working state...\n",
            "Experiment data\n",
            "    P_asymptotic  trial  performance\n",
            "0       0.409091    9.0     0.548912\n",
            "1       0.297980   26.0     0.678190\n",
            "2       0.424242   88.0     0.958913\n",
            "3       0.419192   70.0     0.928876\n",
            "4       0.267677   73.0     0.918041\n",
            "5       0.282828   51.0     0.844707\n",
            "6       0.161616   52.0     0.823825\n",
            "7       0.202020   75.0     0.915894\n",
            "8       0.500000    1.0     0.514777\n",
            "9       0.030303  100.0     0.951722\n",
            "10      0.030303  100.0     0.951722\n",
            "11      0.030303    1.0     0.058962\n",
            "12      0.005051  100.0     0.950464\n",
            "13      0.005051  100.0     0.950464\n",
            "14      0.010101   99.0     0.949215\n",
            "15      0.000000    6.0     0.164730\n",
            "16      0.030303  100.0     0.951722\n",
            "17      0.010101    2.0     0.067748\n",
            "18      0.000000    1.0     0.029554\n",
            "19      0.500000  100.0     0.975106\n"
          ]
        },
        {
          "name": "stderr",
          "output_type": "stream",
          "text": [
            "100%|██████████| 1/1 [00:00<00:00, 11.79it/s]\n",
            "INFO:autora.theorist.bms.regressor:BMS fitting finished\n",
            "INFO:autora.theorist.bms.regressor:BMS fitting started\n"
          ]
        },
        {
          "name": "stdout",
          "output_type": "stream",
          "text": [
            "Sampling new experiment conditions...\n",
            "Obtaining observations...\n",
            "SIMULATION 4 / DISCOVERY CYCLE 0\n",
            "Fitting models on benchmark state...\n",
            "Experiment data\n",
            "   P_asymptotic  trial  performance\n",
            "0      0.363636   95.0      0.96319\n"
          ]
        },
        {
          "name": "stderr",
          "output_type": "stream",
          "text": [
            "100%|██████████| 1/1 [00:00<00:00, 10.96it/s]\n",
            "INFO:autora.theorist.bms.regressor:BMS fitting finished\n",
            "INFO:autora.theorist.bms.regressor:BMS fitting started\n"
          ]
        },
        {
          "name": "stdout",
          "output_type": "stream",
          "text": [
            "Fitting models on working state...\n",
            "Experiment data\n",
            "   P_asymptotic  trial  performance\n",
            "0      0.363636   95.0      0.96319\n"
          ]
        },
        {
          "name": "stderr",
          "output_type": "stream",
          "text": [
            "100%|██████████| 1/1 [00:00<00:00, 13.84it/s]\n",
            "INFO:autora.theorist.bms.regressor:BMS fitting finished\n"
          ]
        },
        {
          "name": "stdout",
          "output_type": "stream",
          "text": [
            "Sampling new experiment conditions...\n",
            "Obtaining observations...\n",
            "SIMULATION 4 / DISCOVERY CYCLE 1\n",
            "Fitting models on benchmark state...\n",
            "Experiment data\n",
            "   P_asymptotic  trial  performance\n",
            "0      0.363636   95.0     0.963190\n",
            "1      0.404040   72.0     0.931271\n"
          ]
        },
        {
          "name": "stderr",
          "output_type": "stream",
          "text": [
            "INFO:autora.theorist.bms.regressor:BMS fitting started\n",
            "100%|██████████| 1/1 [00:00<00:00,  9.92it/s]\n",
            "INFO:autora.theorist.bms.regressor:BMS fitting finished\n",
            "INFO:autora.theorist.bms.regressor:BMS fitting started\n"
          ]
        },
        {
          "name": "stdout",
          "output_type": "stream",
          "text": [
            "Fitting models on working state...\n",
            "Experiment data\n",
            "   P_asymptotic  trial  performance\n",
            "0      0.363636   95.0     0.963190\n",
            "1      0.136364   67.0     0.884283\n"
          ]
        },
        {
          "name": "stderr",
          "output_type": "stream",
          "text": [
            "100%|██████████| 1/1 [00:00<00:00, 15.66it/s]\n",
            "INFO:autora.theorist.bms.regressor:BMS fitting finished\n"
          ]
        },
        {
          "name": "stdout",
          "output_type": "stream",
          "text": [
            "Sampling new experiment conditions...\n",
            "Obtaining observations...\n",
            "SIMULATION 4 / DISCOVERY CYCLE 2\n",
            "Fitting models on benchmark state...\n",
            "Experiment data\n",
            "   P_asymptotic  trial  performance\n",
            "0      0.363636   95.0     0.963190\n",
            "1      0.404040   72.0     0.931271\n",
            "2      0.353535   98.0     0.965824\n"
          ]
        },
        {
          "name": "stderr",
          "output_type": "stream",
          "text": [
            "INFO:autora.theorist.bms.regressor:BMS fitting started\n",
            "100%|██████████| 1/1 [00:00<00:00, 12.94it/s]\n",
            "INFO:autora.theorist.bms.regressor:BMS fitting finished\n",
            "INFO:autora.theorist.bms.regressor:BMS fitting started\n"
          ]
        },
        {
          "name": "stdout",
          "output_type": "stream",
          "text": [
            "Fitting models on working state...\n",
            "Experiment data\n",
            "   P_asymptotic  trial  performance\n",
            "0      0.363636   95.0     0.963190\n",
            "1      0.136364   67.0     0.884283\n",
            "2      0.338384   90.0     0.955536\n"
          ]
        },
        {
          "name": "stderr",
          "output_type": "stream",
          "text": [
            "100%|██████████| 1/1 [00:00<00:00, 11.06it/s]\n",
            "INFO:autora.theorist.bms.regressor:BMS fitting finished\n",
            "INFO:autora.theorist.bms.regressor:BMS fitting started\n"
          ]
        },
        {
          "name": "stdout",
          "output_type": "stream",
          "text": [
            "Sampling new experiment conditions...\n",
            "Obtaining observations...\n",
            "SIMULATION 4 / DISCOVERY CYCLE 3\n",
            "Fitting models on benchmark state...\n",
            "Experiment data\n",
            "   P_asymptotic  trial  performance\n",
            "0      0.363636   95.0     0.963190\n",
            "1      0.404040   72.0     0.931271\n",
            "2      0.353535   98.0     0.965824\n",
            "3      0.393939   71.0     0.927977\n"
          ]
        },
        {
          "name": "stderr",
          "output_type": "stream",
          "text": [
            "100%|██████████| 1/1 [00:00<00:00,  9.21it/s]\n",
            "INFO:autora.theorist.bms.regressor:BMS fitting finished\n",
            "INFO:autora.theorist.bms.regressor:BMS fitting started\n"
          ]
        },
        {
          "name": "stdout",
          "output_type": "stream",
          "text": [
            "Fitting models on working state...\n",
            "Experiment data\n",
            "   P_asymptotic  trial  performance\n",
            "0      0.363636   95.0     0.963190\n",
            "1      0.136364   67.0     0.884283\n",
            "2      0.338384   90.0     0.955536\n",
            "3      0.424242   95.0     0.966696\n"
          ]
        },
        {
          "name": "stderr",
          "output_type": "stream",
          "text": [
            "100%|██████████| 1/1 [00:00<00:00,  9.40it/s]\n",
            "INFO:autora.theorist.bms.regressor:BMS fitting finished\n",
            "INFO:autora.theorist.bms.regressor:BMS fitting started\n"
          ]
        },
        {
          "name": "stdout",
          "output_type": "stream",
          "text": [
            "Sampling new experiment conditions...\n",
            "Obtaining observations...\n",
            "SIMULATION 4 / DISCOVERY CYCLE 4\n",
            "Fitting models on benchmark state...\n",
            "Experiment data\n",
            "   P_asymptotic  trial  performance\n",
            "0      0.363636   95.0     0.963190\n",
            "1      0.404040   72.0     0.931271\n",
            "2      0.353535   98.0     0.965824\n",
            "3      0.393939   71.0     0.927977\n",
            "4      0.414141   66.0     0.919111\n"
          ]
        },
        {
          "name": "stderr",
          "output_type": "stream",
          "text": [
            "100%|██████████| 1/1 [00:00<00:00, 10.61it/s]\n",
            "INFO:autora.theorist.bms.regressor:BMS fitting finished\n",
            "INFO:autora.theorist.bms.regressor:BMS fitting started\n"
          ]
        },
        {
          "name": "stdout",
          "output_type": "stream",
          "text": [
            "Fitting models on working state...\n",
            "Experiment data\n",
            "   P_asymptotic  trial  performance\n",
            "0      0.363636   95.0     0.963190\n",
            "1      0.136364   67.0     0.884283\n",
            "2      0.338384   90.0     0.955536\n",
            "3      0.424242   95.0     0.966696\n",
            "4      0.439394   52.0     0.882196\n"
          ]
        },
        {
          "name": "stderr",
          "output_type": "stream",
          "text": [
            "100%|██████████| 1/1 [00:00<00:00, 11.84it/s]\n",
            "INFO:autora.theorist.bms.regressor:BMS fitting finished\n",
            "INFO:autora.theorist.bms.regressor:BMS fitting started\n"
          ]
        },
        {
          "name": "stdout",
          "output_type": "stream",
          "text": [
            "Sampling new experiment conditions...\n",
            "Obtaining observations...\n",
            "SIMULATION 4 / DISCOVERY CYCLE 5\n",
            "Fitting models on benchmark state...\n",
            "Experiment data\n",
            "   P_asymptotic  trial  performance\n",
            "0      0.363636   95.0     0.963190\n",
            "1      0.404040   72.0     0.931271\n",
            "2      0.353535   98.0     0.965824\n",
            "3      0.393939   71.0     0.927977\n",
            "4      0.414141   66.0     0.919111\n",
            "5      0.272727   48.0     0.827689\n"
          ]
        },
        {
          "name": "stderr",
          "output_type": "stream",
          "text": [
            "100%|██████████| 1/1 [00:00<00:00, 13.92it/s]\n",
            "INFO:autora.theorist.bms.regressor:BMS fitting finished\n",
            "INFO:autora.theorist.bms.regressor:BMS fitting started\n"
          ]
        },
        {
          "name": "stdout",
          "output_type": "stream",
          "text": [
            "Fitting models on working state...\n",
            "Experiment data\n",
            "   P_asymptotic  trial  performance\n",
            "0      0.363636   95.0     0.963190\n",
            "1      0.136364   67.0     0.884283\n",
            "2      0.338384   90.0     0.955536\n",
            "3      0.424242   95.0     0.966696\n",
            "4      0.439394   52.0     0.882196\n",
            "5      0.005051   87.0     0.926837\n"
          ]
        },
        {
          "name": "stderr",
          "output_type": "stream",
          "text": [
            "100%|██████████| 1/1 [00:00<00:00,  9.57it/s]\n",
            "INFO:autora.theorist.bms.regressor:BMS fitting finished\n",
            "INFO:autora.theorist.bms.regressor:BMS fitting started\n"
          ]
        },
        {
          "name": "stdout",
          "output_type": "stream",
          "text": [
            "Sampling new experiment conditions...\n",
            "Obtaining observations...\n",
            "SIMULATION 4 / DISCOVERY CYCLE 6\n",
            "Fitting models on benchmark state...\n",
            "Experiment data\n",
            "   P_asymptotic  trial  performance\n",
            "0      0.363636   95.0     0.963190\n",
            "1      0.404040   72.0     0.931271\n",
            "2      0.353535   98.0     0.965824\n",
            "3      0.393939   71.0     0.927977\n",
            "4      0.414141   66.0     0.919111\n",
            "5      0.272727   48.0     0.827689\n",
            "6      0.474747   89.0     0.963625\n"
          ]
        },
        {
          "name": "stderr",
          "output_type": "stream",
          "text": [
            "100%|██████████| 1/1 [00:00<00:00,  9.61it/s]\n",
            "INFO:autora.theorist.bms.regressor:BMS fitting finished\n",
            "INFO:autora.theorist.bms.regressor:BMS fitting started\n"
          ]
        },
        {
          "name": "stdout",
          "output_type": "stream",
          "text": [
            "Fitting models on working state...\n",
            "Experiment data\n",
            "   P_asymptotic  trial  performance\n",
            "0      0.363636   95.0     0.963190\n",
            "1      0.136364   67.0     0.884283\n",
            "2      0.338384   90.0     0.955536\n",
            "3      0.424242   95.0     0.966696\n",
            "4      0.439394   52.0     0.882196\n",
            "5      0.005051   87.0     0.926837\n",
            "6      0.419192   79.0     0.945706\n"
          ]
        },
        {
          "name": "stderr",
          "output_type": "stream",
          "text": [
            "100%|██████████| 1/1 [00:00<00:00, 19.58it/s]\n",
            "INFO:autora.theorist.bms.regressor:BMS fitting finished\n",
            "INFO:autora.theorist.bms.regressor:BMS fitting started\n"
          ]
        },
        {
          "name": "stdout",
          "output_type": "stream",
          "text": [
            "Sampling new experiment conditions...\n",
            "Obtaining observations...\n",
            "SIMULATION 4 / DISCOVERY CYCLE 7\n",
            "Fitting models on benchmark state...\n",
            "Experiment data\n",
            "   P_asymptotic  trial  performance\n",
            "0      0.363636   95.0     0.963190\n",
            "1      0.404040   72.0     0.931271\n",
            "2      0.353535   98.0     0.965824\n",
            "3      0.393939   71.0     0.927977\n",
            "4      0.414141   66.0     0.919111\n",
            "5      0.272727   48.0     0.827689\n",
            "6      0.474747   89.0     0.963625\n",
            "7      0.070707   81.0     0.918188\n"
          ]
        },
        {
          "name": "stderr",
          "output_type": "stream",
          "text": [
            "100%|██████████| 1/1 [00:00<00:00,  9.66it/s]\n",
            "INFO:autora.theorist.bms.regressor:BMS fitting finished\n",
            "INFO:autora.theorist.bms.regressor:BMS fitting started\n"
          ]
        },
        {
          "name": "stdout",
          "output_type": "stream",
          "text": [
            "Fitting models on working state...\n",
            "Experiment data\n",
            "   P_asymptotic  trial  performance\n",
            "0      0.363636   95.0     0.963190\n",
            "1      0.136364   67.0     0.884283\n",
            "2      0.338384   90.0     0.955536\n",
            "3      0.424242   95.0     0.966696\n",
            "4      0.439394   52.0     0.882196\n",
            "5      0.005051   87.0     0.926837\n",
            "6      0.419192   79.0     0.945706\n",
            "7      0.080808   84.0     0.926042\n"
          ]
        },
        {
          "name": "stderr",
          "output_type": "stream",
          "text": [
            "100%|██████████| 1/1 [00:00<00:00, 11.83it/s]\n",
            "INFO:autora.theorist.bms.regressor:BMS fitting finished\n",
            "INFO:autora.theorist.bms.regressor:BMS fitting started\n"
          ]
        },
        {
          "name": "stdout",
          "output_type": "stream",
          "text": [
            "Sampling new experiment conditions...\n",
            "Obtaining observations...\n",
            "SIMULATION 4 / DISCOVERY CYCLE 8\n",
            "Fitting models on benchmark state...\n",
            "Experiment data\n",
            "   P_asymptotic  trial  performance\n",
            "0      0.363636   95.0     0.963190\n",
            "1      0.404040   72.0     0.931271\n",
            "2      0.353535   98.0     0.965824\n",
            "3      0.393939   71.0     0.927977\n",
            "4      0.414141   66.0     0.919111\n",
            "5      0.272727   48.0     0.827689\n",
            "6      0.474747   89.0     0.963625\n",
            "7      0.070707   81.0     0.918188\n",
            "8      0.090909    7.0     0.263105\n"
          ]
        },
        {
          "name": "stderr",
          "output_type": "stream",
          "text": [
            "100%|██████████| 1/1 [00:00<00:00, 10.50it/s]\n",
            "INFO:autora.theorist.bms.regressor:BMS fitting finished\n",
            "INFO:autora.theorist.bms.regressor:BMS fitting started\n"
          ]
        },
        {
          "name": "stdout",
          "output_type": "stream",
          "text": [
            "Fitting models on working state...\n",
            "Experiment data\n",
            "   P_asymptotic  trial  performance\n",
            "0      0.363636   95.0     0.963190\n",
            "1      0.136364   67.0     0.884283\n",
            "2      0.338384   90.0     0.955536\n",
            "3      0.424242   95.0     0.966696\n",
            "4      0.439394   52.0     0.882196\n",
            "5      0.005051   87.0     0.926837\n",
            "6      0.419192   79.0     0.945706\n",
            "7      0.080808   84.0     0.926042\n",
            "8      0.020202    1.0     0.049159\n"
          ]
        },
        {
          "name": "stderr",
          "output_type": "stream",
          "text": [
            "100%|██████████| 1/1 [00:00<00:00, 13.44it/s]\n",
            "INFO:autora.theorist.bms.regressor:BMS fitting finished\n"
          ]
        },
        {
          "name": "stdout",
          "output_type": "stream",
          "text": [
            "Sampling new experiment conditions...\n"
          ]
        },
        {
          "name": "stderr",
          "output_type": "stream",
          "text": [
            "INFO:autora.theorist.bms.regressor:BMS fitting started\n"
          ]
        },
        {
          "name": "stdout",
          "output_type": "stream",
          "text": [
            "Obtaining observations...\n",
            "SIMULATION 4 / DISCOVERY CYCLE 9\n",
            "Fitting models on benchmark state...\n",
            "Experiment data\n",
            "   P_asymptotic  trial  performance\n",
            "0      0.363636   95.0     0.963190\n",
            "1      0.404040   72.0     0.931271\n",
            "2      0.353535   98.0     0.965824\n",
            "3      0.393939   71.0     0.927977\n",
            "4      0.414141   66.0     0.919111\n",
            "5      0.272727   48.0     0.827689\n",
            "6      0.474747   89.0     0.963625\n",
            "7      0.070707   81.0     0.918188\n",
            "8      0.090909    7.0     0.263105\n",
            "9      0.393939   81.0     0.946644\n"
          ]
        },
        {
          "name": "stderr",
          "output_type": "stream",
          "text": [
            "100%|██████████| 1/1 [00:00<00:00, 12.46it/s]\n",
            "INFO:autora.theorist.bms.regressor:BMS fitting finished\n",
            "INFO:autora.theorist.bms.regressor:BMS fitting started\n"
          ]
        },
        {
          "name": "stdout",
          "output_type": "stream",
          "text": [
            "Fitting models on working state...\n",
            "Experiment data\n",
            "   P_asymptotic  trial  performance\n",
            "0      0.363636   95.0     0.963190\n",
            "1      0.136364   67.0     0.884283\n",
            "2      0.338384   90.0     0.955536\n",
            "3      0.424242   95.0     0.966696\n",
            "4      0.439394   52.0     0.882196\n",
            "5      0.005051   87.0     0.926837\n",
            "6      0.419192   79.0     0.945706\n",
            "7      0.080808   84.0     0.926042\n",
            "8      0.020202    1.0     0.049159\n",
            "9      0.025253    1.0     0.054061\n"
          ]
        },
        {
          "name": "stderr",
          "output_type": "stream",
          "text": [
            "100%|██████████| 1/1 [00:00<00:00, 13.44it/s]\n",
            "INFO:autora.theorist.bms.regressor:BMS fitting finished\n"
          ]
        },
        {
          "name": "stdout",
          "output_type": "stream",
          "text": [
            "Sampling new experiment conditions...\n",
            "Obtaining observations...\n",
            "SIMULATION 4 / DISCOVERY CYCLE 10\n",
            "Fitting models on benchmark state...\n",
            "Experiment data\n",
            "    P_asymptotic  trial  performance\n",
            "0       0.363636   95.0     0.963190\n",
            "1       0.404040   72.0     0.931271\n",
            "2       0.353535   98.0     0.965824\n",
            "3       0.393939   71.0     0.927977\n",
            "4       0.414141   66.0     0.919111\n",
            "5       0.272727   48.0     0.827689\n",
            "6       0.474747   89.0     0.963625\n",
            "7       0.070707   81.0     0.918188\n",
            "8       0.090909    7.0     0.263105\n",
            "9       0.393939   81.0     0.946644\n",
            "10      0.484848   97.0     0.971937\n"
          ]
        },
        {
          "name": "stderr",
          "output_type": "stream",
          "text": [
            "INFO:autora.theorist.bms.regressor:BMS fitting started\n",
            "100%|██████████| 1/1 [00:00<00:00, 10.32it/s]\n",
            "INFO:autora.theorist.bms.regressor:BMS fitting finished\n",
            "INFO:autora.theorist.bms.regressor:BMS fitting started\n"
          ]
        },
        {
          "name": "stdout",
          "output_type": "stream",
          "text": [
            "Fitting models on working state...\n",
            "Experiment data\n",
            "    P_asymptotic  trial  performance\n",
            "0       0.363636   95.0     0.963190\n",
            "1       0.136364   67.0     0.884283\n",
            "2       0.338384   90.0     0.955536\n",
            "3       0.424242   95.0     0.966696\n",
            "4       0.439394   52.0     0.882196\n",
            "5       0.005051   87.0     0.926837\n",
            "6       0.419192   79.0     0.945706\n",
            "7       0.080808   84.0     0.926042\n",
            "8       0.020202    1.0     0.049159\n",
            "9       0.025253    1.0     0.054061\n",
            "10      0.500000    1.0     0.514777\n"
          ]
        },
        {
          "name": "stderr",
          "output_type": "stream",
          "text": [
            "100%|██████████| 1/1 [00:00<00:00,  6.63it/s]\n",
            "INFO:autora.theorist.bms.regressor:BMS fitting finished\n",
            "INFO:autora.theorist.bms.regressor:BMS fitting started\n"
          ]
        },
        {
          "name": "stdout",
          "output_type": "stream",
          "text": [
            "Sampling new experiment conditions...\n",
            "Obtaining observations...\n",
            "SIMULATION 4 / DISCOVERY CYCLE 11\n",
            "Fitting models on benchmark state...\n",
            "Experiment data\n",
            "    P_asymptotic  trial  performance\n",
            "0       0.363636   95.0     0.963190\n",
            "1       0.404040   72.0     0.931271\n",
            "2       0.353535   98.0     0.965824\n",
            "3       0.393939   71.0     0.927977\n",
            "4       0.414141   66.0     0.919111\n",
            "5       0.272727   48.0     0.827689\n",
            "6       0.474747   89.0     0.963625\n",
            "7       0.070707   81.0     0.918188\n",
            "8       0.090909    7.0     0.263105\n",
            "9       0.393939   81.0     0.946644\n",
            "10      0.484848   97.0     0.971937\n",
            "11      0.292929   98.0     0.962620\n"
          ]
        },
        {
          "name": "stderr",
          "output_type": "stream",
          "text": [
            "100%|██████████| 1/1 [00:00<00:00,  8.96it/s]\n",
            "INFO:autora.theorist.bms.regressor:BMS fitting finished\n",
            "INFO:autora.theorist.bms.regressor:BMS fitting started\n"
          ]
        },
        {
          "name": "stdout",
          "output_type": "stream",
          "text": [
            "Fitting models on working state...\n",
            "Experiment data\n",
            "    P_asymptotic  trial  performance\n",
            "0       0.363636   95.0     0.963190\n",
            "1       0.136364   67.0     0.884283\n",
            "2       0.338384   90.0     0.955536\n",
            "3       0.424242   95.0     0.966696\n",
            "4       0.439394   52.0     0.882196\n",
            "5       0.005051   87.0     0.926837\n",
            "6       0.419192   79.0     0.945706\n",
            "7       0.080808   84.0     0.926042\n",
            "8       0.020202    1.0     0.049159\n",
            "9       0.025253    1.0     0.054061\n",
            "10      0.500000    1.0     0.514777\n",
            "11      0.005051    2.0     0.062992\n"
          ]
        },
        {
          "name": "stderr",
          "output_type": "stream",
          "text": [
            "100%|██████████| 1/1 [00:00<00:00, 10.04it/s]\n",
            "INFO:autora.theorist.bms.regressor:BMS fitting finished\n",
            "INFO:autora.theorist.bms.regressor:BMS fitting started\n"
          ]
        },
        {
          "name": "stdout",
          "output_type": "stream",
          "text": [
            "Sampling new experiment conditions...\n",
            "Obtaining observations...\n",
            "SIMULATION 4 / DISCOVERY CYCLE 12\n",
            "Fitting models on benchmark state...\n",
            "Experiment data\n",
            "    P_asymptotic  trial  performance\n",
            "0       0.363636   95.0     0.963190\n",
            "1       0.404040   72.0     0.931271\n",
            "2       0.353535   98.0     0.965824\n",
            "3       0.393939   71.0     0.927977\n",
            "4       0.414141   66.0     0.919111\n",
            "5       0.272727   48.0     0.827689\n",
            "6       0.474747   89.0     0.963625\n",
            "7       0.070707   81.0     0.918188\n",
            "8       0.090909    7.0     0.263105\n",
            "9       0.393939   81.0     0.946644\n",
            "10      0.484848   97.0     0.971937\n",
            "11      0.292929   98.0     0.962620\n",
            "12      0.237374    6.0     0.363001\n"
          ]
        },
        {
          "name": "stderr",
          "output_type": "stream",
          "text": [
            "100%|██████████| 1/1 [00:00<00:00,  9.35it/s]\n",
            "INFO:autora.theorist.bms.regressor:BMS fitting finished\n",
            "INFO:autora.theorist.bms.regressor:BMS fitting started\n"
          ]
        },
        {
          "name": "stdout",
          "output_type": "stream",
          "text": [
            "Fitting models on working state...\n",
            "Experiment data\n",
            "    P_asymptotic  trial  performance\n",
            "0       0.363636   95.0     0.963190\n",
            "1       0.136364   67.0     0.884283\n",
            "2       0.338384   90.0     0.955536\n",
            "3       0.424242   95.0     0.966696\n",
            "4       0.439394   52.0     0.882196\n",
            "5       0.005051   87.0     0.926837\n",
            "6       0.419192   79.0     0.945706\n",
            "7       0.080808   84.0     0.926042\n",
            "8       0.020202    1.0     0.049159\n",
            "9       0.025253    1.0     0.054061\n",
            "10      0.500000    1.0     0.514777\n",
            "11      0.005051    2.0     0.062992\n",
            "12      0.010101   99.0     0.949215\n"
          ]
        },
        {
          "name": "stderr",
          "output_type": "stream",
          "text": [
            "100%|██████████| 1/1 [00:00<00:00, 13.00it/s]\n",
            "INFO:autora.theorist.bms.regressor:BMS fitting finished\n",
            "INFO:autora.theorist.bms.regressor:BMS fitting started\n"
          ]
        },
        {
          "name": "stdout",
          "output_type": "stream",
          "text": [
            "Sampling new experiment conditions...\n",
            "Obtaining observations...\n",
            "SIMULATION 4 / DISCOVERY CYCLE 13\n",
            "Fitting models on benchmark state...\n",
            "Experiment data\n",
            "    P_asymptotic  trial  performance\n",
            "0       0.363636   95.0     0.963190\n",
            "1       0.404040   72.0     0.931271\n",
            "2       0.353535   98.0     0.965824\n",
            "3       0.393939   71.0     0.927977\n",
            "4       0.414141   66.0     0.919111\n",
            "5       0.272727   48.0     0.827689\n",
            "6       0.474747   89.0     0.963625\n",
            "7       0.070707   81.0     0.918188\n",
            "8       0.090909    7.0     0.263105\n",
            "9       0.393939   81.0     0.946644\n",
            "10      0.484848   97.0     0.971937\n",
            "11      0.292929   98.0     0.962620\n",
            "12      0.237374    6.0     0.363001\n",
            "13      0.277778   16.0     0.553101\n"
          ]
        },
        {
          "name": "stderr",
          "output_type": "stream",
          "text": [
            "100%|██████████| 1/1 [00:00<00:00,  7.73it/s]\n",
            "INFO:autora.theorist.bms.regressor:BMS fitting finished\n",
            "INFO:autora.theorist.bms.regressor:BMS fitting started\n"
          ]
        },
        {
          "name": "stdout",
          "output_type": "stream",
          "text": [
            "Fitting models on working state...\n",
            "Experiment data\n",
            "    P_asymptotic  trial  performance\n",
            "0       0.363636   95.0     0.963190\n",
            "1       0.136364   67.0     0.884283\n",
            "2       0.338384   90.0     0.955536\n",
            "3       0.424242   95.0     0.966696\n",
            "4       0.439394   52.0     0.882196\n",
            "5       0.005051   87.0     0.926837\n",
            "6       0.419192   79.0     0.945706\n",
            "7       0.080808   84.0     0.926042\n",
            "8       0.020202    1.0     0.049159\n",
            "9       0.025253    1.0     0.054061\n",
            "10      0.500000    1.0     0.514777\n",
            "11      0.005051    2.0     0.062992\n",
            "12      0.010101   99.0     0.949215\n",
            "13      0.005051    2.0     0.062992\n"
          ]
        },
        {
          "name": "stderr",
          "output_type": "stream",
          "text": [
            "100%|██████████| 1/1 [00:00<00:00, 12.56it/s]\n",
            "INFO:autora.theorist.bms.regressor:BMS fitting finished\n"
          ]
        },
        {
          "name": "stdout",
          "output_type": "stream",
          "text": [
            "Sampling new experiment conditions...\n"
          ]
        },
        {
          "name": "stderr",
          "output_type": "stream",
          "text": [
            "INFO:autora.theorist.bms.regressor:BMS fitting started\n"
          ]
        },
        {
          "name": "stdout",
          "output_type": "stream",
          "text": [
            "Obtaining observations...\n",
            "SIMULATION 4 / DISCOVERY CYCLE 14\n",
            "Fitting models on benchmark state...\n",
            "Experiment data\n",
            "    P_asymptotic  trial  performance\n",
            "0       0.363636   95.0     0.963190\n",
            "1       0.404040   72.0     0.931271\n",
            "2       0.353535   98.0     0.965824\n",
            "3       0.393939   71.0     0.927977\n",
            "4       0.414141   66.0     0.919111\n",
            "5       0.272727   48.0     0.827689\n",
            "6       0.474747   89.0     0.963625\n",
            "7       0.070707   81.0     0.918188\n",
            "8       0.090909    7.0     0.263105\n",
            "9       0.393939   81.0     0.946644\n",
            "10      0.484848   97.0     0.971937\n",
            "11      0.292929   98.0     0.962620\n",
            "12      0.237374    6.0     0.363001\n",
            "13      0.277778   16.0     0.553101\n",
            "14      0.020202   56.0     0.817391\n"
          ]
        },
        {
          "name": "stderr",
          "output_type": "stream",
          "text": [
            "100%|██████████| 1/1 [00:00<00:00,  7.93it/s]\n",
            "INFO:autora.theorist.bms.regressor:BMS fitting finished\n",
            "INFO:autora.theorist.bms.regressor:BMS fitting started\n"
          ]
        },
        {
          "name": "stdout",
          "output_type": "stream",
          "text": [
            "Fitting models on working state...\n",
            "Experiment data\n",
            "    P_asymptotic  trial  performance\n",
            "0       0.363636   95.0     0.963190\n",
            "1       0.136364   67.0     0.884283\n",
            "2       0.338384   90.0     0.955536\n",
            "3       0.424242   95.0     0.966696\n",
            "4       0.439394   52.0     0.882196\n",
            "5       0.005051   87.0     0.926837\n",
            "6       0.419192   79.0     0.945706\n",
            "7       0.080808   84.0     0.926042\n",
            "8       0.020202    1.0     0.049159\n",
            "9       0.025253    1.0     0.054061\n",
            "10      0.500000    1.0     0.514777\n",
            "11      0.005051    2.0     0.062992\n",
            "12      0.010101   99.0     0.949215\n",
            "13      0.005051    2.0     0.062992\n",
            "14      0.030303  100.0     0.951722\n"
          ]
        },
        {
          "name": "stderr",
          "output_type": "stream",
          "text": [
            "100%|██████████| 1/1 [00:00<00:00, 14.31it/s]\n",
            "INFO:autora.theorist.bms.regressor:BMS fitting finished\n"
          ]
        },
        {
          "name": "stdout",
          "output_type": "stream",
          "text": [
            "Sampling new experiment conditions...\n"
          ]
        },
        {
          "name": "stderr",
          "output_type": "stream",
          "text": [
            "INFO:autora.theorist.bms.regressor:BMS fitting started\n"
          ]
        },
        {
          "name": "stdout",
          "output_type": "stream",
          "text": [
            "Obtaining observations...\n",
            "SIMULATION 4 / DISCOVERY CYCLE 15\n",
            "Fitting models on benchmark state...\n",
            "Experiment data\n",
            "    P_asymptotic  trial  performance\n",
            "0       0.363636   95.0     0.963190\n",
            "1       0.404040   72.0     0.931271\n",
            "2       0.353535   98.0     0.965824\n",
            "3       0.393939   71.0     0.927977\n",
            "4       0.414141   66.0     0.919111\n",
            "5       0.272727   48.0     0.827689\n",
            "6       0.474747   89.0     0.963625\n",
            "7       0.070707   81.0     0.918188\n",
            "8       0.090909    7.0     0.263105\n",
            "9       0.393939   81.0     0.946644\n",
            "10      0.484848   97.0     0.971937\n",
            "11      0.292929   98.0     0.962620\n",
            "12      0.237374    6.0     0.363001\n",
            "13      0.277778   16.0     0.553101\n",
            "14      0.020202   56.0     0.817391\n",
            "15      0.227273   92.0     0.951093\n"
          ]
        },
        {
          "name": "stderr",
          "output_type": "stream",
          "text": [
            "100%|██████████| 1/1 [00:00<00:00, 15.89it/s]\n",
            "INFO:autora.theorist.bms.regressor:BMS fitting finished\n",
            "INFO:autora.theorist.bms.regressor:BMS fitting started\n"
          ]
        },
        {
          "name": "stdout",
          "output_type": "stream",
          "text": [
            "Fitting models on working state...\n",
            "Experiment data\n",
            "    P_asymptotic  trial  performance\n",
            "0       0.363636   95.0     0.963190\n",
            "1       0.136364   67.0     0.884283\n",
            "2       0.338384   90.0     0.955536\n",
            "3       0.424242   95.0     0.966696\n",
            "4       0.439394   52.0     0.882196\n",
            "5       0.005051   87.0     0.926837\n",
            "6       0.419192   79.0     0.945706\n",
            "7       0.080808   84.0     0.926042\n",
            "8       0.020202    1.0     0.049159\n",
            "9       0.025253    1.0     0.054061\n",
            "10      0.500000    1.0     0.514777\n",
            "11      0.005051    2.0     0.062992\n",
            "12      0.010101   99.0     0.949215\n",
            "13      0.005051    2.0     0.062992\n",
            "14      0.030303  100.0     0.951722\n",
            "15      0.000000    2.0     0.058235\n"
          ]
        },
        {
          "name": "stderr",
          "output_type": "stream",
          "text": [
            "100%|██████████| 1/1 [00:00<00:00, 10.78it/s]\n",
            "INFO:autora.theorist.bms.regressor:BMS fitting finished\n",
            "INFO:autora.theorist.bms.regressor:BMS fitting started\n"
          ]
        },
        {
          "name": "stdout",
          "output_type": "stream",
          "text": [
            "Sampling new experiment conditions...\n",
            "Obtaining observations...\n",
            "SIMULATION 4 / DISCOVERY CYCLE 16\n",
            "Fitting models on benchmark state...\n",
            "Experiment data\n",
            "    P_asymptotic  trial  performance\n",
            "0       0.363636   95.0     0.963190\n",
            "1       0.404040   72.0     0.931271\n",
            "2       0.353535   98.0     0.965824\n",
            "3       0.393939   71.0     0.927977\n",
            "4       0.414141   66.0     0.919111\n",
            "5       0.272727   48.0     0.827689\n",
            "6       0.474747   89.0     0.963625\n",
            "7       0.070707   81.0     0.918188\n",
            "8       0.090909    7.0     0.263105\n",
            "9       0.393939   81.0     0.946644\n",
            "10      0.484848   97.0     0.971937\n",
            "11      0.292929   98.0     0.962620\n",
            "12      0.237374    6.0     0.363001\n",
            "13      0.277778   16.0     0.553101\n",
            "14      0.020202   56.0     0.817391\n",
            "15      0.227273   92.0     0.951093\n",
            "16      0.358586  100.0     0.968066\n"
          ]
        },
        {
          "name": "stderr",
          "output_type": "stream",
          "text": [
            "100%|██████████| 1/1 [00:00<00:00,  9.80it/s]\n",
            "INFO:autora.theorist.bms.regressor:BMS fitting finished\n",
            "INFO:autora.theorist.bms.regressor:BMS fitting started\n"
          ]
        },
        {
          "name": "stdout",
          "output_type": "stream",
          "text": [
            "Fitting models on working state...\n",
            "Experiment data\n",
            "    P_asymptotic  trial  performance\n",
            "0       0.363636   95.0     0.963190\n",
            "1       0.136364   67.0     0.884283\n",
            "2       0.338384   90.0     0.955536\n",
            "3       0.424242   95.0     0.966696\n",
            "4       0.439394   52.0     0.882196\n",
            "5       0.005051   87.0     0.926837\n",
            "6       0.419192   79.0     0.945706\n",
            "7       0.080808   84.0     0.926042\n",
            "8       0.020202    1.0     0.049159\n",
            "9       0.025253    1.0     0.054061\n",
            "10      0.500000    1.0     0.514777\n",
            "11      0.005051    2.0     0.062992\n",
            "12      0.010101   99.0     0.949215\n",
            "13      0.005051    2.0     0.062992\n",
            "14      0.030303  100.0     0.951722\n",
            "15      0.000000    2.0     0.058235\n",
            "16      0.030303  100.0     0.951722\n"
          ]
        },
        {
          "name": "stderr",
          "output_type": "stream",
          "text": [
            "100%|██████████| 1/1 [00:00<00:00, 13.29it/s]\n",
            "INFO:autora.theorist.bms.regressor:BMS fitting finished\n",
            "INFO:autora.theorist.bms.regressor:BMS fitting started\n"
          ]
        },
        {
          "name": "stdout",
          "output_type": "stream",
          "text": [
            "Sampling new experiment conditions...\n",
            "Obtaining observations...\n",
            "SIMULATION 4 / DISCOVERY CYCLE 17\n",
            "Fitting models on benchmark state...\n",
            "Experiment data\n",
            "    P_asymptotic  trial  performance\n",
            "0       0.363636   95.0     0.963190\n",
            "1       0.404040   72.0     0.931271\n",
            "2       0.353535   98.0     0.965824\n",
            "3       0.393939   71.0     0.927977\n",
            "4       0.414141   66.0     0.919111\n",
            "5       0.272727   48.0     0.827689\n",
            "6       0.474747   89.0     0.963625\n",
            "7       0.070707   81.0     0.918188\n",
            "8       0.090909    7.0     0.263105\n",
            "9       0.393939   81.0     0.946644\n",
            "10      0.484848   97.0     0.971937\n",
            "11      0.292929   98.0     0.962620\n",
            "12      0.237374    6.0     0.363001\n",
            "13      0.277778   16.0     0.553101\n",
            "14      0.020202   56.0     0.817391\n",
            "15      0.227273   92.0     0.951093\n",
            "16      0.358586  100.0     0.968066\n",
            "17      0.166667   11.0     0.400897\n"
          ]
        },
        {
          "name": "stderr",
          "output_type": "stream",
          "text": [
            "100%|██████████| 1/1 [00:00<00:00, 12.30it/s]\n",
            "INFO:autora.theorist.bms.regressor:BMS fitting finished\n",
            "INFO:autora.theorist.bms.regressor:BMS fitting started\n"
          ]
        },
        {
          "name": "stdout",
          "output_type": "stream",
          "text": [
            "Fitting models on working state...\n",
            "Experiment data\n",
            "    P_asymptotic  trial  performance\n",
            "0       0.363636   95.0     0.963190\n",
            "1       0.136364   67.0     0.884283\n",
            "2       0.338384   90.0     0.955536\n",
            "3       0.424242   95.0     0.966696\n",
            "4       0.439394   52.0     0.882196\n",
            "5       0.005051   87.0     0.926837\n",
            "6       0.419192   79.0     0.945706\n",
            "7       0.080808   84.0     0.926042\n",
            "8       0.020202    1.0     0.049159\n",
            "9       0.025253    1.0     0.054061\n",
            "10      0.500000    1.0     0.514777\n",
            "11      0.005051    2.0     0.062992\n",
            "12      0.010101   99.0     0.949215\n",
            "13      0.005051    2.0     0.062992\n",
            "14      0.030303  100.0     0.951722\n",
            "15      0.000000    2.0     0.058235\n",
            "16      0.030303  100.0     0.951722\n",
            "17      0.010101    1.0     0.039357\n"
          ]
        },
        {
          "name": "stderr",
          "output_type": "stream",
          "text": [
            "100%|██████████| 1/1 [00:00<00:00,  7.18it/s]\n",
            "INFO:autora.theorist.bms.regressor:BMS fitting finished\n",
            "INFO:autora.theorist.bms.regressor:BMS fitting started\n"
          ]
        },
        {
          "name": "stdout",
          "output_type": "stream",
          "text": [
            "Sampling new experiment conditions...\n",
            "Obtaining observations...\n",
            "SIMULATION 4 / DISCOVERY CYCLE 18\n",
            "Fitting models on benchmark state...\n",
            "Experiment data\n",
            "    P_asymptotic  trial  performance\n",
            "0       0.363636   95.0     0.963190\n",
            "1       0.404040   72.0     0.931271\n",
            "2       0.353535   98.0     0.965824\n",
            "3       0.393939   71.0     0.927977\n",
            "4       0.414141   66.0     0.919111\n",
            "5       0.272727   48.0     0.827689\n",
            "6       0.474747   89.0     0.963625\n",
            "7       0.070707   81.0     0.918188\n",
            "8       0.090909    7.0     0.263105\n",
            "9       0.393939   81.0     0.946644\n",
            "10      0.484848   97.0     0.971937\n",
            "11      0.292929   98.0     0.962620\n",
            "12      0.237374    6.0     0.363001\n",
            "13      0.277778   16.0     0.553101\n",
            "14      0.020202   56.0     0.817391\n",
            "15      0.227273   92.0     0.951093\n",
            "16      0.358586  100.0     0.968066\n",
            "17      0.166667   11.0     0.400897\n",
            "18      0.439394   22.0     0.710250\n"
          ]
        },
        {
          "name": "stderr",
          "output_type": "stream",
          "text": [
            "100%|██████████| 1/1 [00:00<00:00,  9.67it/s]\n",
            "INFO:autora.theorist.bms.regressor:BMS fitting finished\n",
            "INFO:autora.theorist.bms.regressor:BMS fitting started\n"
          ]
        },
        {
          "name": "stdout",
          "output_type": "stream",
          "text": [
            "Fitting models on working state...\n",
            "Experiment data\n",
            "    P_asymptotic  trial  performance\n",
            "0       0.363636   95.0     0.963190\n",
            "1       0.136364   67.0     0.884283\n",
            "2       0.338384   90.0     0.955536\n",
            "3       0.424242   95.0     0.966696\n",
            "4       0.439394   52.0     0.882196\n",
            "5       0.005051   87.0     0.926837\n",
            "6       0.419192   79.0     0.945706\n",
            "7       0.080808   84.0     0.926042\n",
            "8       0.020202    1.0     0.049159\n",
            "9       0.025253    1.0     0.054061\n",
            "10      0.500000    1.0     0.514777\n",
            "11      0.005051    2.0     0.062992\n",
            "12      0.010101   99.0     0.949215\n",
            "13      0.005051    2.0     0.062992\n",
            "14      0.030303  100.0     0.951722\n",
            "15      0.000000    2.0     0.058235\n",
            "16      0.030303  100.0     0.951722\n",
            "17      0.010101    1.0     0.039357\n",
            "18      0.489899  100.0     0.974604\n"
          ]
        },
        {
          "name": "stderr",
          "output_type": "stream",
          "text": [
            "100%|██████████| 1/1 [00:00<00:00, 12.04it/s]\n",
            "INFO:autora.theorist.bms.regressor:BMS fitting finished\n"
          ]
        },
        {
          "name": "stdout",
          "output_type": "stream",
          "text": [
            "Sampling new experiment conditions...\n"
          ]
        },
        {
          "name": "stderr",
          "output_type": "stream",
          "text": [
            "INFO:autora.theorist.bms.regressor:BMS fitting started\n"
          ]
        },
        {
          "name": "stdout",
          "output_type": "stream",
          "text": [
            "Obtaining observations...\n",
            "SIMULATION 4 / DISCOVERY CYCLE 19\n",
            "Fitting models on benchmark state...\n",
            "Experiment data\n",
            "    P_asymptotic  trial  performance\n",
            "0       0.363636   95.0     0.963190\n",
            "1       0.404040   72.0     0.931271\n",
            "2       0.353535   98.0     0.965824\n",
            "3       0.393939   71.0     0.927977\n",
            "4       0.414141   66.0     0.919111\n",
            "5       0.272727   48.0     0.827689\n",
            "6       0.474747   89.0     0.963625\n",
            "7       0.070707   81.0     0.918188\n",
            "8       0.090909    7.0     0.263105\n",
            "9       0.393939   81.0     0.946644\n",
            "10      0.484848   97.0     0.971937\n",
            "11      0.292929   98.0     0.962620\n",
            "12      0.237374    6.0     0.363001\n",
            "13      0.277778   16.0     0.553101\n",
            "14      0.020202   56.0     0.817391\n",
            "15      0.227273   92.0     0.951093\n",
            "16      0.358586  100.0     0.968066\n",
            "17      0.166667   11.0     0.400897\n",
            "18      0.439394   22.0     0.710250\n",
            "19      0.303030   81.0     0.938641\n"
          ]
        },
        {
          "name": "stderr",
          "output_type": "stream",
          "text": [
            "100%|██████████| 1/1 [00:00<00:00, 10.67it/s]\n",
            "INFO:autora.theorist.bms.regressor:BMS fitting finished\n",
            "INFO:autora.theorist.bms.regressor:BMS fitting started\n"
          ]
        },
        {
          "name": "stdout",
          "output_type": "stream",
          "text": [
            "Fitting models on working state...\n",
            "Experiment data\n",
            "    P_asymptotic  trial  performance\n",
            "0       0.363636   95.0     0.963190\n",
            "1       0.136364   67.0     0.884283\n",
            "2       0.338384   90.0     0.955536\n",
            "3       0.424242   95.0     0.966696\n",
            "4       0.439394   52.0     0.882196\n",
            "5       0.005051   87.0     0.926837\n",
            "6       0.419192   79.0     0.945706\n",
            "7       0.080808   84.0     0.926042\n",
            "8       0.020202    1.0     0.049159\n",
            "9       0.025253    1.0     0.054061\n",
            "10      0.500000    1.0     0.514777\n",
            "11      0.005051    2.0     0.062992\n",
            "12      0.010101   99.0     0.949215\n",
            "13      0.005051    2.0     0.062992\n",
            "14      0.030303  100.0     0.951722\n",
            "15      0.000000    2.0     0.058235\n",
            "16      0.030303  100.0     0.951722\n",
            "17      0.010101    1.0     0.039357\n",
            "18      0.489899  100.0     0.974604\n",
            "19      0.025253    1.0     0.054061\n"
          ]
        },
        {
          "name": "stderr",
          "output_type": "stream",
          "text": [
            "100%|██████████| 1/1 [00:00<00:00,  8.02it/s]\n",
            "INFO:autora.theorist.bms.regressor:BMS fitting finished\n",
            "INFO:autora.theorist.bms.regressor:BMS fitting started\n"
          ]
        },
        {
          "name": "stdout",
          "output_type": "stream",
          "text": [
            "Sampling new experiment conditions...\n",
            "Obtaining observations...\n",
            "SIMULATION 5 / DISCOVERY CYCLE 0\n",
            "Fitting models on benchmark state...\n",
            "Experiment data\n",
            "   P_asymptotic  trial  performance\n",
            "0      0.338384   81.0     0.941753\n"
          ]
        },
        {
          "name": "stderr",
          "output_type": "stream",
          "text": [
            "100%|██████████| 1/1 [00:00<00:00,  2.90it/s]\n",
            "INFO:autora.theorist.bms.regressor:BMS fitting finished\n",
            "INFO:autora.theorist.bms.regressor:BMS fitting started\n"
          ]
        },
        {
          "name": "stdout",
          "output_type": "stream",
          "text": [
            "Fitting models on working state...\n",
            "Experiment data\n",
            "   P_asymptotic  trial  performance\n",
            "0      0.338384   81.0     0.941753\n"
          ]
        },
        {
          "name": "stderr",
          "output_type": "stream",
          "text": [
            "100%|██████████| 1/1 [00:00<00:00, 11.82it/s]\n",
            "INFO:autora.theorist.bms.regressor:BMS fitting finished\n"
          ]
        },
        {
          "name": "stdout",
          "output_type": "stream",
          "text": [
            "Sampling new experiment conditions...\n",
            "Obtaining observations...\n",
            "SIMULATION 5 / DISCOVERY CYCLE 1\n",
            "Fitting models on benchmark state...\n",
            "Experiment data\n",
            "   P_asymptotic  trial  performance\n",
            "0      0.338384   81.0     0.941753\n",
            "1      0.075758   93.0     0.943232\n"
          ]
        },
        {
          "name": "stderr",
          "output_type": "stream",
          "text": [
            "INFO:autora.theorist.bms.regressor:BMS fitting started\n",
            "100%|██████████| 1/1 [00:00<00:00, 14.68it/s]\n",
            "INFO:autora.theorist.bms.regressor:BMS fitting finished\n"
          ]
        },
        {
          "name": "stdout",
          "output_type": "stream",
          "text": [
            "Fitting models on working state...\n",
            "Experiment data\n",
            "   P_asymptotic  trial  performance\n",
            "0      0.338384   81.0     0.941753\n",
            "1      0.227273   95.0     0.955302\n"
          ]
        },
        {
          "name": "stderr",
          "output_type": "stream",
          "text": [
            "INFO:autora.theorist.bms.regressor:BMS fitting started\n",
            "100%|██████████| 1/1 [00:00<00:00, 15.29it/s]\n",
            "INFO:autora.theorist.bms.regressor:BMS fitting finished\n"
          ]
        },
        {
          "name": "stdout",
          "output_type": "stream",
          "text": [
            "Sampling new experiment conditions...\n",
            "Obtaining observations...\n",
            "SIMULATION 5 / DISCOVERY CYCLE 2\n",
            "Fitting models on benchmark state...\n",
            "Experiment data\n",
            "   P_asymptotic  trial  performance\n",
            "0      0.338384   81.0     0.941753\n",
            "1      0.075758   93.0     0.943232\n",
            "2      0.252525   80.0     0.932191\n"
          ]
        },
        {
          "name": "stderr",
          "output_type": "stream",
          "text": [
            "INFO:autora.theorist.bms.regressor:BMS fitting started\n",
            "100%|██████████| 1/1 [00:00<00:00, 10.46it/s]\n",
            "INFO:autora.theorist.bms.regressor:BMS fitting finished\n",
            "INFO:autora.theorist.bms.regressor:BMS fitting started\n"
          ]
        },
        {
          "name": "stdout",
          "output_type": "stream",
          "text": [
            "Fitting models on working state...\n",
            "Experiment data\n",
            "   P_asymptotic  trial  performance\n",
            "0      0.338384   81.0     0.941753\n",
            "1      0.227273   95.0     0.955302\n",
            "2      0.050505   68.0     0.876538\n"
          ]
        },
        {
          "name": "stderr",
          "output_type": "stream",
          "text": [
            "100%|██████████| 1/1 [00:00<00:00,  5.01it/s]\n",
            "INFO:autora.theorist.bms.regressor:BMS fitting finished\n",
            "INFO:autora.theorist.bms.regressor:BMS fitting started\n"
          ]
        },
        {
          "name": "stdout",
          "output_type": "stream",
          "text": [
            "Sampling new experiment conditions...\n",
            "Obtaining observations...\n",
            "SIMULATION 5 / DISCOVERY CYCLE 3\n",
            "Fitting models on benchmark state...\n",
            "Experiment data\n",
            "   P_asymptotic  trial  performance\n",
            "0      0.338384   81.0     0.941753\n",
            "1      0.075758   93.0     0.943232\n",
            "2      0.252525   80.0     0.932191\n",
            "3      0.070707   48.0     0.779825\n"
          ]
        },
        {
          "name": "stderr",
          "output_type": "stream",
          "text": [
            "100%|██████████| 1/1 [00:00<00:00, 11.34it/s]\n",
            "INFO:autora.theorist.bms.regressor:BMS fitting finished\n",
            "INFO:autora.theorist.bms.regressor:BMS fitting started\n"
          ]
        },
        {
          "name": "stdout",
          "output_type": "stream",
          "text": [
            "Fitting models on working state...\n",
            "Experiment data\n",
            "   P_asymptotic  trial  performance\n",
            "0      0.338384   81.0     0.941753\n",
            "1      0.227273   95.0     0.955302\n",
            "2      0.050505   68.0     0.876538\n",
            "3      0.297980   50.0     0.843358\n"
          ]
        },
        {
          "name": "stderr",
          "output_type": "stream",
          "text": [
            "100%|██████████| 1/1 [00:00<00:00, 10.66it/s]\n",
            "INFO:autora.theorist.bms.regressor:BMS fitting finished\n",
            "INFO:autora.theorist.bms.regressor:BMS fitting started\n"
          ]
        },
        {
          "name": "stdout",
          "output_type": "stream",
          "text": [
            "Sampling new experiment conditions...\n",
            "Obtaining observations...\n",
            "SIMULATION 5 / DISCOVERY CYCLE 4\n",
            "Fitting models on benchmark state...\n",
            "Experiment data\n",
            "   P_asymptotic  trial  performance\n",
            "0      0.338384   81.0     0.941753\n",
            "1      0.075758   93.0     0.943232\n",
            "2      0.252525   80.0     0.932191\n",
            "3      0.070707   48.0     0.779825\n",
            "4      0.338384   77.0     0.934327\n"
          ]
        },
        {
          "name": "stderr",
          "output_type": "stream",
          "text": [
            "100%|██████████| 1/1 [00:00<00:00, 12.27it/s]\n",
            "INFO:autora.theorist.bms.regressor:BMS fitting finished\n",
            "INFO:autora.theorist.bms.regressor:BMS fitting started\n"
          ]
        },
        {
          "name": "stdout",
          "output_type": "stream",
          "text": [
            "Fitting models on working state...\n",
            "Experiment data\n",
            "   P_asymptotic  trial  performance\n",
            "0      0.338384   81.0     0.941753\n",
            "1      0.227273   95.0     0.955302\n",
            "2      0.050505   68.0     0.876538\n",
            "3      0.297980   50.0     0.843358\n",
            "4      0.151515    1.0     0.176592\n"
          ]
        },
        {
          "name": "stderr",
          "output_type": "stream",
          "text": [
            "100%|██████████| 1/1 [00:00<00:00, 11.69it/s]\n",
            "INFO:autora.theorist.bms.regressor:BMS fitting finished\n"
          ]
        },
        {
          "name": "stdout",
          "output_type": "stream",
          "text": [
            "Sampling new experiment conditions...\n",
            "Obtaining observations...\n",
            "SIMULATION 5 / DISCOVERY CYCLE 5\n",
            "Fitting models on benchmark state...\n",
            "Experiment data\n",
            "   P_asymptotic  trial  performance\n",
            "0      0.338384   81.0     0.941753\n",
            "1      0.075758   93.0     0.943232\n",
            "2      0.252525   80.0     0.932191\n",
            "3      0.070707   48.0     0.779825\n",
            "4      0.338384   77.0     0.934327\n",
            "5      0.287879   78.0     0.931403\n"
          ]
        },
        {
          "name": "stderr",
          "output_type": "stream",
          "text": [
            "INFO:autora.theorist.bms.regressor:BMS fitting started\n",
            "100%|██████████| 1/1 [00:00<00:00, 12.53it/s]\n",
            "INFO:autora.theorist.bms.regressor:BMS fitting finished\n",
            "INFO:autora.theorist.bms.regressor:BMS fitting started\n"
          ]
        },
        {
          "name": "stdout",
          "output_type": "stream",
          "text": [
            "Fitting models on working state...\n",
            "Experiment data\n",
            "   P_asymptotic  trial  performance\n",
            "0      0.338384   81.0     0.941753\n",
            "1      0.227273   95.0     0.955302\n",
            "2      0.050505   68.0     0.876538\n",
            "3      0.297980   50.0     0.843358\n",
            "4      0.151515    1.0     0.176592\n",
            "5      0.101010   76.0     0.908048\n"
          ]
        },
        {
          "name": "stderr",
          "output_type": "stream",
          "text": [
            "100%|██████████| 1/1 [00:00<00:00, 11.51it/s]\n",
            "INFO:autora.theorist.bms.regressor:BMS fitting finished\n"
          ]
        },
        {
          "name": "stdout",
          "output_type": "stream",
          "text": [
            "Sampling new experiment conditions...\n",
            "Obtaining observations...\n"
          ]
        },
        {
          "name": "stderr",
          "output_type": "stream",
          "text": [
            "INFO:autora.theorist.bms.regressor:BMS fitting started\n"
          ]
        },
        {
          "name": "stdout",
          "output_type": "stream",
          "text": [
            "SIMULATION 5 / DISCOVERY CYCLE 6\n",
            "Fitting models on benchmark state...\n",
            "Experiment data\n",
            "   P_asymptotic  trial  performance\n",
            "0      0.338384   81.0     0.941753\n",
            "1      0.075758   93.0     0.943232\n",
            "2      0.252525   80.0     0.932191\n",
            "3      0.070707   48.0     0.779825\n",
            "4      0.338384   77.0     0.934327\n",
            "5      0.287879   78.0     0.931403\n",
            "6      0.308081   79.0     0.935319\n"
          ]
        },
        {
          "name": "stderr",
          "output_type": "stream",
          "text": [
            "100%|██████████| 1/1 [00:00<00:00,  9.60it/s]\n",
            "INFO:autora.theorist.bms.regressor:BMS fitting finished\n",
            "INFO:autora.theorist.bms.regressor:BMS fitting started\n"
          ]
        },
        {
          "name": "stdout",
          "output_type": "stream",
          "text": [
            "Fitting models on working state...\n",
            "Experiment data\n",
            "   P_asymptotic  trial  performance\n",
            "0      0.338384   81.0     0.941753\n",
            "1      0.227273   95.0     0.955302\n",
            "2      0.050505   68.0     0.876538\n",
            "3      0.297980   50.0     0.843358\n",
            "4      0.151515    1.0     0.176592\n",
            "5      0.101010   76.0     0.908048\n",
            "6      0.025253   52.0     0.795170\n"
          ]
        },
        {
          "name": "stderr",
          "output_type": "stream",
          "text": [
            "100%|██████████| 1/1 [00:00<00:00, 11.64it/s]\n",
            "INFO:autora.theorist.bms.regressor:BMS fitting finished\n"
          ]
        },
        {
          "name": "stdout",
          "output_type": "stream",
          "text": [
            "Sampling new experiment conditions...\n",
            "Obtaining observations...\n",
            "SIMULATION 5 / DISCOVERY CYCLE 7\n",
            "Fitting models on benchmark state...\n",
            "Experiment data\n",
            "   P_asymptotic  trial  performance\n",
            "0      0.338384   81.0     0.941753\n",
            "1      0.075758   93.0     0.943232\n",
            "2      0.252525   80.0     0.932191\n",
            "3      0.070707   48.0     0.779825\n",
            "4      0.338384   77.0     0.934327\n",
            "5      0.287879   78.0     0.931403\n",
            "6      0.308081   79.0     0.935319\n",
            "7      0.414141   18.0     0.658592\n"
          ]
        },
        {
          "name": "stderr",
          "output_type": "stream",
          "text": [
            "INFO:autora.theorist.bms.regressor:BMS fitting started\n",
            "100%|██████████| 1/1 [00:00<00:00, 11.94it/s]\n",
            "INFO:autora.theorist.bms.regressor:BMS fitting finished\n",
            "INFO:autora.theorist.bms.regressor:BMS fitting started\n"
          ]
        },
        {
          "name": "stdout",
          "output_type": "stream",
          "text": [
            "Fitting models on working state...\n",
            "Experiment data\n",
            "   P_asymptotic  trial  performance\n",
            "0      0.338384   81.0     0.941753\n",
            "1      0.227273   95.0     0.955302\n",
            "2      0.050505   68.0     0.876538\n",
            "3      0.297980   50.0     0.843358\n",
            "4      0.151515    1.0     0.176592\n",
            "5      0.101010   76.0     0.908048\n",
            "6      0.025253   52.0     0.795170\n",
            "7      0.207071   15.0     0.494406\n"
          ]
        },
        {
          "name": "stderr",
          "output_type": "stream",
          "text": [
            "100%|██████████| 1/1 [00:00<00:00,  7.15it/s]\n",
            "INFO:autora.theorist.bms.regressor:BMS fitting finished\n",
            "INFO:autora.theorist.bms.regressor:BMS fitting started\n"
          ]
        },
        {
          "name": "stdout",
          "output_type": "stream",
          "text": [
            "Sampling new experiment conditions...\n",
            "Obtaining observations...\n",
            "SIMULATION 5 / DISCOVERY CYCLE 8\n",
            "Fitting models on benchmark state...\n",
            "Experiment data\n",
            "   P_asymptotic  trial  performance\n",
            "0      0.338384   81.0     0.941753\n",
            "1      0.075758   93.0     0.943232\n",
            "2      0.252525   80.0     0.932191\n",
            "3      0.070707   48.0     0.779825\n",
            "4      0.338384   77.0     0.934327\n",
            "5      0.287879   78.0     0.931403\n",
            "6      0.308081   79.0     0.935319\n",
            "7      0.414141   18.0     0.658592\n",
            "8      0.126263   84.0     0.929699\n"
          ]
        },
        {
          "name": "stderr",
          "output_type": "stream",
          "text": [
            "100%|██████████| 1/1 [00:00<00:00, 11.74it/s]\n",
            "INFO:autora.theorist.bms.regressor:BMS fitting finished\n",
            "INFO:autora.theorist.bms.regressor:BMS fitting started\n"
          ]
        },
        {
          "name": "stdout",
          "output_type": "stream",
          "text": [
            "Fitting models on working state...\n",
            "Experiment data\n",
            "   P_asymptotic  trial  performance\n",
            "0      0.338384   81.0     0.941753\n",
            "1      0.227273   95.0     0.955302\n",
            "2      0.050505   68.0     0.876538\n",
            "3      0.297980   50.0     0.843358\n",
            "4      0.151515    1.0     0.176592\n",
            "5      0.101010   76.0     0.908048\n",
            "6      0.025253   52.0     0.795170\n",
            "7      0.207071   15.0     0.494406\n",
            "8      0.494949   99.0     0.974089\n"
          ]
        },
        {
          "name": "stderr",
          "output_type": "stream",
          "text": [
            "100%|██████████| 1/1 [00:00<00:00, 10.93it/s]\n",
            "INFO:autora.theorist.bms.regressor:BMS fitting finished\n"
          ]
        },
        {
          "name": "stdout",
          "output_type": "stream",
          "text": [
            "Sampling new experiment conditions...\n",
            "Obtaining observations...\n",
            "SIMULATION 5 / DISCOVERY CYCLE 9\n",
            "Fitting models on benchmark state...\n",
            "Experiment data\n",
            "   P_asymptotic  trial  performance\n",
            "0      0.338384   81.0     0.941753\n",
            "1      0.075758   93.0     0.943232\n",
            "2      0.252525   80.0     0.932191\n",
            "3      0.070707   48.0     0.779825\n",
            "4      0.338384   77.0     0.934327\n",
            "5      0.287879   78.0     0.931403\n",
            "6      0.308081   79.0     0.935319\n",
            "7      0.414141   18.0     0.658592\n",
            "8      0.126263   84.0     0.929699\n",
            "9      0.353535   62.0     0.899363\n"
          ]
        },
        {
          "name": "stderr",
          "output_type": "stream",
          "text": [
            "INFO:autora.theorist.bms.regressor:BMS fitting started\n",
            "100%|██████████| 1/1 [00:00<00:00,  8.89it/s]\n",
            "INFO:autora.theorist.bms.regressor:BMS fitting finished\n",
            "INFO:autora.theorist.bms.regressor:BMS fitting started\n"
          ]
        },
        {
          "name": "stdout",
          "output_type": "stream",
          "text": [
            "Fitting models on working state...\n",
            "Experiment data\n",
            "   P_asymptotic  trial  performance\n",
            "0      0.338384   81.0     0.941753\n",
            "1      0.227273   95.0     0.955302\n",
            "2      0.050505   68.0     0.876538\n",
            "3      0.297980   50.0     0.843358\n",
            "4      0.151515    1.0     0.176592\n",
            "5      0.101010   76.0     0.908048\n",
            "6      0.025253   52.0     0.795170\n",
            "7      0.207071   15.0     0.494406\n",
            "8      0.494949   99.0     0.974089\n",
            "9      0.010101   99.0     0.949215\n"
          ]
        },
        {
          "name": "stderr",
          "output_type": "stream",
          "text": [
            "100%|██████████| 1/1 [00:00<00:00, 11.73it/s]\n",
            "INFO:autora.theorist.bms.regressor:BMS fitting finished\n",
            "INFO:autora.theorist.bms.regressor:BMS fitting started\n"
          ]
        },
        {
          "name": "stdout",
          "output_type": "stream",
          "text": [
            "Sampling new experiment conditions...\n",
            "Obtaining observations...\n",
            "SIMULATION 5 / DISCOVERY CYCLE 10\n",
            "Fitting models on benchmark state...\n",
            "Experiment data\n",
            "    P_asymptotic  trial  performance\n",
            "0       0.338384   81.0     0.941753\n",
            "1       0.075758   93.0     0.943232\n",
            "2       0.252525   80.0     0.932191\n",
            "3       0.070707   48.0     0.779825\n",
            "4       0.338384   77.0     0.934327\n",
            "5       0.287879   78.0     0.931403\n",
            "6       0.308081   79.0     0.935319\n",
            "7       0.414141   18.0     0.658592\n",
            "8       0.126263   84.0     0.929699\n",
            "9       0.353535   62.0     0.899363\n",
            "10      0.262626   88.0     0.947380\n"
          ]
        },
        {
          "name": "stderr",
          "output_type": "stream",
          "text": [
            "100%|██████████| 1/1 [00:00<00:00,  8.66it/s]\n",
            "INFO:autora.theorist.bms.regressor:BMS fitting finished\n",
            "INFO:autora.theorist.bms.regressor:BMS fitting started\n"
          ]
        },
        {
          "name": "stdout",
          "output_type": "stream",
          "text": [
            "Fitting models on working state...\n",
            "Experiment data\n",
            "    P_asymptotic  trial  performance\n",
            "0       0.338384   81.0     0.941753\n",
            "1       0.227273   95.0     0.955302\n",
            "2       0.050505   68.0     0.876538\n",
            "3       0.297980   50.0     0.843358\n",
            "4       0.151515    1.0     0.176592\n",
            "5       0.101010   76.0     0.908048\n",
            "6       0.025253   52.0     0.795170\n",
            "7       0.207071   15.0     0.494406\n",
            "8       0.494949   99.0     0.974089\n",
            "9       0.010101   99.0     0.949215\n",
            "10      0.479798    1.0     0.495172\n"
          ]
        },
        {
          "name": "stderr",
          "output_type": "stream",
          "text": [
            "100%|██████████| 1/1 [00:00<00:00,  9.73it/s]\n",
            "INFO:autora.theorist.bms.regressor:BMS fitting finished\n",
            "INFO:autora.theorist.bms.regressor:BMS fitting started\n"
          ]
        },
        {
          "name": "stdout",
          "output_type": "stream",
          "text": [
            "Sampling new experiment conditions...\n",
            "Obtaining observations...\n",
            "SIMULATION 5 / DISCOVERY CYCLE 11\n",
            "Fitting models on benchmark state...\n",
            "Experiment data\n",
            "    P_asymptotic  trial  performance\n",
            "0       0.338384   81.0     0.941753\n",
            "1       0.075758   93.0     0.943232\n",
            "2       0.252525   80.0     0.932191\n",
            "3       0.070707   48.0     0.779825\n",
            "4       0.338384   77.0     0.934327\n",
            "5       0.287879   78.0     0.931403\n",
            "6       0.308081   79.0     0.935319\n",
            "7       0.414141   18.0     0.658592\n",
            "8       0.126263   84.0     0.929699\n",
            "9       0.353535   62.0     0.899363\n",
            "10      0.262626   88.0     0.947380\n",
            "11      0.095960   97.0     0.950752\n"
          ]
        },
        {
          "name": "stderr",
          "output_type": "stream",
          "text": [
            "100%|██████████| 1/1 [00:00<00:00, 10.99it/s]\n",
            "INFO:autora.theorist.bms.regressor:BMS fitting finished\n",
            "INFO:autora.theorist.bms.regressor:BMS fitting started\n"
          ]
        },
        {
          "name": "stdout",
          "output_type": "stream",
          "text": [
            "Fitting models on working state...\n",
            "Experiment data\n",
            "    P_asymptotic  trial  performance\n",
            "0       0.338384   81.0     0.941753\n",
            "1       0.227273   95.0     0.955302\n",
            "2       0.050505   68.0     0.876538\n",
            "3       0.297980   50.0     0.843358\n",
            "4       0.151515    1.0     0.176592\n",
            "5       0.101010   76.0     0.908048\n",
            "6       0.025253   52.0     0.795170\n",
            "7       0.207071   15.0     0.494406\n",
            "8       0.494949   99.0     0.974089\n",
            "9       0.010101   99.0     0.949215\n",
            "10      0.479798    1.0     0.495172\n",
            "11      0.010101    1.0     0.039357\n"
          ]
        },
        {
          "name": "stderr",
          "output_type": "stream",
          "text": [
            "100%|██████████| 1/1 [00:00<00:00,  8.82it/s]\n",
            "INFO:autora.theorist.bms.regressor:BMS fitting finished\n",
            "INFO:autora.theorist.bms.regressor:BMS fitting started\n"
          ]
        },
        {
          "name": "stdout",
          "output_type": "stream",
          "text": [
            "Sampling new experiment conditions...\n",
            "Obtaining observations...\n",
            "SIMULATION 5 / DISCOVERY CYCLE 12\n",
            "Fitting models on benchmark state...\n",
            "Experiment data\n",
            "    P_asymptotic  trial  performance\n",
            "0       0.338384   81.0     0.941753\n",
            "1       0.075758   93.0     0.943232\n",
            "2       0.252525   80.0     0.932191\n",
            "3       0.070707   48.0     0.779825\n",
            "4       0.338384   77.0     0.934327\n",
            "5       0.287879   78.0     0.931403\n",
            "6       0.308081   79.0     0.935319\n",
            "7       0.414141   18.0     0.658592\n",
            "8       0.126263   84.0     0.929699\n",
            "9       0.353535   62.0     0.899363\n",
            "10      0.262626   88.0     0.947380\n",
            "11      0.095960   97.0     0.950752\n",
            "12      0.459596   77.0     0.946359\n"
          ]
        },
        {
          "name": "stderr",
          "output_type": "stream",
          "text": [
            "100%|██████████| 1/1 [00:00<00:00, 11.76it/s]\n",
            "INFO:autora.theorist.bms.regressor:BMS fitting finished\n",
            "INFO:autora.theorist.bms.regressor:BMS fitting started\n"
          ]
        },
        {
          "name": "stdout",
          "output_type": "stream",
          "text": [
            "Fitting models on working state...\n",
            "Experiment data\n",
            "    P_asymptotic  trial  performance\n",
            "0       0.338384   81.0     0.941753\n",
            "1       0.227273   95.0     0.955302\n",
            "2       0.050505   68.0     0.876538\n",
            "3       0.297980   50.0     0.843358\n",
            "4       0.151515    1.0     0.176592\n",
            "5       0.101010   76.0     0.908048\n",
            "6       0.025253   52.0     0.795170\n",
            "7       0.207071   15.0     0.494406\n",
            "8       0.494949   99.0     0.974089\n",
            "9       0.010101   99.0     0.949215\n",
            "10      0.479798    1.0     0.495172\n",
            "11      0.010101    1.0     0.039357\n",
            "12      0.005051  100.0     0.950464\n"
          ]
        },
        {
          "name": "stderr",
          "output_type": "stream",
          "text": [
            "100%|██████████| 1/1 [00:00<00:00,  7.54it/s]\n",
            "INFO:autora.theorist.bms.regressor:BMS fitting finished\n",
            "INFO:autora.theorist.bms.regressor:BMS fitting started\n"
          ]
        },
        {
          "name": "stdout",
          "output_type": "stream",
          "text": [
            "Sampling new experiment conditions...\n",
            "Obtaining observations...\n",
            "SIMULATION 5 / DISCOVERY CYCLE 13\n",
            "Fitting models on benchmark state...\n",
            "Experiment data\n",
            "    P_asymptotic  trial  performance\n",
            "0       0.338384   81.0     0.941753\n",
            "1       0.075758   93.0     0.943232\n",
            "2       0.252525   80.0     0.932191\n",
            "3       0.070707   48.0     0.779825\n",
            "4       0.338384   77.0     0.934327\n",
            "5       0.287879   78.0     0.931403\n",
            "6       0.308081   79.0     0.935319\n",
            "7       0.414141   18.0     0.658592\n",
            "8       0.126263   84.0     0.929699\n",
            "9       0.353535   62.0     0.899363\n",
            "10      0.262626   88.0     0.947380\n",
            "11      0.095960   97.0     0.950752\n",
            "12      0.459596   77.0     0.946359\n",
            "13      0.313131   46.0     0.827199\n"
          ]
        },
        {
          "name": "stderr",
          "output_type": "stream",
          "text": [
            "100%|██████████| 1/1 [00:00<00:00, 11.39it/s]\n",
            "INFO:autora.theorist.bms.regressor:BMS fitting finished\n",
            "INFO:autora.theorist.bms.regressor:BMS fitting started\n"
          ]
        },
        {
          "name": "stdout",
          "output_type": "stream",
          "text": [
            "Fitting models on working state...\n",
            "Experiment data\n",
            "    P_asymptotic  trial  performance\n",
            "0       0.338384   81.0     0.941753\n",
            "1       0.227273   95.0     0.955302\n",
            "2       0.050505   68.0     0.876538\n",
            "3       0.297980   50.0     0.843358\n",
            "4       0.151515    1.0     0.176592\n",
            "5       0.101010   76.0     0.908048\n",
            "6       0.025253   52.0     0.795170\n",
            "7       0.207071   15.0     0.494406\n",
            "8       0.494949   99.0     0.974089\n",
            "9       0.010101   99.0     0.949215\n",
            "10      0.479798    1.0     0.495172\n",
            "11      0.010101    1.0     0.039357\n",
            "12      0.005051  100.0     0.950464\n",
            "13      0.010101    2.0     0.067748\n"
          ]
        },
        {
          "name": "stderr",
          "output_type": "stream",
          "text": [
            "100%|██████████| 1/1 [00:00<00:00, 11.69it/s]\n",
            "INFO:autora.theorist.bms.regressor:BMS fitting finished\n",
            "INFO:autora.theorist.bms.regressor:BMS fitting started\n"
          ]
        },
        {
          "name": "stdout",
          "output_type": "stream",
          "text": [
            "Sampling new experiment conditions...\n",
            "Obtaining observations...\n",
            "SIMULATION 5 / DISCOVERY CYCLE 14\n",
            "Fitting models on benchmark state...\n",
            "Experiment data\n",
            "    P_asymptotic  trial  performance\n",
            "0       0.338384   81.0     0.941753\n",
            "1       0.075758   93.0     0.943232\n",
            "2       0.252525   80.0     0.932191\n",
            "3       0.070707   48.0     0.779825\n",
            "4       0.338384   77.0     0.934327\n",
            "5       0.287879   78.0     0.931403\n",
            "6       0.308081   79.0     0.935319\n",
            "7       0.414141   18.0     0.658592\n",
            "8       0.126263   84.0     0.929699\n",
            "9       0.353535   62.0     0.899363\n",
            "10      0.262626   88.0     0.947380\n",
            "11      0.095960   97.0     0.950752\n",
            "12      0.459596   77.0     0.946359\n",
            "13      0.313131   46.0     0.827199\n",
            "14      0.121212    5.0     0.243620\n"
          ]
        },
        {
          "name": "stderr",
          "output_type": "stream",
          "text": [
            "100%|██████████| 1/1 [00:00<00:00, 10.88it/s]\n",
            "INFO:autora.theorist.bms.regressor:BMS fitting finished\n",
            "INFO:autora.theorist.bms.regressor:BMS fitting started\n"
          ]
        },
        {
          "name": "stdout",
          "output_type": "stream",
          "text": [
            "Fitting models on working state...\n",
            "Experiment data\n",
            "    P_asymptotic  trial  performance\n",
            "0       0.338384   81.0     0.941753\n",
            "1       0.227273   95.0     0.955302\n",
            "2       0.050505   68.0     0.876538\n",
            "3       0.297980   50.0     0.843358\n",
            "4       0.151515    1.0     0.176592\n",
            "5       0.101010   76.0     0.908048\n",
            "6       0.025253   52.0     0.795170\n",
            "7       0.207071   15.0     0.494406\n",
            "8       0.494949   99.0     0.974089\n",
            "9       0.010101   99.0     0.949215\n",
            "10      0.479798    1.0     0.495172\n",
            "11      0.010101    1.0     0.039357\n",
            "12      0.005051  100.0     0.950464\n",
            "13      0.010101    2.0     0.067748\n",
            "14      0.494949  100.0     0.974855\n"
          ]
        },
        {
          "name": "stderr",
          "output_type": "stream",
          "text": [
            "100%|██████████| 1/1 [00:00<00:00,  9.84it/s]\n",
            "INFO:autora.theorist.bms.regressor:BMS fitting finished\n",
            "INFO:autora.theorist.bms.regressor:BMS fitting started\n"
          ]
        },
        {
          "name": "stdout",
          "output_type": "stream",
          "text": [
            "Sampling new experiment conditions...\n",
            "Obtaining observations...\n",
            "SIMULATION 5 / DISCOVERY CYCLE 15\n",
            "Fitting models on benchmark state...\n",
            "Experiment data\n",
            "    P_asymptotic  trial  performance\n",
            "0       0.338384   81.0     0.941753\n",
            "1       0.075758   93.0     0.943232\n",
            "2       0.252525   80.0     0.932191\n",
            "3       0.070707   48.0     0.779825\n",
            "4       0.338384   77.0     0.934327\n",
            "5       0.287879   78.0     0.931403\n",
            "6       0.308081   79.0     0.935319\n",
            "7       0.414141   18.0     0.658592\n",
            "8       0.126263   84.0     0.929699\n",
            "9       0.353535   62.0     0.899363\n",
            "10      0.262626   88.0     0.947380\n",
            "11      0.095960   97.0     0.950752\n",
            "12      0.459596   77.0     0.946359\n",
            "13      0.313131   46.0     0.827199\n",
            "14      0.121212    5.0     0.243620\n",
            "15      0.348485   37.0     0.785287\n"
          ]
        },
        {
          "name": "stderr",
          "output_type": "stream",
          "text": [
            "100%|██████████| 1/1 [00:00<00:00, 16.78it/s]\n",
            "INFO:autora.theorist.bms.regressor:BMS fitting finished\n"
          ]
        },
        {
          "name": "stdout",
          "output_type": "stream",
          "text": [
            "Fitting models on working state...\n",
            "Experiment data\n",
            "    P_asymptotic  trial  performance\n",
            "0       0.338384   81.0     0.941753\n",
            "1       0.227273   95.0     0.955302\n",
            "2       0.050505   68.0     0.876538\n",
            "3       0.297980   50.0     0.843358\n",
            "4       0.151515    1.0     0.176592\n",
            "5       0.101010   76.0     0.908048\n",
            "6       0.025253   52.0     0.795170\n",
            "7       0.207071   15.0     0.494406\n",
            "8       0.494949   99.0     0.974089\n",
            "9       0.010101   99.0     0.949215\n",
            "10      0.479798    1.0     0.495172\n",
            "11      0.010101    1.0     0.039357\n",
            "12      0.005051  100.0     0.950464\n",
            "13      0.010101    2.0     0.067748\n",
            "14      0.494949  100.0     0.974855\n",
            "15      0.005051    2.0     0.062992\n"
          ]
        },
        {
          "name": "stderr",
          "output_type": "stream",
          "text": [
            "INFO:autora.theorist.bms.regressor:BMS fitting started\n",
            "100%|██████████| 1/1 [00:00<00:00,  8.05it/s]\n",
            "INFO:autora.theorist.bms.regressor:BMS fitting finished\n",
            "INFO:autora.theorist.bms.regressor:BMS fitting started\n"
          ]
        },
        {
          "name": "stdout",
          "output_type": "stream",
          "text": [
            "Sampling new experiment conditions...\n",
            "Obtaining observations...\n",
            "SIMULATION 5 / DISCOVERY CYCLE 16\n",
            "Fitting models on benchmark state...\n",
            "Experiment data\n",
            "    P_asymptotic  trial  performance\n",
            "0       0.338384   81.0     0.941753\n",
            "1       0.075758   93.0     0.943232\n",
            "2       0.252525   80.0     0.932191\n",
            "3       0.070707   48.0     0.779825\n",
            "4       0.338384   77.0     0.934327\n",
            "5       0.287879   78.0     0.931403\n",
            "6       0.308081   79.0     0.935319\n",
            "7       0.414141   18.0     0.658592\n",
            "8       0.126263   84.0     0.929699\n",
            "9       0.353535   62.0     0.899363\n",
            "10      0.262626   88.0     0.947380\n",
            "11      0.095960   97.0     0.950752\n",
            "12      0.459596   77.0     0.946359\n",
            "13      0.313131   46.0     0.827199\n",
            "14      0.121212    5.0     0.243620\n",
            "15      0.348485   37.0     0.785287\n",
            "16      0.191919   97.0     0.955979\n"
          ]
        },
        {
          "name": "stderr",
          "output_type": "stream",
          "text": [
            "100%|██████████| 1/1 [00:00<00:00, 10.31it/s]\n",
            "INFO:autora.theorist.bms.regressor:BMS fitting finished\n",
            "INFO:autora.theorist.bms.regressor:BMS fitting started\n"
          ]
        },
        {
          "name": "stdout",
          "output_type": "stream",
          "text": [
            "Fitting models on working state...\n",
            "Experiment data\n",
            "    P_asymptotic  trial  performance\n",
            "0       0.338384   81.0     0.941753\n",
            "1       0.227273   95.0     0.955302\n",
            "2       0.050505   68.0     0.876538\n",
            "3       0.297980   50.0     0.843358\n",
            "4       0.151515    1.0     0.176592\n",
            "5       0.101010   76.0     0.908048\n",
            "6       0.025253   52.0     0.795170\n",
            "7       0.207071   15.0     0.494406\n",
            "8       0.494949   99.0     0.974089\n",
            "9       0.010101   99.0     0.949215\n",
            "10      0.479798    1.0     0.495172\n",
            "11      0.010101    1.0     0.039357\n",
            "12      0.005051  100.0     0.950464\n",
            "13      0.010101    2.0     0.067748\n",
            "14      0.494949  100.0     0.974855\n",
            "15      0.005051    2.0     0.062992\n",
            "16      0.500000   95.0     0.971078\n"
          ]
        },
        {
          "name": "stderr",
          "output_type": "stream",
          "text": [
            "100%|██████████| 1/1 [00:00<00:00,  9.79it/s]\n",
            "INFO:autora.theorist.bms.regressor:BMS fitting finished\n",
            "INFO:autora.theorist.bms.regressor:BMS fitting started\n"
          ]
        },
        {
          "name": "stdout",
          "output_type": "stream",
          "text": [
            "Sampling new experiment conditions...\n",
            "Obtaining observations...\n",
            "SIMULATION 5 / DISCOVERY CYCLE 17\n",
            "Fitting models on benchmark state...\n",
            "Experiment data\n",
            "    P_asymptotic  trial  performance\n",
            "0       0.338384   81.0     0.941753\n",
            "1       0.075758   93.0     0.943232\n",
            "2       0.252525   80.0     0.932191\n",
            "3       0.070707   48.0     0.779825\n",
            "4       0.338384   77.0     0.934327\n",
            "5       0.287879   78.0     0.931403\n",
            "6       0.308081   79.0     0.935319\n",
            "7       0.414141   18.0     0.658592\n",
            "8       0.126263   84.0     0.929699\n",
            "9       0.353535   62.0     0.899363\n",
            "10      0.262626   88.0     0.947380\n",
            "11      0.095960   97.0     0.950752\n",
            "12      0.459596   77.0     0.946359\n",
            "13      0.313131   46.0     0.827199\n",
            "14      0.121212    5.0     0.243620\n",
            "15      0.348485   37.0     0.785287\n",
            "16      0.191919   97.0     0.955979\n",
            "17      0.090909   59.0     0.845152\n"
          ]
        },
        {
          "name": "stderr",
          "output_type": "stream",
          "text": [
            "100%|██████████| 1/1 [00:00<00:00, 11.72it/s]\n",
            "INFO:autora.theorist.bms.regressor:BMS fitting finished\n",
            "INFO:autora.theorist.bms.regressor:BMS fitting started\n"
          ]
        },
        {
          "name": "stdout",
          "output_type": "stream",
          "text": [
            "Fitting models on working state...\n",
            "Experiment data\n",
            "    P_asymptotic  trial  performance\n",
            "0       0.338384   81.0     0.941753\n",
            "1       0.227273   95.0     0.955302\n",
            "2       0.050505   68.0     0.876538\n",
            "3       0.297980   50.0     0.843358\n",
            "4       0.151515    1.0     0.176592\n",
            "5       0.101010   76.0     0.908048\n",
            "6       0.025253   52.0     0.795170\n",
            "7       0.207071   15.0     0.494406\n",
            "8       0.494949   99.0     0.974089\n",
            "9       0.010101   99.0     0.949215\n",
            "10      0.479798    1.0     0.495172\n",
            "11      0.010101    1.0     0.039357\n",
            "12      0.005051  100.0     0.950464\n",
            "13      0.010101    2.0     0.067748\n",
            "14      0.494949  100.0     0.974855\n",
            "15      0.005051    2.0     0.062992\n",
            "16      0.500000   95.0     0.971078\n",
            "17      0.010101    1.0     0.039357\n"
          ]
        },
        {
          "name": "stderr",
          "output_type": "stream",
          "text": [
            "100%|██████████| 1/1 [00:00<00:00, 10.78it/s]\n",
            "INFO:autora.theorist.bms.regressor:BMS fitting finished\n",
            "INFO:autora.theorist.bms.regressor:BMS fitting started\n"
          ]
        },
        {
          "name": "stdout",
          "output_type": "stream",
          "text": [
            "Sampling new experiment conditions...\n",
            "Obtaining observations...\n",
            "SIMULATION 5 / DISCOVERY CYCLE 18\n",
            "Fitting models on benchmark state...\n",
            "Experiment data\n",
            "    P_asymptotic  trial  performance\n",
            "0       0.338384   81.0     0.941753\n",
            "1       0.075758   93.0     0.943232\n",
            "2       0.252525   80.0     0.932191\n",
            "3       0.070707   48.0     0.779825\n",
            "4       0.338384   77.0     0.934327\n",
            "5       0.287879   78.0     0.931403\n",
            "6       0.308081   79.0     0.935319\n",
            "7       0.414141   18.0     0.658592\n",
            "8       0.126263   84.0     0.929699\n",
            "9       0.353535   62.0     0.899363\n",
            "10      0.262626   88.0     0.947380\n",
            "11      0.095960   97.0     0.950752\n",
            "12      0.459596   77.0     0.946359\n",
            "13      0.313131   46.0     0.827199\n",
            "14      0.121212    5.0     0.243620\n",
            "15      0.348485   37.0     0.785287\n",
            "16      0.191919   97.0     0.955979\n",
            "17      0.090909   59.0     0.845152\n",
            "18      0.005051   93.0     0.938889\n"
          ]
        },
        {
          "name": "stderr",
          "output_type": "stream",
          "text": [
            "100%|██████████| 1/1 [00:00<00:00, 10.75it/s]\n",
            "INFO:autora.theorist.bms.regressor:BMS fitting finished\n",
            "INFO:autora.theorist.bms.regressor:BMS fitting started\n"
          ]
        },
        {
          "name": "stdout",
          "output_type": "stream",
          "text": [
            "Fitting models on working state...\n",
            "Experiment data\n",
            "    P_asymptotic  trial  performance\n",
            "0       0.338384   81.0     0.941753\n",
            "1       0.227273   95.0     0.955302\n",
            "2       0.050505   68.0     0.876538\n",
            "3       0.297980   50.0     0.843358\n",
            "4       0.151515    1.0     0.176592\n",
            "5       0.101010   76.0     0.908048\n",
            "6       0.025253   52.0     0.795170\n",
            "7       0.207071   15.0     0.494406\n",
            "8       0.494949   99.0     0.974089\n",
            "9       0.010101   99.0     0.949215\n",
            "10      0.479798    1.0     0.495172\n",
            "11      0.010101    1.0     0.039357\n",
            "12      0.005051  100.0     0.950464\n",
            "13      0.010101    2.0     0.067748\n",
            "14      0.494949  100.0     0.974855\n",
            "15      0.005051    2.0     0.062992\n",
            "16      0.500000   95.0     0.971078\n",
            "17      0.010101    1.0     0.039357\n",
            "18      0.469697  100.0     0.973598\n"
          ]
        },
        {
          "name": "stderr",
          "output_type": "stream",
          "text": [
            "100%|██████████| 1/1 [00:00<00:00, 10.61it/s]\n",
            "INFO:autora.theorist.bms.regressor:BMS fitting finished\n",
            "INFO:autora.theorist.bms.regressor:BMS fitting started\n"
          ]
        },
        {
          "name": "stdout",
          "output_type": "stream",
          "text": [
            "Sampling new experiment conditions...\n",
            "Obtaining observations...\n",
            "SIMULATION 5 / DISCOVERY CYCLE 19\n",
            "Fitting models on benchmark state...\n",
            "Experiment data\n",
            "    P_asymptotic  trial  performance\n",
            "0       0.338384   81.0     0.941753\n",
            "1       0.075758   93.0     0.943232\n",
            "2       0.252525   80.0     0.932191\n",
            "3       0.070707   48.0     0.779825\n",
            "4       0.338384   77.0     0.934327\n",
            "5       0.287879   78.0     0.931403\n",
            "6       0.308081   79.0     0.935319\n",
            "7       0.414141   18.0     0.658592\n",
            "8       0.126263   84.0     0.929699\n",
            "9       0.353535   62.0     0.899363\n",
            "10      0.262626   88.0     0.947380\n",
            "11      0.095960   97.0     0.950752\n",
            "12      0.459596   77.0     0.946359\n",
            "13      0.313131   46.0     0.827199\n",
            "14      0.121212    5.0     0.243620\n",
            "15      0.348485   37.0     0.785287\n",
            "16      0.191919   97.0     0.955979\n",
            "17      0.090909   59.0     0.845152\n",
            "18      0.005051   93.0     0.938889\n",
            "19      0.146465   32.0     0.673187\n"
          ]
        },
        {
          "name": "stderr",
          "output_type": "stream",
          "text": [
            "100%|██████████| 1/1 [00:00<00:00, 10.86it/s]\n",
            "INFO:autora.theorist.bms.regressor:BMS fitting finished\n",
            "INFO:autora.theorist.bms.regressor:BMS fitting started\n"
          ]
        },
        {
          "name": "stdout",
          "output_type": "stream",
          "text": [
            "Fitting models on working state...\n",
            "Experiment data\n",
            "    P_asymptotic  trial  performance\n",
            "0       0.338384   81.0     0.941753\n",
            "1       0.227273   95.0     0.955302\n",
            "2       0.050505   68.0     0.876538\n",
            "3       0.297980   50.0     0.843358\n",
            "4       0.151515    1.0     0.176592\n",
            "5       0.101010   76.0     0.908048\n",
            "6       0.025253   52.0     0.795170\n",
            "7       0.207071   15.0     0.494406\n",
            "8       0.494949   99.0     0.974089\n",
            "9       0.010101   99.0     0.949215\n",
            "10      0.479798    1.0     0.495172\n",
            "11      0.010101    1.0     0.039357\n",
            "12      0.005051  100.0     0.950464\n",
            "13      0.010101    2.0     0.067748\n",
            "14      0.494949  100.0     0.974855\n",
            "15      0.005051    2.0     0.062992\n",
            "16      0.500000   95.0     0.971078\n",
            "17      0.010101    1.0     0.039357\n",
            "18      0.469697  100.0     0.973598\n",
            "19      0.015152  100.0     0.950967\n"
          ]
        },
        {
          "name": "stderr",
          "output_type": "stream",
          "text": [
            "100%|██████████| 1/1 [00:00<00:00,  9.17it/s]\n",
            "INFO:autora.theorist.bms.regressor:BMS fitting finished\n",
            "INFO:autora.theorist.bms.regressor:BMS fitting started\n"
          ]
        },
        {
          "name": "stdout",
          "output_type": "stream",
          "text": [
            "Sampling new experiment conditions...\n",
            "Obtaining observations...\n",
            "SIMULATION 6 / DISCOVERY CYCLE 0\n",
            "Fitting models on benchmark state...\n",
            "Experiment data\n",
            "   P_asymptotic  trial  performance\n",
            "0      0.222222   54.0     0.846079\n"
          ]
        },
        {
          "name": "stderr",
          "output_type": "stream",
          "text": [
            "100%|██████████| 1/1 [00:00<00:00, 14.14it/s]\n",
            "INFO:autora.theorist.bms.regressor:BMS fitting finished\n",
            "INFO:autora.theorist.bms.regressor:BMS fitting started\n"
          ]
        },
        {
          "name": "stdout",
          "output_type": "stream",
          "text": [
            "Fitting models on working state...\n",
            "Experiment data\n",
            "   P_asymptotic  trial  performance\n",
            "0      0.222222   54.0     0.846079\n"
          ]
        },
        {
          "name": "stderr",
          "output_type": "stream",
          "text": [
            "100%|██████████| 1/1 [00:00<00:00, 10.03it/s]\n",
            "INFO:autora.theorist.bms.regressor:BMS fitting finished\n",
            "INFO:autora.theorist.bms.regressor:BMS fitting started\n"
          ]
        },
        {
          "name": "stdout",
          "output_type": "stream",
          "text": [
            "Sampling new experiment conditions...\n",
            "Obtaining observations...\n",
            "SIMULATION 6 / DISCOVERY CYCLE 1\n",
            "Fitting models on benchmark state...\n",
            "Experiment data\n",
            "   P_asymptotic  trial  performance\n",
            "0      0.222222   54.0     0.846079\n",
            "1      0.141414   48.0     0.796577\n"
          ]
        },
        {
          "name": "stderr",
          "output_type": "stream",
          "text": [
            "100%|██████████| 1/1 [00:00<00:00,  7.04it/s]\n",
            "INFO:autora.theorist.bms.regressor:BMS fitting finished\n",
            "INFO:autora.theorist.bms.regressor:BMS fitting started\n"
          ]
        },
        {
          "name": "stdout",
          "output_type": "stream",
          "text": [
            "Fitting models on working state...\n",
            "Experiment data\n",
            "   P_asymptotic  trial  performance\n",
            "0      0.222222   54.0     0.846079\n",
            "1      0.237374   99.0     0.960875\n"
          ]
        },
        {
          "name": "stderr",
          "output_type": "stream",
          "text": [
            "100%|██████████| 1/1 [00:00<00:00, 11.71it/s]\n",
            "INFO:autora.theorist.bms.regressor:BMS fitting finished\n"
          ]
        },
        {
          "name": "stdout",
          "output_type": "stream",
          "text": [
            "Sampling new experiment conditions...\n",
            "Obtaining observations...\n",
            "SIMULATION 6 / DISCOVERY CYCLE 2\n",
            "Fitting models on benchmark state...\n",
            "Experiment data\n",
            "   P_asymptotic  trial  performance\n",
            "0      0.222222   54.0     0.846079\n",
            "1      0.141414   48.0     0.796577\n",
            "2      0.363636   83.0     0.947239\n"
          ]
        },
        {
          "name": "stderr",
          "output_type": "stream",
          "text": [
            "INFO:autora.theorist.bms.regressor:BMS fitting started\n",
            "100%|██████████| 1/1 [00:00<00:00, 12.53it/s]\n",
            "INFO:autora.theorist.bms.regressor:BMS fitting finished\n",
            "INFO:autora.theorist.bms.regressor:BMS fitting started\n"
          ]
        },
        {
          "name": "stdout",
          "output_type": "stream",
          "text": [
            "Fitting models on working state...\n",
            "Experiment data\n",
            "   P_asymptotic  trial  performance\n",
            "0      0.222222   54.0     0.846079\n",
            "1      0.237374   99.0     0.960875\n",
            "2      0.106061   10.0     0.337753\n"
          ]
        },
        {
          "name": "stderr",
          "output_type": "stream",
          "text": [
            "100%|██████████| 1/1 [00:00<00:00, 15.22it/s]\n",
            "INFO:autora.theorist.bms.regressor:BMS fitting finished\n"
          ]
        },
        {
          "name": "stdout",
          "output_type": "stream",
          "text": [
            "Sampling new experiment conditions...\n",
            "Obtaining observations...\n",
            "SIMULATION 6 / DISCOVERY CYCLE 3\n",
            "Fitting models on benchmark state...\n",
            "Experiment data\n",
            "   P_asymptotic  trial  performance\n",
            "0      0.222222   54.0     0.846079\n",
            "1      0.141414   48.0     0.796577\n",
            "2      0.363636   83.0     0.947239\n",
            "3      0.363636    7.0     0.484174\n"
          ]
        },
        {
          "name": "stderr",
          "output_type": "stream",
          "text": [
            "INFO:autora.theorist.bms.regressor:BMS fitting started\n",
            "100%|██████████| 1/1 [00:00<00:00,  8.78it/s]\n",
            "INFO:autora.theorist.bms.regressor:BMS fitting finished\n",
            "INFO:autora.theorist.bms.regressor:BMS fitting started\n"
          ]
        },
        {
          "name": "stdout",
          "output_type": "stream",
          "text": [
            "Fitting models on working state...\n",
            "Experiment data\n",
            "   P_asymptotic  trial  performance\n",
            "0      0.222222   54.0     0.846079\n",
            "1      0.237374   99.0     0.960875\n",
            "2      0.106061   10.0     0.337753\n",
            "3      0.217172   33.0     0.709119\n"
          ]
        },
        {
          "name": "stderr",
          "output_type": "stream",
          "text": [
            "100%|██████████| 1/1 [00:00<00:00, 10.54it/s]\n",
            "INFO:autora.theorist.bms.regressor:BMS fitting finished\n",
            "INFO:autora.theorist.bms.regressor:BMS fitting started\n"
          ]
        },
        {
          "name": "stdout",
          "output_type": "stream",
          "text": [
            "Sampling new experiment conditions...\n",
            "Obtaining observations...\n",
            "SIMULATION 6 / DISCOVERY CYCLE 4\n",
            "Fitting models on benchmark state...\n",
            "Experiment data\n",
            "   P_asymptotic  trial  performance\n",
            "0      0.222222   54.0     0.846079\n",
            "1      0.141414   48.0     0.796577\n",
            "2      0.363636   83.0     0.947239\n",
            "3      0.363636    7.0     0.484174\n",
            "4      0.338384   15.0     0.578135\n"
          ]
        },
        {
          "name": "stderr",
          "output_type": "stream",
          "text": [
            "100%|██████████| 1/1 [00:00<00:00, 12.25it/s]\n",
            "INFO:autora.theorist.bms.regressor:BMS fitting finished\n",
            "INFO:autora.theorist.bms.regressor:BMS fitting started\n"
          ]
        },
        {
          "name": "stdout",
          "output_type": "stream",
          "text": [
            "Fitting models on working state...\n",
            "Experiment data\n",
            "   P_asymptotic  trial  performance\n",
            "0      0.222222   54.0     0.846079\n",
            "1      0.237374   99.0     0.960875\n",
            "2      0.106061   10.0     0.337753\n",
            "3      0.217172   33.0     0.709119\n",
            "4      0.338384   15.0     0.578135\n"
          ]
        },
        {
          "name": "stderr",
          "output_type": "stream",
          "text": [
            "100%|██████████| 1/1 [00:00<00:00, 10.38it/s]\n",
            "INFO:autora.theorist.bms.regressor:BMS fitting finished\n",
            "INFO:autora.theorist.bms.regressor:BMS fitting started\n"
          ]
        },
        {
          "name": "stdout",
          "output_type": "stream",
          "text": [
            "Sampling new experiment conditions...\n",
            "Obtaining observations...\n",
            "SIMULATION 6 / DISCOVERY CYCLE 5\n",
            "Fitting models on benchmark state...\n",
            "Experiment data\n",
            "   P_asymptotic  trial  performance\n",
            "0      0.222222   54.0     0.846079\n",
            "1      0.141414   48.0     0.796577\n",
            "2      0.363636   83.0     0.947239\n",
            "3      0.363636    7.0     0.484174\n",
            "4      0.338384   15.0     0.578135\n",
            "5      0.080808   85.0     0.928228\n"
          ]
        },
        {
          "name": "stderr",
          "output_type": "stream",
          "text": [
            "100%|██████████| 1/1 [00:00<00:00, 10.01it/s]\n",
            "INFO:autora.theorist.bms.regressor:BMS fitting finished\n",
            "INFO:autora.theorist.bms.regressor:BMS fitting started\n"
          ]
        },
        {
          "name": "stdout",
          "output_type": "stream",
          "text": [
            "Fitting models on working state...\n",
            "Experiment data\n",
            "   P_asymptotic  trial  performance\n",
            "0      0.222222   54.0     0.846079\n",
            "1      0.237374   99.0     0.960875\n",
            "2      0.106061   10.0     0.337753\n",
            "3      0.217172   33.0     0.709119\n",
            "4      0.338384   15.0     0.578135\n",
            "5      0.196970   48.0     0.809740\n"
          ]
        },
        {
          "name": "stderr",
          "output_type": "stream",
          "text": [
            "100%|██████████| 1/1 [00:00<00:00, 12.30it/s]\n",
            "INFO:autora.theorist.bms.regressor:BMS fitting finished\n"
          ]
        },
        {
          "name": "stdout",
          "output_type": "stream",
          "text": [
            "Sampling new experiment conditions...\n",
            "Obtaining observations...\n",
            "SIMULATION 6 / DISCOVERY CYCLE 6\n",
            "Fitting models on benchmark state...\n",
            "Experiment data\n",
            "   P_asymptotic  trial  performance\n",
            "0      0.222222   54.0     0.846079\n",
            "1      0.141414   48.0     0.796577\n",
            "2      0.363636   83.0     0.947239\n",
            "3      0.363636    7.0     0.484174\n",
            "4      0.338384   15.0     0.578135\n",
            "5      0.080808   85.0     0.928228\n",
            "6      0.126263   86.0     0.933793\n"
          ]
        },
        {
          "name": "stderr",
          "output_type": "stream",
          "text": [
            "INFO:autora.theorist.bms.regressor:BMS fitting started\n",
            "100%|██████████| 1/1 [00:00<00:00,  9.66it/s]\n",
            "INFO:autora.theorist.bms.regressor:BMS fitting finished\n",
            "INFO:autora.theorist.bms.regressor:BMS fitting started\n"
          ]
        },
        {
          "name": "stdout",
          "output_type": "stream",
          "text": [
            "Fitting models on working state...\n",
            "Experiment data\n",
            "   P_asymptotic  trial  performance\n",
            "0      0.222222   54.0     0.846079\n",
            "1      0.237374   99.0     0.960875\n",
            "2      0.106061   10.0     0.337753\n",
            "3      0.217172   33.0     0.709119\n",
            "4      0.338384   15.0     0.578135\n",
            "5      0.196970   48.0     0.809740\n",
            "6      0.151515   78.0     0.918267\n"
          ]
        },
        {
          "name": "stderr",
          "output_type": "stream",
          "text": [
            "100%|██████████| 1/1 [00:00<00:00, 12.32it/s]\n",
            "INFO:autora.theorist.bms.regressor:BMS fitting finished\n",
            "INFO:autora.theorist.bms.regressor:BMS fitting started\n"
          ]
        },
        {
          "name": "stdout",
          "output_type": "stream",
          "text": [
            "Sampling new experiment conditions...\n",
            "Obtaining observations...\n",
            "SIMULATION 6 / DISCOVERY CYCLE 7\n",
            "Fitting models on benchmark state...\n",
            "Experiment data\n",
            "   P_asymptotic  trial  performance\n",
            "0      0.222222   54.0     0.846079\n",
            "1      0.141414   48.0     0.796577\n",
            "2      0.363636   83.0     0.947239\n",
            "3      0.363636    7.0     0.484174\n",
            "4      0.338384   15.0     0.578135\n",
            "5      0.080808   85.0     0.928228\n",
            "6      0.126263   86.0     0.933793\n",
            "7      0.176768   93.0     0.949436\n"
          ]
        },
        {
          "name": "stderr",
          "output_type": "stream",
          "text": [
            "100%|██████████| 1/1 [00:00<00:00, 11.63it/s]\n",
            "INFO:autora.theorist.bms.regressor:BMS fitting finished\n",
            "INFO:autora.theorist.bms.regressor:BMS fitting started\n"
          ]
        },
        {
          "name": "stdout",
          "output_type": "stream",
          "text": [
            "Fitting models on working state...\n",
            "Experiment data\n",
            "   P_asymptotic  trial  performance\n",
            "0      0.222222   54.0     0.846079\n",
            "1      0.237374   99.0     0.960875\n",
            "2      0.106061   10.0     0.337753\n",
            "3      0.217172   33.0     0.709119\n",
            "4      0.338384   15.0     0.578135\n",
            "5      0.196970   48.0     0.809740\n",
            "6      0.151515   78.0     0.918267\n",
            "7      0.444444   52.0     0.883258\n"
          ]
        },
        {
          "name": "stderr",
          "output_type": "stream",
          "text": [
            "100%|██████████| 1/1 [00:00<00:00, 15.15it/s]\n",
            "INFO:autora.theorist.bms.regressor:BMS fitting finished\n"
          ]
        },
        {
          "name": "stdout",
          "output_type": "stream",
          "text": [
            "Sampling new experiment conditions...\n",
            "Obtaining observations...\n",
            "SIMULATION 6 / DISCOVERY CYCLE 8\n",
            "Fitting models on benchmark state...\n",
            "Experiment data\n",
            "   P_asymptotic  trial  performance\n",
            "0      0.222222   54.0     0.846079\n",
            "1      0.141414   48.0     0.796577\n",
            "2      0.363636   83.0     0.947239\n",
            "3      0.363636    7.0     0.484174\n",
            "4      0.338384   15.0     0.578135\n",
            "5      0.080808   85.0     0.928228\n",
            "6      0.126263   86.0     0.933793\n",
            "7      0.176768   93.0     0.949436\n",
            "8      0.262626   37.0     0.756992\n"
          ]
        },
        {
          "name": "stderr",
          "output_type": "stream",
          "text": [
            "INFO:autora.theorist.bms.regressor:BMS fitting started\n",
            "100%|██████████| 1/1 [00:00<00:00,  7.55it/s]\n",
            "INFO:autora.theorist.bms.regressor:BMS fitting finished\n",
            "INFO:autora.theorist.bms.regressor:BMS fitting started\n"
          ]
        },
        {
          "name": "stdout",
          "output_type": "stream",
          "text": [
            "Fitting models on working state...\n",
            "Experiment data\n",
            "   P_asymptotic  trial  performance\n",
            "0      0.222222   54.0     0.846079\n",
            "1      0.237374   99.0     0.960875\n",
            "2      0.106061   10.0     0.337753\n",
            "3      0.217172   33.0     0.709119\n",
            "4      0.338384   15.0     0.578135\n",
            "5      0.196970   48.0     0.809740\n",
            "6      0.151515   78.0     0.918267\n",
            "7      0.444444   52.0     0.883258\n",
            "8      0.000000   98.0     0.947134\n"
          ]
        },
        {
          "name": "stderr",
          "output_type": "stream",
          "text": [
            "100%|██████████| 1/1 [00:00<00:00,  9.48it/s]\n",
            "INFO:autora.theorist.bms.regressor:BMS fitting finished\n",
            "INFO:autora.theorist.bms.regressor:BMS fitting started\n"
          ]
        },
        {
          "name": "stdout",
          "output_type": "stream",
          "text": [
            "Sampling new experiment conditions...\n",
            "Obtaining observations...\n",
            "SIMULATION 6 / DISCOVERY CYCLE 9\n",
            "Fitting models on benchmark state...\n",
            "Experiment data\n",
            "   P_asymptotic  trial  performance\n",
            "0      0.222222   54.0     0.846079\n",
            "1      0.141414   48.0     0.796577\n",
            "2      0.363636   83.0     0.947239\n",
            "3      0.363636    7.0     0.484174\n",
            "4      0.338384   15.0     0.578135\n",
            "5      0.080808   85.0     0.928228\n",
            "6      0.126263   86.0     0.933793\n",
            "7      0.176768   93.0     0.949436\n",
            "8      0.262626   37.0     0.756992\n",
            "9      0.378788   57.0     0.887644\n"
          ]
        },
        {
          "name": "stderr",
          "output_type": "stream",
          "text": [
            "100%|██████████| 1/1 [00:00<00:00, 14.42it/s]\n",
            "INFO:autora.theorist.bms.regressor:BMS fitting finished\n",
            "INFO:autora.theorist.bms.regressor:BMS fitting started\n"
          ]
        },
        {
          "name": "stdout",
          "output_type": "stream",
          "text": [
            "Fitting models on working state...\n",
            "Experiment data\n",
            "   P_asymptotic  trial  performance\n",
            "0      0.222222   54.0     0.846079\n",
            "1      0.237374   99.0     0.960875\n",
            "2      0.106061   10.0     0.337753\n",
            "3      0.217172   33.0     0.709119\n",
            "4      0.338384   15.0     0.578135\n",
            "5      0.196970   48.0     0.809740\n",
            "6      0.151515   78.0     0.918267\n",
            "7      0.444444   52.0     0.883258\n",
            "8      0.000000   98.0     0.947134\n",
            "9      0.500000   99.0     0.974348\n"
          ]
        },
        {
          "name": "stderr",
          "output_type": "stream",
          "text": [
            "100%|██████████| 1/1 [00:00<00:00, 11.63it/s]\n",
            "INFO:autora.theorist.bms.regressor:BMS fitting finished\n"
          ]
        },
        {
          "name": "stdout",
          "output_type": "stream",
          "text": [
            "Sampling new experiment conditions...\n"
          ]
        },
        {
          "name": "stderr",
          "output_type": "stream",
          "text": [
            "INFO:autora.theorist.bms.regressor:BMS fitting started\n"
          ]
        },
        {
          "name": "stdout",
          "output_type": "stream",
          "text": [
            "Obtaining observations...\n",
            "SIMULATION 6 / DISCOVERY CYCLE 10\n",
            "Fitting models on benchmark state...\n",
            "Experiment data\n",
            "    P_asymptotic  trial  performance\n",
            "0       0.222222   54.0     0.846079\n",
            "1       0.141414   48.0     0.796577\n",
            "2       0.363636   83.0     0.947239\n",
            "3       0.363636    7.0     0.484174\n",
            "4       0.338384   15.0     0.578135\n",
            "5       0.080808   85.0     0.928228\n",
            "6       0.126263   86.0     0.933793\n",
            "7       0.176768   93.0     0.949436\n",
            "8       0.262626   37.0     0.756992\n",
            "9       0.378788   57.0     0.887644\n",
            "10      0.338384   67.0     0.911351\n"
          ]
        },
        {
          "name": "stderr",
          "output_type": "stream",
          "text": [
            "100%|██████████| 1/1 [00:00<00:00,  9.23it/s]\n",
            "INFO:autora.theorist.bms.regressor:BMS fitting finished\n",
            "INFO:autora.theorist.bms.regressor:BMS fitting started\n"
          ]
        },
        {
          "name": "stdout",
          "output_type": "stream",
          "text": [
            "Fitting models on working state...\n",
            "Experiment data\n",
            "    P_asymptotic  trial  performance\n",
            "0       0.222222   54.0     0.846079\n",
            "1       0.237374   99.0     0.960875\n",
            "2       0.106061   10.0     0.337753\n",
            "3       0.217172   33.0     0.709119\n",
            "4       0.338384   15.0     0.578135\n",
            "5       0.196970   48.0     0.809740\n",
            "6       0.151515   78.0     0.918267\n",
            "7       0.444444   52.0     0.883258\n",
            "8       0.000000   98.0     0.947134\n",
            "9       0.500000   99.0     0.974348\n",
            "10      0.005051    1.0     0.034456\n"
          ]
        },
        {
          "name": "stderr",
          "output_type": "stream",
          "text": [
            "100%|██████████| 1/1 [00:00<00:00,  9.58it/s]\n",
            "INFO:autora.theorist.bms.regressor:BMS fitting finished\n",
            "INFO:autora.theorist.bms.regressor:BMS fitting started\n"
          ]
        },
        {
          "name": "stdout",
          "output_type": "stream",
          "text": [
            "Sampling new experiment conditions...\n",
            "Obtaining observations...\n",
            "SIMULATION 6 / DISCOVERY CYCLE 11\n",
            "Fitting models on benchmark state...\n",
            "Experiment data\n",
            "    P_asymptotic  trial  performance\n",
            "0       0.222222   54.0     0.846079\n",
            "1       0.141414   48.0     0.796577\n",
            "2       0.363636   83.0     0.947239\n",
            "3       0.363636    7.0     0.484174\n",
            "4       0.338384   15.0     0.578135\n",
            "5       0.080808   85.0     0.928228\n",
            "6       0.126263   86.0     0.933793\n",
            "7       0.176768   93.0     0.949436\n",
            "8       0.262626   37.0     0.756992\n",
            "9       0.378788   57.0     0.887644\n",
            "10      0.338384   67.0     0.911351\n",
            "11      0.272727   19.0     0.588709\n"
          ]
        },
        {
          "name": "stderr",
          "output_type": "stream",
          "text": [
            "100%|██████████| 1/1 [00:00<00:00,  9.80it/s]\n",
            "INFO:autora.theorist.bms.regressor:BMS fitting finished\n",
            "INFO:autora.theorist.bms.regressor:BMS fitting started\n"
          ]
        },
        {
          "name": "stdout",
          "output_type": "stream",
          "text": [
            "Fitting models on working state...\n",
            "Experiment data\n",
            "    P_asymptotic  trial  performance\n",
            "0       0.222222   54.0     0.846079\n",
            "1       0.237374   99.0     0.960875\n",
            "2       0.106061   10.0     0.337753\n",
            "3       0.217172   33.0     0.709119\n",
            "4       0.338384   15.0     0.578135\n",
            "5       0.196970   48.0     0.809740\n",
            "6       0.151515   78.0     0.918267\n",
            "7       0.444444   52.0     0.883258\n",
            "8       0.000000   98.0     0.947134\n",
            "9       0.500000   99.0     0.974348\n",
            "10      0.005051    1.0     0.034456\n",
            "11      0.500000  100.0     0.975106\n"
          ]
        },
        {
          "name": "stderr",
          "output_type": "stream",
          "text": [
            "100%|██████████| 1/1 [00:00<00:00, 15.11it/s]\n",
            "INFO:autora.theorist.bms.regressor:BMS fitting finished\n"
          ]
        },
        {
          "name": "stdout",
          "output_type": "stream",
          "text": [
            "Sampling new experiment conditions...\n"
          ]
        },
        {
          "name": "stderr",
          "output_type": "stream",
          "text": [
            "INFO:autora.theorist.bms.regressor:BMS fitting started\n"
          ]
        },
        {
          "name": "stdout",
          "output_type": "stream",
          "text": [
            "Obtaining observations...\n",
            "SIMULATION 6 / DISCOVERY CYCLE 12\n",
            "Fitting models on benchmark state...\n",
            "Experiment data\n",
            "    P_asymptotic  trial  performance\n",
            "0       0.222222   54.0     0.846079\n",
            "1       0.141414   48.0     0.796577\n",
            "2       0.363636   83.0     0.947239\n",
            "3       0.363636    7.0     0.484174\n",
            "4       0.338384   15.0     0.578135\n",
            "5       0.080808   85.0     0.928228\n",
            "6       0.126263   86.0     0.933793\n",
            "7       0.176768   93.0     0.949436\n",
            "8       0.262626   37.0     0.756992\n",
            "9       0.378788   57.0     0.887644\n",
            "10      0.338384   67.0     0.911351\n",
            "11      0.272727   19.0     0.588709\n",
            "12      0.282828   50.0     0.839977\n"
          ]
        },
        {
          "name": "stderr",
          "output_type": "stream",
          "text": [
            "100%|██████████| 1/1 [00:00<00:00,  9.62it/s]\n",
            "INFO:autora.theorist.bms.regressor:BMS fitting finished\n",
            "INFO:autora.theorist.bms.regressor:BMS fitting started\n"
          ]
        },
        {
          "name": "stdout",
          "output_type": "stream",
          "text": [
            "Fitting models on working state...\n",
            "Experiment data\n",
            "    P_asymptotic  trial  performance\n",
            "0       0.222222   54.0     0.846079\n",
            "1       0.237374   99.0     0.960875\n",
            "2       0.106061   10.0     0.337753\n",
            "3       0.217172   33.0     0.709119\n",
            "4       0.338384   15.0     0.578135\n",
            "5       0.196970   48.0     0.809740\n",
            "6       0.151515   78.0     0.918267\n",
            "7       0.444444   52.0     0.883258\n",
            "8       0.000000   98.0     0.947134\n",
            "9       0.500000   99.0     0.974348\n",
            "10      0.005051    1.0     0.034456\n",
            "11      0.500000  100.0     0.975106\n",
            "12      0.010101    2.0     0.067748\n"
          ]
        },
        {
          "name": "stderr",
          "output_type": "stream",
          "text": [
            "100%|██████████| 1/1 [00:00<00:00,  5.80it/s]\n",
            "INFO:autora.theorist.bms.regressor:BMS fitting finished\n",
            "INFO:autora.theorist.bms.regressor:BMS fitting started\n"
          ]
        },
        {
          "name": "stdout",
          "output_type": "stream",
          "text": [
            "Sampling new experiment conditions...\n",
            "Obtaining observations...\n",
            "SIMULATION 6 / DISCOVERY CYCLE 13\n",
            "Fitting models on benchmark state...\n",
            "Experiment data\n",
            "    P_asymptotic  trial  performance\n",
            "0       0.222222   54.0     0.846079\n",
            "1       0.141414   48.0     0.796577\n",
            "2       0.363636   83.0     0.947239\n",
            "3       0.363636    7.0     0.484174\n",
            "4       0.338384   15.0     0.578135\n",
            "5       0.080808   85.0     0.928228\n",
            "6       0.126263   86.0     0.933793\n",
            "7       0.176768   93.0     0.949436\n",
            "8       0.262626   37.0     0.756992\n",
            "9       0.378788   57.0     0.887644\n",
            "10      0.338384   67.0     0.911351\n",
            "11      0.272727   19.0     0.588709\n",
            "12      0.282828   50.0     0.839977\n",
            "13      0.252525   31.0     0.705081\n"
          ]
        },
        {
          "name": "stderr",
          "output_type": "stream",
          "text": [
            "100%|██████████| 1/1 [00:00<00:00,  8.91it/s]\n",
            "INFO:autora.theorist.bms.regressor:BMS fitting finished\n",
            "INFO:autora.theorist.bms.regressor:BMS fitting started\n"
          ]
        },
        {
          "name": "stdout",
          "output_type": "stream",
          "text": [
            "Fitting models on working state...\n",
            "Experiment data\n",
            "    P_asymptotic  trial  performance\n",
            "0       0.222222   54.0     0.846079\n",
            "1       0.237374   99.0     0.960875\n",
            "2       0.106061   10.0     0.337753\n",
            "3       0.217172   33.0     0.709119\n",
            "4       0.338384   15.0     0.578135\n",
            "5       0.196970   48.0     0.809740\n",
            "6       0.151515   78.0     0.918267\n",
            "7       0.444444   52.0     0.883258\n",
            "8       0.000000   98.0     0.947134\n",
            "9       0.500000   99.0     0.974348\n",
            "10      0.005051    1.0     0.034456\n",
            "11      0.500000  100.0     0.975106\n",
            "12      0.010101    2.0     0.067748\n",
            "13      0.015152  100.0     0.950967\n"
          ]
        },
        {
          "name": "stderr",
          "output_type": "stream",
          "text": [
            "100%|██████████| 1/1 [00:00<00:00, 16.99it/s]\n",
            "INFO:autora.theorist.bms.regressor:BMS fitting finished\n",
            "INFO:autora.theorist.bms.regressor:BMS fitting started\n"
          ]
        },
        {
          "name": "stdout",
          "output_type": "stream",
          "text": [
            "Sampling new experiment conditions...\n",
            "Obtaining observations...\n",
            "SIMULATION 6 / DISCOVERY CYCLE 14\n",
            "Fitting models on benchmark state...\n",
            "Experiment data\n",
            "    P_asymptotic  trial  performance\n",
            "0       0.222222   54.0     0.846079\n",
            "1       0.141414   48.0     0.796577\n",
            "2       0.363636   83.0     0.947239\n",
            "3       0.363636    7.0     0.484174\n",
            "4       0.338384   15.0     0.578135\n",
            "5       0.080808   85.0     0.928228\n",
            "6       0.126263   86.0     0.933793\n",
            "7       0.176768   93.0     0.949436\n",
            "8       0.262626   37.0     0.756992\n",
            "9       0.378788   57.0     0.887644\n",
            "10      0.338384   67.0     0.911351\n",
            "11      0.272727   19.0     0.588709\n",
            "12      0.282828   50.0     0.839977\n",
            "13      0.252525   31.0     0.705081\n",
            "14      0.297980   18.0     0.590899\n"
          ]
        },
        {
          "name": "stderr",
          "output_type": "stream",
          "text": [
            "100%|██████████| 1/1 [00:00<00:00,  7.63it/s]\n",
            "INFO:autora.theorist.bms.regressor:BMS fitting finished\n",
            "INFO:autora.theorist.bms.regressor:BMS fitting started\n"
          ]
        },
        {
          "name": "stdout",
          "output_type": "stream",
          "text": [
            "Fitting models on working state...\n",
            "Experiment data\n",
            "    P_asymptotic  trial  performance\n",
            "0       0.222222   54.0     0.846079\n",
            "1       0.237374   99.0     0.960875\n",
            "2       0.106061   10.0     0.337753\n",
            "3       0.217172   33.0     0.709119\n",
            "4       0.338384   15.0     0.578135\n",
            "5       0.196970   48.0     0.809740\n",
            "6       0.151515   78.0     0.918267\n",
            "7       0.444444   52.0     0.883258\n",
            "8       0.000000   98.0     0.947134\n",
            "9       0.500000   99.0     0.974348\n",
            "10      0.005051    1.0     0.034456\n",
            "11      0.500000  100.0     0.975106\n",
            "12      0.010101    2.0     0.067748\n",
            "13      0.015152  100.0     0.950967\n",
            "14      0.020202    1.0     0.049159\n"
          ]
        },
        {
          "name": "stderr",
          "output_type": "stream",
          "text": [
            "100%|██████████| 1/1 [00:00<00:00,  8.47it/s]\n",
            "INFO:autora.theorist.bms.regressor:BMS fitting finished\n",
            "INFO:autora.theorist.bms.regressor:BMS fitting started\n"
          ]
        },
        {
          "name": "stdout",
          "output_type": "stream",
          "text": [
            "Sampling new experiment conditions...\n",
            "Obtaining observations...\n",
            "SIMULATION 6 / DISCOVERY CYCLE 15\n",
            "Fitting models on benchmark state...\n",
            "Experiment data\n",
            "    P_asymptotic  trial  performance\n",
            "0       0.222222   54.0     0.846079\n",
            "1       0.141414   48.0     0.796577\n",
            "2       0.363636   83.0     0.947239\n",
            "3       0.363636    7.0     0.484174\n",
            "4       0.338384   15.0     0.578135\n",
            "5       0.080808   85.0     0.928228\n",
            "6       0.126263   86.0     0.933793\n",
            "7       0.176768   93.0     0.949436\n",
            "8       0.262626   37.0     0.756992\n",
            "9       0.378788   57.0     0.887644\n",
            "10      0.338384   67.0     0.911351\n",
            "11      0.272727   19.0     0.588709\n",
            "12      0.282828   50.0     0.839977\n",
            "13      0.252525   31.0     0.705081\n",
            "14      0.297980   18.0     0.590899\n",
            "15      0.196970   51.0     0.826115\n"
          ]
        },
        {
          "name": "stderr",
          "output_type": "stream",
          "text": [
            "100%|██████████| 1/1 [00:00<00:00, 11.24it/s]\n",
            "INFO:autora.theorist.bms.regressor:BMS fitting finished\n",
            "INFO:autora.theorist.bms.regressor:BMS fitting started\n"
          ]
        },
        {
          "name": "stdout",
          "output_type": "stream",
          "text": [
            "Fitting models on working state...\n",
            "Experiment data\n",
            "    P_asymptotic  trial  performance\n",
            "0       0.222222   54.0     0.846079\n",
            "1       0.237374   99.0     0.960875\n",
            "2       0.106061   10.0     0.337753\n",
            "3       0.217172   33.0     0.709119\n",
            "4       0.338384   15.0     0.578135\n",
            "5       0.196970   48.0     0.809740\n",
            "6       0.151515   78.0     0.918267\n",
            "7       0.444444   52.0     0.883258\n",
            "8       0.000000   98.0     0.947134\n",
            "9       0.500000   99.0     0.974348\n",
            "10      0.005051    1.0     0.034456\n",
            "11      0.500000  100.0     0.975106\n",
            "12      0.010101    2.0     0.067748\n",
            "13      0.015152  100.0     0.950967\n",
            "14      0.020202    1.0     0.049159\n",
            "15      0.489899  100.0     0.974604\n"
          ]
        },
        {
          "name": "stderr",
          "output_type": "stream",
          "text": [
            "100%|██████████| 1/1 [00:00<00:00, 12.01it/s]\n",
            "INFO:autora.theorist.bms.regressor:BMS fitting finished\n",
            "INFO:autora.theorist.bms.regressor:BMS fitting started\n"
          ]
        },
        {
          "name": "stdout",
          "output_type": "stream",
          "text": [
            "Sampling new experiment conditions...\n",
            "Obtaining observations...\n",
            "SIMULATION 6 / DISCOVERY CYCLE 16\n",
            "Fitting models on benchmark state...\n",
            "Experiment data\n",
            "    P_asymptotic  trial  performance\n",
            "0       0.222222   54.0     0.846079\n",
            "1       0.141414   48.0     0.796577\n",
            "2       0.363636   83.0     0.947239\n",
            "3       0.363636    7.0     0.484174\n",
            "4       0.338384   15.0     0.578135\n",
            "5       0.080808   85.0     0.928228\n",
            "6       0.126263   86.0     0.933793\n",
            "7       0.176768   93.0     0.949436\n",
            "8       0.262626   37.0     0.756992\n",
            "9       0.378788   57.0     0.887644\n",
            "10      0.338384   67.0     0.911351\n",
            "11      0.272727   19.0     0.588709\n",
            "12      0.282828   50.0     0.839977\n",
            "13      0.252525   31.0     0.705081\n",
            "14      0.297980   18.0     0.590899\n",
            "15      0.196970   51.0     0.826115\n",
            "16      0.141414   75.0     0.909506\n"
          ]
        },
        {
          "name": "stderr",
          "output_type": "stream",
          "text": [
            "100%|██████████| 1/1 [00:00<00:00, 11.80it/s]\n",
            "INFO:autora.theorist.bms.regressor:BMS fitting finished\n",
            "INFO:autora.theorist.bms.regressor:BMS fitting started\n"
          ]
        },
        {
          "name": "stdout",
          "output_type": "stream",
          "text": [
            "Fitting models on working state...\n",
            "Experiment data\n",
            "    P_asymptotic  trial  performance\n",
            "0       0.222222   54.0     0.846079\n",
            "1       0.237374   99.0     0.960875\n",
            "2       0.106061   10.0     0.337753\n",
            "3       0.217172   33.0     0.709119\n",
            "4       0.338384   15.0     0.578135\n",
            "5       0.196970   48.0     0.809740\n",
            "6       0.151515   78.0     0.918267\n",
            "7       0.444444   52.0     0.883258\n",
            "8       0.000000   98.0     0.947134\n",
            "9       0.500000   99.0     0.974348\n",
            "10      0.005051    1.0     0.034456\n",
            "11      0.500000  100.0     0.975106\n",
            "12      0.010101    2.0     0.067748\n",
            "13      0.015152  100.0     0.950967\n",
            "14      0.020202    1.0     0.049159\n",
            "15      0.489899  100.0     0.974604\n",
            "16      0.010101   99.0     0.949215\n"
          ]
        },
        {
          "name": "stderr",
          "output_type": "stream",
          "text": [
            "100%|██████████| 1/1 [00:00<00:00,  9.25it/s]\n",
            "INFO:autora.theorist.bms.regressor:BMS fitting finished\n",
            "INFO:autora.theorist.bms.regressor:BMS fitting started\n"
          ]
        },
        {
          "name": "stdout",
          "output_type": "stream",
          "text": [
            "Sampling new experiment conditions...\n",
            "Obtaining observations...\n",
            "SIMULATION 6 / DISCOVERY CYCLE 17\n",
            "Fitting models on benchmark state...\n",
            "Experiment data\n",
            "    P_asymptotic  trial  performance\n",
            "0       0.222222   54.0     0.846079\n",
            "1       0.141414   48.0     0.796577\n",
            "2       0.363636   83.0     0.947239\n",
            "3       0.363636    7.0     0.484174\n",
            "4       0.338384   15.0     0.578135\n",
            "5       0.080808   85.0     0.928228\n",
            "6       0.126263   86.0     0.933793\n",
            "7       0.176768   93.0     0.949436\n",
            "8       0.262626   37.0     0.756992\n",
            "9       0.378788   57.0     0.887644\n",
            "10      0.338384   67.0     0.911351\n",
            "11      0.272727   19.0     0.588709\n",
            "12      0.282828   50.0     0.839977\n",
            "13      0.252525   31.0     0.705081\n",
            "14      0.297980   18.0     0.590899\n",
            "15      0.196970   51.0     0.826115\n",
            "16      0.141414   75.0     0.909506\n",
            "17      0.227273   73.0     0.913519\n"
          ]
        },
        {
          "name": "stderr",
          "output_type": "stream",
          "text": [
            "100%|██████████| 1/1 [00:00<00:00, 12.50it/s]\n",
            "INFO:autora.theorist.bms.regressor:BMS fitting finished\n",
            "INFO:autora.theorist.bms.regressor:BMS fitting started\n"
          ]
        },
        {
          "name": "stdout",
          "output_type": "stream",
          "text": [
            "Fitting models on working state...\n",
            "Experiment data\n",
            "    P_asymptotic  trial  performance\n",
            "0       0.222222   54.0     0.846079\n",
            "1       0.237374   99.0     0.960875\n",
            "2       0.106061   10.0     0.337753\n",
            "3       0.217172   33.0     0.709119\n",
            "4       0.338384   15.0     0.578135\n",
            "5       0.196970   48.0     0.809740\n",
            "6       0.151515   78.0     0.918267\n",
            "7       0.444444   52.0     0.883258\n",
            "8       0.000000   98.0     0.947134\n",
            "9       0.500000   99.0     0.974348\n",
            "10      0.005051    1.0     0.034456\n",
            "11      0.500000  100.0     0.975106\n",
            "12      0.010101    2.0     0.067748\n",
            "13      0.015152  100.0     0.950967\n",
            "14      0.020202    1.0     0.049159\n",
            "15      0.489899  100.0     0.974604\n",
            "16      0.010101   99.0     0.949215\n",
            "17      0.010101    2.0     0.067748\n"
          ]
        },
        {
          "name": "stderr",
          "output_type": "stream",
          "text": [
            "100%|██████████| 1/1 [00:00<00:00,  9.71it/s]\n",
            "INFO:autora.theorist.bms.regressor:BMS fitting finished\n",
            "INFO:autora.theorist.bms.regressor:BMS fitting started\n"
          ]
        },
        {
          "name": "stdout",
          "output_type": "stream",
          "text": [
            "Sampling new experiment conditions...\n",
            "Obtaining observations...\n",
            "SIMULATION 6 / DISCOVERY CYCLE 18\n",
            "Fitting models on benchmark state...\n",
            "Experiment data\n",
            "    P_asymptotic  trial  performance\n",
            "0       0.222222   54.0     0.846079\n",
            "1       0.141414   48.0     0.796577\n",
            "2       0.363636   83.0     0.947239\n",
            "3       0.363636    7.0     0.484174\n",
            "4       0.338384   15.0     0.578135\n",
            "5       0.080808   85.0     0.928228\n",
            "6       0.126263   86.0     0.933793\n",
            "7       0.176768   93.0     0.949436\n",
            "8       0.262626   37.0     0.756992\n",
            "9       0.378788   57.0     0.887644\n",
            "10      0.338384   67.0     0.911351\n",
            "11      0.272727   19.0     0.588709\n",
            "12      0.282828   50.0     0.839977\n",
            "13      0.252525   31.0     0.705081\n",
            "14      0.297980   18.0     0.590899\n",
            "15      0.196970   51.0     0.826115\n",
            "16      0.141414   75.0     0.909506\n",
            "17      0.227273   73.0     0.913519\n",
            "18      0.060606   83.0     0.922115\n"
          ]
        },
        {
          "name": "stderr",
          "output_type": "stream",
          "text": [
            "100%|██████████| 1/1 [00:00<00:00, 10.44it/s]\n",
            "INFO:autora.theorist.bms.regressor:BMS fitting finished\n",
            "INFO:autora.theorist.bms.regressor:BMS fitting started\n"
          ]
        },
        {
          "name": "stdout",
          "output_type": "stream",
          "text": [
            "Fitting models on working state...\n",
            "Experiment data\n",
            "    P_asymptotic  trial  performance\n",
            "0       0.222222   54.0     0.846079\n",
            "1       0.237374   99.0     0.960875\n",
            "2       0.106061   10.0     0.337753\n",
            "3       0.217172   33.0     0.709119\n",
            "4       0.338384   15.0     0.578135\n",
            "5       0.196970   48.0     0.809740\n",
            "6       0.151515   78.0     0.918267\n",
            "7       0.444444   52.0     0.883258\n",
            "8       0.000000   98.0     0.947134\n",
            "9       0.500000   99.0     0.974348\n",
            "10      0.005051    1.0     0.034456\n",
            "11      0.500000  100.0     0.975106\n",
            "12      0.010101    2.0     0.067748\n",
            "13      0.015152  100.0     0.950967\n",
            "14      0.020202    1.0     0.049159\n",
            "15      0.489899  100.0     0.974604\n",
            "16      0.010101   99.0     0.949215\n",
            "17      0.010101    2.0     0.067748\n",
            "18      0.025253  100.0     0.951470\n"
          ]
        },
        {
          "name": "stderr",
          "output_type": "stream",
          "text": [
            "100%|██████████| 1/1 [00:00<00:00, 13.69it/s]\n",
            "INFO:autora.theorist.bms.regressor:BMS fitting finished\n",
            "INFO:autora.theorist.bms.regressor:BMS fitting started\n"
          ]
        },
        {
          "name": "stdout",
          "output_type": "stream",
          "text": [
            "Sampling new experiment conditions...\n",
            "Obtaining observations...\n",
            "SIMULATION 6 / DISCOVERY CYCLE 19\n",
            "Fitting models on benchmark state...\n",
            "Experiment data\n",
            "    P_asymptotic  trial  performance\n",
            "0       0.222222   54.0     0.846079\n",
            "1       0.141414   48.0     0.796577\n",
            "2       0.363636   83.0     0.947239\n",
            "3       0.363636    7.0     0.484174\n",
            "4       0.338384   15.0     0.578135\n",
            "5       0.080808   85.0     0.928228\n",
            "6       0.126263   86.0     0.933793\n",
            "7       0.176768   93.0     0.949436\n",
            "8       0.262626   37.0     0.756992\n",
            "9       0.378788   57.0     0.887644\n",
            "10      0.338384   67.0     0.911351\n",
            "11      0.272727   19.0     0.588709\n",
            "12      0.282828   50.0     0.839977\n",
            "13      0.252525   31.0     0.705081\n",
            "14      0.297980   18.0     0.590899\n",
            "15      0.196970   51.0     0.826115\n",
            "16      0.141414   75.0     0.909506\n",
            "17      0.227273   73.0     0.913519\n",
            "18      0.060606   83.0     0.922115\n",
            "19      0.343434   72.0     0.924281\n"
          ]
        },
        {
          "name": "stderr",
          "output_type": "stream",
          "text": [
            "100%|██████████| 1/1 [00:00<00:00,  8.84it/s]\n",
            "INFO:autora.theorist.bms.regressor:BMS fitting finished\n",
            "INFO:autora.theorist.bms.regressor:BMS fitting started\n"
          ]
        },
        {
          "name": "stdout",
          "output_type": "stream",
          "text": [
            "Fitting models on working state...\n",
            "Experiment data\n",
            "    P_asymptotic  trial  performance\n",
            "0       0.222222   54.0     0.846079\n",
            "1       0.237374   99.0     0.960875\n",
            "2       0.106061   10.0     0.337753\n",
            "3       0.217172   33.0     0.709119\n",
            "4       0.338384   15.0     0.578135\n",
            "5       0.196970   48.0     0.809740\n",
            "6       0.151515   78.0     0.918267\n",
            "7       0.444444   52.0     0.883258\n",
            "8       0.000000   98.0     0.947134\n",
            "9       0.500000   99.0     0.974348\n",
            "10      0.005051    1.0     0.034456\n",
            "11      0.500000  100.0     0.975106\n",
            "12      0.010101    2.0     0.067748\n",
            "13      0.015152  100.0     0.950967\n",
            "14      0.020202    1.0     0.049159\n",
            "15      0.489899  100.0     0.974604\n",
            "16      0.010101   99.0     0.949215\n",
            "17      0.010101    2.0     0.067748\n",
            "18      0.025253  100.0     0.951470\n",
            "19      0.005051  100.0     0.950464\n"
          ]
        },
        {
          "name": "stderr",
          "output_type": "stream",
          "text": [
            "100%|██████████| 1/1 [00:00<00:00, 12.88it/s]\n",
            "INFO:autora.theorist.bms.regressor:BMS fitting finished\n",
            "INFO:autora.theorist.bms.regressor:BMS fitting started\n"
          ]
        },
        {
          "name": "stdout",
          "output_type": "stream",
          "text": [
            "Sampling new experiment conditions...\n",
            "Obtaining observations...\n",
            "SIMULATION 7 / DISCOVERY CYCLE 0\n",
            "Fitting models on benchmark state...\n",
            "Experiment data\n",
            "   P_asymptotic  trial  performance\n",
            "0      0.474747   63.0     0.920649\n"
          ]
        },
        {
          "name": "stderr",
          "output_type": "stream",
          "text": [
            "100%|██████████| 1/1 [00:00<00:00, 13.83it/s]\n",
            "INFO:autora.theorist.bms.regressor:BMS fitting finished\n",
            "INFO:autora.theorist.bms.regressor:BMS fitting started\n"
          ]
        },
        {
          "name": "stdout",
          "output_type": "stream",
          "text": [
            "Fitting models on working state...\n",
            "Experiment data\n",
            "   P_asymptotic  trial  performance\n",
            "0      0.474747   63.0     0.920649\n"
          ]
        },
        {
          "name": "stderr",
          "output_type": "stream",
          "text": [
            "100%|██████████| 1/1 [00:00<00:00,  9.83it/s]\n",
            "INFO:autora.theorist.bms.regressor:BMS fitting finished\n",
            "INFO:autora.theorist.bms.regressor:BMS fitting started\n"
          ]
        },
        {
          "name": "stdout",
          "output_type": "stream",
          "text": [
            "Sampling new experiment conditions...\n",
            "Obtaining observations...\n",
            "SIMULATION 7 / DISCOVERY CYCLE 1\n",
            "Fitting models on benchmark state...\n",
            "Experiment data\n",
            "   P_asymptotic  trial  performance\n",
            "0      0.474747   63.0     0.920649\n",
            "1      0.338384   62.0     0.897004\n"
          ]
        },
        {
          "name": "stderr",
          "output_type": "stream",
          "text": [
            "100%|██████████| 1/1 [00:00<00:00, 10.88it/s]\n",
            "INFO:autora.theorist.bms.regressor:BMS fitting finished\n",
            "INFO:autora.theorist.bms.regressor:BMS fitting started\n"
          ]
        },
        {
          "name": "stdout",
          "output_type": "stream",
          "text": [
            "Fitting models on working state...\n",
            "Experiment data\n",
            "   P_asymptotic  trial  performance\n",
            "0      0.474747   63.0     0.920649\n",
            "1      0.232323   82.0     0.934414\n"
          ]
        },
        {
          "name": "stderr",
          "output_type": "stream",
          "text": [
            "100%|██████████| 1/1 [00:00<00:00, 11.81it/s]\n",
            "INFO:autora.theorist.bms.regressor:BMS fitting finished\n",
            "INFO:autora.theorist.bms.regressor:BMS fitting started\n"
          ]
        },
        {
          "name": "stdout",
          "output_type": "stream",
          "text": [
            "Sampling new experiment conditions...\n",
            "Obtaining observations...\n",
            "SIMULATION 7 / DISCOVERY CYCLE 2\n",
            "Fitting models on benchmark state...\n",
            "Experiment data\n",
            "   P_asymptotic  trial  performance\n",
            "0      0.474747   63.0     0.920649\n",
            "1      0.338384   62.0     0.897004\n",
            "2      0.212121   96.0     0.955773\n"
          ]
        },
        {
          "name": "stderr",
          "output_type": "stream",
          "text": [
            "100%|██████████| 1/1 [00:00<00:00,  9.13it/s]\n",
            "INFO:autora.theorist.bms.regressor:BMS fitting finished\n",
            "INFO:autora.theorist.bms.regressor:BMS fitting started\n"
          ]
        },
        {
          "name": "stdout",
          "output_type": "stream",
          "text": [
            "Fitting models on working state...\n",
            "Experiment data\n",
            "   P_asymptotic  trial  performance\n",
            "0      0.474747   63.0     0.920649\n",
            "1      0.232323   82.0     0.934414\n",
            "2      0.454545   11.0     0.607860\n"
          ]
        },
        {
          "name": "stderr",
          "output_type": "stream",
          "text": [
            "100%|██████████| 1/1 [00:00<00:00, 11.09it/s]\n",
            "INFO:autora.theorist.bms.regressor:BMS fitting finished\n",
            "INFO:autora.theorist.bms.regressor:BMS fitting started\n"
          ]
        },
        {
          "name": "stdout",
          "output_type": "stream",
          "text": [
            "Sampling new experiment conditions...\n",
            "Obtaining observations...\n",
            "SIMULATION 7 / DISCOVERY CYCLE 3\n",
            "Fitting models on benchmark state...\n",
            "Experiment data\n",
            "   P_asymptotic  trial  performance\n",
            "0      0.474747   63.0     0.920649\n",
            "1      0.338384   62.0     0.897004\n",
            "2      0.212121   96.0     0.955773\n",
            "3      0.166667   19.0     0.528729\n"
          ]
        },
        {
          "name": "stderr",
          "output_type": "stream",
          "text": [
            "100%|██████████| 1/1 [00:00<00:00, 10.59it/s]\n",
            "INFO:autora.theorist.bms.regressor:BMS fitting finished\n",
            "INFO:autora.theorist.bms.regressor:BMS fitting started\n"
          ]
        },
        {
          "name": "stdout",
          "output_type": "stream",
          "text": [
            "Fitting models on working state...\n",
            "Experiment data\n",
            "   P_asymptotic  trial  performance\n",
            "0      0.474747   63.0     0.920649\n",
            "1      0.232323   82.0     0.934414\n",
            "2      0.454545   11.0     0.607860\n",
            "3      0.141414   24.0     0.582081\n"
          ]
        },
        {
          "name": "stderr",
          "output_type": "stream",
          "text": [
            "100%|██████████| 1/1 [00:00<00:00, 10.03it/s]\n",
            "INFO:autora.theorist.bms.regressor:BMS fitting finished\n",
            "INFO:autora.theorist.bms.regressor:BMS fitting started\n"
          ]
        },
        {
          "name": "stdout",
          "output_type": "stream",
          "text": [
            "Sampling new experiment conditions...\n",
            "Obtaining observations...\n",
            "SIMULATION 7 / DISCOVERY CYCLE 4\n",
            "Fitting models on benchmark state...\n",
            "Experiment data\n",
            "   P_asymptotic  trial  performance\n",
            "0      0.474747   63.0     0.920649\n",
            "1      0.338384   62.0     0.897004\n",
            "2      0.212121   96.0     0.955773\n",
            "3      0.166667   19.0     0.528729\n",
            "4      0.010101   88.0     0.929360\n"
          ]
        },
        {
          "name": "stderr",
          "output_type": "stream",
          "text": [
            "100%|██████████| 1/1 [00:00<00:00,  7.89it/s]\n",
            "INFO:autora.theorist.bms.regressor:BMS fitting finished\n",
            "INFO:autora.theorist.bms.regressor:BMS fitting started\n"
          ]
        },
        {
          "name": "stdout",
          "output_type": "stream",
          "text": [
            "Fitting models on working state...\n",
            "Experiment data\n",
            "   P_asymptotic  trial  performance\n",
            "0      0.474747   63.0     0.920649\n",
            "1      0.232323   82.0     0.934414\n",
            "2      0.454545   11.0     0.607860\n",
            "3      0.141414   24.0     0.582081\n",
            "4      0.333333   98.0     0.964756\n"
          ]
        },
        {
          "name": "stderr",
          "output_type": "stream",
          "text": [
            "100%|██████████| 1/1 [00:00<00:00,  9.77it/s]\n",
            "INFO:autora.theorist.bms.regressor:BMS fitting finished\n",
            "INFO:autora.theorist.bms.regressor:BMS fitting started\n"
          ]
        },
        {
          "name": "stdout",
          "output_type": "stream",
          "text": [
            "Sampling new experiment conditions...\n",
            "Obtaining observations...\n",
            "SIMULATION 7 / DISCOVERY CYCLE 5\n",
            "Fitting models on benchmark state...\n",
            "Experiment data\n",
            "   P_asymptotic  trial  performance\n",
            "0      0.474747   63.0     0.920649\n",
            "1      0.338384   62.0     0.897004\n",
            "2      0.212121   96.0     0.955773\n",
            "3      0.166667   19.0     0.528729\n",
            "4      0.010101   88.0     0.929360\n",
            "5      0.237374   20.0     0.581462\n"
          ]
        },
        {
          "name": "stderr",
          "output_type": "stream",
          "text": [
            "100%|██████████| 1/1 [00:00<00:00, 11.95it/s]\n",
            "INFO:autora.theorist.bms.regressor:BMS fitting finished\n",
            "INFO:autora.theorist.bms.regressor:BMS fitting started\n"
          ]
        },
        {
          "name": "stdout",
          "output_type": "stream",
          "text": [
            "Fitting models on working state...\n",
            "Experiment data\n",
            "   P_asymptotic  trial  performance\n",
            "0      0.474747   63.0     0.920649\n",
            "1      0.232323   82.0     0.934414\n",
            "2      0.454545   11.0     0.607860\n",
            "3      0.141414   24.0     0.582081\n",
            "4      0.333333   98.0     0.964756\n",
            "5      0.414141   61.0     0.906020\n"
          ]
        },
        {
          "name": "stderr",
          "output_type": "stream",
          "text": [
            "100%|██████████| 1/1 [00:00<00:00, 12.23it/s]\n",
            "INFO:autora.theorist.bms.regressor:BMS fitting finished\n",
            "INFO:autora.theorist.bms.regressor:BMS fitting started\n"
          ]
        },
        {
          "name": "stdout",
          "output_type": "stream",
          "text": [
            "Sampling new experiment conditions...\n",
            "Obtaining observations...\n",
            "SIMULATION 7 / DISCOVERY CYCLE 6\n",
            "Fitting models on benchmark state...\n",
            "Experiment data\n",
            "   P_asymptotic  trial  performance\n",
            "0      0.474747   63.0     0.920649\n",
            "1      0.338384   62.0     0.897004\n",
            "2      0.212121   96.0     0.955773\n",
            "3      0.166667   19.0     0.528729\n",
            "4      0.010101   88.0     0.929360\n",
            "5      0.237374   20.0     0.581462\n",
            "6      0.308081   88.0     0.950624\n"
          ]
        },
        {
          "name": "stderr",
          "output_type": "stream",
          "text": [
            "100%|██████████| 1/1 [00:00<00:00, 10.31it/s]\n",
            "INFO:autora.theorist.bms.regressor:BMS fitting finished\n",
            "INFO:autora.theorist.bms.regressor:BMS fitting started\n"
          ]
        },
        {
          "name": "stdout",
          "output_type": "stream",
          "text": [
            "Fitting models on working state...\n",
            "Experiment data\n",
            "   P_asymptotic  trial  performance\n",
            "0      0.474747   63.0     0.920649\n",
            "1      0.232323   82.0     0.934414\n",
            "2      0.454545   11.0     0.607860\n",
            "3      0.141414   24.0     0.582081\n",
            "4      0.333333   98.0     0.964756\n",
            "5      0.414141   61.0     0.906020\n",
            "6      0.393939   57.0     0.890384\n"
          ]
        },
        {
          "name": "stderr",
          "output_type": "stream",
          "text": [
            "100%|██████████| 1/1 [00:00<00:00, 11.50it/s]\n",
            "INFO:autora.theorist.bms.regressor:BMS fitting finished\n",
            "INFO:autora.theorist.bms.regressor:BMS fitting started\n"
          ]
        },
        {
          "name": "stdout",
          "output_type": "stream",
          "text": [
            "Sampling new experiment conditions...\n",
            "Obtaining observations...\n",
            "SIMULATION 7 / DISCOVERY CYCLE 7\n",
            "Fitting models on benchmark state...\n",
            "Experiment data\n",
            "   P_asymptotic  trial  performance\n",
            "0      0.474747   63.0     0.920649\n",
            "1      0.338384   62.0     0.897004\n",
            "2      0.212121   96.0     0.955773\n",
            "3      0.166667   19.0     0.528729\n",
            "4      0.010101   88.0     0.929360\n",
            "5      0.237374   20.0     0.581462\n",
            "6      0.308081   88.0     0.950624\n",
            "7      0.484848   44.0     0.862385\n"
          ]
        },
        {
          "name": "stderr",
          "output_type": "stream",
          "text": [
            "100%|██████████| 1/1 [00:00<00:00, 12.54it/s]\n",
            "INFO:autora.theorist.bms.regressor:BMS fitting finished\n",
            "INFO:autora.theorist.bms.regressor:BMS fitting started\n"
          ]
        },
        {
          "name": "stdout",
          "output_type": "stream",
          "text": [
            "Fitting models on working state...\n",
            "Experiment data\n",
            "   P_asymptotic  trial  performance\n",
            "0      0.474747   63.0     0.920649\n",
            "1      0.232323   82.0     0.934414\n",
            "2      0.454545   11.0     0.607860\n",
            "3      0.141414   24.0     0.582081\n",
            "4      0.333333   98.0     0.964756\n",
            "5      0.414141   61.0     0.906020\n",
            "6      0.393939   57.0     0.890384\n",
            "7      0.383838   73.0     0.931041\n"
          ]
        },
        {
          "name": "stderr",
          "output_type": "stream",
          "text": [
            "100%|██████████| 1/1 [00:00<00:00, 11.26it/s]\n",
            "INFO:autora.theorist.bms.regressor:BMS fitting finished\n",
            "INFO:autora.theorist.bms.regressor:BMS fitting started\n"
          ]
        },
        {
          "name": "stdout",
          "output_type": "stream",
          "text": [
            "Sampling new experiment conditions...\n",
            "Obtaining observations...\n",
            "SIMULATION 7 / DISCOVERY CYCLE 8\n",
            "Fitting models on benchmark state...\n",
            "Experiment data\n",
            "   P_asymptotic  trial  performance\n",
            "0      0.474747   63.0     0.920649\n",
            "1      0.338384   62.0     0.897004\n",
            "2      0.212121   96.0     0.955773\n",
            "3      0.166667   19.0     0.528729\n",
            "4      0.010101   88.0     0.929360\n",
            "5      0.237374   20.0     0.581462\n",
            "6      0.308081   88.0     0.950624\n",
            "7      0.484848   44.0     0.862385\n",
            "8      0.085859   56.0     0.829628\n"
          ]
        },
        {
          "name": "stderr",
          "output_type": "stream",
          "text": [
            "100%|██████████| 1/1 [00:00<00:00,  9.46it/s]\n",
            "INFO:autora.theorist.bms.regressor:BMS fitting finished\n",
            "INFO:autora.theorist.bms.regressor:BMS fitting started\n"
          ]
        },
        {
          "name": "stdout",
          "output_type": "stream",
          "text": [
            "Fitting models on working state...\n",
            "Experiment data\n",
            "   P_asymptotic  trial  performance\n",
            "0      0.474747   63.0     0.920649\n",
            "1      0.232323   82.0     0.934414\n",
            "2      0.454545   11.0     0.607860\n",
            "3      0.141414   24.0     0.582081\n",
            "4      0.333333   98.0     0.964756\n",
            "5      0.414141   61.0     0.906020\n",
            "6      0.393939   57.0     0.890384\n",
            "7      0.383838   73.0     0.931041\n",
            "8      0.000000    1.0     0.029554\n"
          ]
        },
        {
          "name": "stderr",
          "output_type": "stream",
          "text": [
            "100%|██████████| 1/1 [00:00<00:00,  7.01it/s]\n",
            "INFO:autora.theorist.bms.regressor:BMS fitting finished\n",
            "INFO:autora.theorist.bms.regressor:BMS fitting started\n"
          ]
        },
        {
          "name": "stdout",
          "output_type": "stream",
          "text": [
            "Sampling new experiment conditions...\n",
            "Obtaining observations...\n",
            "SIMULATION 7 / DISCOVERY CYCLE 9\n",
            "Fitting models on benchmark state...\n",
            "Experiment data\n",
            "   P_asymptotic  trial  performance\n",
            "0      0.474747   63.0     0.920649\n",
            "1      0.338384   62.0     0.897004\n",
            "2      0.212121   96.0     0.955773\n",
            "3      0.166667   19.0     0.528729\n",
            "4      0.010101   88.0     0.929360\n",
            "5      0.237374   20.0     0.581462\n",
            "6      0.308081   88.0     0.950624\n",
            "7      0.484848   44.0     0.862385\n",
            "8      0.085859   56.0     0.829628\n",
            "9      0.459596   28.0     0.766702\n"
          ]
        },
        {
          "name": "stderr",
          "output_type": "stream",
          "text": [
            "100%|██████████| 1/1 [00:00<00:00, 11.15it/s]\n",
            "INFO:autora.theorist.bms.regressor:BMS fitting finished\n",
            "INFO:autora.theorist.bms.regressor:BMS fitting started\n"
          ]
        },
        {
          "name": "stdout",
          "output_type": "stream",
          "text": [
            "Fitting models on working state...\n",
            "Experiment data\n",
            "   P_asymptotic  trial  performance\n",
            "0      0.474747   63.0     0.920649\n",
            "1      0.232323   82.0     0.934414\n",
            "2      0.454545   11.0     0.607860\n",
            "3      0.141414   24.0     0.582081\n",
            "4      0.333333   98.0     0.964756\n",
            "5      0.414141   61.0     0.906020\n",
            "6      0.393939   57.0     0.890384\n",
            "7      0.383838   73.0     0.931041\n",
            "8      0.000000    1.0     0.029554\n",
            "9      0.015152  100.0     0.950967\n"
          ]
        },
        {
          "name": "stderr",
          "output_type": "stream",
          "text": [
            "100%|██████████| 1/1 [00:00<00:00, 12.59it/s]\n",
            "INFO:autora.theorist.bms.regressor:BMS fitting finished\n"
          ]
        },
        {
          "name": "stdout",
          "output_type": "stream",
          "text": [
            "Sampling new experiment conditions...\n"
          ]
        },
        {
          "name": "stderr",
          "output_type": "stream",
          "text": [
            "INFO:autora.theorist.bms.regressor:BMS fitting started\n"
          ]
        },
        {
          "name": "stdout",
          "output_type": "stream",
          "text": [
            "Obtaining observations...\n",
            "SIMULATION 7 / DISCOVERY CYCLE 10\n",
            "Fitting models on benchmark state...\n",
            "Experiment data\n",
            "    P_asymptotic  trial  performance\n",
            "0       0.474747   63.0     0.920649\n",
            "1       0.338384   62.0     0.897004\n",
            "2       0.212121   96.0     0.955773\n",
            "3       0.166667   19.0     0.528729\n",
            "4       0.010101   88.0     0.929360\n",
            "5       0.237374   20.0     0.581462\n",
            "6       0.308081   88.0     0.950624\n",
            "7       0.484848   44.0     0.862385\n",
            "8       0.085859   56.0     0.829628\n",
            "9       0.459596   28.0     0.766702\n",
            "10      0.020202   12.0     0.316418\n"
          ]
        },
        {
          "name": "stderr",
          "output_type": "stream",
          "text": [
            "100%|██████████| 1/1 [00:00<00:00,  7.05it/s]\n",
            "INFO:autora.theorist.bms.regressor:BMS fitting finished\n",
            "INFO:autora.theorist.bms.regressor:BMS fitting started\n"
          ]
        },
        {
          "name": "stdout",
          "output_type": "stream",
          "text": [
            "Fitting models on working state...\n",
            "Experiment data\n",
            "    P_asymptotic  trial  performance\n",
            "0       0.474747   63.0     0.920649\n",
            "1       0.232323   82.0     0.934414\n",
            "2       0.454545   11.0     0.607860\n",
            "3       0.141414   24.0     0.582081\n",
            "4       0.333333   98.0     0.964756\n",
            "5       0.414141   61.0     0.906020\n",
            "6       0.393939   57.0     0.890384\n",
            "7       0.383838   73.0     0.931041\n",
            "8       0.000000    1.0     0.029554\n",
            "9       0.015152  100.0     0.950967\n",
            "10      0.010101    2.0     0.067748\n"
          ]
        },
        {
          "name": "stderr",
          "output_type": "stream",
          "text": [
            "100%|██████████| 1/1 [00:00<00:00, 11.22it/s]\n",
            "INFO:autora.theorist.bms.regressor:BMS fitting finished\n",
            "INFO:autora.theorist.bms.regressor:BMS fitting started\n"
          ]
        },
        {
          "name": "stdout",
          "output_type": "stream",
          "text": [
            "Sampling new experiment conditions...\n",
            "Obtaining observations...\n",
            "SIMULATION 7 / DISCOVERY CYCLE 11\n",
            "Fitting models on benchmark state...\n",
            "Experiment data\n",
            "    P_asymptotic  trial  performance\n",
            "0       0.474747   63.0     0.920649\n",
            "1       0.338384   62.0     0.897004\n",
            "2       0.212121   96.0     0.955773\n",
            "3       0.166667   19.0     0.528729\n",
            "4       0.010101   88.0     0.929360\n",
            "5       0.237374   20.0     0.581462\n",
            "6       0.308081   88.0     0.950624\n",
            "7       0.484848   44.0     0.862385\n",
            "8       0.085859   56.0     0.829628\n",
            "9       0.459596   28.0     0.766702\n",
            "10      0.020202   12.0     0.316418\n",
            "11      0.207071   50.0     0.823074\n"
          ]
        },
        {
          "name": "stderr",
          "output_type": "stream",
          "text": [
            "100%|██████████| 1/1 [00:00<00:00,  8.88it/s]\n",
            "INFO:autora.theorist.bms.regressor:BMS fitting finished\n",
            "INFO:autora.theorist.bms.regressor:BMS fitting started\n"
          ]
        },
        {
          "name": "stdout",
          "output_type": "stream",
          "text": [
            "Fitting models on working state...\n",
            "Experiment data\n",
            "    P_asymptotic  trial  performance\n",
            "0       0.474747   63.0     0.920649\n",
            "1       0.232323   82.0     0.934414\n",
            "2       0.454545   11.0     0.607860\n",
            "3       0.141414   24.0     0.582081\n",
            "4       0.333333   98.0     0.964756\n",
            "5       0.414141   61.0     0.906020\n",
            "6       0.393939   57.0     0.890384\n",
            "7       0.383838   73.0     0.931041\n",
            "8       0.000000    1.0     0.029554\n",
            "9       0.015152  100.0     0.950967\n",
            "10      0.010101    2.0     0.067748\n",
            "11      0.040404  100.0     0.952225\n"
          ]
        },
        {
          "name": "stderr",
          "output_type": "stream",
          "text": [
            "100%|██████████| 1/1 [00:00<00:00, 12.08it/s]\n",
            "INFO:autora.theorist.bms.regressor:BMS fitting finished\n"
          ]
        },
        {
          "name": "stdout",
          "output_type": "stream",
          "text": [
            "Sampling new experiment conditions...\n",
            "Obtaining observations...\n"
          ]
        },
        {
          "name": "stderr",
          "output_type": "stream",
          "text": [
            "INFO:autora.theorist.bms.regressor:BMS fitting started\n"
          ]
        },
        {
          "name": "stdout",
          "output_type": "stream",
          "text": [
            "SIMULATION 7 / DISCOVERY CYCLE 12\n",
            "Fitting models on benchmark state...\n",
            "Experiment data\n",
            "    P_asymptotic  trial  performance\n",
            "0       0.474747   63.0     0.920649\n",
            "1       0.338384   62.0     0.897004\n",
            "2       0.212121   96.0     0.955773\n",
            "3       0.166667   19.0     0.528729\n",
            "4       0.010101   88.0     0.929360\n",
            "5       0.237374   20.0     0.581462\n",
            "6       0.308081   88.0     0.950624\n",
            "7       0.484848   44.0     0.862385\n",
            "8       0.085859   56.0     0.829628\n",
            "9       0.459596   28.0     0.766702\n",
            "10      0.020202   12.0     0.316418\n",
            "11      0.207071   50.0     0.823074\n",
            "12      0.075758   29.0     0.612787\n"
          ]
        },
        {
          "name": "stderr",
          "output_type": "stream",
          "text": [
            "100%|██████████| 1/1 [00:00<00:00, 10.61it/s]\n",
            "INFO:autora.theorist.bms.regressor:BMS fitting finished\n",
            "INFO:autora.theorist.bms.regressor:BMS fitting started\n"
          ]
        },
        {
          "name": "stdout",
          "output_type": "stream",
          "text": [
            "Fitting models on working state...\n",
            "Experiment data\n",
            "    P_asymptotic  trial  performance\n",
            "0       0.474747   63.0     0.920649\n",
            "1       0.232323   82.0     0.934414\n",
            "2       0.454545   11.0     0.607860\n",
            "3       0.141414   24.0     0.582081\n",
            "4       0.333333   98.0     0.964756\n",
            "5       0.414141   61.0     0.906020\n",
            "6       0.393939   57.0     0.890384\n",
            "7       0.383838   73.0     0.931041\n",
            "8       0.000000    1.0     0.029554\n",
            "9       0.015152  100.0     0.950967\n",
            "10      0.010101    2.0     0.067748\n",
            "11      0.040404  100.0     0.952225\n",
            "12      0.025253    1.0     0.054061\n"
          ]
        },
        {
          "name": "stderr",
          "output_type": "stream",
          "text": [
            "100%|██████████| 1/1 [00:00<00:00, 12.42it/s]\n",
            "INFO:autora.theorist.bms.regressor:BMS fitting finished\n"
          ]
        },
        {
          "name": "stdout",
          "output_type": "stream",
          "text": [
            "Sampling new experiment conditions...\n",
            "Obtaining observations...\n",
            "SIMULATION 7 / DISCOVERY CYCLE 13\n",
            "Fitting models on benchmark state...\n",
            "Experiment data\n",
            "    P_asymptotic  trial  performance\n",
            "0       0.474747   63.0     0.920649\n",
            "1       0.338384   62.0     0.897004\n",
            "2       0.212121   96.0     0.955773\n",
            "3       0.166667   19.0     0.528729\n",
            "4       0.010101   88.0     0.929360\n",
            "5       0.237374   20.0     0.581462\n",
            "6       0.308081   88.0     0.950624\n",
            "7       0.484848   44.0     0.862385\n",
            "8       0.085859   56.0     0.829628\n",
            "9       0.459596   28.0     0.766702\n",
            "10      0.020202   12.0     0.316418\n",
            "11      0.207071   50.0     0.823074\n",
            "12      0.075758   29.0     0.612787\n",
            "13      0.025253   14.0     0.359545\n"
          ]
        },
        {
          "name": "stderr",
          "output_type": "stream",
          "text": [
            "INFO:autora.theorist.bms.regressor:BMS fitting started\n",
            "100%|██████████| 1/1 [00:00<00:00,  6.81it/s]\n",
            "INFO:autora.theorist.bms.regressor:BMS fitting finished\n",
            "INFO:autora.theorist.bms.regressor:BMS fitting started\n"
          ]
        },
        {
          "name": "stdout",
          "output_type": "stream",
          "text": [
            "Fitting models on working state...\n",
            "Experiment data\n",
            "    P_asymptotic  trial  performance\n",
            "0       0.474747   63.0     0.920649\n",
            "1       0.232323   82.0     0.934414\n",
            "2       0.454545   11.0     0.607860\n",
            "3       0.141414   24.0     0.582081\n",
            "4       0.333333   98.0     0.964756\n",
            "5       0.414141   61.0     0.906020\n",
            "6       0.393939   57.0     0.890384\n",
            "7       0.383838   73.0     0.931041\n",
            "8       0.000000    1.0     0.029554\n",
            "9       0.015152  100.0     0.950967\n",
            "10      0.010101    2.0     0.067748\n",
            "11      0.040404  100.0     0.952225\n",
            "12      0.025253    1.0     0.054061\n",
            "13      0.040404  100.0     0.952225\n"
          ]
        },
        {
          "name": "stderr",
          "output_type": "stream",
          "text": [
            "100%|██████████| 1/1 [00:00<00:00,  6.84it/s]\n",
            "INFO:autora.theorist.bms.regressor:BMS fitting finished\n",
            "INFO:autora.theorist.bms.regressor:BMS fitting started\n"
          ]
        },
        {
          "name": "stdout",
          "output_type": "stream",
          "text": [
            "Sampling new experiment conditions...\n",
            "Obtaining observations...\n",
            "SIMULATION 7 / DISCOVERY CYCLE 14\n",
            "Fitting models on benchmark state...\n",
            "Experiment data\n",
            "    P_asymptotic  trial  performance\n",
            "0       0.474747   63.0     0.920649\n",
            "1       0.338384   62.0     0.897004\n",
            "2       0.212121   96.0     0.955773\n",
            "3       0.166667   19.0     0.528729\n",
            "4       0.010101   88.0     0.929360\n",
            "5       0.237374   20.0     0.581462\n",
            "6       0.308081   88.0     0.950624\n",
            "7       0.484848   44.0     0.862385\n",
            "8       0.085859   56.0     0.829628\n",
            "9       0.459596   28.0     0.766702\n",
            "10      0.020202   12.0     0.316418\n",
            "11      0.207071   50.0     0.823074\n",
            "12      0.075758   29.0     0.612787\n",
            "13      0.025253   14.0     0.359545\n",
            "14      0.095960   87.0     0.933522\n"
          ]
        },
        {
          "name": "stderr",
          "output_type": "stream",
          "text": [
            "100%|██████████| 1/1 [00:00<00:00,  7.57it/s]\n",
            "INFO:autora.theorist.bms.regressor:BMS fitting finished\n",
            "INFO:autora.theorist.bms.regressor:BMS fitting started\n"
          ]
        },
        {
          "name": "stdout",
          "output_type": "stream",
          "text": [
            "Fitting models on working state...\n",
            "Experiment data\n",
            "    P_asymptotic  trial  performance\n",
            "0       0.474747   63.0     0.920649\n",
            "1       0.232323   82.0     0.934414\n",
            "2       0.454545   11.0     0.607860\n",
            "3       0.141414   24.0     0.582081\n",
            "4       0.333333   98.0     0.964756\n",
            "5       0.414141   61.0     0.906020\n",
            "6       0.393939   57.0     0.890384\n",
            "7       0.383838   73.0     0.931041\n",
            "8       0.000000    1.0     0.029554\n",
            "9       0.015152  100.0     0.950967\n",
            "10      0.010101    2.0     0.067748\n",
            "11      0.040404  100.0     0.952225\n",
            "12      0.025253    1.0     0.054061\n",
            "13      0.040404  100.0     0.952225\n",
            "14      0.005051    1.0     0.034456\n"
          ]
        },
        {
          "name": "stderr",
          "output_type": "stream",
          "text": [
            "100%|██████████| 1/1 [00:00<00:00,  8.20it/s]\n",
            "INFO:autora.theorist.bms.regressor:BMS fitting finished\n",
            "INFO:autora.theorist.bms.regressor:BMS fitting started\n"
          ]
        },
        {
          "name": "stdout",
          "output_type": "stream",
          "text": [
            "Sampling new experiment conditions...\n",
            "Obtaining observations...\n",
            "SIMULATION 7 / DISCOVERY CYCLE 15\n",
            "Fitting models on benchmark state...\n",
            "Experiment data\n",
            "    P_asymptotic  trial  performance\n",
            "0       0.474747   63.0     0.920649\n",
            "1       0.338384   62.0     0.897004\n",
            "2       0.212121   96.0     0.955773\n",
            "3       0.166667   19.0     0.528729\n",
            "4       0.010101   88.0     0.929360\n",
            "5       0.237374   20.0     0.581462\n",
            "6       0.308081   88.0     0.950624\n",
            "7       0.484848   44.0     0.862385\n",
            "8       0.085859   56.0     0.829628\n",
            "9       0.459596   28.0     0.766702\n",
            "10      0.020202   12.0     0.316418\n",
            "11      0.207071   50.0     0.823074\n",
            "12      0.075758   29.0     0.612787\n",
            "13      0.025253   14.0     0.359545\n",
            "14      0.095960   87.0     0.933522\n",
            "15      0.116162   74.0     0.904007\n"
          ]
        },
        {
          "name": "stderr",
          "output_type": "stream",
          "text": [
            "100%|██████████| 1/1 [00:00<00:00,  9.02it/s]\n",
            "INFO:autora.theorist.bms.regressor:BMS fitting finished\n",
            "INFO:autora.theorist.bms.regressor:BMS fitting started\n"
          ]
        },
        {
          "name": "stdout",
          "output_type": "stream",
          "text": [
            "Fitting models on working state...\n",
            "Experiment data\n",
            "    P_asymptotic  trial  performance\n",
            "0       0.474747   63.0     0.920649\n",
            "1       0.232323   82.0     0.934414\n",
            "2       0.454545   11.0     0.607860\n",
            "3       0.141414   24.0     0.582081\n",
            "4       0.333333   98.0     0.964756\n",
            "5       0.414141   61.0     0.906020\n",
            "6       0.393939   57.0     0.890384\n",
            "7       0.383838   73.0     0.931041\n",
            "8       0.000000    1.0     0.029554\n",
            "9       0.015152  100.0     0.950967\n",
            "10      0.010101    2.0     0.067748\n",
            "11      0.040404  100.0     0.952225\n",
            "12      0.025253    1.0     0.054061\n",
            "13      0.040404  100.0     0.952225\n",
            "14      0.005051    1.0     0.034456\n",
            "15      0.025253  100.0     0.951470\n"
          ]
        },
        {
          "name": "stderr",
          "output_type": "stream",
          "text": [
            "100%|██████████| 1/1 [00:00<00:00, 11.47it/s]\n",
            "INFO:autora.theorist.bms.regressor:BMS fitting finished\n",
            "INFO:autora.theorist.bms.regressor:BMS fitting started\n"
          ]
        },
        {
          "name": "stdout",
          "output_type": "stream",
          "text": [
            "Sampling new experiment conditions...\n",
            "Obtaining observations...\n",
            "SIMULATION 7 / DISCOVERY CYCLE 16\n",
            "Fitting models on benchmark state...\n",
            "Experiment data\n",
            "    P_asymptotic  trial  performance\n",
            "0       0.474747   63.0     0.920649\n",
            "1       0.338384   62.0     0.897004\n",
            "2       0.212121   96.0     0.955773\n",
            "3       0.166667   19.0     0.528729\n",
            "4       0.010101   88.0     0.929360\n",
            "5       0.237374   20.0     0.581462\n",
            "6       0.308081   88.0     0.950624\n",
            "7       0.484848   44.0     0.862385\n",
            "8       0.085859   56.0     0.829628\n",
            "9       0.459596   28.0     0.766702\n",
            "10      0.020202   12.0     0.316418\n",
            "11      0.207071   50.0     0.823074\n",
            "12      0.075758   29.0     0.612787\n",
            "13      0.025253   14.0     0.359545\n",
            "14      0.095960   87.0     0.933522\n",
            "15      0.116162   74.0     0.904007\n",
            "16      0.282828   74.0     0.922109\n"
          ]
        },
        {
          "name": "stderr",
          "output_type": "stream",
          "text": [
            "100%|██████████| 1/1 [00:00<00:00, 10.40it/s]\n",
            "INFO:autora.theorist.bms.regressor:BMS fitting finished\n",
            "INFO:autora.theorist.bms.regressor:BMS fitting started\n"
          ]
        },
        {
          "name": "stdout",
          "output_type": "stream",
          "text": [
            "Fitting models on working state...\n",
            "Experiment data\n",
            "    P_asymptotic  trial  performance\n",
            "0       0.474747   63.0     0.920649\n",
            "1       0.232323   82.0     0.934414\n",
            "2       0.454545   11.0     0.607860\n",
            "3       0.141414   24.0     0.582081\n",
            "4       0.333333   98.0     0.964756\n",
            "5       0.414141   61.0     0.906020\n",
            "6       0.393939   57.0     0.890384\n",
            "7       0.383838   73.0     0.931041\n",
            "8       0.000000    1.0     0.029554\n",
            "9       0.015152  100.0     0.950967\n",
            "10      0.010101    2.0     0.067748\n",
            "11      0.040404  100.0     0.952225\n",
            "12      0.025253    1.0     0.054061\n",
            "13      0.040404  100.0     0.952225\n",
            "14      0.005051    1.0     0.034456\n",
            "15      0.025253  100.0     0.951470\n",
            "16      0.489899  100.0     0.974604\n"
          ]
        },
        {
          "name": "stderr",
          "output_type": "stream",
          "text": [
            "100%|██████████| 1/1 [00:00<00:00, 11.37it/s]\n",
            "INFO:autora.theorist.bms.regressor:BMS fitting finished\n"
          ]
        },
        {
          "name": "stdout",
          "output_type": "stream",
          "text": [
            "Sampling new experiment conditions...\n"
          ]
        },
        {
          "name": "stderr",
          "output_type": "stream",
          "text": [
            "INFO:autora.theorist.bms.regressor:BMS fitting started\n"
          ]
        },
        {
          "name": "stdout",
          "output_type": "stream",
          "text": [
            "Obtaining observations...\n",
            "SIMULATION 7 / DISCOVERY CYCLE 17\n",
            "Fitting models on benchmark state...\n",
            "Experiment data\n",
            "    P_asymptotic  trial  performance\n",
            "0       0.474747   63.0     0.920649\n",
            "1       0.338384   62.0     0.897004\n",
            "2       0.212121   96.0     0.955773\n",
            "3       0.166667   19.0     0.528729\n",
            "4       0.010101   88.0     0.929360\n",
            "5       0.237374   20.0     0.581462\n",
            "6       0.308081   88.0     0.950624\n",
            "7       0.484848   44.0     0.862385\n",
            "8       0.085859   56.0     0.829628\n",
            "9       0.459596   28.0     0.766702\n",
            "10      0.020202   12.0     0.316418\n",
            "11      0.207071   50.0     0.823074\n",
            "12      0.075758   29.0     0.612787\n",
            "13      0.025253   14.0     0.359545\n",
            "14      0.095960   87.0     0.933522\n",
            "15      0.116162   74.0     0.904007\n",
            "16      0.282828   74.0     0.922109\n",
            "17      0.090909    9.0     0.306019\n"
          ]
        },
        {
          "name": "stderr",
          "output_type": "stream",
          "text": [
            "100%|██████████| 1/1 [00:00<00:00,  9.45it/s]\n",
            "INFO:autora.theorist.bms.regressor:BMS fitting finished\n",
            "INFO:autora.theorist.bms.regressor:BMS fitting started\n"
          ]
        },
        {
          "name": "stdout",
          "output_type": "stream",
          "text": [
            "Fitting models on working state...\n",
            "Experiment data\n",
            "    P_asymptotic  trial  performance\n",
            "0       0.474747   63.0     0.920649\n",
            "1       0.232323   82.0     0.934414\n",
            "2       0.454545   11.0     0.607860\n",
            "3       0.141414   24.0     0.582081\n",
            "4       0.333333   98.0     0.964756\n",
            "5       0.414141   61.0     0.906020\n",
            "6       0.393939   57.0     0.890384\n",
            "7       0.383838   73.0     0.931041\n",
            "8       0.000000    1.0     0.029554\n",
            "9       0.015152  100.0     0.950967\n",
            "10      0.010101    2.0     0.067748\n",
            "11      0.040404  100.0     0.952225\n",
            "12      0.025253    1.0     0.054061\n",
            "13      0.040404  100.0     0.952225\n",
            "14      0.005051    1.0     0.034456\n",
            "15      0.025253  100.0     0.951470\n",
            "16      0.489899  100.0     0.974604\n",
            "17      0.005051   99.0     0.948956\n"
          ]
        },
        {
          "name": "stderr",
          "output_type": "stream",
          "text": [
            "100%|██████████| 1/1 [00:00<00:00,  9.29it/s]\n",
            "INFO:autora.theorist.bms.regressor:BMS fitting finished\n",
            "INFO:autora.theorist.bms.regressor:BMS fitting started\n"
          ]
        },
        {
          "name": "stdout",
          "output_type": "stream",
          "text": [
            "Sampling new experiment conditions...\n",
            "Obtaining observations...\n",
            "SIMULATION 7 / DISCOVERY CYCLE 18\n",
            "Fitting models on benchmark state...\n",
            "Experiment data\n",
            "    P_asymptotic  trial  performance\n",
            "0       0.474747   63.0     0.920649\n",
            "1       0.338384   62.0     0.897004\n",
            "2       0.212121   96.0     0.955773\n",
            "3       0.166667   19.0     0.528729\n",
            "4       0.010101   88.0     0.929360\n",
            "5       0.237374   20.0     0.581462\n",
            "6       0.308081   88.0     0.950624\n",
            "7       0.484848   44.0     0.862385\n",
            "8       0.085859   56.0     0.829628\n",
            "9       0.459596   28.0     0.766702\n",
            "10      0.020202   12.0     0.316418\n",
            "11      0.207071   50.0     0.823074\n",
            "12      0.075758   29.0     0.612787\n",
            "13      0.025253   14.0     0.359545\n",
            "14      0.095960   87.0     0.933522\n",
            "15      0.116162   74.0     0.904007\n",
            "16      0.282828   74.0     0.922109\n",
            "17      0.090909    9.0     0.306019\n",
            "18      0.161616   89.0     0.941940\n"
          ]
        },
        {
          "name": "stderr",
          "output_type": "stream",
          "text": [
            "100%|██████████| 1/1 [00:00<00:00, 10.91it/s]\n",
            "INFO:autora.theorist.bms.regressor:BMS fitting finished\n",
            "INFO:autora.theorist.bms.regressor:BMS fitting started\n"
          ]
        },
        {
          "name": "stdout",
          "output_type": "stream",
          "text": [
            "Fitting models on working state...\n",
            "Experiment data\n",
            "    P_asymptotic  trial  performance\n",
            "0       0.474747   63.0     0.920649\n",
            "1       0.232323   82.0     0.934414\n",
            "2       0.454545   11.0     0.607860\n",
            "3       0.141414   24.0     0.582081\n",
            "4       0.333333   98.0     0.964756\n",
            "5       0.414141   61.0     0.906020\n",
            "6       0.393939   57.0     0.890384\n",
            "7       0.383838   73.0     0.931041\n",
            "8       0.000000    1.0     0.029554\n",
            "9       0.015152  100.0     0.950967\n",
            "10      0.010101    2.0     0.067748\n",
            "11      0.040404  100.0     0.952225\n",
            "12      0.025253    1.0     0.054061\n",
            "13      0.040404  100.0     0.952225\n",
            "14      0.005051    1.0     0.034456\n",
            "15      0.025253  100.0     0.951470\n",
            "16      0.489899  100.0     0.974604\n",
            "17      0.005051   99.0     0.948956\n",
            "18      0.000000    3.0     0.086069\n"
          ]
        },
        {
          "name": "stderr",
          "output_type": "stream",
          "text": [
            "100%|██████████| 1/1 [00:00<00:00,  7.65it/s]\n",
            "INFO:autora.theorist.bms.regressor:BMS fitting finished\n",
            "INFO:autora.theorist.bms.regressor:BMS fitting started\n"
          ]
        },
        {
          "name": "stdout",
          "output_type": "stream",
          "text": [
            "Sampling new experiment conditions...\n",
            "Obtaining observations...\n",
            "SIMULATION 7 / DISCOVERY CYCLE 19\n",
            "Fitting models on benchmark state...\n",
            "Experiment data\n",
            "    P_asymptotic  trial  performance\n",
            "0       0.474747   63.0     0.920649\n",
            "1       0.338384   62.0     0.897004\n",
            "2       0.212121   96.0     0.955773\n",
            "3       0.166667   19.0     0.528729\n",
            "4       0.010101   88.0     0.929360\n",
            "5       0.237374   20.0     0.581462\n",
            "6       0.308081   88.0     0.950624\n",
            "7       0.484848   44.0     0.862385\n",
            "8       0.085859   56.0     0.829628\n",
            "9       0.459596   28.0     0.766702\n",
            "10      0.020202   12.0     0.316418\n",
            "11      0.207071   50.0     0.823074\n",
            "12      0.075758   29.0     0.612787\n",
            "13      0.025253   14.0     0.359545\n",
            "14      0.095960   87.0     0.933522\n",
            "15      0.116162   74.0     0.904007\n",
            "16      0.282828   74.0     0.922109\n",
            "17      0.090909    9.0     0.306019\n",
            "18      0.161616   89.0     0.941940\n",
            "19      0.151515   78.0     0.918267\n"
          ]
        },
        {
          "name": "stderr",
          "output_type": "stream",
          "text": [
            "100%|██████████| 1/1 [00:00<00:00, 14.01it/s]\n",
            "INFO:autora.theorist.bms.regressor:BMS fitting finished\n",
            "INFO:autora.theorist.bms.regressor:BMS fitting started\n"
          ]
        },
        {
          "name": "stdout",
          "output_type": "stream",
          "text": [
            "Fitting models on working state...\n",
            "Experiment data\n",
            "    P_asymptotic  trial  performance\n",
            "0       0.474747   63.0     0.920649\n",
            "1       0.232323   82.0     0.934414\n",
            "2       0.454545   11.0     0.607860\n",
            "3       0.141414   24.0     0.582081\n",
            "4       0.333333   98.0     0.964756\n",
            "5       0.414141   61.0     0.906020\n",
            "6       0.393939   57.0     0.890384\n",
            "7       0.383838   73.0     0.931041\n",
            "8       0.000000    1.0     0.029554\n",
            "9       0.015152  100.0     0.950967\n",
            "10      0.010101    2.0     0.067748\n",
            "11      0.040404  100.0     0.952225\n",
            "12      0.025253    1.0     0.054061\n",
            "13      0.040404  100.0     0.952225\n",
            "14      0.005051    1.0     0.034456\n",
            "15      0.025253  100.0     0.951470\n",
            "16      0.489899  100.0     0.974604\n",
            "17      0.005051   99.0     0.948956\n",
            "18      0.000000    3.0     0.086069\n",
            "19      0.020202    1.0     0.049159\n"
          ]
        },
        {
          "name": "stderr",
          "output_type": "stream",
          "text": [
            "100%|██████████| 1/1 [00:00<00:00, 10.97it/s]\n",
            "INFO:autora.theorist.bms.regressor:BMS fitting finished\n"
          ]
        },
        {
          "name": "stdout",
          "output_type": "stream",
          "text": [
            "Sampling new experiment conditions...\n",
            "Obtaining observations...\n"
          ]
        },
        {
          "name": "stderr",
          "output_type": "stream",
          "text": [
            "INFO:autora.theorist.bms.regressor:BMS fitting started\n"
          ]
        },
        {
          "name": "stdout",
          "output_type": "stream",
          "text": [
            "SIMULATION 8 / DISCOVERY CYCLE 0\n",
            "Fitting models on benchmark state...\n",
            "Experiment data\n",
            "   P_asymptotic  trial  performance\n",
            "0      0.358586   33.0     0.761665\n"
          ]
        },
        {
          "name": "stderr",
          "output_type": "stream",
          "text": [
            "100%|██████████| 1/1 [00:00<00:00, 11.55it/s]\n",
            "INFO:autora.theorist.bms.regressor:BMS fitting finished\n",
            "INFO:autora.theorist.bms.regressor:BMS fitting started\n"
          ]
        },
        {
          "name": "stdout",
          "output_type": "stream",
          "text": [
            "Fitting models on working state...\n",
            "Experiment data\n",
            "   P_asymptotic  trial  performance\n",
            "0      0.358586   33.0     0.761665\n"
          ]
        },
        {
          "name": "stderr",
          "output_type": "stream",
          "text": [
            "100%|██████████| 1/1 [00:00<00:00, 11.00it/s]\n",
            "INFO:autora.theorist.bms.regressor:BMS fitting finished\n"
          ]
        },
        {
          "name": "stdout",
          "output_type": "stream",
          "text": [
            "Sampling new experiment conditions...\n",
            "Obtaining observations...\n",
            "SIMULATION 8 / DISCOVERY CYCLE 1\n",
            "Fitting models on benchmark state...\n",
            "Experiment data\n",
            "   P_asymptotic  trial  performance\n",
            "0      0.358586   33.0     0.761665\n",
            "1      0.252525   22.0     0.613667\n"
          ]
        },
        {
          "name": "stderr",
          "output_type": "stream",
          "text": [
            "INFO:autora.theorist.bms.regressor:BMS fitting started\n",
            "100%|██████████| 1/1 [00:00<00:00, 13.93it/s]\n",
            "INFO:autora.theorist.bms.regressor:BMS fitting finished\n",
            "INFO:autora.theorist.bms.regressor:BMS fitting started\n"
          ]
        },
        {
          "name": "stdout",
          "output_type": "stream",
          "text": [
            "Fitting models on working state...\n",
            "Experiment data\n",
            "   P_asymptotic  trial  performance\n",
            "0      0.358586   33.0     0.761665\n",
            "1      0.272727   24.0     0.645998\n"
          ]
        },
        {
          "name": "stderr",
          "output_type": "stream",
          "text": [
            "100%|██████████| 1/1 [00:00<00:00, 12.35it/s]\n",
            "INFO:autora.theorist.bms.regressor:BMS fitting finished\n",
            "INFO:autora.theorist.bms.regressor:BMS fitting started\n"
          ]
        },
        {
          "name": "stdout",
          "output_type": "stream",
          "text": [
            "Sampling new experiment conditions...\n",
            "Obtaining observations...\n",
            "SIMULATION 8 / DISCOVERY CYCLE 2\n",
            "Fitting models on benchmark state...\n",
            "Experiment data\n",
            "   P_asymptotic  trial  performance\n",
            "0      0.358586   33.0     0.761665\n",
            "1      0.252525   22.0     0.613667\n",
            "2      0.000000   75.0     0.894601\n"
          ]
        },
        {
          "name": "stderr",
          "output_type": "stream",
          "text": [
            "100%|██████████| 1/1 [00:00<00:00, 13.33it/s]\n",
            "INFO:autora.theorist.bms.regressor:BMS fitting finished\n",
            "INFO:autora.theorist.bms.regressor:BMS fitting started\n"
          ]
        },
        {
          "name": "stdout",
          "output_type": "stream",
          "text": [
            "Fitting models on working state...\n",
            "Experiment data\n",
            "   P_asymptotic  trial  performance\n",
            "0      0.358586   33.0     0.761665\n",
            "1      0.272727   24.0     0.645998\n",
            "2      0.328283   19.0     0.620127\n"
          ]
        },
        {
          "name": "stderr",
          "output_type": "stream",
          "text": [
            "100%|██████████| 1/1 [00:00<00:00, 12.91it/s]\n",
            "INFO:autora.theorist.bms.regressor:BMS fitting finished\n",
            "INFO:autora.theorist.bms.regressor:BMS fitting started\n"
          ]
        },
        {
          "name": "stdout",
          "output_type": "stream",
          "text": [
            "Sampling new experiment conditions...\n",
            "Obtaining observations...\n",
            "SIMULATION 8 / DISCOVERY CYCLE 3\n",
            "Fitting models on benchmark state...\n",
            "Experiment data\n",
            "   P_asymptotic  trial  performance\n",
            "0      0.358586   33.0     0.761665\n",
            "1      0.252525   22.0     0.613667\n",
            "2      0.000000   75.0     0.894601\n",
            "3      0.055556   92.0     0.940224\n"
          ]
        },
        {
          "name": "stderr",
          "output_type": "stream",
          "text": [
            "100%|██████████| 1/1 [00:00<00:00,  9.68it/s]\n",
            "INFO:autora.theorist.bms.regressor:BMS fitting finished\n",
            "INFO:autora.theorist.bms.regressor:BMS fitting started\n"
          ]
        },
        {
          "name": "stdout",
          "output_type": "stream",
          "text": [
            "Fitting models on working state...\n",
            "Experiment data\n",
            "   P_asymptotic  trial  performance\n",
            "0      0.358586   33.0     0.761665\n",
            "1      0.272727   24.0     0.645998\n",
            "2      0.328283   19.0     0.620127\n",
            "3      0.313131    4.0     0.390802\n"
          ]
        },
        {
          "name": "stderr",
          "output_type": "stream",
          "text": [
            "100%|██████████| 1/1 [00:00<00:00, 10.84it/s]\n",
            "INFO:autora.theorist.bms.regressor:BMS fitting finished\n",
            "INFO:autora.theorist.bms.regressor:BMS fitting started\n"
          ]
        },
        {
          "name": "stdout",
          "output_type": "stream",
          "text": [
            "Sampling new experiment conditions...\n",
            "Obtaining observations...\n",
            "SIMULATION 8 / DISCOVERY CYCLE 4\n",
            "Fitting models on benchmark state...\n",
            "Experiment data\n",
            "   P_asymptotic  trial  performance\n",
            "0      0.358586   33.0     0.761665\n",
            "1      0.252525   22.0     0.613667\n",
            "2      0.000000   75.0     0.894601\n",
            "3      0.055556   92.0     0.940224\n",
            "4      0.323232   31.0     0.732979\n"
          ]
        },
        {
          "name": "stderr",
          "output_type": "stream",
          "text": [
            "100%|██████████| 1/1 [00:00<00:00,  9.06it/s]\n",
            "INFO:autora.theorist.bms.regressor:BMS fitting finished\n",
            "INFO:autora.theorist.bms.regressor:BMS fitting started\n"
          ]
        },
        {
          "name": "stdout",
          "output_type": "stream",
          "text": [
            "Fitting models on working state...\n",
            "Experiment data\n",
            "   P_asymptotic  trial  performance\n",
            "0      0.358586   33.0     0.761665\n",
            "1      0.272727   24.0     0.645998\n",
            "2      0.328283   19.0     0.620127\n",
            "3      0.313131    4.0     0.390802\n",
            "4      0.262626   77.0     0.926807\n"
          ]
        },
        {
          "name": "stderr",
          "output_type": "stream",
          "text": [
            "100%|██████████| 1/1 [00:00<00:00,  9.38it/s]\n",
            "INFO:autora.theorist.bms.regressor:BMS fitting finished\n",
            "INFO:autora.theorist.bms.regressor:BMS fitting started\n"
          ]
        },
        {
          "name": "stdout",
          "output_type": "stream",
          "text": [
            "Sampling new experiment conditions...\n",
            "Obtaining observations...\n",
            "SIMULATION 8 / DISCOVERY CYCLE 5\n",
            "Fitting models on benchmark state...\n",
            "Experiment data\n",
            "   P_asymptotic  trial  performance\n",
            "0      0.358586   33.0     0.761665\n",
            "1      0.252525   22.0     0.613667\n",
            "2      0.000000   75.0     0.894601\n",
            "3      0.055556   92.0     0.940224\n",
            "4      0.323232   31.0     0.732979\n",
            "5      0.227273   17.0     0.535981\n"
          ]
        },
        {
          "name": "stderr",
          "output_type": "stream",
          "text": [
            "100%|██████████| 1/1 [00:00<00:00, 11.77it/s]\n",
            "INFO:autora.theorist.bms.regressor:BMS fitting finished\n",
            "INFO:autora.theorist.bms.regressor:BMS fitting started\n"
          ]
        },
        {
          "name": "stdout",
          "output_type": "stream",
          "text": [
            "Fitting models on working state...\n",
            "Experiment data\n",
            "   P_asymptotic  trial  performance\n",
            "0      0.358586   33.0     0.761665\n",
            "1      0.272727   24.0     0.645998\n",
            "2      0.328283   19.0     0.620127\n",
            "3      0.313131    4.0     0.390802\n",
            "4      0.262626   77.0     0.926807\n",
            "5      0.328283   20.0     0.631354\n"
          ]
        },
        {
          "name": "stderr",
          "output_type": "stream",
          "text": [
            "100%|██████████| 1/1 [00:00<00:00, 10.27it/s]\n",
            "INFO:autora.theorist.bms.regressor:BMS fitting finished\n",
            "INFO:autora.theorist.bms.regressor:BMS fitting started\n"
          ]
        },
        {
          "name": "stdout",
          "output_type": "stream",
          "text": [
            "Sampling new experiment conditions...\n",
            "Obtaining observations...\n",
            "SIMULATION 8 / DISCOVERY CYCLE 6\n",
            "Fitting models on benchmark state...\n",
            "Experiment data\n",
            "   P_asymptotic  trial  performance\n",
            "0      0.358586   33.0     0.761665\n",
            "1      0.252525   22.0     0.613667\n",
            "2      0.000000   75.0     0.894601\n",
            "3      0.055556   92.0     0.940224\n",
            "4      0.323232   31.0     0.732979\n",
            "5      0.227273   17.0     0.535981\n",
            "6      0.469697   49.0     0.878070\n"
          ]
        },
        {
          "name": "stderr",
          "output_type": "stream",
          "text": [
            "100%|██████████| 1/1 [00:00<00:00,  9.44it/s]\n",
            "INFO:autora.theorist.bms.regressor:BMS fitting finished\n",
            "INFO:autora.theorist.bms.regressor:BMS fitting started\n"
          ]
        },
        {
          "name": "stdout",
          "output_type": "stream",
          "text": [
            "Fitting models on working state...\n",
            "Experiment data\n",
            "   P_asymptotic  trial  performance\n",
            "0      0.358586   33.0     0.761665\n",
            "1      0.272727   24.0     0.645998\n",
            "2      0.328283   19.0     0.620127\n",
            "3      0.313131    4.0     0.390802\n",
            "4      0.262626   77.0     0.926807\n",
            "5      0.328283   20.0     0.631354\n",
            "6      0.262626   87.0     0.945778\n"
          ]
        },
        {
          "name": "stderr",
          "output_type": "stream",
          "text": [
            "100%|██████████| 1/1 [00:00<00:00, 16.21it/s]\n",
            "INFO:autora.theorist.bms.regressor:BMS fitting finished\n"
          ]
        },
        {
          "name": "stdout",
          "output_type": "stream",
          "text": [
            "Sampling new experiment conditions...\n",
            "Obtaining observations...\n",
            "SIMULATION 8 / DISCOVERY CYCLE 7\n",
            "Fitting models on benchmark state...\n",
            "Experiment data\n",
            "   P_asymptotic  trial  performance\n",
            "0      0.358586   33.0     0.761665\n",
            "1      0.252525   22.0     0.613667\n",
            "2      0.000000   75.0     0.894601\n",
            "3      0.055556   92.0     0.940224\n",
            "4      0.323232   31.0     0.732979\n",
            "5      0.227273   17.0     0.535981\n",
            "6      0.469697   49.0     0.878070\n",
            "7      0.308081   46.0     0.825928\n"
          ]
        },
        {
          "name": "stderr",
          "output_type": "stream",
          "text": [
            "INFO:autora.theorist.bms.regressor:BMS fitting started\n",
            "100%|██████████| 1/1 [00:00<00:00,  8.84it/s]\n",
            "INFO:autora.theorist.bms.regressor:BMS fitting finished\n",
            "INFO:autora.theorist.bms.regressor:BMS fitting started\n"
          ]
        },
        {
          "name": "stdout",
          "output_type": "stream",
          "text": [
            "Fitting models on working state...\n",
            "Experiment data\n",
            "   P_asymptotic  trial  performance\n",
            "0      0.358586   33.0     0.761665\n",
            "1      0.272727   24.0     0.645998\n",
            "2      0.328283   19.0     0.620127\n",
            "3      0.313131    4.0     0.390802\n",
            "4      0.262626   77.0     0.926807\n",
            "5      0.328283   20.0     0.631354\n",
            "6      0.262626   87.0     0.945778\n",
            "7      0.383838   94.0     0.963273\n"
          ]
        },
        {
          "name": "stderr",
          "output_type": "stream",
          "text": [
            "100%|██████████| 1/1 [00:00<00:00, 12.43it/s]\n",
            "INFO:autora.theorist.bms.regressor:BMS fitting finished\n"
          ]
        },
        {
          "name": "stdout",
          "output_type": "stream",
          "text": [
            "Sampling new experiment conditions...\n",
            "Obtaining observations...\n",
            "SIMULATION 8 / DISCOVERY CYCLE 8\n",
            "Fitting models on benchmark state...\n",
            "Experiment data\n",
            "   P_asymptotic  trial  performance\n",
            "0      0.358586   33.0     0.761665\n",
            "1      0.252525   22.0     0.613667\n",
            "2      0.000000   75.0     0.894601\n",
            "3      0.055556   92.0     0.940224\n",
            "4      0.323232   31.0     0.732979\n",
            "5      0.227273   17.0     0.535981\n",
            "6      0.469697   49.0     0.878070\n",
            "7      0.308081   46.0     0.825928\n",
            "8      0.065657   94.0     0.944308\n"
          ]
        },
        {
          "name": "stderr",
          "output_type": "stream",
          "text": [
            "INFO:autora.theorist.bms.regressor:BMS fitting started\n",
            "100%|██████████| 1/1 [00:00<00:00, 15.34it/s]\n",
            "INFO:autora.theorist.bms.regressor:BMS fitting finished\n"
          ]
        },
        {
          "name": "stdout",
          "output_type": "stream",
          "text": [
            "Fitting models on working state...\n",
            "Experiment data\n",
            "   P_asymptotic  trial  performance\n",
            "0      0.358586   33.0     0.761665\n",
            "1      0.272727   24.0     0.645998\n",
            "2      0.328283   19.0     0.620127\n",
            "3      0.313131    4.0     0.390802\n",
            "4      0.262626   77.0     0.926807\n",
            "5      0.328283   20.0     0.631354\n",
            "6      0.262626   87.0     0.945778\n",
            "7      0.383838   94.0     0.963273\n",
            "8      0.005051   99.0     0.948956\n"
          ]
        },
        {
          "name": "stderr",
          "output_type": "stream",
          "text": [
            "INFO:autora.theorist.bms.regressor:BMS fitting started\n",
            "100%|██████████| 1/1 [00:00<00:00,  8.80it/s]\n",
            "INFO:autora.theorist.bms.regressor:BMS fitting finished\n",
            "INFO:autora.theorist.bms.regressor:BMS fitting started\n"
          ]
        },
        {
          "name": "stdout",
          "output_type": "stream",
          "text": [
            "Sampling new experiment conditions...\n",
            "Obtaining observations...\n",
            "SIMULATION 8 / DISCOVERY CYCLE 9\n",
            "Fitting models on benchmark state...\n",
            "Experiment data\n",
            "   P_asymptotic  trial  performance\n",
            "0      0.358586   33.0     0.761665\n",
            "1      0.252525   22.0     0.613667\n",
            "2      0.000000   75.0     0.894601\n",
            "3      0.055556   92.0     0.940224\n",
            "4      0.323232   31.0     0.732979\n",
            "5      0.227273   17.0     0.535981\n",
            "6      0.469697   49.0     0.878070\n",
            "7      0.308081   46.0     0.825928\n",
            "8      0.065657   94.0     0.944308\n",
            "9      0.095960   58.0     0.841322\n"
          ]
        },
        {
          "name": "stderr",
          "output_type": "stream",
          "text": [
            "100%|██████████| 1/1 [00:00<00:00, 11.24it/s]\n",
            "INFO:autora.theorist.bms.regressor:BMS fitting finished\n",
            "INFO:autora.theorist.bms.regressor:BMS fitting started\n"
          ]
        },
        {
          "name": "stdout",
          "output_type": "stream",
          "text": [
            "Fitting models on working state...\n",
            "Experiment data\n",
            "   P_asymptotic  trial  performance\n",
            "0      0.358586   33.0     0.761665\n",
            "1      0.272727   24.0     0.645998\n",
            "2      0.328283   19.0     0.620127\n",
            "3      0.313131    4.0     0.390802\n",
            "4      0.262626   77.0     0.926807\n",
            "5      0.328283   20.0     0.631354\n",
            "6      0.262626   87.0     0.945778\n",
            "7      0.383838   94.0     0.963273\n",
            "8      0.005051   99.0     0.948956\n",
            "9      0.025253  100.0     0.951470\n"
          ]
        },
        {
          "name": "stderr",
          "output_type": "stream",
          "text": [
            "100%|██████████| 1/1 [00:00<00:00, 12.55it/s]\n",
            "INFO:autora.theorist.bms.regressor:BMS fitting finished\n",
            "INFO:autora.theorist.bms.regressor:BMS fitting started\n"
          ]
        },
        {
          "name": "stdout",
          "output_type": "stream",
          "text": [
            "Sampling new experiment conditions...\n",
            "Obtaining observations...\n",
            "SIMULATION 8 / DISCOVERY CYCLE 10\n",
            "Fitting models on benchmark state...\n",
            "Experiment data\n",
            "    P_asymptotic  trial  performance\n",
            "0       0.358586   33.0     0.761665\n",
            "1       0.252525   22.0     0.613667\n",
            "2       0.000000   75.0     0.894601\n",
            "3       0.055556   92.0     0.940224\n",
            "4       0.323232   31.0     0.732979\n",
            "5       0.227273   17.0     0.535981\n",
            "6       0.469697   49.0     0.878070\n",
            "7       0.308081   46.0     0.825928\n",
            "8       0.065657   94.0     0.944308\n",
            "9       0.095960   58.0     0.841322\n",
            "10      0.489899   51.0     0.889545\n"
          ]
        },
        {
          "name": "stderr",
          "output_type": "stream",
          "text": [
            "100%|██████████| 1/1 [00:00<00:00,  9.15it/s]\n",
            "INFO:autora.theorist.bms.regressor:BMS fitting finished\n",
            "INFO:autora.theorist.bms.regressor:BMS fitting started\n"
          ]
        },
        {
          "name": "stdout",
          "output_type": "stream",
          "text": [
            "Fitting models on working state...\n",
            "Experiment data\n",
            "    P_asymptotic  trial  performance\n",
            "0       0.358586   33.0     0.761665\n",
            "1       0.272727   24.0     0.645998\n",
            "2       0.328283   19.0     0.620127\n",
            "3       0.313131    4.0     0.390802\n",
            "4       0.262626   77.0     0.926807\n",
            "5       0.328283   20.0     0.631354\n",
            "6       0.262626   87.0     0.945778\n",
            "7       0.383838   94.0     0.963273\n",
            "8       0.005051   99.0     0.948956\n",
            "9       0.025253  100.0     0.951470\n",
            "10      0.005051    1.0     0.034456\n"
          ]
        },
        {
          "name": "stderr",
          "output_type": "stream",
          "text": [
            "100%|██████████| 1/1 [00:00<00:00, 12.03it/s]\n",
            "INFO:autora.theorist.bms.regressor:BMS fitting finished\n",
            "INFO:autora.theorist.bms.regressor:BMS fitting started\n"
          ]
        },
        {
          "name": "stdout",
          "output_type": "stream",
          "text": [
            "Sampling new experiment conditions...\n",
            "Obtaining observations...\n",
            "SIMULATION 8 / DISCOVERY CYCLE 11\n",
            "Fitting models on benchmark state...\n",
            "Experiment data\n",
            "    P_asymptotic  trial  performance\n",
            "0       0.358586   33.0     0.761665\n",
            "1       0.252525   22.0     0.613667\n",
            "2       0.000000   75.0     0.894601\n",
            "3       0.055556   92.0     0.940224\n",
            "4       0.323232   31.0     0.732979\n",
            "5       0.227273   17.0     0.535981\n",
            "6       0.469697   49.0     0.878070\n",
            "7       0.308081   46.0     0.825928\n",
            "8       0.065657   94.0     0.944308\n",
            "9       0.095960   58.0     0.841322\n",
            "10      0.489899   51.0     0.889545\n",
            "11      0.348485   68.0     0.915284\n"
          ]
        },
        {
          "name": "stderr",
          "output_type": "stream",
          "text": [
            "100%|██████████| 1/1 [00:00<00:00,  9.80it/s]\n",
            "INFO:autora.theorist.bms.regressor:BMS fitting finished\n",
            "INFO:autora.theorist.bms.regressor:BMS fitting started\n"
          ]
        },
        {
          "name": "stdout",
          "output_type": "stream",
          "text": [
            "Fitting models on working state...\n",
            "Experiment data\n",
            "    P_asymptotic  trial  performance\n",
            "0       0.358586   33.0     0.761665\n",
            "1       0.272727   24.0     0.645998\n",
            "2       0.328283   19.0     0.620127\n",
            "3       0.313131    4.0     0.390802\n",
            "4       0.262626   77.0     0.926807\n",
            "5       0.328283   20.0     0.631354\n",
            "6       0.262626   87.0     0.945778\n",
            "7       0.383838   94.0     0.963273\n",
            "8       0.005051   99.0     0.948956\n",
            "9       0.025253  100.0     0.951470\n",
            "10      0.005051    1.0     0.034456\n",
            "11      0.500000   99.0     0.974348\n"
          ]
        },
        {
          "name": "stderr",
          "output_type": "stream",
          "text": [
            "100%|██████████| 1/1 [00:00<00:00, 12.48it/s]\n",
            "INFO:autora.theorist.bms.regressor:BMS fitting finished\n"
          ]
        },
        {
          "name": "stdout",
          "output_type": "stream",
          "text": [
            "Sampling new experiment conditions...\n"
          ]
        },
        {
          "name": "stderr",
          "output_type": "stream",
          "text": [
            "INFO:autora.theorist.bms.regressor:BMS fitting started\n"
          ]
        },
        {
          "name": "stdout",
          "output_type": "stream",
          "text": [
            "Obtaining observations...\n",
            "SIMULATION 8 / DISCOVERY CYCLE 12\n",
            "Fitting models on benchmark state...\n",
            "Experiment data\n",
            "    P_asymptotic  trial  performance\n",
            "0       0.358586   33.0     0.761665\n",
            "1       0.252525   22.0     0.613667\n",
            "2       0.000000   75.0     0.894601\n",
            "3       0.055556   92.0     0.940224\n",
            "4       0.323232   31.0     0.732979\n",
            "5       0.227273   17.0     0.535981\n",
            "6       0.469697   49.0     0.878070\n",
            "7       0.308081   46.0     0.825928\n",
            "8       0.065657   94.0     0.944308\n",
            "9       0.095960   58.0     0.841322\n",
            "10      0.489899   51.0     0.889545\n",
            "11      0.348485   68.0     0.915284\n",
            "12      0.383838   13.0     0.582824\n"
          ]
        },
        {
          "name": "stderr",
          "output_type": "stream",
          "text": [
            "100%|██████████| 1/1 [00:00<00:00, 12.86it/s]\n",
            "INFO:autora.theorist.bms.regressor:BMS fitting finished\n",
            "INFO:autora.theorist.bms.regressor:BMS fitting started\n"
          ]
        },
        {
          "name": "stdout",
          "output_type": "stream",
          "text": [
            "Fitting models on working state...\n",
            "Experiment data\n",
            "    P_asymptotic  trial  performance\n",
            "0       0.358586   33.0     0.761665\n",
            "1       0.272727   24.0     0.645998\n",
            "2       0.328283   19.0     0.620127\n",
            "3       0.313131    4.0     0.390802\n",
            "4       0.262626   77.0     0.926807\n",
            "5       0.328283   20.0     0.631354\n",
            "6       0.262626   87.0     0.945778\n",
            "7       0.383838   94.0     0.963273\n",
            "8       0.005051   99.0     0.948956\n",
            "9       0.025253  100.0     0.951470\n",
            "10      0.005051    1.0     0.034456\n",
            "11      0.500000   99.0     0.974348\n",
            "12      0.015152    1.0     0.044258\n"
          ]
        },
        {
          "name": "stderr",
          "output_type": "stream",
          "text": [
            "100%|██████████| 1/1 [00:00<00:00, 14.20it/s]\n",
            "INFO:autora.theorist.bms.regressor:BMS fitting finished\n"
          ]
        },
        {
          "name": "stdout",
          "output_type": "stream",
          "text": [
            "Sampling new experiment conditions...\n",
            "Obtaining observations...\n",
            "SIMULATION 8 / DISCOVERY CYCLE 13\n",
            "Fitting models on benchmark state...\n",
            "Experiment data\n",
            "    P_asymptotic  trial  performance\n",
            "0       0.358586   33.0     0.761665\n",
            "1       0.252525   22.0     0.613667\n",
            "2       0.000000   75.0     0.894601\n",
            "3       0.055556   92.0     0.940224\n",
            "4       0.323232   31.0     0.732979\n",
            "5       0.227273   17.0     0.535981\n",
            "6       0.469697   49.0     0.878070\n",
            "7       0.308081   46.0     0.825928\n",
            "8       0.065657   94.0     0.944308\n",
            "9       0.095960   58.0     0.841322\n",
            "10      0.489899   51.0     0.889545\n",
            "11      0.348485   68.0     0.915284\n",
            "12      0.383838   13.0     0.582824\n",
            "13      0.353535    4.0     0.426637\n"
          ]
        },
        {
          "name": "stderr",
          "output_type": "stream",
          "text": [
            "INFO:autora.theorist.bms.regressor:BMS fitting started\n",
            "100%|██████████| 1/1 [00:00<00:00, 12.20it/s]\n",
            "INFO:autora.theorist.bms.regressor:BMS fitting finished\n",
            "INFO:autora.theorist.bms.regressor:BMS fitting started\n"
          ]
        },
        {
          "name": "stdout",
          "output_type": "stream",
          "text": [
            "Fitting models on working state...\n",
            "Experiment data\n",
            "    P_asymptotic  trial  performance\n",
            "0       0.358586   33.0     0.761665\n",
            "1       0.272727   24.0     0.645998\n",
            "2       0.328283   19.0     0.620127\n",
            "3       0.313131    4.0     0.390802\n",
            "4       0.262626   77.0     0.926807\n",
            "5       0.328283   20.0     0.631354\n",
            "6       0.262626   87.0     0.945778\n",
            "7       0.383838   94.0     0.963273\n",
            "8       0.005051   99.0     0.948956\n",
            "9       0.025253  100.0     0.951470\n",
            "10      0.005051    1.0     0.034456\n",
            "11      0.500000   99.0     0.974348\n",
            "12      0.015152    1.0     0.044258\n",
            "13      0.489899  100.0     0.974604\n"
          ]
        },
        {
          "name": "stderr",
          "output_type": "stream",
          "text": [
            "100%|██████████| 1/1 [00:00<00:00, 10.72it/s]\n",
            "INFO:autora.theorist.bms.regressor:BMS fitting finished\n",
            "INFO:autora.theorist.bms.regressor:BMS fitting started\n"
          ]
        },
        {
          "name": "stdout",
          "output_type": "stream",
          "text": [
            "Sampling new experiment conditions...\n",
            "Obtaining observations...\n",
            "SIMULATION 8 / DISCOVERY CYCLE 14\n",
            "Fitting models on benchmark state...\n",
            "Experiment data\n",
            "    P_asymptotic  trial  performance\n",
            "0       0.358586   33.0     0.761665\n",
            "1       0.252525   22.0     0.613667\n",
            "2       0.000000   75.0     0.894601\n",
            "3       0.055556   92.0     0.940224\n",
            "4       0.323232   31.0     0.732979\n",
            "5       0.227273   17.0     0.535981\n",
            "6       0.469697   49.0     0.878070\n",
            "7       0.308081   46.0     0.825928\n",
            "8       0.065657   94.0     0.944308\n",
            "9       0.095960   58.0     0.841322\n",
            "10      0.489899   51.0     0.889545\n",
            "11      0.348485   68.0     0.915284\n",
            "12      0.383838   13.0     0.582824\n",
            "13      0.353535    4.0     0.426637\n",
            "14      0.323232   37.0     0.776965\n"
          ]
        },
        {
          "name": "stderr",
          "output_type": "stream",
          "text": [
            "100%|██████████| 1/1 [00:00<00:00,  8.12it/s]\n",
            "INFO:autora.theorist.bms.regressor:BMS fitting finished\n",
            "INFO:autora.theorist.bms.regressor:BMS fitting started\n"
          ]
        },
        {
          "name": "stdout",
          "output_type": "stream",
          "text": [
            "Fitting models on working state...\n",
            "Experiment data\n",
            "    P_asymptotic  trial  performance\n",
            "0       0.358586   33.0     0.761665\n",
            "1       0.272727   24.0     0.645998\n",
            "2       0.328283   19.0     0.620127\n",
            "3       0.313131    4.0     0.390802\n",
            "4       0.262626   77.0     0.926807\n",
            "5       0.328283   20.0     0.631354\n",
            "6       0.262626   87.0     0.945778\n",
            "7       0.383838   94.0     0.963273\n",
            "8       0.005051   99.0     0.948956\n",
            "9       0.025253  100.0     0.951470\n",
            "10      0.005051    1.0     0.034456\n",
            "11      0.500000   99.0     0.974348\n",
            "12      0.015152    1.0     0.044258\n",
            "13      0.489899  100.0     0.974604\n",
            "14      0.000000  100.0     0.950213\n"
          ]
        },
        {
          "name": "stderr",
          "output_type": "stream",
          "text": [
            "100%|██████████| 1/1 [00:00<00:00,  7.86it/s]\n",
            "INFO:autora.theorist.bms.regressor:BMS fitting finished\n",
            "INFO:autora.theorist.bms.regressor:BMS fitting started\n"
          ]
        },
        {
          "name": "stdout",
          "output_type": "stream",
          "text": [
            "Sampling new experiment conditions...\n",
            "Obtaining observations...\n",
            "SIMULATION 8 / DISCOVERY CYCLE 15\n",
            "Fitting models on benchmark state...\n",
            "Experiment data\n",
            "    P_asymptotic  trial  performance\n",
            "0       0.358586   33.0     0.761665\n",
            "1       0.252525   22.0     0.613667\n",
            "2       0.000000   75.0     0.894601\n",
            "3       0.055556   92.0     0.940224\n",
            "4       0.323232   31.0     0.732979\n",
            "5       0.227273   17.0     0.535981\n",
            "6       0.469697   49.0     0.878070\n",
            "7       0.308081   46.0     0.825928\n",
            "8       0.065657   94.0     0.944308\n",
            "9       0.095960   58.0     0.841322\n",
            "10      0.489899   51.0     0.889545\n",
            "11      0.348485   68.0     0.915284\n",
            "12      0.383838   13.0     0.582824\n",
            "13      0.353535    4.0     0.426637\n",
            "14      0.323232   37.0     0.776965\n",
            "15      0.297980    9.0     0.464092\n"
          ]
        },
        {
          "name": "stderr",
          "output_type": "stream",
          "text": [
            "100%|██████████| 1/1 [00:00<00:00,  7.68it/s]\n",
            "INFO:autora.theorist.bms.regressor:BMS fitting finished\n",
            "INFO:autora.theorist.bms.regressor:BMS fitting started\n"
          ]
        },
        {
          "name": "stdout",
          "output_type": "stream",
          "text": [
            "Fitting models on working state...\n",
            "Experiment data\n",
            "    P_asymptotic  trial  performance\n",
            "0       0.358586   33.0     0.761665\n",
            "1       0.272727   24.0     0.645998\n",
            "2       0.328283   19.0     0.620127\n",
            "3       0.313131    4.0     0.390802\n",
            "4       0.262626   77.0     0.926807\n",
            "5       0.328283   20.0     0.631354\n",
            "6       0.262626   87.0     0.945778\n",
            "7       0.383838   94.0     0.963273\n",
            "8       0.005051   99.0     0.948956\n",
            "9       0.025253  100.0     0.951470\n",
            "10      0.005051    1.0     0.034456\n",
            "11      0.500000   99.0     0.974348\n",
            "12      0.015152    1.0     0.044258\n",
            "13      0.489899  100.0     0.974604\n",
            "14      0.000000  100.0     0.950213\n",
            "15      0.000000    1.0     0.029554\n"
          ]
        },
        {
          "name": "stderr",
          "output_type": "stream",
          "text": [
            "100%|██████████| 1/1 [00:00<00:00,  7.63it/s]\n",
            "INFO:autora.theorist.bms.regressor:BMS fitting finished\n",
            "INFO:autora.theorist.bms.regressor:BMS fitting started\n"
          ]
        },
        {
          "name": "stdout",
          "output_type": "stream",
          "text": [
            "Sampling new experiment conditions...\n",
            "Obtaining observations...\n",
            "SIMULATION 8 / DISCOVERY CYCLE 16\n",
            "Fitting models on benchmark state...\n",
            "Experiment data\n",
            "    P_asymptotic  trial  performance\n",
            "0       0.358586   33.0     0.761665\n",
            "1       0.252525   22.0     0.613667\n",
            "2       0.000000   75.0     0.894601\n",
            "3       0.055556   92.0     0.940224\n",
            "4       0.323232   31.0     0.732979\n",
            "5       0.227273   17.0     0.535981\n",
            "6       0.469697   49.0     0.878070\n",
            "7       0.308081   46.0     0.825928\n",
            "8       0.065657   94.0     0.944308\n",
            "9       0.095960   58.0     0.841322\n",
            "10      0.489899   51.0     0.889545\n",
            "11      0.348485   68.0     0.915284\n",
            "12      0.383838   13.0     0.582824\n",
            "13      0.353535    4.0     0.426637\n",
            "14      0.323232   37.0     0.776965\n",
            "15      0.297980    9.0     0.464092\n",
            "16      0.449495   75.0     0.941977\n"
          ]
        },
        {
          "name": "stderr",
          "output_type": "stream",
          "text": [
            "100%|██████████| 1/1 [00:00<00:00,  8.60it/s]\n",
            "INFO:autora.theorist.bms.regressor:BMS fitting finished\n",
            "INFO:autora.theorist.bms.regressor:BMS fitting started\n"
          ]
        },
        {
          "name": "stdout",
          "output_type": "stream",
          "text": [
            "Fitting models on working state...\n",
            "Experiment data\n",
            "    P_asymptotic  trial  performance\n",
            "0       0.358586   33.0     0.761665\n",
            "1       0.272727   24.0     0.645998\n",
            "2       0.328283   19.0     0.620127\n",
            "3       0.313131    4.0     0.390802\n",
            "4       0.262626   77.0     0.926807\n",
            "5       0.328283   20.0     0.631354\n",
            "6       0.262626   87.0     0.945778\n",
            "7       0.383838   94.0     0.963273\n",
            "8       0.005051   99.0     0.948956\n",
            "9       0.025253  100.0     0.951470\n",
            "10      0.005051    1.0     0.034456\n",
            "11      0.500000   99.0     0.974348\n",
            "12      0.015152    1.0     0.044258\n",
            "13      0.489899  100.0     0.974604\n",
            "14      0.000000  100.0     0.950213\n",
            "15      0.000000    1.0     0.029554\n",
            "16      0.005051  100.0     0.950464\n"
          ]
        },
        {
          "name": "stderr",
          "output_type": "stream",
          "text": [
            "100%|██████████| 1/1 [00:00<00:00,  8.40it/s]\n",
            "INFO:autora.theorist.bms.regressor:BMS fitting finished\n",
            "INFO:autora.theorist.bms.regressor:BMS fitting started\n"
          ]
        },
        {
          "name": "stdout",
          "output_type": "stream",
          "text": [
            "Sampling new experiment conditions...\n",
            "Obtaining observations...\n",
            "SIMULATION 8 / DISCOVERY CYCLE 17\n",
            "Fitting models on benchmark state...\n",
            "Experiment data\n",
            "    P_asymptotic  trial  performance\n",
            "0       0.358586   33.0     0.761665\n",
            "1       0.252525   22.0     0.613667\n",
            "2       0.000000   75.0     0.894601\n",
            "3       0.055556   92.0     0.940224\n",
            "4       0.323232   31.0     0.732979\n",
            "5       0.227273   17.0     0.535981\n",
            "6       0.469697   49.0     0.878070\n",
            "7       0.308081   46.0     0.825928\n",
            "8       0.065657   94.0     0.944308\n",
            "9       0.095960   58.0     0.841322\n",
            "10      0.489899   51.0     0.889545\n",
            "11      0.348485   68.0     0.915284\n",
            "12      0.383838   13.0     0.582824\n",
            "13      0.353535    4.0     0.426637\n",
            "14      0.323232   37.0     0.776965\n",
            "15      0.297980    9.0     0.464092\n",
            "16      0.449495   75.0     0.941977\n",
            "17      0.398990   49.0     0.861812\n"
          ]
        },
        {
          "name": "stderr",
          "output_type": "stream",
          "text": [
            "100%|██████████| 1/1 [00:00<00:00,  9.09it/s]\n",
            "INFO:autora.theorist.bms.regressor:BMS fitting finished\n",
            "INFO:autora.theorist.bms.regressor:BMS fitting started\n"
          ]
        },
        {
          "name": "stdout",
          "output_type": "stream",
          "text": [
            "Fitting models on working state...\n",
            "Experiment data\n",
            "    P_asymptotic  trial  performance\n",
            "0       0.358586   33.0     0.761665\n",
            "1       0.272727   24.0     0.645998\n",
            "2       0.328283   19.0     0.620127\n",
            "3       0.313131    4.0     0.390802\n",
            "4       0.262626   77.0     0.926807\n",
            "5       0.328283   20.0     0.631354\n",
            "6       0.262626   87.0     0.945778\n",
            "7       0.383838   94.0     0.963273\n",
            "8       0.005051   99.0     0.948956\n",
            "9       0.025253  100.0     0.951470\n",
            "10      0.005051    1.0     0.034456\n",
            "11      0.500000   99.0     0.974348\n",
            "12      0.015152    1.0     0.044258\n",
            "13      0.489899  100.0     0.974604\n",
            "14      0.000000  100.0     0.950213\n",
            "15      0.000000    1.0     0.029554\n",
            "16      0.005051  100.0     0.950464\n",
            "17      0.010101  100.0     0.950716\n"
          ]
        },
        {
          "name": "stderr",
          "output_type": "stream",
          "text": [
            "100%|██████████| 1/1 [00:00<00:00, 11.93it/s]\n",
            "INFO:autora.theorist.bms.regressor:BMS fitting finished\n",
            "INFO:autora.theorist.bms.regressor:BMS fitting started\n"
          ]
        },
        {
          "name": "stdout",
          "output_type": "stream",
          "text": [
            "Sampling new experiment conditions...\n",
            "Obtaining observations...\n",
            "SIMULATION 8 / DISCOVERY CYCLE 18\n",
            "Fitting models on benchmark state...\n",
            "Experiment data\n",
            "    P_asymptotic  trial  performance\n",
            "0       0.358586   33.0     0.761665\n",
            "1       0.252525   22.0     0.613667\n",
            "2       0.000000   75.0     0.894601\n",
            "3       0.055556   92.0     0.940224\n",
            "4       0.323232   31.0     0.732979\n",
            "5       0.227273   17.0     0.535981\n",
            "6       0.469697   49.0     0.878070\n",
            "7       0.308081   46.0     0.825928\n",
            "8       0.065657   94.0     0.944308\n",
            "9       0.095960   58.0     0.841322\n",
            "10      0.489899   51.0     0.889545\n",
            "11      0.348485   68.0     0.915284\n",
            "12      0.383838   13.0     0.582824\n",
            "13      0.353535    4.0     0.426637\n",
            "14      0.323232   37.0     0.776965\n",
            "15      0.297980    9.0     0.464092\n",
            "16      0.449495   75.0     0.941977\n",
            "17      0.398990   49.0     0.861812\n",
            "18      0.242424   34.0     0.726822\n"
          ]
        },
        {
          "name": "stderr",
          "output_type": "stream",
          "text": [
            "100%|██████████| 1/1 [00:00<00:00, 11.60it/s]\n",
            "INFO:autora.theorist.bms.regressor:BMS fitting finished\n",
            "INFO:autora.theorist.bms.regressor:BMS fitting started\n"
          ]
        },
        {
          "name": "stdout",
          "output_type": "stream",
          "text": [
            "Fitting models on working state...\n",
            "Experiment data\n",
            "    P_asymptotic  trial  performance\n",
            "0       0.358586   33.0     0.761665\n",
            "1       0.272727   24.0     0.645998\n",
            "2       0.328283   19.0     0.620127\n",
            "3       0.313131    4.0     0.390802\n",
            "4       0.262626   77.0     0.926807\n",
            "5       0.328283   20.0     0.631354\n",
            "6       0.262626   87.0     0.945778\n",
            "7       0.383838   94.0     0.963273\n",
            "8       0.005051   99.0     0.948956\n",
            "9       0.025253  100.0     0.951470\n",
            "10      0.005051    1.0     0.034456\n",
            "11      0.500000   99.0     0.974348\n",
            "12      0.015152    1.0     0.044258\n",
            "13      0.489899  100.0     0.974604\n",
            "14      0.000000  100.0     0.950213\n",
            "15      0.000000    1.0     0.029554\n",
            "16      0.005051  100.0     0.950464\n",
            "17      0.010101  100.0     0.950716\n",
            "18      0.010101    1.0     0.039357\n"
          ]
        },
        {
          "name": "stderr",
          "output_type": "stream",
          "text": [
            "100%|██████████| 1/1 [00:00<00:00,  9.41it/s]\n",
            "INFO:autora.theorist.bms.regressor:BMS fitting finished\n",
            "INFO:autora.theorist.bms.regressor:BMS fitting started\n"
          ]
        },
        {
          "name": "stdout",
          "output_type": "stream",
          "text": [
            "Sampling new experiment conditions...\n",
            "Obtaining observations...\n",
            "SIMULATION 8 / DISCOVERY CYCLE 19\n",
            "Fitting models on benchmark state...\n",
            "Experiment data\n",
            "    P_asymptotic  trial  performance\n",
            "0       0.358586   33.0     0.761665\n",
            "1       0.252525   22.0     0.613667\n",
            "2       0.000000   75.0     0.894601\n",
            "3       0.055556   92.0     0.940224\n",
            "4       0.323232   31.0     0.732979\n",
            "5       0.227273   17.0     0.535981\n",
            "6       0.469697   49.0     0.878070\n",
            "7       0.308081   46.0     0.825928\n",
            "8       0.065657   94.0     0.944308\n",
            "9       0.095960   58.0     0.841322\n",
            "10      0.489899   51.0     0.889545\n",
            "11      0.348485   68.0     0.915284\n",
            "12      0.383838   13.0     0.582824\n",
            "13      0.353535    4.0     0.426637\n",
            "14      0.323232   37.0     0.776965\n",
            "15      0.297980    9.0     0.464092\n",
            "16      0.449495   75.0     0.941977\n",
            "17      0.398990   49.0     0.861812\n",
            "18      0.242424   34.0     0.726822\n",
            "19      0.353535   11.0     0.535241\n"
          ]
        },
        {
          "name": "stderr",
          "output_type": "stream",
          "text": [
            "100%|██████████| 1/1 [00:00<00:00,  9.55it/s]\n",
            "INFO:autora.theorist.bms.regressor:BMS fitting finished\n",
            "INFO:autora.theorist.bms.regressor:BMS fitting started\n"
          ]
        },
        {
          "name": "stdout",
          "output_type": "stream",
          "text": [
            "Fitting models on working state...\n",
            "Experiment data\n",
            "    P_asymptotic  trial  performance\n",
            "0       0.358586   33.0     0.761665\n",
            "1       0.272727   24.0     0.645998\n",
            "2       0.328283   19.0     0.620127\n",
            "3       0.313131    4.0     0.390802\n",
            "4       0.262626   77.0     0.926807\n",
            "5       0.328283   20.0     0.631354\n",
            "6       0.262626   87.0     0.945778\n",
            "7       0.383838   94.0     0.963273\n",
            "8       0.005051   99.0     0.948956\n",
            "9       0.025253  100.0     0.951470\n",
            "10      0.005051    1.0     0.034456\n",
            "11      0.500000   99.0     0.974348\n",
            "12      0.015152    1.0     0.044258\n",
            "13      0.489899  100.0     0.974604\n",
            "14      0.000000  100.0     0.950213\n",
            "15      0.000000    1.0     0.029554\n",
            "16      0.005051  100.0     0.950464\n",
            "17      0.010101  100.0     0.950716\n",
            "18      0.010101    1.0     0.039357\n",
            "19      0.000000  100.0     0.950213\n"
          ]
        },
        {
          "name": "stderr",
          "output_type": "stream",
          "text": [
            "100%|██████████| 1/1 [00:00<00:00, 19.00it/s]\n",
            "INFO:autora.theorist.bms.regressor:BMS fitting finished\n"
          ]
        },
        {
          "name": "stdout",
          "output_type": "stream",
          "text": [
            "Sampling new experiment conditions...\n",
            "Obtaining observations...\n"
          ]
        },
        {
          "name": "stderr",
          "output_type": "stream",
          "text": [
            "INFO:autora.theorist.bms.regressor:BMS fitting started\n"
          ]
        },
        {
          "name": "stdout",
          "output_type": "stream",
          "text": [
            "SIMULATION 9 / DISCOVERY CYCLE 0\n",
            "Fitting models on benchmark state...\n",
            "Experiment data\n",
            "   P_asymptotic  trial  performance\n",
            "0      0.212121   88.0     0.943776\n"
          ]
        },
        {
          "name": "stderr",
          "output_type": "stream",
          "text": [
            "100%|██████████| 1/1 [00:00<00:00, 15.27it/s]\n",
            "INFO:autora.theorist.bms.regressor:BMS fitting finished\n",
            "INFO:autora.theorist.bms.regressor:BMS fitting started\n"
          ]
        },
        {
          "name": "stdout",
          "output_type": "stream",
          "text": [
            "Fitting models on working state...\n",
            "Experiment data\n",
            "   P_asymptotic  trial  performance\n",
            "0      0.212121   88.0     0.943776\n"
          ]
        },
        {
          "name": "stderr",
          "output_type": "stream",
          "text": [
            "100%|██████████| 1/1 [00:00<00:00, 10.83it/s]\n",
            "INFO:autora.theorist.bms.regressor:BMS fitting finished\n"
          ]
        },
        {
          "name": "stdout",
          "output_type": "stream",
          "text": [
            "Sampling new experiment conditions...\n",
            "Obtaining observations...\n",
            "SIMULATION 9 / DISCOVERY CYCLE 1\n",
            "Fitting models on benchmark state...\n",
            "Experiment data\n",
            "   P_asymptotic  trial  performance\n",
            "0      0.212121   88.0     0.943776\n",
            "1      0.419192   16.0     0.640606\n"
          ]
        },
        {
          "name": "stderr",
          "output_type": "stream",
          "text": [
            "INFO:autora.theorist.bms.regressor:BMS fitting started\n",
            "100%|██████████| 1/1 [00:00<00:00, 12.76it/s]\n",
            "INFO:autora.theorist.bms.regressor:BMS fitting finished\n",
            "INFO:autora.theorist.bms.regressor:BMS fitting started\n"
          ]
        },
        {
          "name": "stdout",
          "output_type": "stream",
          "text": [
            "Fitting models on working state...\n",
            "Experiment data\n",
            "   P_asymptotic  trial  performance\n",
            "0      0.212121   88.0     0.943776\n",
            "1      0.267677   70.0     0.910322\n"
          ]
        },
        {
          "name": "stderr",
          "output_type": "stream",
          "text": [
            "100%|██████████| 1/1 [00:00<00:00, 14.68it/s]\n",
            "INFO:autora.theorist.bms.regressor:BMS fitting finished\n"
          ]
        },
        {
          "name": "stdout",
          "output_type": "stream",
          "text": [
            "Sampling new experiment conditions...\n",
            "Obtaining observations...\n",
            "SIMULATION 9 / DISCOVERY CYCLE 2\n",
            "Fitting models on benchmark state...\n",
            "Experiment data\n",
            "   P_asymptotic  trial  performance\n",
            "0      0.212121   88.0     0.943776\n",
            "1      0.419192   16.0     0.640606\n",
            "2      0.464646   24.0     0.739415\n"
          ]
        },
        {
          "name": "stderr",
          "output_type": "stream",
          "text": [
            "INFO:autora.theorist.bms.regressor:BMS fitting started\n",
            "100%|██████████| 1/1 [00:00<00:00, 11.30it/s]\n",
            "INFO:autora.theorist.bms.regressor:BMS fitting finished\n",
            "INFO:autora.theorist.bms.regressor:BMS fitting started\n"
          ]
        },
        {
          "name": "stdout",
          "output_type": "stream",
          "text": [
            "Fitting models on working state...\n",
            "Experiment data\n",
            "   P_asymptotic  trial  performance\n",
            "0      0.212121   88.0     0.943776\n",
            "1      0.267677   70.0     0.910322\n",
            "2      0.212121   56.0     0.853160\n"
          ]
        },
        {
          "name": "stderr",
          "output_type": "stream",
          "text": [
            "100%|██████████| 1/1 [00:00<00:00, 12.08it/s]\n",
            "INFO:autora.theorist.bms.regressor:BMS fitting finished\n"
          ]
        },
        {
          "name": "stdout",
          "output_type": "stream",
          "text": [
            "Sampling new experiment conditions...\n",
            "Obtaining observations...\n",
            "SIMULATION 9 / DISCOVERY CYCLE 3\n",
            "Fitting models on benchmark state...\n",
            "Experiment data\n",
            "   P_asymptotic  trial  performance\n",
            "0      0.212121   88.0     0.943776\n",
            "1      0.419192   16.0     0.640606\n",
            "2      0.464646   24.0     0.739415\n",
            "3      0.156566   15.0     0.462203\n"
          ]
        },
        {
          "name": "stderr",
          "output_type": "stream",
          "text": [
            "INFO:autora.theorist.bms.regressor:BMS fitting started\n",
            "100%|██████████| 1/1 [00:00<00:00, 11.99it/s]\n",
            "INFO:autora.theorist.bms.regressor:BMS fitting finished\n",
            "INFO:autora.theorist.bms.regressor:BMS fitting started\n"
          ]
        },
        {
          "name": "stdout",
          "output_type": "stream",
          "text": [
            "Fitting models on working state...\n",
            "Experiment data\n",
            "   P_asymptotic  trial  performance\n",
            "0      0.212121   88.0     0.943776\n",
            "1      0.267677   70.0     0.910322\n",
            "2      0.212121   56.0     0.853160\n",
            "3      0.318182   82.0     0.941749\n"
          ]
        },
        {
          "name": "stderr",
          "output_type": "stream",
          "text": [
            "100%|██████████| 1/1 [00:00<00:00,  8.39it/s]\n",
            "INFO:autora.theorist.bms.regressor:BMS fitting finished\n",
            "INFO:autora.theorist.bms.regressor:BMS fitting started\n"
          ]
        },
        {
          "name": "stdout",
          "output_type": "stream",
          "text": [
            "Sampling new experiment conditions...\n",
            "Obtaining observations...\n",
            "SIMULATION 9 / DISCOVERY CYCLE 4\n",
            "Fitting models on benchmark state...\n",
            "Experiment data\n",
            "   P_asymptotic  trial  performance\n",
            "0      0.212121   88.0     0.943776\n",
            "1      0.419192   16.0     0.640606\n",
            "2      0.464646   24.0     0.739415\n",
            "3      0.156566   15.0     0.462203\n",
            "4      0.282828   22.0     0.629329\n"
          ]
        },
        {
          "name": "stderr",
          "output_type": "stream",
          "text": [
            "100%|██████████| 1/1 [00:00<00:00,  6.99it/s]\n",
            "INFO:autora.theorist.bms.regressor:BMS fitting finished\n",
            "INFO:autora.theorist.bms.regressor:BMS fitting started\n"
          ]
        },
        {
          "name": "stdout",
          "output_type": "stream",
          "text": [
            "Fitting models on working state...\n",
            "Experiment data\n",
            "   P_asymptotic  trial  performance\n",
            "0      0.212121   88.0     0.943776\n",
            "1      0.267677   70.0     0.910322\n",
            "2      0.212121   56.0     0.853160\n",
            "3      0.318182   82.0     0.941749\n",
            "4      0.176768   98.0     0.956479\n"
          ]
        },
        {
          "name": "stderr",
          "output_type": "stream",
          "text": [
            "100%|██████████| 1/1 [00:00<00:00, 10.86it/s]\n",
            "INFO:autora.theorist.bms.regressor:BMS fitting finished\n",
            "INFO:autora.theorist.bms.regressor:BMS fitting started\n"
          ]
        },
        {
          "name": "stdout",
          "output_type": "stream",
          "text": [
            "Sampling new experiment conditions...\n",
            "Obtaining observations...\n",
            "SIMULATION 9 / DISCOVERY CYCLE 5\n",
            "Fitting models on benchmark state...\n",
            "Experiment data\n",
            "   P_asymptotic  trial  performance\n",
            "0      0.212121   88.0     0.943776\n",
            "1      0.419192   16.0     0.640606\n",
            "2      0.464646   24.0     0.739415\n",
            "3      0.156566   15.0     0.462203\n",
            "4      0.282828   22.0     0.629329\n",
            "5      0.090909   79.0     0.915018\n"
          ]
        },
        {
          "name": "stderr",
          "output_type": "stream",
          "text": [
            "100%|██████████| 1/1 [00:00<00:00, 11.68it/s]\n",
            "INFO:autora.theorist.bms.regressor:BMS fitting finished\n",
            "INFO:autora.theorist.bms.regressor:BMS fitting started\n"
          ]
        },
        {
          "name": "stdout",
          "output_type": "stream",
          "text": [
            "Fitting models on working state...\n",
            "Experiment data\n",
            "   P_asymptotic  trial  performance\n",
            "0      0.212121   88.0     0.943776\n",
            "1      0.267677   70.0     0.910322\n",
            "2      0.212121   56.0     0.853160\n",
            "3      0.318182   82.0     0.941749\n",
            "4      0.176768   98.0     0.956479\n",
            "5      0.090909   14.0     0.402685\n"
          ]
        },
        {
          "name": "stderr",
          "output_type": "stream",
          "text": [
            "100%|██████████| 1/1 [00:00<00:00,  8.85it/s]\n",
            "INFO:autora.theorist.bms.regressor:BMS fitting finished\n",
            "INFO:autora.theorist.bms.regressor:BMS fitting started\n"
          ]
        },
        {
          "name": "stdout",
          "output_type": "stream",
          "text": [
            "Sampling new experiment conditions...\n",
            "Obtaining observations...\n",
            "SIMULATION 9 / DISCOVERY CYCLE 6\n",
            "Fitting models on benchmark state...\n",
            "Experiment data\n",
            "   P_asymptotic  trial  performance\n",
            "0      0.212121   88.0     0.943776\n",
            "1      0.419192   16.0     0.640606\n",
            "2      0.464646   24.0     0.739415\n",
            "3      0.156566   15.0     0.462203\n",
            "4      0.282828   22.0     0.629329\n",
            "5      0.090909   79.0     0.915018\n",
            "6      0.444444   29.0     0.767249\n"
          ]
        },
        {
          "name": "stderr",
          "output_type": "stream",
          "text": [
            "100%|██████████| 1/1 [00:00<00:00, 10.72it/s]\n",
            "INFO:autora.theorist.bms.regressor:BMS fitting finished\n",
            "INFO:autora.theorist.bms.regressor:BMS fitting started\n"
          ]
        },
        {
          "name": "stdout",
          "output_type": "stream",
          "text": [
            "Fitting models on working state...\n",
            "Experiment data\n",
            "   P_asymptotic  trial  performance\n",
            "0      0.212121   88.0     0.943776\n",
            "1      0.267677   70.0     0.910322\n",
            "2      0.212121   56.0     0.853160\n",
            "3      0.318182   82.0     0.941749\n",
            "4      0.176768   98.0     0.956479\n",
            "5      0.090909   14.0     0.402685\n",
            "6      0.252525   27.0     0.667480\n"
          ]
        },
        {
          "name": "stderr",
          "output_type": "stream",
          "text": [
            "100%|██████████| 1/1 [00:00<00:00,  9.18it/s]\n",
            "INFO:autora.theorist.bms.regressor:BMS fitting finished\n",
            "INFO:autora.theorist.bms.regressor:BMS fitting started\n"
          ]
        },
        {
          "name": "stdout",
          "output_type": "stream",
          "text": [
            "Sampling new experiment conditions...\n",
            "Obtaining observations...\n",
            "SIMULATION 9 / DISCOVERY CYCLE 7\n",
            "Fitting models on benchmark state...\n",
            "Experiment data\n",
            "   P_asymptotic  trial  performance\n",
            "0      0.212121   88.0     0.943776\n",
            "1      0.419192   16.0     0.640606\n",
            "2      0.464646   24.0     0.739415\n",
            "3      0.156566   15.0     0.462203\n",
            "4      0.282828   22.0     0.629329\n",
            "5      0.090909   79.0     0.915018\n",
            "6      0.444444   29.0     0.767249\n",
            "7      0.146465   67.0     0.885636\n"
          ]
        },
        {
          "name": "stderr",
          "output_type": "stream",
          "text": [
            "100%|██████████| 1/1 [00:00<00:00, 11.44it/s]\n",
            "INFO:autora.theorist.bms.regressor:BMS fitting finished\n",
            "INFO:autora.theorist.bms.regressor:BMS fitting started\n"
          ]
        },
        {
          "name": "stdout",
          "output_type": "stream",
          "text": [
            "Fitting models on working state...\n",
            "Experiment data\n",
            "   P_asymptotic  trial  performance\n",
            "0      0.212121   88.0     0.943776\n",
            "1      0.267677   70.0     0.910322\n",
            "2      0.212121   56.0     0.853160\n",
            "3      0.318182   82.0     0.941749\n",
            "4      0.176768   98.0     0.956479\n",
            "5      0.090909   14.0     0.402685\n",
            "6      0.252525   27.0     0.667480\n",
            "7      0.272727   90.0     0.951123\n"
          ]
        },
        {
          "name": "stderr",
          "output_type": "stream",
          "text": [
            "100%|██████████| 1/1 [00:00<00:00,  7.56it/s]\n",
            "INFO:autora.theorist.bms.regressor:BMS fitting finished\n",
            "INFO:autora.theorist.bms.regressor:BMS fitting started\n"
          ]
        },
        {
          "name": "stdout",
          "output_type": "stream",
          "text": [
            "Sampling new experiment conditions...\n",
            "Obtaining observations...\n",
            "SIMULATION 9 / DISCOVERY CYCLE 8\n",
            "Fitting models on benchmark state...\n",
            "Experiment data\n",
            "   P_asymptotic  trial  performance\n",
            "0      0.212121   88.0     0.943776\n",
            "1      0.419192   16.0     0.640606\n",
            "2      0.464646   24.0     0.739415\n",
            "3      0.156566   15.0     0.462203\n",
            "4      0.282828   22.0     0.629329\n",
            "5      0.090909   79.0     0.915018\n",
            "6      0.444444   29.0     0.767249\n",
            "7      0.146465   67.0     0.885636\n",
            "8      0.121212   84.0     0.929293\n"
          ]
        },
        {
          "name": "stderr",
          "output_type": "stream",
          "text": [
            "100%|██████████| 1/1 [00:00<00:00, 10.25it/s]\n",
            "INFO:autora.theorist.bms.regressor:BMS fitting finished\n",
            "INFO:autora.theorist.bms.regressor:BMS fitting started\n"
          ]
        },
        {
          "name": "stdout",
          "output_type": "stream",
          "text": [
            "Fitting models on working state...\n",
            "Experiment data\n",
            "   P_asymptotic  trial  performance\n",
            "0      0.212121   88.0     0.943776\n",
            "1      0.267677   70.0     0.910322\n",
            "2      0.212121   56.0     0.853160\n",
            "3      0.318182   82.0     0.941749\n",
            "4      0.176768   98.0     0.956479\n",
            "5      0.090909   14.0     0.402685\n",
            "6      0.252525   27.0     0.667480\n",
            "7      0.272727   90.0     0.951123\n",
            "8      0.500000   98.0     0.973567\n"
          ]
        },
        {
          "name": "stderr",
          "output_type": "stream",
          "text": [
            "100%|██████████| 1/1 [00:00<00:00, 11.62it/s]\n",
            "INFO:autora.theorist.bms.regressor:BMS fitting finished\n",
            "INFO:autora.theorist.bms.regressor:BMS fitting started\n"
          ]
        },
        {
          "name": "stdout",
          "output_type": "stream",
          "text": [
            "Sampling new experiment conditions...\n",
            "Obtaining observations...\n",
            "SIMULATION 9 / DISCOVERY CYCLE 9\n",
            "Fitting models on benchmark state...\n",
            "Experiment data\n",
            "   P_asymptotic  trial  performance\n",
            "0      0.212121   88.0     0.943776\n",
            "1      0.419192   16.0     0.640606\n",
            "2      0.464646   24.0     0.739415\n",
            "3      0.156566   15.0     0.462203\n",
            "4      0.282828   22.0     0.629329\n",
            "5      0.090909   79.0     0.915018\n",
            "6      0.444444   29.0     0.767249\n",
            "7      0.146465   67.0     0.885636\n",
            "8      0.121212   84.0     0.929293\n",
            "9      0.328283   20.0     0.631354\n"
          ]
        },
        {
          "name": "stderr",
          "output_type": "stream",
          "text": [
            "100%|██████████| 1/1 [00:00<00:00, 12.80it/s]\n",
            "INFO:autora.theorist.bms.regressor:BMS fitting finished\n"
          ]
        },
        {
          "name": "stdout",
          "output_type": "stream",
          "text": [
            "Fitting models on working state...\n",
            "Experiment data\n",
            "   P_asymptotic  trial  performance\n",
            "0      0.212121   88.0     0.943776\n",
            "1      0.267677   70.0     0.910322\n",
            "2      0.212121   56.0     0.853160\n",
            "3      0.318182   82.0     0.941749\n",
            "4      0.176768   98.0     0.956479\n",
            "5      0.090909   14.0     0.402685\n",
            "6      0.252525   27.0     0.667480\n",
            "7      0.272727   90.0     0.951123\n",
            "8      0.500000   98.0     0.973567\n",
            "9      0.464646    1.0     0.480469\n"
          ]
        },
        {
          "name": "stderr",
          "output_type": "stream",
          "text": [
            "INFO:autora.theorist.bms.regressor:BMS fitting started\n",
            "100%|██████████| 1/1 [00:00<00:00, 10.94it/s]\n",
            "INFO:autora.theorist.bms.regressor:BMS fitting finished\n",
            "INFO:autora.theorist.bms.regressor:BMS fitting started\n"
          ]
        },
        {
          "name": "stdout",
          "output_type": "stream",
          "text": [
            "Sampling new experiment conditions...\n",
            "Obtaining observations...\n",
            "SIMULATION 9 / DISCOVERY CYCLE 10\n",
            "Fitting models on benchmark state...\n",
            "Experiment data\n",
            "    P_asymptotic  trial  performance\n",
            "0       0.212121   88.0     0.943776\n",
            "1       0.419192   16.0     0.640606\n",
            "2       0.464646   24.0     0.739415\n",
            "3       0.156566   15.0     0.462203\n",
            "4       0.282828   22.0     0.629329\n",
            "5       0.090909   79.0     0.915018\n",
            "6       0.444444   29.0     0.767249\n",
            "7       0.146465   67.0     0.885636\n",
            "8       0.121212   84.0     0.929293\n",
            "9       0.328283   20.0     0.631354\n",
            "10      0.252525   70.0     0.908467\n"
          ]
        },
        {
          "name": "stderr",
          "output_type": "stream",
          "text": [
            "100%|██████████| 1/1 [00:00<00:00, 11.19it/s]\n",
            "INFO:autora.theorist.bms.regressor:BMS fitting finished\n",
            "INFO:autora.theorist.bms.regressor:BMS fitting started\n"
          ]
        },
        {
          "name": "stdout",
          "output_type": "stream",
          "text": [
            "Fitting models on working state...\n",
            "Experiment data\n",
            "    P_asymptotic  trial  performance\n",
            "0       0.212121   88.0     0.943776\n",
            "1       0.267677   70.0     0.910322\n",
            "2       0.212121   56.0     0.853160\n",
            "3       0.318182   82.0     0.941749\n",
            "4       0.176768   98.0     0.956479\n",
            "5       0.090909   14.0     0.402685\n",
            "6       0.252525   27.0     0.667480\n",
            "7       0.272727   90.0     0.951123\n",
            "8       0.500000   98.0     0.973567\n",
            "9       0.464646    1.0     0.480469\n",
            "10      0.010101  100.0     0.950716\n"
          ]
        },
        {
          "name": "stderr",
          "output_type": "stream",
          "text": [
            "100%|██████████| 1/1 [00:00<00:00, 12.64it/s]\n",
            "INFO:autora.theorist.bms.regressor:BMS fitting finished\n"
          ]
        },
        {
          "name": "stdout",
          "output_type": "stream",
          "text": [
            "Sampling new experiment conditions...\n"
          ]
        },
        {
          "name": "stderr",
          "output_type": "stream",
          "text": [
            "INFO:autora.theorist.bms.regressor:BMS fitting started\n"
          ]
        },
        {
          "name": "stdout",
          "output_type": "stream",
          "text": [
            "Obtaining observations...\n",
            "SIMULATION 9 / DISCOVERY CYCLE 11\n",
            "Fitting models on benchmark state...\n",
            "Experiment data\n",
            "    P_asymptotic  trial  performance\n",
            "0       0.212121   88.0     0.943776\n",
            "1       0.419192   16.0     0.640606\n",
            "2       0.464646   24.0     0.739415\n",
            "3       0.156566   15.0     0.462203\n",
            "4       0.282828   22.0     0.629329\n",
            "5       0.090909   79.0     0.915018\n",
            "6       0.444444   29.0     0.767249\n",
            "7       0.146465   67.0     0.885636\n",
            "8       0.121212   84.0     0.929293\n",
            "9       0.328283   20.0     0.631354\n",
            "10      0.252525   70.0     0.908467\n",
            "11      0.237374    6.0     0.363001\n"
          ]
        },
        {
          "name": "stderr",
          "output_type": "stream",
          "text": [
            "100%|██████████| 1/1 [00:00<00:00, 13.46it/s]\n",
            "INFO:autora.theorist.bms.regressor:BMS fitting finished\n",
            "INFO:autora.theorist.bms.regressor:BMS fitting started\n"
          ]
        },
        {
          "name": "stdout",
          "output_type": "stream",
          "text": [
            "Fitting models on working state...\n",
            "Experiment data\n",
            "    P_asymptotic  trial  performance\n",
            "0       0.212121   88.0     0.943776\n",
            "1       0.267677   70.0     0.910322\n",
            "2       0.212121   56.0     0.853160\n",
            "3       0.318182   82.0     0.941749\n",
            "4       0.176768   98.0     0.956479\n",
            "5       0.090909   14.0     0.402685\n",
            "6       0.252525   27.0     0.667480\n",
            "7       0.272727   90.0     0.951123\n",
            "8       0.500000   98.0     0.973567\n",
            "9       0.464646    1.0     0.480469\n",
            "10      0.010101  100.0     0.950716\n",
            "11      0.045455  100.0     0.952476\n"
          ]
        },
        {
          "name": "stderr",
          "output_type": "stream",
          "text": [
            "100%|██████████| 1/1 [00:00<00:00,  7.63it/s]\n",
            "INFO:autora.theorist.bms.regressor:BMS fitting finished\n",
            "INFO:autora.theorist.bms.regressor:BMS fitting started\n"
          ]
        },
        {
          "name": "stdout",
          "output_type": "stream",
          "text": [
            "Sampling new experiment conditions...\n",
            "Obtaining observations...\n",
            "SIMULATION 9 / DISCOVERY CYCLE 12\n",
            "Fitting models on benchmark state...\n",
            "Experiment data\n",
            "    P_asymptotic  trial  performance\n",
            "0       0.212121   88.0     0.943776\n",
            "1       0.419192   16.0     0.640606\n",
            "2       0.464646   24.0     0.739415\n",
            "3       0.156566   15.0     0.462203\n",
            "4       0.282828   22.0     0.629329\n",
            "5       0.090909   79.0     0.915018\n",
            "6       0.444444   29.0     0.767249\n",
            "7       0.146465   67.0     0.885636\n",
            "8       0.121212   84.0     0.929293\n",
            "9       0.328283   20.0     0.631354\n",
            "10      0.252525   70.0     0.908467\n",
            "11      0.237374    6.0     0.363001\n",
            "12      0.444444   58.0     0.902489\n"
          ]
        },
        {
          "name": "stderr",
          "output_type": "stream",
          "text": [
            "100%|██████████| 1/1 [00:00<00:00, 12.18it/s]\n",
            "INFO:autora.theorist.bms.regressor:BMS fitting finished\n",
            "INFO:autora.theorist.bms.regressor:BMS fitting started\n"
          ]
        },
        {
          "name": "stdout",
          "output_type": "stream",
          "text": [
            "Fitting models on working state...\n",
            "Experiment data\n",
            "    P_asymptotic  trial  performance\n",
            "0       0.212121   88.0     0.943776\n",
            "1       0.267677   70.0     0.910322\n",
            "2       0.212121   56.0     0.853160\n",
            "3       0.318182   82.0     0.941749\n",
            "4       0.176768   98.0     0.956479\n",
            "5       0.090909   14.0     0.402685\n",
            "6       0.252525   27.0     0.667480\n",
            "7       0.272727   90.0     0.951123\n",
            "8       0.500000   98.0     0.973567\n",
            "9       0.464646    1.0     0.480469\n",
            "10      0.010101  100.0     0.950716\n",
            "11      0.045455  100.0     0.952476\n",
            "12      0.005051   98.0     0.947401\n"
          ]
        },
        {
          "name": "stderr",
          "output_type": "stream",
          "text": [
            "100%|██████████| 1/1 [00:00<00:00, 12.09it/s]\n",
            "INFO:autora.theorist.bms.regressor:BMS fitting finished\n"
          ]
        },
        {
          "name": "stdout",
          "output_type": "stream",
          "text": [
            "Sampling new experiment conditions...\n",
            "Obtaining observations...\n"
          ]
        },
        {
          "name": "stderr",
          "output_type": "stream",
          "text": [
            "INFO:autora.theorist.bms.regressor:BMS fitting started\n"
          ]
        },
        {
          "name": "stdout",
          "output_type": "stream",
          "text": [
            "SIMULATION 9 / DISCOVERY CYCLE 13\n",
            "Fitting models on benchmark state...\n",
            "Experiment data\n",
            "    P_asymptotic  trial  performance\n",
            "0       0.212121   88.0     0.943776\n",
            "1       0.419192   16.0     0.640606\n",
            "2       0.464646   24.0     0.739415\n",
            "3       0.156566   15.0     0.462203\n",
            "4       0.282828   22.0     0.629329\n",
            "5       0.090909   79.0     0.915018\n",
            "6       0.444444   29.0     0.767249\n",
            "7       0.146465   67.0     0.885636\n",
            "8       0.121212   84.0     0.929293\n",
            "9       0.328283   20.0     0.631354\n",
            "10      0.252525   70.0     0.908467\n",
            "11      0.237374    6.0     0.363001\n",
            "12      0.444444   58.0     0.902489\n",
            "13      0.404040    6.0     0.502213\n"
          ]
        },
        {
          "name": "stderr",
          "output_type": "stream",
          "text": [
            "100%|██████████| 1/1 [00:00<00:00, 12.66it/s]\n",
            "INFO:autora.theorist.bms.regressor:BMS fitting finished\n",
            "INFO:autora.theorist.bms.regressor:BMS fitting started\n"
          ]
        },
        {
          "name": "stdout",
          "output_type": "stream",
          "text": [
            "Fitting models on working state...\n",
            "Experiment data\n",
            "    P_asymptotic  trial  performance\n",
            "0       0.212121   88.0     0.943776\n",
            "1       0.267677   70.0     0.910322\n",
            "2       0.212121   56.0     0.853160\n",
            "3       0.318182   82.0     0.941749\n",
            "4       0.176768   98.0     0.956479\n",
            "5       0.090909   14.0     0.402685\n",
            "6       0.252525   27.0     0.667480\n",
            "7       0.272727   90.0     0.951123\n",
            "8       0.500000   98.0     0.973567\n",
            "9       0.464646    1.0     0.480469\n",
            "10      0.010101  100.0     0.950716\n",
            "11      0.045455  100.0     0.952476\n",
            "12      0.005051   98.0     0.947401\n",
            "13      0.030303    1.0     0.058962\n"
          ]
        },
        {
          "name": "stderr",
          "output_type": "stream",
          "text": [
            "100%|██████████| 1/1 [00:00<00:00,  9.07it/s]\n",
            "INFO:autora.theorist.bms.regressor:BMS fitting finished\n",
            "INFO:autora.theorist.bms.regressor:BMS fitting started\n"
          ]
        },
        {
          "name": "stdout",
          "output_type": "stream",
          "text": [
            "Sampling new experiment conditions...\n",
            "Obtaining observations...\n",
            "SIMULATION 9 / DISCOVERY CYCLE 14\n",
            "Fitting models on benchmark state...\n",
            "Experiment data\n",
            "    P_asymptotic  trial  performance\n",
            "0       0.212121   88.0     0.943776\n",
            "1       0.419192   16.0     0.640606\n",
            "2       0.464646   24.0     0.739415\n",
            "3       0.156566   15.0     0.462203\n",
            "4       0.282828   22.0     0.629329\n",
            "5       0.090909   79.0     0.915018\n",
            "6       0.444444   29.0     0.767249\n",
            "7       0.146465   67.0     0.885636\n",
            "8       0.121212   84.0     0.929293\n",
            "9       0.328283   20.0     0.631354\n",
            "10      0.252525   70.0     0.908467\n",
            "11      0.237374    6.0     0.363001\n",
            "12      0.444444   58.0     0.902489\n",
            "13      0.404040    6.0     0.502213\n",
            "14      0.464646   70.0     0.934443\n"
          ]
        },
        {
          "name": "stderr",
          "output_type": "stream",
          "text": [
            "100%|██████████| 1/1 [00:00<00:00,  5.03it/s]\n",
            "INFO:autora.theorist.bms.regressor:BMS fitting finished\n",
            "INFO:autora.theorist.bms.regressor:BMS fitting started\n"
          ]
        },
        {
          "name": "stdout",
          "output_type": "stream",
          "text": [
            "Fitting models on working state...\n",
            "Experiment data\n",
            "    P_asymptotic  trial  performance\n",
            "0       0.212121   88.0     0.943776\n",
            "1       0.267677   70.0     0.910322\n",
            "2       0.212121   56.0     0.853160\n",
            "3       0.318182   82.0     0.941749\n",
            "4       0.176768   98.0     0.956479\n",
            "5       0.090909   14.0     0.402685\n",
            "6       0.252525   27.0     0.667480\n",
            "7       0.272727   90.0     0.951123\n",
            "8       0.500000   98.0     0.973567\n",
            "9       0.464646    1.0     0.480469\n",
            "10      0.010101  100.0     0.950716\n",
            "11      0.045455  100.0     0.952476\n",
            "12      0.005051   98.0     0.947401\n",
            "13      0.030303    1.0     0.058962\n",
            "14      0.000000  100.0     0.950213\n"
          ]
        },
        {
          "name": "stderr",
          "output_type": "stream",
          "text": [
            "100%|██████████| 1/1 [00:00<00:00,  9.34it/s]\n",
            "INFO:autora.theorist.bms.regressor:BMS fitting finished\n",
            "INFO:autora.theorist.bms.regressor:BMS fitting started\n"
          ]
        },
        {
          "name": "stdout",
          "output_type": "stream",
          "text": [
            "Sampling new experiment conditions...\n",
            "Obtaining observations...\n",
            "SIMULATION 9 / DISCOVERY CYCLE 15\n",
            "Fitting models on benchmark state...\n",
            "Experiment data\n",
            "    P_asymptotic  trial  performance\n",
            "0       0.212121   88.0     0.943776\n",
            "1       0.419192   16.0     0.640606\n",
            "2       0.464646   24.0     0.739415\n",
            "3       0.156566   15.0     0.462203\n",
            "4       0.282828   22.0     0.629329\n",
            "5       0.090909   79.0     0.915018\n",
            "6       0.444444   29.0     0.767249\n",
            "7       0.146465   67.0     0.885636\n",
            "8       0.121212   84.0     0.929293\n",
            "9       0.328283   20.0     0.631354\n",
            "10      0.252525   70.0     0.908467\n",
            "11      0.237374    6.0     0.363001\n",
            "12      0.444444   58.0     0.902489\n",
            "13      0.404040    6.0     0.502213\n",
            "14      0.464646   70.0     0.934443\n",
            "15      0.217172   28.0     0.662045\n"
          ]
        },
        {
          "name": "stderr",
          "output_type": "stream",
          "text": [
            "100%|██████████| 1/1 [00:00<00:00,  9.28it/s]\n",
            "INFO:autora.theorist.bms.regressor:BMS fitting finished\n",
            "INFO:autora.theorist.bms.regressor:BMS fitting started\n"
          ]
        },
        {
          "name": "stdout",
          "output_type": "stream",
          "text": [
            "Fitting models on working state...\n",
            "Experiment data\n",
            "    P_asymptotic  trial  performance\n",
            "0       0.212121   88.0     0.943776\n",
            "1       0.267677   70.0     0.910322\n",
            "2       0.212121   56.0     0.853160\n",
            "3       0.318182   82.0     0.941749\n",
            "4       0.176768   98.0     0.956479\n",
            "5       0.090909   14.0     0.402685\n",
            "6       0.252525   27.0     0.667480\n",
            "7       0.272727   90.0     0.951123\n",
            "8       0.500000   98.0     0.973567\n",
            "9       0.464646    1.0     0.480469\n",
            "10      0.010101  100.0     0.950716\n",
            "11      0.045455  100.0     0.952476\n",
            "12      0.005051   98.0     0.947401\n",
            "13      0.030303    1.0     0.058962\n",
            "14      0.000000  100.0     0.950213\n",
            "15      0.000000  100.0     0.950213\n"
          ]
        },
        {
          "name": "stderr",
          "output_type": "stream",
          "text": [
            "100%|██████████| 1/1 [00:00<00:00,  8.62it/s]\n",
            "INFO:autora.theorist.bms.regressor:BMS fitting finished\n",
            "INFO:autora.theorist.bms.regressor:BMS fitting started\n"
          ]
        },
        {
          "name": "stdout",
          "output_type": "stream",
          "text": [
            "Sampling new experiment conditions...\n",
            "Obtaining observations...\n",
            "SIMULATION 9 / DISCOVERY CYCLE 16\n",
            "Fitting models on benchmark state...\n",
            "Experiment data\n",
            "    P_asymptotic  trial  performance\n",
            "0       0.212121   88.0     0.943776\n",
            "1       0.419192   16.0     0.640606\n",
            "2       0.464646   24.0     0.739415\n",
            "3       0.156566   15.0     0.462203\n",
            "4       0.282828   22.0     0.629329\n",
            "5       0.090909   79.0     0.915018\n",
            "6       0.444444   29.0     0.767249\n",
            "7       0.146465   67.0     0.885636\n",
            "8       0.121212   84.0     0.929293\n",
            "9       0.328283   20.0     0.631354\n",
            "10      0.252525   70.0     0.908467\n",
            "11      0.237374    6.0     0.363001\n",
            "12      0.444444   58.0     0.902489\n",
            "13      0.404040    6.0     0.502213\n",
            "14      0.464646   70.0     0.934443\n",
            "15      0.217172   28.0     0.662045\n",
            "16      0.111111   31.0     0.649286\n"
          ]
        },
        {
          "name": "stderr",
          "output_type": "stream",
          "text": [
            "100%|██████████| 1/1 [00:00<00:00, 11.19it/s]\n",
            "INFO:autora.theorist.bms.regressor:BMS fitting finished\n",
            "INFO:autora.theorist.bms.regressor:BMS fitting started\n"
          ]
        },
        {
          "name": "stdout",
          "output_type": "stream",
          "text": [
            "Fitting models on working state...\n",
            "Experiment data\n",
            "    P_asymptotic  trial  performance\n",
            "0       0.212121   88.0     0.943776\n",
            "1       0.267677   70.0     0.910322\n",
            "2       0.212121   56.0     0.853160\n",
            "3       0.318182   82.0     0.941749\n",
            "4       0.176768   98.0     0.956479\n",
            "5       0.090909   14.0     0.402685\n",
            "6       0.252525   27.0     0.667480\n",
            "7       0.272727   90.0     0.951123\n",
            "8       0.500000   98.0     0.973567\n",
            "9       0.464646    1.0     0.480469\n",
            "10      0.010101  100.0     0.950716\n",
            "11      0.045455  100.0     0.952476\n",
            "12      0.005051   98.0     0.947401\n",
            "13      0.030303    1.0     0.058962\n",
            "14      0.000000  100.0     0.950213\n",
            "15      0.000000  100.0     0.950213\n",
            "16      0.005051    1.0     0.034456\n"
          ]
        },
        {
          "name": "stderr",
          "output_type": "stream",
          "text": [
            "100%|██████████| 1/1 [00:00<00:00,  8.35it/s]\n",
            "INFO:autora.theorist.bms.regressor:BMS fitting finished\n",
            "INFO:autora.theorist.bms.regressor:BMS fitting started\n"
          ]
        },
        {
          "name": "stdout",
          "output_type": "stream",
          "text": [
            "Sampling new experiment conditions...\n",
            "Obtaining observations...\n",
            "SIMULATION 9 / DISCOVERY CYCLE 17\n",
            "Fitting models on benchmark state...\n",
            "Experiment data\n",
            "    P_asymptotic  trial  performance\n",
            "0       0.212121   88.0     0.943776\n",
            "1       0.419192   16.0     0.640606\n",
            "2       0.464646   24.0     0.739415\n",
            "3       0.156566   15.0     0.462203\n",
            "4       0.282828   22.0     0.629329\n",
            "5       0.090909   79.0     0.915018\n",
            "6       0.444444   29.0     0.767249\n",
            "7       0.146465   67.0     0.885636\n",
            "8       0.121212   84.0     0.929293\n",
            "9       0.328283   20.0     0.631354\n",
            "10      0.252525   70.0     0.908467\n",
            "11      0.237374    6.0     0.363001\n",
            "12      0.444444   58.0     0.902489\n",
            "13      0.404040    6.0     0.502213\n",
            "14      0.464646   70.0     0.934443\n",
            "15      0.217172   28.0     0.662045\n",
            "16      0.111111   31.0     0.649286\n",
            "17      0.126263   50.0     0.805043\n"
          ]
        },
        {
          "name": "stderr",
          "output_type": "stream",
          "text": [
            "100%|██████████| 1/1 [00:00<00:00,  8.40it/s]\n",
            "INFO:autora.theorist.bms.regressor:BMS fitting finished\n",
            "INFO:autora.theorist.bms.regressor:BMS fitting started\n"
          ]
        },
        {
          "name": "stdout",
          "output_type": "stream",
          "text": [
            "Fitting models on working state...\n",
            "Experiment data\n",
            "    P_asymptotic  trial  performance\n",
            "0       0.212121   88.0     0.943776\n",
            "1       0.267677   70.0     0.910322\n",
            "2       0.212121   56.0     0.853160\n",
            "3       0.318182   82.0     0.941749\n",
            "4       0.176768   98.0     0.956479\n",
            "5       0.090909   14.0     0.402685\n",
            "6       0.252525   27.0     0.667480\n",
            "7       0.272727   90.0     0.951123\n",
            "8       0.500000   98.0     0.973567\n",
            "9       0.464646    1.0     0.480469\n",
            "10      0.010101  100.0     0.950716\n",
            "11      0.045455  100.0     0.952476\n",
            "12      0.005051   98.0     0.947401\n",
            "13      0.030303    1.0     0.058962\n",
            "14      0.000000  100.0     0.950213\n",
            "15      0.000000  100.0     0.950213\n",
            "16      0.005051    1.0     0.034456\n",
            "17      0.020202    1.0     0.049159\n"
          ]
        },
        {
          "name": "stderr",
          "output_type": "stream",
          "text": [
            "100%|██████████| 1/1 [00:00<00:00, 11.14it/s]\n",
            "INFO:autora.theorist.bms.regressor:BMS fitting finished\n",
            "INFO:autora.theorist.bms.regressor:BMS fitting started\n"
          ]
        },
        {
          "name": "stdout",
          "output_type": "stream",
          "text": [
            "Sampling new experiment conditions...\n",
            "Obtaining observations...\n",
            "SIMULATION 9 / DISCOVERY CYCLE 18\n",
            "Fitting models on benchmark state...\n",
            "Experiment data\n",
            "    P_asymptotic  trial  performance\n",
            "0       0.212121   88.0     0.943776\n",
            "1       0.419192   16.0     0.640606\n",
            "2       0.464646   24.0     0.739415\n",
            "3       0.156566   15.0     0.462203\n",
            "4       0.282828   22.0     0.629329\n",
            "5       0.090909   79.0     0.915018\n",
            "6       0.444444   29.0     0.767249\n",
            "7       0.146465   67.0     0.885636\n",
            "8       0.121212   84.0     0.929293\n",
            "9       0.328283   20.0     0.631354\n",
            "10      0.252525   70.0     0.908467\n",
            "11      0.237374    6.0     0.363001\n",
            "12      0.444444   58.0     0.902489\n",
            "13      0.404040    6.0     0.502213\n",
            "14      0.464646   70.0     0.934443\n",
            "15      0.217172   28.0     0.662045\n",
            "16      0.111111   31.0     0.649286\n",
            "17      0.126263   50.0     0.805043\n",
            "18      0.085859   83.0     0.924209\n"
          ]
        },
        {
          "name": "stderr",
          "output_type": "stream",
          "text": [
            "100%|██████████| 1/1 [00:00<00:00,  7.17it/s]\n",
            "INFO:autora.theorist.bms.regressor:BMS fitting finished\n",
            "INFO:autora.theorist.bms.regressor:BMS fitting started\n"
          ]
        },
        {
          "name": "stdout",
          "output_type": "stream",
          "text": [
            "Fitting models on working state...\n",
            "Experiment data\n",
            "    P_asymptotic  trial  performance\n",
            "0       0.212121   88.0     0.943776\n",
            "1       0.267677   70.0     0.910322\n",
            "2       0.212121   56.0     0.853160\n",
            "3       0.318182   82.0     0.941749\n",
            "4       0.176768   98.0     0.956479\n",
            "5       0.090909   14.0     0.402685\n",
            "6       0.252525   27.0     0.667480\n",
            "7       0.272727   90.0     0.951123\n",
            "8       0.500000   98.0     0.973567\n",
            "9       0.464646    1.0     0.480469\n",
            "10      0.010101  100.0     0.950716\n",
            "11      0.045455  100.0     0.952476\n",
            "12      0.005051   98.0     0.947401\n",
            "13      0.030303    1.0     0.058962\n",
            "14      0.000000  100.0     0.950213\n",
            "15      0.000000  100.0     0.950213\n",
            "16      0.005051    1.0     0.034456\n",
            "17      0.020202    1.0     0.049159\n",
            "18      0.020202    1.0     0.049159\n"
          ]
        },
        {
          "name": "stderr",
          "output_type": "stream",
          "text": [
            "100%|██████████| 1/1 [00:00<00:00, 11.71it/s]\n",
            "INFO:autora.theorist.bms.regressor:BMS fitting finished\n",
            "INFO:autora.theorist.bms.regressor:BMS fitting started\n"
          ]
        },
        {
          "name": "stdout",
          "output_type": "stream",
          "text": [
            "Sampling new experiment conditions...\n",
            "Obtaining observations...\n",
            "SIMULATION 9 / DISCOVERY CYCLE 19\n",
            "Fitting models on benchmark state...\n",
            "Experiment data\n",
            "    P_asymptotic  trial  performance\n",
            "0       0.212121   88.0     0.943776\n",
            "1       0.419192   16.0     0.640606\n",
            "2       0.464646   24.0     0.739415\n",
            "3       0.156566   15.0     0.462203\n",
            "4       0.282828   22.0     0.629329\n",
            "5       0.090909   79.0     0.915018\n",
            "6       0.444444   29.0     0.767249\n",
            "7       0.146465   67.0     0.885636\n",
            "8       0.121212   84.0     0.929293\n",
            "9       0.328283   20.0     0.631354\n",
            "10      0.252525   70.0     0.908467\n",
            "11      0.237374    6.0     0.363001\n",
            "12      0.444444   58.0     0.902489\n",
            "13      0.404040    6.0     0.502213\n",
            "14      0.464646   70.0     0.934443\n",
            "15      0.217172   28.0     0.662045\n",
            "16      0.111111   31.0     0.649286\n",
            "17      0.126263   50.0     0.805043\n",
            "18      0.085859   83.0     0.924209\n",
            "19      0.333333   15.0     0.574915\n"
          ]
        },
        {
          "name": "stderr",
          "output_type": "stream",
          "text": [
            "100%|██████████| 1/1 [00:00<00:00, 11.33it/s]\n",
            "INFO:autora.theorist.bms.regressor:BMS fitting finished\n",
            "INFO:autora.theorist.bms.regressor:BMS fitting started\n"
          ]
        },
        {
          "name": "stdout",
          "output_type": "stream",
          "text": [
            "Fitting models on working state...\n",
            "Experiment data\n",
            "    P_asymptotic  trial  performance\n",
            "0       0.212121   88.0     0.943776\n",
            "1       0.267677   70.0     0.910322\n",
            "2       0.212121   56.0     0.853160\n",
            "3       0.318182   82.0     0.941749\n",
            "4       0.176768   98.0     0.956479\n",
            "5       0.090909   14.0     0.402685\n",
            "6       0.252525   27.0     0.667480\n",
            "7       0.272727   90.0     0.951123\n",
            "8       0.500000   98.0     0.973567\n",
            "9       0.464646    1.0     0.480469\n",
            "10      0.010101  100.0     0.950716\n",
            "11      0.045455  100.0     0.952476\n",
            "12      0.005051   98.0     0.947401\n",
            "13      0.030303    1.0     0.058962\n",
            "14      0.000000  100.0     0.950213\n",
            "15      0.000000  100.0     0.950213\n",
            "16      0.005051    1.0     0.034456\n",
            "17      0.020202    1.0     0.049159\n",
            "18      0.020202    1.0     0.049159\n",
            "19      0.000000    2.0     0.058235\n"
          ]
        },
        {
          "name": "stderr",
          "output_type": "stream",
          "text": [
            "100%|██████████| 1/1 [00:00<00:00,  9.41it/s]\n",
            "INFO:autora.theorist.bms.regressor:BMS fitting finished\n"
          ]
        },
        {
          "name": "stdout",
          "output_type": "stream",
          "text": [
            "Sampling new experiment conditions...\n",
            "Obtaining observations...\n"
          ]
        }
      ],
      "source": [
        "benchmark_MSE_plot_data = np.zeros([num_discovery_simulations, num_cycles])\n",
        "working_MSE_plot_data = np.zeros([num_discovery_simulations, num_cycles])\n",
        "\n",
        "for sim in range(num_discovery_simulations):\n",
        "  benchmark_MSE_log, working_MSE_log, benchmark_state, working_state = run_simulation(num_cycles, num_conditions_per_cycle, num_initial_conditions, bms_epochs, experiment_runner, sim)\n",
        "\n",
        "  benchmark_MSE_plot_data[sim, :] = benchmark_MSE_log\n",
        "  working_MSE_plot_data[sim, :] = working_MSE_log"
      ]
    },
    {
      "cell_type": "code",
      "execution_count": null,
      "metadata": {
        "id": "5eL0nqtXhrAi"
      },
      "outputs": [
        {
          "data": {
            "text/plain": [
              "<matplotlib.legend.Legend at 0x73eef3f400d0>"
            ]
          },
          "execution_count": 138,
          "metadata": {},
          "output_type": "execute_result"
        },
        {
          "data": {
            "image/png": "[encoded data removed]",
            "text/plain": [
              "<Figure size 640x480 with 1 Axes>"
            ]
          },
          "metadata": {},
          "output_type": "display_data"
        }
      ],
      "source": [
        "# plot the data with standard error\n",
        "plt.errorbar(np.arange(num_cycles), np.mean(benchmark_MSE_plot_data, axis=0), yerr=np.std(benchmark_MSE_plot_data, axis=0), label='benchmark_MSE_log')\n",
        "plt.errorbar(np.arange(num_cycles), np.mean(working_MSE_plot_data, axis=0), yerr=np.std(working_MSE_plot_data, axis=0), label='working_MSE_log')\n",
        "plt.xlabel('Sampled Data Points')\n",
        "plt.ylabel('MSE on Validation Set')\n",
        "plt.title('Averaged Discovery Simulations')\n",
        "plt.legend()"
      ]
    },
    {
      "cell_type": "markdown",
      "metadata": {
        "id": "RPPjmh_niqzO"
      },
      "source": [
        "## Ground Truth Model Descriptions"
      ]
    },
    {
      "cell_type": "markdown",
      "metadata": {
        "id": "HI7aHUNOZpbL"
      },
      "source": [
        "### Weber-Fechner-Law\n",
        "\n",
        "The Weber-Fechner law quantifies the minimum change in a stimulus required to be noticeable. Similar to Steven's power law, the greater the intensity of a stimulus, the larger the change needed to be perceivable. This relationship is hypothesized to be proportional to the logarithm of the ratio between the two stimuli:\n",
        "\n",
        "$\\text{perceived intensity} = \\log\\left(\\dfrac{S_1}{S_2}\\right)$\n",
        "\n",
        "\n",
        "where $S_1$ ($range: [0.01, 5.00]$) is the intensity of a physical stimulus (e.g., the luminosity of a lamp), $S_2$ ($range: [0.01, 5.00]$ ) is a reference stimulus (e.g., the luminosity of a background light), and $y$ is the perceived stimulus intensity (e.g. the perception of the lamp's luminosity)."
      ]
    },
    {
      "cell_type": "markdown",
      "metadata": {
        "id": "iZGn2XzoaUF0"
      },
      "source": [
        "### Expected Utility Model with Two Choice Options\n",
        "\n",
        "The expected utility model evaluates decision-making under uncertainty, quantifying the expected value of different choices based on their potential outcomes and associated probabilities. The model assumes that individuals aim to maximize their expected utility when faced with two options. Each option has a specific value and probability, influenced by a certain level of noise.\n",
        "\n",
        "For two choice options, the expected value of each option is calculated as follows:\n",
        "\n",
        "$$\n",
        "E_A = V_A \\times P_A\n",
        "$$\n",
        "\n",
        "$$\n",
        "E_B = V_B \\times P_B\n",
        "$$\n",
        "\n",
        "where:\n",
        "- $V_A$ and $V_B$ represent the values of options A and B respectively.\n",
        "- $P_A$ and $P_B$ represent the probabilities associated with these options.\n",
        "\n",
        "The probability of choosing option A $P_{\\text{choose}_A}$ is then determined using the softmax function, which considers the expected values of both options and a choice temperature parameter that influences the sensitivity to differences in expected values:\n",
        "\n",
        "$$\n",
        "P_{\\text{choose}_A} = \\frac{\\exp(E_A / \\beta)}{\\exp(E_A / \\beta) + \\exp(E_B / \\beta)}\n",
        "$$\n",
        "\n",
        "In this model:\n",
        "- $\\beta$ controls the degree of randomness in the choice, with higher values leading to more exploration and lower values leading to more deterministic choices based on the expected values.\n",
        "- The softmax function ensures that the probabilities sum to 1, providing a normalized measure of the likelihood of choosing each option.\n",
        "\n",
        "This model captures the influence of value, probability, and noise on decision-making, reflecting the complexity and variability of human choices under uncertainty.\n",
        "\n"
      ]
    },
    {
      "cell_type": "markdown",
      "metadata": {
        "id": "i0E46LLlixsD"
      },
      "source": [
        "### Shepard-Luce Choice Rule\n",
        "\n",
        "The Shepard-Luce choice rule, as adapted in Logan (2001),  posits that the likelihood of an individual assigning a target object, represented as $x$ , to a specific response category, represented as $i$, is proportional to their psychological similarity $\\eta_i(x)$. Here, we considered a version of the model that computes the probability of assigning the target object $x_1$ to one of two response categories, given a distractor object $x_2$:\n",
        "\n",
        "$y = p(``x_1 \\text{ is perceived as category 1''}) =\n",
        " \\frac{\\eta_1(x_1) \\cdot \\alpha}{\\eta_1(x_1) \\cdot \\alpha + \\eta_2(x_1) \\cdot \\alpha + \\eta_1(x_2) \\cdot (1 - \\alpha) + \\eta_2(x_2) \\cdot (1 - \\alpha)}$\n",
        "\n",
        "where $\\alpha = 0.8$ is an attentional bias toward processing the target object $x_1$, and variables $\\eta_i(x_j)$ ($range: [0.125, 10.00]$) are the psychological similarity between object $x_j$ and category $i$."
      ]
    }
  ],
  "metadata": {
    "colab": {
      "provenance": [],
      "toc_visible": true
    },
    "kernelspec": {
      "display_name": "Python 3",
      "name": "python3"
    },
    "language_info": {
      "codemirror_mode": {
        "name": "ipython",
        "version": 3
      },
      "file_extension": ".py",
      "mimetype": "text/x-python",
      "name": "python",
      "nbconvert_exporter": "python",
      "pygments_lexer": "ipython3",
      "version": "3.10.13"
    }
  },
  "nbformat": 4,
  "nbformat_minor": 0
}
